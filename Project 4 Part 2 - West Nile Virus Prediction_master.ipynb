{
 "cells": [
  {
   "cell_type": "markdown",
   "id": "edd641cd",
   "metadata": {},
   "source": [
    "# Modelling"
   ]
  },
  {
   "cell_type": "markdown",
   "id": "2f65ed9b",
   "metadata": {},
   "source": [
    "This is the second notebook of our project. Previously in the first notebook, we discussed our problem statement, followed by data cleaning and exploratory data analysis on the train dataset."
   ]
  },
  {
   "cell_type": "markdown",
   "id": "3856f23f",
   "metadata": {},
   "source": [
    "# Imports"
   ]
  },
  {
   "cell_type": "code",
   "execution_count": 1,
   "id": "14756a9d",
   "metadata": {},
   "outputs": [],
   "source": [
    "import numpy as np\n",
    "import pandas as pd\n",
    "import matplotlib.pyplot as plt\n",
    "import seaborn as sns"
   ]
  },
  {
   "cell_type": "code",
   "execution_count": 2,
   "id": "f98cd8d7",
   "metadata": {},
   "outputs": [],
   "source": [
    "from sklearn.model_selection import train_test_split, GridSearchCV\n",
    "from sklearn.preprocessing import StandardScaler\n",
    "from sklearn.linear_model import LogisticRegression\n",
    "from imblearn.pipeline import Pipeline\n",
    "from sklearn.svm import SVC\n",
    "from sklearn.decomposition import PCA\n",
    "from sklearn.metrics import confusion_matrix, plot_confusion_matrix, accuracy_score, plot_roc_curve, roc_auc_score, recall_score, precision_score, f1_score\n",
    "\n",
    "from imblearn.over_sampling import SMOTE"
   ]
  },
  {
   "cell_type": "markdown",
   "id": "9fe4fd56",
   "metadata": {},
   "source": [
    "# Functions"
   ]
  },
  {
   "cell_type": "code",
   "execution_count": 3,
   "id": "85a91f2e",
   "metadata": {},
   "outputs": [],
   "source": [
    "def append_results(result, train_score, metric, classifier):\n",
    "    tmp = pd.DataFrame({\n",
    "        'model':classifier,\n",
    "        'train_accuracy': train_score,\n",
    "        'test_accuracy': metric[metric['metric'] == 'accuracy']['score'].values[0],\n",
    "        'misclassification': metric[metric['metric'] == 'misclassification_rate']['score'].values[0],\n",
    "        'sensitivity': metric[metric['metric'] == 'sensitivity']['score'].values[0],\n",
    "        'specificity': metric[metric['metric'] == 'specificity']['score'].values[0],\n",
    "        'precision': metric[metric['metric'] == 'precision']['score'].values[0],\n",
    "        'f1_score': metric[metric['metric'] == 'f1_score']['score'].values[0],\n",
    "        'roc_auc':metric[metric['metric'] == 'roc_auc']['score'].values[0],\n",
    "        #'misclassed_data':misclass_data\n",
    "    }, index=[0])\n",
    "    result = pd.concat([result,tmp], axis=0, ignore_index=True)\n",
    "    return result"
   ]
  },
  {
   "cell_type": "code",
   "execution_count": 4,
   "id": "c7a3f5ca",
   "metadata": {},
   "outputs": [],
   "source": [
    "def metrics_and_plot_cm(classifier, X, y):\n",
    "    preds = classifier.predict(X)\n",
    "    tn, fp, fn, tp = confusion_matrix(y, preds).ravel()\n",
    "    acc = (tp + tn) / (tn + fp + fn + tp)\n",
    "    misclass = 1 - acc\n",
    "    sens = tp / (tp + fn)\n",
    "    spec = tn / (tn + fp)\n",
    "    prec = tp / (tp + fp)\n",
    "    f_one_score = f1_score(y, preds)\n",
    "    roc_auc = roc_auc_score(y, classifier.predict_proba(X)[:,1])\n",
    "    results = {\n",
    "        'accuracy': acc,\n",
    "        'misclassification_rate': misclass,\n",
    "        'sensitivity': sens,\n",
    "        'specificity': spec,\n",
    "        'precision': prec,\n",
    "        'f1_score':f_one_score,\n",
    "        'roc_auc':roc_auc\n",
    "    }\n",
    "    fig, axes = plt.subplots(ncols=2, figsize=(13,5))\n",
    "    cm_chart = plot_confusion_matrix(classifier, X, y, cmap='Blues', values_format='d', ax=axes[0]);\n",
    "    # cm_chart = plot_confusion_matrix(classifier, X, y, cmap='Blues', values_format='d',display_labels=['WNV Not Present (0)','WNV Present (1)'], ax=axes[0]);\n",
    "    roc_curve = plot_roc_curve(classifier, X, y, ax=axes[1])\n",
    "    axes[1].plot([0, 1], [0, 1], label='baseline', linestyle='--' )\n",
    "    metrics = pd.DataFrame({\n",
    "        'metric': results.keys(),\n",
    "        'score': results.values()\n",
    "        })\n",
    "    return metrics"
   ]
  },
  {
   "cell_type": "code",
   "execution_count": 5,
   "id": "9c61e506",
   "metadata": {},
   "outputs": [],
   "source": [
    "# def get_misclassed_data(test_data,predicted, actual):\n",
    "#     df = pd.DataFrame({\n",
    "#         'predicted':predicted,\n",
    "#         'actual':actual\n",
    "#     })\n",
    "#     idx = df[df['predicted'] != df['actual']].index\n",
    "#     tmp_lst = [i for i in test_data[idx]]\n",
    "#     return [tmp_lst]\n"
   ]
  },
  {
   "cell_type": "code",
   "execution_count": 6,
   "id": "b8ce6444",
   "metadata": {},
   "outputs": [],
   "source": [
    "def output_results(preds, filename):\n",
    "    preds_to_df = pd.DataFrame(preds, columns=['0','1'])\n",
    "    preds_to_df.drop('0',axis=1, inplace=True)\n",
    "    preds_to_df.rename(columns={'1':'Wnvpresent'}, inplace=True)\n",
    "    preds_to_df.index.rename('id', inplace=True)\n",
    "    preds_to_df.index += 1\n",
    "    preds_to_df.to_csv(f'./assets/{filename}.csv', index=True)"
   ]
  },
  {
   "cell_type": "markdown",
   "id": "2b6f7a5d",
   "metadata": {},
   "source": [
    "# Reading Data and Preprocessing"
   ]
  },
  {
   "cell_type": "code",
   "execution_count": 7,
   "id": "62f61157",
   "metadata": {},
   "outputs": [],
   "source": [
    "train_comb = pd.read_csv('./assets/train_comb.csv')"
   ]
  },
  {
   "cell_type": "code",
   "execution_count": 8,
   "id": "7b51c6e8",
   "metadata": {},
   "outputs": [],
   "source": [
    "train_comb['date'] = pd.to_datetime(train_comb['date'])\n",
    "train_comb.set_index('date', inplace=True)"
   ]
  },
  {
   "cell_type": "code",
   "execution_count": 9,
   "id": "33ca2c22",
   "metadata": {},
   "outputs": [],
   "source": [
    "# dropping trap column for now as it is not numeralize yet\n",
    "X = train_comb.drop(columns=['wnvpresent'])\n",
    "y = train_comb['wnvpresent']"
   ]
  },
  {
   "cell_type": "code",
   "execution_count": 10,
   "id": "4898ce93",
   "metadata": {},
   "outputs": [],
   "source": [
    "# train/test split on data\n",
    "X_train, X_val, y_train, y_val = train_test_split(X, y, test_size=0.25, random_state=42, stratify=y)"
   ]
  },
  {
   "cell_type": "code",
   "execution_count": 11,
   "id": "99906ce0",
   "metadata": {},
   "outputs": [],
   "source": [
    "# Scale X data\n",
    "ss = StandardScaler()\n",
    "Xs_train, Xs_val = ss.fit_transform(X_train), ss.transform(X_val)"
   ]
  },
  {
   "cell_type": "markdown",
   "id": "4904de5f",
   "metadata": {},
   "source": [
    "## Baseline Score"
   ]
  },
  {
   "cell_type": "code",
   "execution_count": 12,
   "id": "ec1e70ab",
   "metadata": {},
   "outputs": [
    {
     "data": {
      "text/plain": [
       "0    0.944966\n",
       "1    0.055034\n",
       "Name: wnvpresent, dtype: float64"
      ]
     },
     "execution_count": 12,
     "metadata": {},
     "output_type": "execute_result"
    }
   ],
   "source": [
    "train_comb['wnvpresent'].value_counts(normalize=True)"
   ]
  },
  {
   "cell_type": "markdown",
   "id": "60328f33",
   "metadata": {},
   "source": [
    "The baseline accuracy score would be 0.945. We note from our target column: `wnvpresent` that there is massive class imbalance. We can resolve this by using SMOTE and include it in the pipeline for each of our models."
   ]
  },
  {
   "cell_type": "code",
   "execution_count": 13,
   "id": "ff9662e1",
   "metadata": {},
   "outputs": [],
   "source": [
    "results_df = pd.DataFrame(columns=[\n",
    "    'model',\n",
    "    'train_accuracy',\n",
    "    'test_accuracy',\n",
    "    'misclassification',\n",
    "    'sensitivity',\n",
    "    'specificity',\n",
    "    'precision',\n",
    "    'f1_score',\n",
    "    'roc_auc'\n",
    "])"
   ]
  },
  {
   "cell_type": "markdown",
   "id": "6a8bb638",
   "metadata": {},
   "source": [
    "## Logistic Regression"
   ]
  },
  {
   "cell_type": "code",
   "execution_count": 14,
   "id": "687fb48e",
   "metadata": {
    "scrolled": true
   },
   "outputs": [],
   "source": [
    "# instantiate pipeline\n",
    "pipe_logreg = Pipeline([('sampling', SMOTE(random_state=100)),\n",
    "                ('logreg', LogisticRegression(solver='liblinear', random_state=100))\n",
    "                ])"
   ]
  },
  {
   "cell_type": "code",
   "execution_count": 15,
   "id": "08b4d836",
   "metadata": {},
   "outputs": [],
   "source": [
    "# set params to gridsearch\n",
    "# pipe_logreg_params = {\n",
    "#     'logreg__penalty': ['l1','l2'],\n",
    "#     'logreg__C': [0.5, 1, 1.5, 2],\n",
    "#     'sampling__sampling_strategy': ['not majority','auto'],\n",
    "#     'sampling__k_neighbors': [3, 5],\n",
    "# }\n",
    "\n",
    "\n",
    "pipe_logreg_params = {\n",
    "    'logreg__penalty': ['l1'],\n",
    "    'logreg__C': [1.5],\n",
    "    'sampling__sampling_strategy': ['not majority','auto'],\n",
    "    'sampling__k_neighbors': [5],\n",
    "}"
   ]
  },
  {
   "cell_type": "code",
   "execution_count": 16,
   "id": "ae2b529c",
   "metadata": {},
   "outputs": [],
   "source": [
    "gs_logreg = GridSearchCV(pipe_logreg, pipe_logreg_params, verbose=2, n_jobs=-1)"
   ]
  },
  {
   "cell_type": "code",
   "execution_count": 17,
   "id": "bcd03264",
   "metadata": {},
   "outputs": [
    {
     "name": "stdout",
     "output_type": "stream",
     "text": [
      "Fitting 5 folds for each of 2 candidates, totalling 10 fits\n",
      "Wall time: 6.05 s\n"
     ]
    },
    {
     "data": {
      "text/plain": [
       "GridSearchCV(estimator=Pipeline(steps=[('sampling', SMOTE(random_state=100)),\n",
       "                                       ('logreg',\n",
       "                                        LogisticRegression(random_state=100,\n",
       "                                                           solver='liblinear'))]),\n",
       "             n_jobs=-1,\n",
       "             param_grid={'logreg__C': [1.5], 'logreg__penalty': ['l1'],\n",
       "                         'sampling__k_neighbors': [5],\n",
       "                         'sampling__sampling_strategy': ['not majority',\n",
       "                                                         'auto']},\n",
       "             verbose=2)"
      ]
     },
     "execution_count": 17,
     "metadata": {},
     "output_type": "execute_result"
    }
   ],
   "source": [
    "%%time\n",
    "gs_logreg.fit(Xs_train, y_train)"
   ]
  },
  {
   "cell_type": "code",
   "execution_count": 18,
   "id": "9fb8479c",
   "metadata": {},
   "outputs": [
    {
     "data": {
      "text/plain": [
       "{'logreg__C': 1.5,\n",
       " 'logreg__penalty': 'l1',\n",
       " 'sampling__k_neighbors': 5,\n",
       " 'sampling__sampling_strategy': 'not majority'}"
      ]
     },
     "execution_count": 18,
     "metadata": {},
     "output_type": "execute_result"
    }
   ],
   "source": [
    "gs_logreg.best_params_"
   ]
  },
  {
   "cell_type": "code",
   "execution_count": 19,
   "id": "a8cc3f63",
   "metadata": {},
   "outputs": [
    {
     "data": {
      "image/png": "[encoded data removed]",
      "text/plain": [
       "<Figure size 936x360 with 3 Axes>"
      ]
     },
     "metadata": {
      "needs_background": "light"
     },
     "output_type": "display_data"
    }
   ],
   "source": [
    "mod_metrics = metrics_and_plot_cm(gs_logreg, Xs_val, y_val)"
   ]
  },
  {
   "cell_type": "code",
   "execution_count": 20,
   "id": "18ec16d0",
   "metadata": {},
   "outputs": [],
   "source": [
    "results_df = append_results(results_df,\n",
    "                           gs_logreg.score(Xs_train, y_train),\n",
    "                           mod_metrics,\n",
    "                           'Logistic Regression'\n",
    "                           )"
   ]
  },
  {
   "cell_type": "code",
   "execution_count": 21,
   "id": "6dfc7c26",
   "metadata": {
    "scrolled": true
   },
   "outputs": [
    {
     "data": {
      "text/html": [
       "<div>\n",
       "<style scoped>\n",
       "    .dataframe tbody tr th:only-of-type {\n",
       "        vertical-align: middle;\n",
       "    }\n",
       "\n",
       "    .dataframe tbody tr th {\n",
       "        vertical-align: top;\n",
       "    }\n",
       "\n",
       "    .dataframe thead th {\n",
       "        text-align: right;\n",
       "    }\n",
       "</style>\n",
       "<table border=\"1\" class=\"dataframe\">\n",
       "  <thead>\n",
       "    <tr style=\"text-align: right;\">\n",
       "      <th></th>\n",
       "      <th>model</th>\n",
       "      <th>train_accuracy</th>\n",
       "      <th>test_accuracy</th>\n",
       "      <th>misclassification</th>\n",
       "      <th>sensitivity</th>\n",
       "      <th>specificity</th>\n",
       "      <th>precision</th>\n",
       "      <th>f1_score</th>\n",
       "      <th>roc_auc</th>\n",
       "    </tr>\n",
       "  </thead>\n",
       "  <tbody>\n",
       "    <tr>\n",
       "      <th>0</th>\n",
       "      <td>Logistic Regression</td>\n",
       "      <td>0.672929</td>\n",
       "      <td>0.663295</td>\n",
       "      <td>0.336705</td>\n",
       "      <td>0.798246</td>\n",
       "      <td>0.655454</td>\n",
       "      <td>0.118644</td>\n",
       "      <td>0.206583</td>\n",
       "      <td>0.811039</td>\n",
       "    </tr>\n",
       "  </tbody>\n",
       "</table>\n",
       "</div>"
      ],
      "text/plain": [
       "                 model  train_accuracy  test_accuracy  misclassification  \\\n",
       "0  Logistic Regression        0.672929       0.663295           0.336705   \n",
       "\n",
       "   sensitivity  specificity  precision  f1_score   roc_auc  \n",
       "0     0.798246     0.655454   0.118644  0.206583  0.811039  "
      ]
     },
     "execution_count": 21,
     "metadata": {},
     "output_type": "execute_result"
    }
   ],
   "source": [
    "results_df"
   ]
  },
  {
   "cell_type": "markdown",
   "id": "760dd512",
   "metadata": {},
   "source": [
    "## SVM"
   ]
  },
  {
   "cell_type": "code",
   "execution_count": 22,
   "id": "94d17a3a",
   "metadata": {},
   "outputs": [],
   "source": [
    "# instantiate pipeline\n",
    "pipe_svc = Pipeline([('sampling', SMOTE()),\n",
    "                 ('svc', SVC(probability=True, random_state=100)) # probability=True is needed to calculate predict_proba but fitting grid model would take very long\n",
    "                ])"
   ]
  },
  {
   "cell_type": "code",
   "execution_count": 23,
   "id": "56a16807",
   "metadata": {},
   "outputs": [],
   "source": [
    "# pipe_svc_params = {\n",
    "#     'svc__C': [5, 7, 9],\n",
    "#     'svc__kernel': ['rbf'],  #'poly'\n",
    "#     'sampling__sampling_strategy': ['minority', 'not minority', 'auto'],\n",
    "#     'sampling__k_neighbors': [3, 5],      \n",
    "# }\n",
    "\n",
    "pipe_svc_params = {\n",
    "    'svc__C': [5],\n",
    "    'svc__kernel': ['rbf'],  #'poly'\n",
    "    'sampling__sampling_strategy': ['not minority', 'auto'],\n",
    "    'sampling__k_neighbors': [3],      \n",
    "}"
   ]
  },
  {
   "cell_type": "code",
   "execution_count": 24,
   "id": "249b1fa9",
   "metadata": {},
   "outputs": [],
   "source": [
    "gs_svc = GridSearchCV(pipe_svc, pipe_svc_params, verbose=2, n_jobs=-1)"
   ]
  },
  {
   "cell_type": "code",
   "execution_count": 25,
   "id": "af10f6d1",
   "metadata": {},
   "outputs": [
    {
     "name": "stdout",
     "output_type": "stream",
     "text": [
      "Fitting 5 folds for each of 2 candidates, totalling 10 fits\n",
      "Wall time: 27.1 s\n"
     ]
    },
    {
     "data": {
      "text/plain": [
       "GridSearchCV(estimator=Pipeline(steps=[('sampling', SMOTE()),\n",
       "                                       ('svc',\n",
       "                                        SVC(probability=True,\n",
       "                                            random_state=100))]),\n",
       "             n_jobs=-1,\n",
       "             param_grid={'sampling__k_neighbors': [3],\n",
       "                         'sampling__sampling_strategy': ['not minority',\n",
       "                                                         'auto'],\n",
       "                         'svc__C': [5], 'svc__kernel': ['rbf']},\n",
       "             verbose=2)"
      ]
     },
     "execution_count": 25,
     "metadata": {},
     "output_type": "execute_result"
    }
   ],
   "source": [
    "%%time\n",
    "gs_svc.fit(Xs_train, y_train)\n",
    "\n",
    "# wall time is cut by half we dont put SVC(probability=True) in the pipeline"
   ]
  },
  {
   "cell_type": "code",
   "execution_count": 26,
   "id": "d40d44f4",
   "metadata": {},
   "outputs": [
    {
     "data": {
      "text/plain": [
       "{'sampling__k_neighbors': 3,\n",
       " 'sampling__sampling_strategy': 'not minority',\n",
       " 'svc__C': 5,\n",
       " 'svc__kernel': 'rbf'}"
      ]
     },
     "execution_count": 26,
     "metadata": {},
     "output_type": "execute_result"
    }
   ],
   "source": [
    "gs_svc.best_params_"
   ]
  },
  {
   "cell_type": "code",
   "execution_count": 27,
   "id": "70e2cc68",
   "metadata": {},
   "outputs": [
    {
     "name": "stderr",
     "output_type": "stream",
     "text": [
      "C:\\Users\\Ming\\anaconda3\\envs\\tensorflow\\lib\\site-packages\\ipykernel_launcher.py:8: RuntimeWarning: invalid value encountered in longlong_scalars\n",
      "  \n"
     ]
    },
    {
     "data": {
      "image/png": "[encoded data removed]",
      "text/plain": [
       "<Figure size 936x360 with 3 Axes>"
      ]
     },
     "metadata": {
      "needs_background": "light"
     },
     "output_type": "display_data"
    }
   ],
   "source": [
    "mod_metrics = metrics_and_plot_cm(gs_svc, Xs_val, y_val)"
   ]
  },
  {
   "cell_type": "code",
   "execution_count": 28,
   "id": "7ec53376",
   "metadata": {},
   "outputs": [],
   "source": [
    "results_df = append_results(results_df,\n",
    "                           gs_svc.score(Xs_train, y_train),\n",
    "                           mod_metrics,\n",
    "                           'SVM',\n",
    "                           )"
   ]
  },
  {
   "cell_type": "code",
   "execution_count": 29,
   "id": "9308c4bb",
   "metadata": {},
   "outputs": [
    {
     "data": {
      "text/html": [
       "<div>\n",
       "<style scoped>\n",
       "    .dataframe tbody tr th:only-of-type {\n",
       "        vertical-align: middle;\n",
       "    }\n",
       "\n",
       "    .dataframe tbody tr th {\n",
       "        vertical-align: top;\n",
       "    }\n",
       "\n",
       "    .dataframe thead th {\n",
       "        text-align: right;\n",
       "    }\n",
       "</style>\n",
       "<table border=\"1\" class=\"dataframe\">\n",
       "  <thead>\n",
       "    <tr style=\"text-align: right;\">\n",
       "      <th></th>\n",
       "      <th>model</th>\n",
       "      <th>train_accuracy</th>\n",
       "      <th>test_accuracy</th>\n",
       "      <th>misclassification</th>\n",
       "      <th>sensitivity</th>\n",
       "      <th>specificity</th>\n",
       "      <th>precision</th>\n",
       "      <th>f1_score</th>\n",
       "      <th>roc_auc</th>\n",
       "    </tr>\n",
       "  </thead>\n",
       "  <tbody>\n",
       "    <tr>\n",
       "      <th>0</th>\n",
       "      <td>Logistic Regression</td>\n",
       "      <td>0.672929</td>\n",
       "      <td>0.663295</td>\n",
       "      <td>0.336705</td>\n",
       "      <td>0.798246</td>\n",
       "      <td>0.655454</td>\n",
       "      <td>0.118644</td>\n",
       "      <td>0.206583</td>\n",
       "      <td>0.811039</td>\n",
       "    </tr>\n",
       "    <tr>\n",
       "      <th>1</th>\n",
       "      <td>SVM</td>\n",
       "      <td>0.944926</td>\n",
       "      <td>0.945087</td>\n",
       "      <td>0.054913</td>\n",
       "      <td>0.000000</td>\n",
       "      <td>1.000000</td>\n",
       "      <td>NaN</td>\n",
       "      <td>0.000000</td>\n",
       "      <td>0.740993</td>\n",
       "    </tr>\n",
       "  </tbody>\n",
       "</table>\n",
       "</div>"
      ],
      "text/plain": [
       "                 model  train_accuracy  test_accuracy  misclassification  \\\n",
       "0  Logistic Regression        0.672929       0.663295           0.336705   \n",
       "1                  SVM        0.944926       0.945087           0.054913   \n",
       "\n",
       "   sensitivity  specificity  precision  f1_score   roc_auc  \n",
       "0     0.798246     0.655454   0.118644  0.206583  0.811039  \n",
       "1     0.000000     1.000000        NaN  0.000000  0.740993  "
      ]
     },
     "execution_count": 29,
     "metadata": {},
     "output_type": "execute_result"
    }
   ],
   "source": [
    "results_df"
   ]
  },
  {
   "cell_type": "markdown",
   "id": "e18039df",
   "metadata": {},
   "source": [
    "## PCA"
   ]
  },
  {
   "cell_type": "code",
   "execution_count": 30,
   "id": "e13649a0",
   "metadata": {},
   "outputs": [],
   "source": [
    "# instantiate pca\n",
    "pca = PCA(random_state=100)"
   ]
  },
  {
   "cell_type": "code",
   "execution_count": 31,
   "id": "03916ddc",
   "metadata": {},
   "outputs": [
    {
     "data": {
      "text/plain": [
       "PCA(random_state=100)"
      ]
     },
     "execution_count": 31,
     "metadata": {},
     "output_type": "execute_result"
    }
   ],
   "source": [
    "pca.fit(Xs_train)"
   ]
  },
  {
   "cell_type": "code",
   "execution_count": 32,
   "id": "1f093240",
   "metadata": {},
   "outputs": [],
   "source": [
    "Z_train, Z_val = pca.transform(Xs_train), pca.transform(Xs_val)"
   ]
  },
  {
   "cell_type": "code",
   "execution_count": 33,
   "id": "40592610",
   "metadata": {},
   "outputs": [
    {
     "data": {
      "text/plain": [
       "array([0.241, 0.121, 0.113, 0.077, 0.061, 0.051, 0.049, 0.046, 0.037,\n",
       "       0.036, 0.034, 0.031, 0.023, 0.022, 0.019, 0.015, 0.008, 0.006,\n",
       "       0.004, 0.003, 0.002, 0.   , 0.   ])"
      ]
     },
     "execution_count": 33,
     "metadata": {},
     "output_type": "execute_result"
    }
   ],
   "source": [
    "pca.explained_variance_ratio_.round(3)"
   ]
  },
  {
   "cell_type": "code",
   "execution_count": 34,
   "id": "ced1e14e",
   "metadata": {},
   "outputs": [
    {
     "data": {
      "text/plain": [
       "0.8320000000000001"
      ]
     },
     "execution_count": 34,
     "metadata": {},
     "output_type": "execute_result"
    }
   ],
   "source": [
    "pca.explained_variance_ratio_.round(3)[:10].sum()"
   ]
  },
  {
   "cell_type": "markdown",
   "id": "0d9952f1",
   "metadata": {},
   "source": [
    "We see that the first 10 components explain 77% of the variance."
   ]
  },
  {
   "cell_type": "code",
   "execution_count": 35,
   "id": "32434912",
   "metadata": {},
   "outputs": [
    {
     "data": {
      "text/plain": [
       "0.999"
      ]
     },
     "execution_count": 35,
     "metadata": {},
     "output_type": "execute_result"
    }
   ],
   "source": [
    "pca.explained_variance_ratio_.round(3)[:25].sum()"
   ]
  },
  {
   "cell_type": "markdown",
   "id": "67b5930c",
   "metadata": {},
   "source": [
    "The first 25 component explain 100% of the variance."
   ]
  },
  {
   "cell_type": "markdown",
   "id": "2e282ed3",
   "metadata": {},
   "source": [
    "### Logistic Regression with PCA"
   ]
  },
  {
   "cell_type": "code",
   "execution_count": 36,
   "id": "863e906e",
   "metadata": {},
   "outputs": [],
   "source": [
    "# embed pca in a pipeline\n",
    "pipe_pca_logreg = Pipeline([('sampling', SMOTE()),\n",
    "                 ('pca', PCA()),\n",
    "                 ('logreg', LogisticRegression(solver='liblinear', random_state=100))\n",
    "                ])"
   ]
  },
  {
   "cell_type": "code",
   "execution_count": 37,
   "id": "1c772b9f",
   "metadata": {},
   "outputs": [],
   "source": [
    "# pipe_pca_logreg_params = {\n",
    "#     'logreg__penalty': ['l1','l2'],\n",
    "#     'logreg__C': [1, 1.5, 2],\n",
    "#     'pca__n_components': [20, 30, 40],\n",
    "#     'sampling__sampling_strategy': ['minority', 'not minority', 'auto'],\n",
    "#     'sampling__k_neighbors': [3, 5],\n",
    "# }\n",
    "\n",
    "pipe_pca_logreg_params = {\n",
    "    'logreg__penalty': ['l1'],\n",
    "    'logreg__C': [1],\n",
    "    'pca__n_components': [20],\n",
    "    'sampling__sampling_strategy': ['not minority', 'auto'],\n",
    "    'sampling__k_neighbors': [3],\n",
    "}"
   ]
  },
  {
   "cell_type": "code",
   "execution_count": 38,
   "id": "ad7a69c2",
   "metadata": {},
   "outputs": [],
   "source": [
    "gs_pca_logreg = GridSearchCV(pipe_pca_logreg, pipe_pca_logreg_params, verbose=2, n_jobs=-1)"
   ]
  },
  {
   "cell_type": "code",
   "execution_count": 39,
   "id": "513d8e86",
   "metadata": {
    "scrolled": true
   },
   "outputs": [
    {
     "name": "stdout",
     "output_type": "stream",
     "text": [
      "Fitting 5 folds for each of 2 candidates, totalling 10 fits\n",
      "Wall time: 1.48 s\n"
     ]
    },
    {
     "data": {
      "text/plain": [
       "GridSearchCV(estimator=Pipeline(steps=[('sampling', SMOTE()), ('pca', PCA()),\n",
       "                                       ('logreg',\n",
       "                                        LogisticRegression(random_state=100,\n",
       "                                                           solver='liblinear'))]),\n",
       "             n_jobs=-1,\n",
       "             param_grid={'logreg__C': [1], 'logreg__penalty': ['l1'],\n",
       "                         'pca__n_components': [20],\n",
       "                         'sampling__k_neighbors': [3],\n",
       "                         'sampling__sampling_strategy': ['not minority',\n",
       "                                                         'auto']},\n",
       "             verbose=2)"
      ]
     },
     "execution_count": 39,
     "metadata": {},
     "output_type": "execute_result"
    }
   ],
   "source": [
    "%%time\n",
    "gs_pca_logreg.fit(Xs_train, y_train)"
   ]
  },
  {
   "cell_type": "code",
   "execution_count": 40,
   "id": "d4c73638",
   "metadata": {},
   "outputs": [
    {
     "data": {
      "text/plain": [
       "{'logreg__C': 1,\n",
       " 'logreg__penalty': 'l1',\n",
       " 'pca__n_components': 20,\n",
       " 'sampling__k_neighbors': 3,\n",
       " 'sampling__sampling_strategy': 'not minority'}"
      ]
     },
     "execution_count": 40,
     "metadata": {},
     "output_type": "execute_result"
    }
   ],
   "source": [
    "gs_pca_logreg.best_params_"
   ]
  },
  {
   "cell_type": "code",
   "execution_count": 41,
   "id": "38693211",
   "metadata": {},
   "outputs": [
    {
     "data": {
      "image/png": "[encoded data removed]",
      "text/plain": [
       "<Figure size 936x360 with 3 Axes>"
      ]
     },
     "metadata": {
      "needs_background": "light"
     },
     "output_type": "display_data"
    }
   ],
   "source": [
    "mod_metrics = metrics_and_plot_cm(gs_pca_logreg, Xs_val, y_val)"
   ]
  },
  {
   "cell_type": "code",
   "execution_count": 42,
   "id": "aaff3916",
   "metadata": {},
   "outputs": [],
   "source": [
    "results_df = append_results(results_df,\n",
    "                           gs_pca_logreg.score(Xs_train, y_train),\n",
    "                           mod_metrics,\n",
    "                           'PCA Logistic Regression',\n",
    "                           )"
   ]
  },
  {
   "cell_type": "code",
   "execution_count": 43,
   "id": "f060bc81",
   "metadata": {},
   "outputs": [
    {
     "data": {
      "text/html": [
       "<div>\n",
       "<style scoped>\n",
       "    .dataframe tbody tr th:only-of-type {\n",
       "        vertical-align: middle;\n",
       "    }\n",
       "\n",
       "    .dataframe tbody tr th {\n",
       "        vertical-align: top;\n",
       "    }\n",
       "\n",
       "    .dataframe thead th {\n",
       "        text-align: right;\n",
       "    }\n",
       "</style>\n",
       "<table border=\"1\" class=\"dataframe\">\n",
       "  <thead>\n",
       "    <tr style=\"text-align: right;\">\n",
       "      <th></th>\n",
       "      <th>model</th>\n",
       "      <th>train_accuracy</th>\n",
       "      <th>test_accuracy</th>\n",
       "      <th>misclassification</th>\n",
       "      <th>sensitivity</th>\n",
       "      <th>specificity</th>\n",
       "      <th>precision</th>\n",
       "      <th>f1_score</th>\n",
       "      <th>roc_auc</th>\n",
       "    </tr>\n",
       "  </thead>\n",
       "  <tbody>\n",
       "    <tr>\n",
       "      <th>0</th>\n",
       "      <td>Logistic Regression</td>\n",
       "      <td>0.672929</td>\n",
       "      <td>0.663295</td>\n",
       "      <td>0.336705</td>\n",
       "      <td>0.798246</td>\n",
       "      <td>0.655454</td>\n",
       "      <td>0.118644</td>\n",
       "      <td>0.206583</td>\n",
       "      <td>0.811039</td>\n",
       "    </tr>\n",
       "    <tr>\n",
       "      <th>1</th>\n",
       "      <td>SVM</td>\n",
       "      <td>0.944926</td>\n",
       "      <td>0.945087</td>\n",
       "      <td>0.054913</td>\n",
       "      <td>0.000000</td>\n",
       "      <td>1.000000</td>\n",
       "      <td>NaN</td>\n",
       "      <td>0.000000</td>\n",
       "      <td>0.740993</td>\n",
       "    </tr>\n",
       "    <tr>\n",
       "      <th>2</th>\n",
       "      <td>PCA Logistic Regression</td>\n",
       "      <td>0.944926</td>\n",
       "      <td>0.944605</td>\n",
       "      <td>0.055395</td>\n",
       "      <td>0.000000</td>\n",
       "      <td>0.999490</td>\n",
       "      <td>0.000000</td>\n",
       "      <td>0.000000</td>\n",
       "      <td>0.799746</td>\n",
       "    </tr>\n",
       "  </tbody>\n",
       "</table>\n",
       "</div>"
      ],
      "text/plain": [
       "                     model  train_accuracy  test_accuracy  misclassification  \\\n",
       "0      Logistic Regression        0.672929       0.663295           0.336705   \n",
       "1                      SVM        0.944926       0.945087           0.054913   \n",
       "2  PCA Logistic Regression        0.944926       0.944605           0.055395   \n",
       "\n",
       "   sensitivity  specificity  precision  f1_score   roc_auc  \n",
       "0     0.798246     0.655454   0.118644  0.206583  0.811039  \n",
       "1     0.000000     1.000000        NaN  0.000000  0.740993  \n",
       "2     0.000000     0.999490   0.000000  0.000000  0.799746  "
      ]
     },
     "execution_count": 43,
     "metadata": {},
     "output_type": "execute_result"
    }
   ],
   "source": [
    "results_df"
   ]
  },
  {
   "cell_type": "markdown",
   "id": "4375fa7b",
   "metadata": {},
   "source": [
    "### SVM with PCA"
   ]
  },
  {
   "cell_type": "code",
   "execution_count": 44,
   "id": "8659f981",
   "metadata": {},
   "outputs": [],
   "source": [
    "pipe_pca_svc = Pipeline([('sampling', SMOTE()),\n",
    "                 ('pca', PCA()),\n",
    "                 ('svc', SVC(probability=True, random_state=100))\n",
    "])"
   ]
  },
  {
   "cell_type": "code",
   "execution_count": 45,
   "id": "d1fca484",
   "metadata": {},
   "outputs": [],
   "source": [
    "# pipe_pca_svc_params = {\n",
    "#     'svc__C': [5, 7, 9],\n",
    "#     'svc__kernel': ['rbf'],  # 'poly'\n",
    "#     'pca__n_components': [20, 30, 40],\n",
    "#     'sampling__sampling_strategy': ['minority', 'not minority', 'auto'],\n",
    "#     'sampling__k_neighbors': [3, 5],      \n",
    "# }\n",
    "\n",
    "pipe_pca_svc_params = {\n",
    "    'svc__C': [5],\n",
    "    'svc__kernel': ['rbf'],  # 'poly'\n",
    "    'pca__n_components': [20],\n",
    "    'sampling__sampling_strategy': ['not minority', 'auto'],\n",
    "    'sampling__k_neighbors': [3],      \n",
    "}"
   ]
  },
  {
   "cell_type": "code",
   "execution_count": 46,
   "id": "971c2cfc",
   "metadata": {},
   "outputs": [],
   "source": [
    "gs_pca_svc = GridSearchCV(pipe_pca_svc, pipe_pca_svc_params, verbose=2, n_jobs=-1)"
   ]
  },
  {
   "cell_type": "code",
   "execution_count": 47,
   "id": "36d48f3f",
   "metadata": {},
   "outputs": [
    {
     "name": "stdout",
     "output_type": "stream",
     "text": [
      "Fitting 5 folds for each of 2 candidates, totalling 10 fits\n",
      "Wall time: 22.9 s\n"
     ]
    },
    {
     "data": {
      "text/plain": [
       "GridSearchCV(estimator=Pipeline(steps=[('sampling', SMOTE()), ('pca', PCA()),\n",
       "                                       ('svc',\n",
       "                                        SVC(probability=True,\n",
       "                                            random_state=100))]),\n",
       "             n_jobs=-1,\n",
       "             param_grid={'pca__n_components': [20],\n",
       "                         'sampling__k_neighbors': [3],\n",
       "                         'sampling__sampling_strategy': ['not minority',\n",
       "                                                         'auto'],\n",
       "                         'svc__C': [5], 'svc__kernel': ['rbf']},\n",
       "             verbose=2)"
      ]
     },
     "execution_count": 47,
     "metadata": {},
     "output_type": "execute_result"
    }
   ],
   "source": [
    "%%time\n",
    "gs_pca_svc.fit(Xs_train, y_train)\n",
    "\n",
    "## lol example of time taken (14 mins) if we put SVC(probability=True) in the pipeline"
   ]
  },
  {
   "cell_type": "code",
   "execution_count": 48,
   "id": "6239f9ae",
   "metadata": {},
   "outputs": [
    {
     "data": {
      "text/plain": [
       "{'pca__n_components': 20,\n",
       " 'sampling__k_neighbors': 3,\n",
       " 'sampling__sampling_strategy': 'not minority',\n",
       " 'svc__C': 5,\n",
       " 'svc__kernel': 'rbf'}"
      ]
     },
     "execution_count": 48,
     "metadata": {},
     "output_type": "execute_result"
    }
   ],
   "source": [
    "gs_pca_svc.best_params_"
   ]
  },
  {
   "cell_type": "code",
   "execution_count": 49,
   "id": "5c221eb5",
   "metadata": {},
   "outputs": [
    {
     "data": {
      "image/png": "[encoded data removed]",
      "text/plain": [
       "<Figure size 936x360 with 3 Axes>"
      ]
     },
     "metadata": {
      "needs_background": "light"
     },
     "output_type": "display_data"
    }
   ],
   "source": [
    "mod_metrics = metrics_and_plot_cm(gs_pca_logreg, Xs_val, y_val)"
   ]
  },
  {
   "cell_type": "code",
   "execution_count": 50,
   "id": "32a4e6ec",
   "metadata": {},
   "outputs": [],
   "source": [
    "results_df = append_results(results_df,\n",
    "                           gs_pca_svc.score(Xs_train, y_train),\n",
    "                           mod_metrics,\n",
    "                           'PCA SVM',\n",
    "                           )"
   ]
  },
  {
   "cell_type": "code",
   "execution_count": 51,
   "id": "7a782238",
   "metadata": {
    "scrolled": true
   },
   "outputs": [
    {
     "data": {
      "text/html": [
       "<div>\n",
       "<style scoped>\n",
       "    .dataframe tbody tr th:only-of-type {\n",
       "        vertical-align: middle;\n",
       "    }\n",
       "\n",
       "    .dataframe tbody tr th {\n",
       "        vertical-align: top;\n",
       "    }\n",
       "\n",
       "    .dataframe thead th {\n",
       "        text-align: right;\n",
       "    }\n",
       "</style>\n",
       "<table border=\"1\" class=\"dataframe\">\n",
       "  <thead>\n",
       "    <tr style=\"text-align: right;\">\n",
       "      <th></th>\n",
       "      <th>model</th>\n",
       "      <th>train_accuracy</th>\n",
       "      <th>test_accuracy</th>\n",
       "      <th>misclassification</th>\n",
       "      <th>sensitivity</th>\n",
       "      <th>specificity</th>\n",
       "      <th>precision</th>\n",
       "      <th>f1_score</th>\n",
       "      <th>roc_auc</th>\n",
       "    </tr>\n",
       "  </thead>\n",
       "  <tbody>\n",
       "    <tr>\n",
       "      <th>0</th>\n",
       "      <td>Logistic Regression</td>\n",
       "      <td>0.672929</td>\n",
       "      <td>0.663295</td>\n",
       "      <td>0.336705</td>\n",
       "      <td>0.798246</td>\n",
       "      <td>0.655454</td>\n",
       "      <td>0.118644</td>\n",
       "      <td>0.206583</td>\n",
       "      <td>0.811039</td>\n",
       "    </tr>\n",
       "    <tr>\n",
       "      <th>1</th>\n",
       "      <td>SVM</td>\n",
       "      <td>0.944926</td>\n",
       "      <td>0.945087</td>\n",
       "      <td>0.054913</td>\n",
       "      <td>0.000000</td>\n",
       "      <td>1.000000</td>\n",
       "      <td>NaN</td>\n",
       "      <td>0.000000</td>\n",
       "      <td>0.740993</td>\n",
       "    </tr>\n",
       "    <tr>\n",
       "      <th>2</th>\n",
       "      <td>PCA Logistic Regression</td>\n",
       "      <td>0.944926</td>\n",
       "      <td>0.944605</td>\n",
       "      <td>0.055395</td>\n",
       "      <td>0.000000</td>\n",
       "      <td>0.999490</td>\n",
       "      <td>0.000000</td>\n",
       "      <td>0.000000</td>\n",
       "      <td>0.799746</td>\n",
       "    </tr>\n",
       "    <tr>\n",
       "      <th>3</th>\n",
       "      <td>PCA SVM</td>\n",
       "      <td>0.944926</td>\n",
       "      <td>0.944605</td>\n",
       "      <td>0.055395</td>\n",
       "      <td>0.000000</td>\n",
       "      <td>0.999490</td>\n",
       "      <td>0.000000</td>\n",
       "      <td>0.000000</td>\n",
       "      <td>0.799746</td>\n",
       "    </tr>\n",
       "  </tbody>\n",
       "</table>\n",
       "</div>"
      ],
      "text/plain": [
       "                     model  train_accuracy  test_accuracy  misclassification  \\\n",
       "0      Logistic Regression        0.672929       0.663295           0.336705   \n",
       "1                      SVM        0.944926       0.945087           0.054913   \n",
       "2  PCA Logistic Regression        0.944926       0.944605           0.055395   \n",
       "3                  PCA SVM        0.944926       0.944605           0.055395   \n",
       "\n",
       "   sensitivity  specificity  precision  f1_score   roc_auc  \n",
       "0     0.798246     0.655454   0.118644  0.206583  0.811039  \n",
       "1     0.000000     1.000000        NaN  0.000000  0.740993  \n",
       "2     0.000000     0.999490   0.000000  0.000000  0.799746  \n",
       "3     0.000000     0.999490   0.000000  0.000000  0.799746  "
      ]
     },
     "execution_count": 51,
     "metadata": {},
     "output_type": "execute_result"
    }
   ],
   "source": [
    "results_df"
   ]
  },
  {
   "cell_type": "markdown",
   "id": "5891b2ba",
   "metadata": {},
   "source": [
    "## AdaBoost\n",
    "\n",
    "To remove as it's not the best performing classifier."
   ]
  },
  {
   "cell_type": "code",
   "execution_count": 52,
   "id": "75aeb0b8",
   "metadata": {},
   "outputs": [],
   "source": [
    "from sklearn.ensemble import AdaBoostClassifier\n",
    "from sklearn.tree import DecisionTreeClassifier"
   ]
  },
  {
   "cell_type": "code",
   "execution_count": 53,
   "id": "7e8f2a53",
   "metadata": {},
   "outputs": [],
   "source": [
    "pipe_ada = Pipeline([\n",
    "    ('sampling', SMOTE()),\n",
    "    ('ada', AdaBoostClassifier(base_estimator=DecisionTreeClassifier(random_state=100)))\n",
    "])"
   ]
  },
  {
   "cell_type": "code",
   "execution_count": 54,
   "id": "c20baf54",
   "metadata": {},
   "outputs": [],
   "source": [
    "pipe_ada_params = {\n",
    "    'sampling__sampling_strategy': ['minority', 'not minority', 'auto'],\n",
    "    'sampling__k_neighbors': [3, 5],  \n",
    "    'ada__n_estimators': [50,100,150],\n",
    "    'ada__learning_rate': [0.1,1,10]\n",
    "}"
   ]
  },
  {
   "cell_type": "code",
   "execution_count": 55,
   "id": "a6c93f2b",
   "metadata": {},
   "outputs": [],
   "source": [
    "gs_ada = GridSearchCV(pipe_ada, pipe_ada_params, verbose=1, n_jobs=-1)"
   ]
  },
  {
   "cell_type": "code",
   "execution_count": 56,
   "id": "8104ed6b",
   "metadata": {},
   "outputs": [
    {
     "name": "stdout",
     "output_type": "stream",
     "text": [
      "Fitting 5 folds for each of 54 candidates, totalling 270 fits\n"
     ]
    },
    {
     "data": {
      "text/plain": [
       "GridSearchCV(estimator=Pipeline(steps=[('sampling', SMOTE()),\n",
       "                                       ('ada',\n",
       "                                        AdaBoostClassifier(base_estimator=DecisionTreeClassifier(random_state=100)))]),\n",
       "             n_jobs=-1,\n",
       "             param_grid={'ada__learning_rate': [0.1, 1, 10],\n",
       "                         'ada__n_estimators': [50, 100, 150],\n",
       "                         'sampling__k_neighbors': [3, 5],\n",
       "                         'sampling__sampling_strategy': ['minority',\n",
       "                                                         'not minority',\n",
       "                                                         'auto']},\n",
       "             verbose=1)"
      ]
     },
     "execution_count": 56,
     "metadata": {},
     "output_type": "execute_result"
    }
   ],
   "source": [
    "gs_ada.fit(Xs_train, y_train)"
   ]
  },
  {
   "cell_type": "code",
   "execution_count": 57,
   "id": "f733970b",
   "metadata": {},
   "outputs": [
    {
     "data": {
      "text/plain": [
       "{'ada__learning_rate': 10,\n",
       " 'ada__n_estimators': 100,\n",
       " 'sampling__k_neighbors': 5,\n",
       " 'sampling__sampling_strategy': 'not minority'}"
      ]
     },
     "execution_count": 57,
     "metadata": {},
     "output_type": "execute_result"
    }
   ],
   "source": [
    "gs_ada.best_params_"
   ]
  },
  {
   "cell_type": "code",
   "execution_count": 58,
   "id": "713aeb20",
   "metadata": {},
   "outputs": [
    {
     "data": {
      "image/png": "[encoded data removed]",
      "text/plain": [
       "<Figure size 936x360 with 3 Axes>"
      ]
     },
     "metadata": {
      "needs_background": "light"
     },
     "output_type": "display_data"
    }
   ],
   "source": [
    "mod_metrics = metrics_and_plot_cm(gs_ada, Xs_val, y_val)"
   ]
  },
  {
   "cell_type": "code",
   "execution_count": 59,
   "id": "35018325",
   "metadata": {},
   "outputs": [],
   "source": [
    "results_df = append_results(results_df,\n",
    "                           gs_ada.score(Xs_train, y_train),\n",
    "                           mod_metrics,\n",
    "                           'AdaBoost',\n",
    "                           )"
   ]
  },
  {
   "cell_type": "code",
   "execution_count": 60,
   "id": "7f320095",
   "metadata": {},
   "outputs": [
    {
     "data": {
      "text/html": [
       "<div>\n",
       "<style scoped>\n",
       "    .dataframe tbody tr th:only-of-type {\n",
       "        vertical-align: middle;\n",
       "    }\n",
       "\n",
       "    .dataframe tbody tr th {\n",
       "        vertical-align: top;\n",
       "    }\n",
       "\n",
       "    .dataframe thead th {\n",
       "        text-align: right;\n",
       "    }\n",
       "</style>\n",
       "<table border=\"1\" class=\"dataframe\">\n",
       "  <thead>\n",
       "    <tr style=\"text-align: right;\">\n",
       "      <th></th>\n",
       "      <th>model</th>\n",
       "      <th>train_accuracy</th>\n",
       "      <th>test_accuracy</th>\n",
       "      <th>misclassification</th>\n",
       "      <th>sensitivity</th>\n",
       "      <th>specificity</th>\n",
       "      <th>precision</th>\n",
       "      <th>f1_score</th>\n",
       "      <th>roc_auc</th>\n",
       "    </tr>\n",
       "  </thead>\n",
       "  <tbody>\n",
       "    <tr>\n",
       "      <th>0</th>\n",
       "      <td>Logistic Regression</td>\n",
       "      <td>0.672929</td>\n",
       "      <td>0.663295</td>\n",
       "      <td>0.336705</td>\n",
       "      <td>0.798246</td>\n",
       "      <td>0.655454</td>\n",
       "      <td>0.118644</td>\n",
       "      <td>0.206583</td>\n",
       "      <td>0.811039</td>\n",
       "    </tr>\n",
       "    <tr>\n",
       "      <th>1</th>\n",
       "      <td>SVM</td>\n",
       "      <td>0.944926</td>\n",
       "      <td>0.945087</td>\n",
       "      <td>0.054913</td>\n",
       "      <td>0.000000</td>\n",
       "      <td>1.000000</td>\n",
       "      <td>NaN</td>\n",
       "      <td>0.000000</td>\n",
       "      <td>0.740993</td>\n",
       "    </tr>\n",
       "    <tr>\n",
       "      <th>2</th>\n",
       "      <td>PCA Logistic Regression</td>\n",
       "      <td>0.944926</td>\n",
       "      <td>0.944605</td>\n",
       "      <td>0.055395</td>\n",
       "      <td>0.000000</td>\n",
       "      <td>0.999490</td>\n",
       "      <td>0.000000</td>\n",
       "      <td>0.000000</td>\n",
       "      <td>0.799746</td>\n",
       "    </tr>\n",
       "    <tr>\n",
       "      <th>3</th>\n",
       "      <td>PCA SVM</td>\n",
       "      <td>0.944926</td>\n",
       "      <td>0.944605</td>\n",
       "      <td>0.055395</td>\n",
       "      <td>0.000000</td>\n",
       "      <td>0.999490</td>\n",
       "      <td>0.000000</td>\n",
       "      <td>0.000000</td>\n",
       "      <td>0.799746</td>\n",
       "    </tr>\n",
       "    <tr>\n",
       "      <th>4</th>\n",
       "      <td>AdaBoost</td>\n",
       "      <td>0.975915</td>\n",
       "      <td>0.911368</td>\n",
       "      <td>0.088632</td>\n",
       "      <td>0.096491</td>\n",
       "      <td>0.958716</td>\n",
       "      <td>0.119565</td>\n",
       "      <td>0.106796</td>\n",
       "      <td>0.619791</td>\n",
       "    </tr>\n",
       "  </tbody>\n",
       "</table>\n",
       "</div>"
      ],
      "text/plain": [
       "                     model  train_accuracy  test_accuracy  misclassification  \\\n",
       "0      Logistic Regression        0.672929       0.663295           0.336705   \n",
       "1                      SVM        0.944926       0.945087           0.054913   \n",
       "2  PCA Logistic Regression        0.944926       0.944605           0.055395   \n",
       "3                  PCA SVM        0.944926       0.944605           0.055395   \n",
       "4                 AdaBoost        0.975915       0.911368           0.088632   \n",
       "\n",
       "   sensitivity  specificity  precision  f1_score   roc_auc  \n",
       "0     0.798246     0.655454   0.118644  0.206583  0.811039  \n",
       "1     0.000000     1.000000        NaN  0.000000  0.740993  \n",
       "2     0.000000     0.999490   0.000000  0.000000  0.799746  \n",
       "3     0.000000     0.999490   0.000000  0.000000  0.799746  \n",
       "4     0.096491     0.958716   0.119565  0.106796  0.619791  "
      ]
     },
     "execution_count": 60,
     "metadata": {},
     "output_type": "execute_result"
    }
   ],
   "source": [
    "results_df"
   ]
  },
  {
   "cell_type": "markdown",
   "id": "5f7088d6",
   "metadata": {},
   "source": [
    "# Predicting with Test Data"
   ]
  },
  {
   "cell_type": "markdown",
   "id": "fb1fb43d",
   "metadata": {},
   "source": [
    "We utilise the whole train set as our train data here, and the test data to predict the probabilities, which will then be submitted to Kaggle for scoring."
   ]
  },
  {
   "cell_type": "code",
   "execution_count": 61,
   "id": "a39e7d89",
   "metadata": {},
   "outputs": [],
   "source": [
    "X_train = pd.read_csv('./assets/X_train.csv')\n",
    "y_train = pd.read_csv('./assets/y_train.csv')\n",
    "X_test = pd.read_csv('./assets/test_final.csv')"
   ]
  },
  {
   "cell_type": "code",
   "execution_count": 62,
   "id": "4415a2a7",
   "metadata": {
    "scrolled": true
   },
   "outputs": [],
   "source": [
    "# pd.set_option('display.max_rows', 100)\n",
    "# pd.set_option('display.max_columns', 50)"
   ]
  },
  {
   "cell_type": "code",
   "execution_count": 63,
   "id": "b976bdac",
   "metadata": {},
   "outputs": [],
   "source": [
    "X_train.drop(columns=['Unnamed: 0'], inplace=True)\n",
    "y_train.drop(columns=['Unnamed: 0'], inplace=True)\n",
    "X_test.drop(columns=['Unnamed: 0','index'], inplace=True)\n",
    "X_test.set_index('id', inplace=True)"
   ]
  },
  {
   "cell_type": "code",
   "execution_count": 64,
   "id": "33e5cd92",
   "metadata": {},
   "outputs": [
    {
     "name": "stdout",
     "output_type": "stream",
     "text": [
      "Fitting 5 folds for each of 2 candidates, totalling 10 fits\n"
     ]
    },
    {
     "name": "stderr",
     "output_type": "stream",
     "text": [
      "C:\\Users\\Ming\\anaconda3\\envs\\tensorflow\\lib\\site-packages\\sklearn\\utils\\validation.py:63: DataConversionWarning: A column-vector y was passed when a 1d array was expected. Please change the shape of y to (n_samples, ), for example using ravel().\n",
      "  return f(*args, **kwargs)\n"
     ]
    },
    {
     "name": "stdout",
     "output_type": "stream",
     "text": [
      "Fitting 5 folds for each of 2 candidates, totalling 10 fits\n"
     ]
    },
    {
     "name": "stderr",
     "output_type": "stream",
     "text": [
      "C:\\Users\\Ming\\anaconda3\\envs\\tensorflow\\lib\\site-packages\\sklearn\\utils\\validation.py:63: DataConversionWarning: A column-vector y was passed when a 1d array was expected. Please change the shape of y to (n_samples, ), for example using ravel().\n",
      "  return f(*args, **kwargs)\n"
     ]
    },
    {
     "name": "stdout",
     "output_type": "stream",
     "text": [
      "Fitting 5 folds for each of 2 candidates, totalling 10 fits\n"
     ]
    },
    {
     "name": "stderr",
     "output_type": "stream",
     "text": [
      "C:\\Users\\Ming\\anaconda3\\envs\\tensorflow\\lib\\site-packages\\sklearn\\utils\\validation.py:63: DataConversionWarning: A column-vector y was passed when a 1d array was expected. Please change the shape of y to (n_samples, ), for example using ravel().\n",
      "  return f(*args, **kwargs)\n"
     ]
    },
    {
     "name": "stdout",
     "output_type": "stream",
     "text": [
      "Fitting 5 folds for each of 2 candidates, totalling 10 fits\n"
     ]
    },
    {
     "name": "stderr",
     "output_type": "stream",
     "text": [
      "C:\\Users\\Ming\\anaconda3\\envs\\tensorflow\\lib\\site-packages\\sklearn\\utils\\validation.py:63: DataConversionWarning: A column-vector y was passed when a 1d array was expected. Please change the shape of y to (n_samples, ), for example using ravel().\n",
      "  return f(*args, **kwargs)\n"
     ]
    },
    {
     "name": "stdout",
     "output_type": "stream",
     "text": [
      "Fitting 5 folds for each of 54 candidates, totalling 270 fits\n"
     ]
    },
    {
     "name": "stderr",
     "output_type": "stream",
     "text": [
      "C:\\Users\\Ming\\anaconda3\\envs\\tensorflow\\lib\\site-packages\\sklearn\\utils\\validation.py:63: DataConversionWarning: A column-vector y was passed when a 1d array was expected. Please change the shape of y to (n_samples, ), for example using ravel().\n",
      "  return f(*args, **kwargs)\n"
     ]
    },
    {
     "data": {
      "text/plain": [
       "GridSearchCV(estimator=Pipeline(steps=[('sampling', SMOTE()),\n",
       "                                       ('ada',\n",
       "                                        AdaBoostClassifier(base_estimator=DecisionTreeClassifier(random_state=100)))]),\n",
       "             n_jobs=-1,\n",
       "             param_grid={'ada__learning_rate': [0.1, 1, 10],\n",
       "                         'ada__n_estimators': [50, 100, 150],\n",
       "                         'sampling__k_neighbors': [3, 5],\n",
       "                         'sampling__sampling_strategy': ['minority',\n",
       "                                                         'not minority',\n",
       "                                                         'auto']},\n",
       "             verbose=1)"
      ]
     },
     "execution_count": 64,
     "metadata": {},
     "output_type": "execute_result"
    }
   ],
   "source": [
    "gs_logreg.fit(X_train, y_train)\n",
    "gs_svc.fit(X_train, y_train)\n",
    "gs_pca_logreg.fit(X_train, y_train)\n",
    "gs_pca_svc.fit(X_train, y_train)\n",
    "gs_ada.fit(X_train, y_train)"
   ]
  },
  {
   "cell_type": "code",
   "execution_count": 65,
   "id": "c6ecf1fb",
   "metadata": {},
   "outputs": [],
   "source": [
    "output_results(gs_logreg.predict_proba(X_test), 'logreg_results')\n",
    "output_results(gs_svc.predict_proba(X_test), 'svc_results')\n",
    "output_results(gs_pca_logreg.predict_proba(X_test), 'pca_logreg_results')\n",
    "output_results(gs_pca_svc.predict_proba(X_test), 'pca_svc_results')\n",
    "output_results(gs_ada.predict_proba(X_test), 'ada_results')"
   ]
  },
  {
   "cell_type": "markdown",
   "id": "267eed38",
   "metadata": {},
   "source": [
    "# Feature Importance"
   ]
  },
  {
   "cell_type": "code",
   "execution_count": 66,
   "id": "a091c1c2",
   "metadata": {},
   "outputs": [],
   "source": [
    "# note: svm on rbf has no feature importance, only svm on linear has it\n",
    "# https://stackoverflow.com/questions/41592661/determining-the-most-contributing-features-for-svm-classifier-in-sklearn"
   ]
  },
  {
   "cell_type": "markdown",
   "id": "2f382540",
   "metadata": {},
   "source": [
    "Feature Importance based on Logistic Regression"
   ]
  },
  {
   "cell_type": "code",
   "execution_count": 67,
   "id": "8ac422af",
   "metadata": {
    "scrolled": true
   },
   "outputs": [],
   "source": [
    "logreg_features = pd.DataFrame({'feature_names': X_train.columns,\n",
    "                                'feature_importance': gs_logreg.best_estimator_[1].coef_[0]})\n",
    "\n",
    "# top 20 features\n",
    "logreg_features = logreg_features.sort_values(by='feature_importance', ascending=False).head(20)"
   ]
  },
  {
   "cell_type": "code",
   "execution_count": 68,
   "id": "54ce11c8",
   "metadata": {},
   "outputs": [
    {
     "data": {
      "image/png": "[encoded data removed]",
      "text/plain": [
       "<Figure size 720x720 with 1 Axes>"
      ]
     },
     "metadata": {
      "needs_background": "light"
     },
     "output_type": "display_data"
    }
   ],
   "source": [
    "fig, ax = plt.subplots(figsize=(10,10))\n",
    "sns.barplot(data=logreg_features, y='feature_names', x='feature_importance', palette='viridis')\n",
    "\n",
    "plt.title('Features Importance')\n",
    "plt.tight_layout()\n",
    "plt.show()"
   ]
  },
  {
   "cell_type": "markdown",
   "id": "2d96de7a",
   "metadata": {},
   "source": [
    "In examining feature importance, the two top indicators of West Nile Virus occurrence, are degree_days and whether there has been a drizzle in the last 10 days. The first of these, has been correlated with mosquito activity in literature and its presence should be of no surprise. However, its rank here does reiterate its importance.\n",
    "\n",
    "The next top features, that are not blocks, are weather features. Specifically, 2 engineered features, if it drizzled or was misty 10 days ago, both good importance, as earlier speculated. This coincides with the idea that mosquito life cycle in Summer in Chicago may be shorted at 10 days, and that the stagnant water for the moisture may account for mosquito breeding. This is further reinforced by the appearance of thunderstorms as a feature as well.\n",
    "\n",
    "Lastly, we do see that specific blocks in the city are much more likely to predict the occurrence of West Nile Virus. This may point to issues with stagnant water in the area, leading to a more breading areas for the mosquitos."
   ]
  },
  {
   "cell_type": "markdown",
   "id": "84d141d6",
   "metadata": {},
   "source": [
    "# Cost Benefit Analysis"
   ]
  },
  {
   "cell_type": "markdown",
   "id": "1e19c62a",
   "metadata": {},
   "source": [
    "In effective pest management, one should consider the use of different spray types and effectiveness, as well as factors influencing the lifecycle of the pest.\n",
    "\n",
    "When considering only fogging, the typical spray used in residential areas for combating mosquitos, timing of the spray should be strongly considered in reducing a mosquito population due to its time-constrained effectiveness:\n",
    "1. Timing of rainfall\n",
    "* Rainfall can have a large impact on the population of mosquitos, with stagnant, trapped water providing fertile breeding ground. In built-up cities such as Chicago, it can be difficult to get rid of all water traps and to completely eliminate sources of stagnant water. Use of fogging 8-10 days after a heavy downpour can be a timely way to eliminate mosquito populations for the day, as they are hatching, and accurately target the spray to its window of maximum effectiveness.\n",
    "\n",
    "* Spray use should also be avoided when the timing coincides with predictions of rainfall on the day itself. For maximum effectiveness, sprays would have to remain in the air and interact with the mosquito population. Any precipitation during the course of the day would reduce the effectiveness of the spray by taking it out of the air and preventing maximum exposure.\n",
    "\n",
    "2. Degree Days\n",
    "* Mosquitos have shown to be most active around a specific temperature band, above 65F, often measured in degree days. When judging appropriate spray effectiveness, degree days can be used to help judge the use and timing of sprays. More days consistently above the 65F band would lead to a faster lifecycle, and a more active population, requiring a more consistent use of spraying. In contrast, we may avoid spraying on cooler days due to the limited effectivness of spraying, particularly when the mosquito population is small. Targeted use specifically in areas that have historically had the West Nile Virus presence can be considered instead.\n",
    "* In examining our spray data set, sprays have largely been applied in September. This might be one big area of improvement for future spray applications, to shift them towards the summer months, when mosquitos are most active.\n",
    "\n",
    "3. Wind Speed and Drift\n",
    "* Wind speed should also be considered on the day of application. Wind speed can cause pesticide drift, removing the pesticide fog from its most effective location. Wind speed of the day should be considered during pesticide application. This is especially important in Chicago, which follows a grid layout, allowing buildings to form wind corridors and exacerbating wind effects. \n",
    "* Conversely, days with no wind speed can be difficult for spray operators, at speeds below 3km/h, spray can evaporate before arriving at the desired destination of application. A light breeze will provide the operator with the knowledge of the pesticide drift.\n",
    "\n",
    "4. Sprayer Type\n",
    "* Sprayer machinery can play an important role in the application of pesticides. A fine nozzle sprayer will help to provide a fine dispersion of the pesticide mist, however, hot days and lower humidity can lead to a faster evaporation of smaller droplets. Conversely, larger particle sizes (>200 microns) may survive the heat and be less affected by wind size, but may not be as effective at delivering the pesticide to pests.\n",
    "\n",
    "5. Pesticide\n",
    "* The assumption made is that the spray used is the most commonly use spray for fogging the air and targeting adult mosquitoes. However, standing pesticides can also be used in conjunction with air pesticides, targeting difficult to reach or difficult to clear areas with standing water to eliminate mosquito larvae. This would be a far more long-reaching solution, although constant re-application would be required through each rainfall. Therefore, consideration would have to be given according to the frequency of rainfall and the difficulty of application."
   ]
  },
  {
   "cell_type": "markdown",
   "id": "df655d65",
   "metadata": {},
   "source": [
    "## Model 1"
   ]
  },
  {
   "cell_type": "markdown",
   "id": "cefab472",
   "metadata": {},
   "source": [
    "### Costs"
   ]
  },
  {
   "cell_type": "markdown",
   "id": "7764d9e1",
   "metadata": {},
   "source": [
    "Spraying Costs\n",
    "\n",
    "For our first model, we will look at a widespread spraying of the city.\n",
    "\n",
    "- [Time of spray](https://www.chicago.gov/city/en/depts/cdph/provdrs/healthy_communities/news/2020/august/city-to-spray-insecticide-thursday-to-kill-mosquitoes.html): Weather permitting, the spraying will begin at dusk on August 13th and continue through the night until approximately 1:00 am, with licensed mosquito abatement technicians in trucks dispensing an ultra-low-volume spray. The material being used to control the adult mosquitoes, Zenivex.\n",
    "\n",
    "\n",
    "- [Spray rate of Zerivex](https://chicago.cbslocal.com/2017/08/30/spray-mosquitoes-far-south-side-west-nile-prevention/): The chemical used is Zenivex, applied at a rate of 1.5 fluid ounces per acre. That measure is approved by the U.S. EPA to control mosquitoes in outdoor residential and recreational areas.\n",
    "\n",
    "\n",
    "- [Zerivex cost per acre](file:///C:/Users/caspe/Downloads/Zenivex%20Cost%20Comparison%20Fact%20Sheet.pdf): USD0.67 per acre\n",
    "\n",
    "\n",
    "\n",
    "- Area of Chicago City: estimated to be 145,300 acres based on Google Search"
   ]
  },
  {
   "cell_type": "markdown",
   "id": "929f5557",
   "metadata": {},
   "source": [
    "Based on the above, we assume the cost of spray to be USD 0.67 per acre multiplied by the area of Chicago city. This will account for 1 spraying exercise."
   ]
  },
  {
   "cell_type": "code",
   "execution_count": 69,
   "id": "dee4c099",
   "metadata": {
    "scrolled": true
   },
   "outputs": [
    {
     "data": {
      "text/plain": [
       "97351.0"
      ]
     },
     "execution_count": 69,
     "metadata": {},
     "output_type": "execute_result"
    }
   ],
   "source": [
    "# cost of 1 spraying exercise\n",
    "spray_cost = 145300*0.67\n",
    "spray_cost"
   ]
  },
  {
   "cell_type": "markdown",
   "id": "083fe558",
   "metadata": {},
   "source": [
    "We will estimate the cost of 1 spraying exercise to be about USD 97,351."
   ]
  },
  {
   "cell_type": "markdown",
   "id": "6014ffbc",
   "metadata": {},
   "source": [
    "If we assume the most aggressive spray strategy and spray every week during the summer months of July, August and September based on our spray effectiveness analysis in the previous notebook, then the total cost can be calculated to be:"
   ]
  },
  {
   "cell_type": "code",
   "execution_count": 70,
   "id": "09052f75",
   "metadata": {},
   "outputs": [
    {
     "data": {
      "text/plain": [
       "1168212.0"
      ]
     },
     "execution_count": 70,
     "metadata": {},
     "output_type": "execute_result"
    }
   ],
   "source": [
    "# total cost of spraying annually\n",
    "# assuming each spray * 4 weeks * 3 months\n",
    "spray_cost * 4 * 3"
   ]
  },
  {
   "cell_type": "markdown",
   "id": "0ad4b36b",
   "metadata": {},
   "source": [
    "For this scenario, we would need to set aside a budget of about USD 1.17 million to conduct the spraying exercises on an annual basis."
   ]
  },
  {
   "cell_type": "markdown",
   "id": "0b2caff0",
   "metadata": {},
   "source": [
    "### Benefits"
   ]
  },
  {
   "cell_type": "markdown",
   "id": "7dcedc5e",
   "metadata": {},
   "source": [
    "In a maximum benefit scenario, we assume that due to our aggressive spraying policy, no one contracted the virus."
   ]
  },
  {
   "cell_type": "markdown",
   "id": "9233c134",
   "metadata": {},
   "source": [
    "Conversely, in a scenario where the spray had not been used, we will use the following costs:\n",
    "\n",
    "Medical Health Costs\n",
    "\n",
    "  - Number of [human WNV cases](https://www.ncbi.nlm.nih.gov/pmc/articles/PMC7241786/) in Chicago region will be taken as the average of cases from 2007-2014 (same as our dataset), without the years of 2011 and 2013, to determine maximal benefit against a programme with no spraying"
   ]
  },
  {
   "cell_type": "code",
   "execution_count": 79,
   "id": "cf093981",
   "metadata": {},
   "outputs": [
    {
     "name": "stdout",
     "output_type": "stream",
     "text": [
      "60.166666666666664\n"
     ]
    }
   ],
   "source": [
    "wnv_cases = [43, 10, 1, 47, 229, 31]\n",
    "print(np.mean(wnv_cases))"
   ]
  },
  {
   "cell_type": "markdown",
   "id": "5089c113",
   "metadata": {},
   "source": [
    "  - The [CDC estimates](https://www.sciencedaily.com/releases/2014/02/140210184713.htm):\n",
    "     - Roughly 4 out of 5 people are asymptomatic\n",
    "     - 1 in 5 people who are infected develop a fever, with a median medical cost of USD 7,500\n",
    "     - 1 in 150 infected people develop a serious, sometimes fatal, illness incurring long-term median medical costs of a total of USD 47,000."
   ]
  },
  {
   "cell_type": "code",
   "execution_count": 87,
   "id": "c64e763c",
   "metadata": {},
   "outputs": [
    {
     "name": "stdout",
     "output_type": "stream",
     "text": [
      "The medical costs for symptomatically mild to moderate cases are USD 90000.0.\n",
      "The medical costs for symptomatically severe cases, rounding up, are USD 90000.\n",
      "------------\n",
      "\n",
      "The total medical costs are USD 180,000\n"
     ]
    }
   ],
   "source": [
    "print(f'The medical costs for symptomatically mild to moderate cases are USD {60/5 * 7500}.')\n",
    "print(f'The medical costs for symptomatically severe cases, rounding up, are USD {1 * 90000}.')\n",
    "print('------------')\n",
    "print('\\nThe total medical costs are USD 180,000')"
   ]
  },
  {
   "cell_type": "markdown",
   "id": "818ba691",
   "metadata": {},
   "source": [
    "Productivity Loss\n",
    "\n",
    "Based on [NCBI(National Centre for Biotechnology Information)'s study in determining productivity loss of an individual](https://www.ncbi.nlm.nih.gov/pmc/articles/PMC3322011/) , we assume productivity loss to be (referenced from Table 3 in the link):\n"
   ]
  },
  {
   "cell_type": "code",
   "execution_count": 90,
   "id": "e0336dde",
   "metadata": {
    "scrolled": true
   },
   "outputs": [
    {
     "name": "stdout",
     "output_type": "stream",
     "text": [
      "For the symptomatically mild and moderate cases:\n",
      "\n",
      "USD 955 for each individual, for a total of USD 11460\n",
      "------------------------------\n",
      "For the hospitalised individual:\n",
      "\n",
      "USD 10800, if the individual is under the age of 60\n",
      "------------------------------\n",
      "Total productivity loss: USD 22260\n"
     ]
    }
   ],
   "source": [
    "# Estimated economic costs of WNV cases due to productivity loss, proxy from a study in California\n",
    "print('For the symptomatically mild and moderate cases:\\n')\n",
    "print(f'USD {955} for each individual, for a total of USD {955 * 12}')\n",
    "print('------------------------------')\n",
    "print('For the hospitalised individual:\\n')\n",
    "print('USD 10800, if the individual is under the age of 60')\n",
    "print('------------------------------')\n",
    "print(f'Total productivity loss: USD {11460 + 10800}')"
   ]
  },
  {
   "cell_type": "markdown",
   "id": "ae344180",
   "metadata": {},
   "source": [
    "The economic loss to WNV can be calculated as USD 202,260."
   ]
  },
  {
   "cell_type": "markdown",
   "id": "6b4ebfe5",
   "metadata": {},
   "source": [
    "The prevention of economic loss of USD 202,260 does not, however, justify the spending of USD 1.17 million to spray pesticides."
   ]
  },
  {
   "cell_type": "markdown",
   "id": "98ac5763",
   "metadata": {},
   "source": [
    "## Model 2 "
   ]
  },
  {
   "cell_type": "markdown",
   "id": "b2673160",
   "metadata": {},
   "source": [
    "In our second model, we look to target specific areas of the city, highly affected by the mosquitos, along with the following factors:\n",
    "\n",
    "- Spray Area: Spray Area imputed from the spray area of the 2011 spray block, an area roughly measuring 12.857 km^2, or 3177 acres.\n",
    "\n",
    "- Spray Times: Following the EDA done on the weather data set, alongside the features that were deemed to be of the highest importance in the logistic regression, we can see that spraying can be targeted to hit the life cycle of mosquitos immediately after periods that are:\n",
    "    1. At least 10 days after a light rain or mist event\n",
    "    2. On days where the degree day value is 7 or higher\n",
    "    \n",
    "Assuming this happens 3 times a month (Every 10 days of uninterupted sunshine following a rain event), and only in the months correlated with the highest number of cases (August, September), we can lower spray frequency to 6 times a year.\n",
    "\n",
    "Further, from our EDA, only 18 of the 64 blocks in the train set had WNV counts above 10 for the last 4 years, more than 2.5 cases per year per block.\n",
    "\n",
    "Therefore, we would restrict our spraying to only the regions that would benefit the most.\n",
    "\n",
    "At a rate of:\n",
    "* 6 sprays a year\n",
    "* For 18 blocks * 3177 acres * USD 0.67 per acre\n",
    "\n",
    "The total cost of Model 2 would be:"
   ]
  },
  {
   "cell_type": "code",
   "execution_count": 91,
   "id": "236e7e35",
   "metadata": {},
   "outputs": [
    {
     "name": "stdout",
     "output_type": "stream",
     "text": [
      "229887.72\n"
     ]
    }
   ],
   "source": [
    "print(6*18*3177*0.67)"
   ]
  },
  {
   "cell_type": "markdown",
   "id": "d801a4fd",
   "metadata": {},
   "source": [
    "At USD 230,000, this spray plan is only barely more than the loss estimated of USD 202,260."
   ]
  },
  {
   "cell_type": "markdown",
   "id": "86be19a4",
   "metadata": {},
   "source": [
    "# Conclusion"
   ]
  },
  {
   "cell_type": "markdown",
   "id": "b49f35d0",
   "metadata": {},
   "source": [
    "# Recommendations"
   ]
  },
  {
   "cell_type": "markdown",
   "id": "778b339a",
   "metadata": {},
   "source": [
    "In conclusion, while a model that included indiscriminate spraying through Chicago did not show material benefit when compared to the cost, a model that was calculated based on initial features discovered during EDA and examined after modeling did product a spray plan that was marginally more expensive than the economic loss estimated.\n",
    "\n",
    "This model was however based on a worst case scenario of 6 sprays. When adjusted by the weather for the year, it will likely reduce the reliance of such a high spray count. Further streamlining of the model could be done by looking at the month of June as a lead up, to help determine the severity of the mosquito population for the year.\n",
    "\n",
    "That said, the [best and most economical way](https://www.cdc.gov/westnile/prevention/index.html) to prevent West Nile disease or any other mosquito-borne illness is likely education of the populace, to reduce the number of mosquitoes. Precautions recommended by the CDC include:\n",
    "\n",
    "- When outdoors, apply insect repellent that contains DEET, picaridin, oil of lemon eucalyptus or IR 3535, according to label instructions.\n",
    "- Wear long-sleeved shirts and long pants when going out\n",
    "- Make sure doors and windows have tight-fitting screens. Repair or replace screens that have tears or other openings. Try to keep doors and windows shut, especially at night.\n",
    "- Eliminate sources of water-holding containers that can support mosquito breeding such as tires, buckets, planters, toys, pools, birdbaths, flowerpots, or trash containers\n",
    "- In communities where there are organized mosquito control programs, contact your municipal government to report areas of stagnant water in roadside ditches, flooded yards and similar locations that may produce mosquitoes."
   ]
  },
  {
   "cell_type": "code",
   "execution_count": null,
   "id": "74b01b4c",
   "metadata": {},
   "outputs": [],
   "source": []
  }
 ],
 "metadata": {
  "kernelspec": {
   "display_name": "Python 3 (ipykernel)",
   "language": "python",
   "name": "python3"
  },
  "language_info": {
   "codemirror_mode": {
    "name": "ipython",
    "version": 3
   },
   "file_extension": ".py",
   "mimetype": "text/x-python",
   "name": "python",
   "nbconvert_exporter": "python",
   "pygments_lexer": "ipython3",
   "version": "3.7.11"
  },
  "toc": {
   "base_numbering": 1,
   "nav_menu": {},
   "number_sections": true,
   "sideBar": true,
   "skip_h1_title": false,
   "title_cell": "Table of Contents",
   "title_sidebar": "Contents",
   "toc_cell": false,
   "toc_position": {
    "height": "calc(100% - 180px)",
    "left": "10px",
    "top": "150px",
    "width": "384px"
   },
   "toc_section_display": true,
   "toc_window_display": true
  }
 },
 "nbformat": 4,
 "nbformat_minor": 5
}
