{
 "cells": [
  {
   "cell_type": "markdown",
   "id": "92399e6b",
   "metadata": {},
   "source": [
    "# Modelling"
   ]
  },
  {
   "cell_type": "code",
   "execution_count": 1,
   "id": "0fa3cd19",
   "metadata": {},
   "outputs": [],
   "source": [
    "import pandas as pd\n",
    "import matplotlib.pyplot as plt"
   ]
  },
  {
   "cell_type": "code",
   "execution_count": 2,
   "id": "fde5fc83",
   "metadata": {},
   "outputs": [],
   "source": [
    "from sklearn.model_selection import train_test_split, GridSearchCV\n",
    "from sklearn.preprocessing import StandardScaler\n",
    "from sklearn.linear_model import LogisticRegression\n",
    "from imblearn.pipeline import Pipeline\n",
    "from sklearn.svm import SVC\n",
    "from sklearn.decomposition import PCA\n",
    "from sklearn.metrics import confusion_matrix, plot_confusion_matrix, accuracy_score, plot_roc_curve, roc_auc_score, recall_score, precision_score, f1_score\n",
    "\n",
    "from imblearn.over_sampling import SMOTE"
   ]
  },
  {
   "cell_type": "code",
   "execution_count": 3,
   "id": "b484b3f2",
   "metadata": {},
   "outputs": [],
   "source": [
    "train_comb = pd.read_csv('./assets/train_comb.csv')"
   ]
  },
  {
   "cell_type": "code",
   "execution_count": 4,
   "id": "a39cee61",
   "metadata": {},
   "outputs": [],
   "source": [
    "def append_results(result, train_score, metric, classifier):\n",
    "    tmp = pd.DataFrame({\n",
    "        'model':classifier,\n",
    "        'train_accuracy': train_score,\n",
    "        'test_accuracy': metric[metric['metric'] == 'accuracy']['score'].values[0],\n",
    "        'misclassification': metric[metric['metric'] == 'misclassification_rate']['score'].values[0],\n",
    "        'sensitivity': metric[metric['metric'] == 'sensitivity']['score'].values[0],\n",
    "        'specificity': metric[metric['metric'] == 'specificity']['score'].values[0],\n",
    "        'precision': metric[metric['metric'] == 'precision']['score'].values[0],\n",
    "        'f1_score': metric[metric['metric'] == 'f1_score']['score'].values[0],\n",
    "        'roc_auc':metric[metric['metric'] == 'roc_auc']['score'].values[0],\n",
    "        #'misclassed_data':misclass_data\n",
    "    }, index=[0])\n",
    "    result = pd.concat([result,tmp], axis=0, ignore_index=True)\n",
    "    return result"
   ]
  },
  {
   "cell_type": "code",
   "execution_count": 5,
   "id": "4b4b5d06",
   "metadata": {},
   "outputs": [],
   "source": [
    "def metrics_and_plot_cm(classifier, X, y):\n",
    "    preds = classifier.predict(X)\n",
    "    tn, fp, fn, tp = confusion_matrix(y, preds).ravel()\n",
    "    acc = (tp + tn) / (tn + fp + fn + tp)\n",
    "    misclass = 1 - acc\n",
    "    sens = tp / (tp + fn)\n",
    "    spec = tn / (tn + fp)\n",
    "    prec = tp / (tp + fp)\n",
    "    f_one_score = f1_score(y, preds)\n",
    "    roc_auc = roc_auc_score(y, classifier.predict_proba(X)[:,1])\n",
    "    results = {\n",
    "        'accuracy': acc,\n",
    "        'misclassification_rate': misclass,\n",
    "        'sensitivity': sens,\n",
    "        'specificity': spec,\n",
    "        'precision': prec,\n",
    "        'f1_score':f_one_score,\n",
    "        'roc_auc':roc_auc\n",
    "    }\n",
    "    fig, axes = plt.subplots(ncols=2, figsize=(13,5))\n",
    "    cm_chart = plot_confusion_matrix(classifier, X, y, cmap='Blues', values_format='d',display_labels=['WNV Present (1)','WNV Not Present (0)'], ax=axes[0]);\n",
    "    roc_curve = plot_roc_curve(classifier, X, y, ax=axes[1])\n",
    "    axes[1].plot([0, 1], [0, 1], label='baseline', linestyle='--' )\n",
    "    metrics = pd.DataFrame({\n",
    "        'metric': results.keys(),\n",
    "        'score': results.values()\n",
    "        })\n",
    "    return metrics"
   ]
  },
  {
   "cell_type": "code",
   "execution_count": 6,
   "id": "2e5f7440",
   "metadata": {},
   "outputs": [],
   "source": [
    "train_comb['date'] = pd.to_datetime(train_comb['date'])\n",
    "train_comb.set_index('date', inplace=True)"
   ]
  },
  {
   "cell_type": "code",
   "execution_count": 7,
   "id": "4c7989e5",
   "metadata": {},
   "outputs": [],
   "source": [
    "# dropping trap column for now as it is not numeralize yet\n",
    "X = train_comb.drop(columns=['wnvpresent', 'trap'])\n",
    "y = train_comb['wnvpresent']"
   ]
  },
  {
   "cell_type": "code",
   "execution_count": 8,
   "id": "75058078",
   "metadata": {},
   "outputs": [],
   "source": [
    "# train/test split on data\n",
    "X_train, X_val, y_train, y_val = train_test_split(X, y, test_size=0.25, random_state=42, stratify=y)"
   ]
  },
  {
   "cell_type": "code",
   "execution_count": 9,
   "id": "08198a9f",
   "metadata": {},
   "outputs": [],
   "source": [
    "# Scale X data\n",
    "ss = StandardScaler()\n",
    "Xs_train, Xs_val = ss.fit_transform(X_train), ss.transform(X_val)"
   ]
  },
  {
   "cell_type": "markdown",
   "id": "ee09190d",
   "metadata": {},
   "source": [
    "## Baseline Score"
   ]
  },
  {
   "cell_type": "code",
   "execution_count": 10,
   "id": "ff46997d",
   "metadata": {},
   "outputs": [
    {
     "data": {
      "text/plain": [
       "0    0.944966\n",
       "1    0.055034\n",
       "Name: wnvpresent, dtype: float64"
      ]
     },
     "execution_count": 10,
     "metadata": {},
     "output_type": "execute_result"
    }
   ],
   "source": [
    "train_comb['wnvpresent'].value_counts(normalize=True)"
   ]
  },
  {
   "cell_type": "markdown",
   "id": "4a9911b3",
   "metadata": {},
   "source": [
    "The baseline accuracy score would be 0.948."
   ]
  },
  {
   "cell_type": "code",
   "execution_count": 11,
   "id": "720c00ef",
   "metadata": {},
   "outputs": [],
   "source": [
    "results_df = pd.DataFrame(columns=[\n",
    "    'model',\n",
    "    'train_accuracy',\n",
    "    'test_accuracy',\n",
    "    'misclassification',\n",
    "    'sensitivity',\n",
    "    'specificity',\n",
    "    'precision',\n",
    "    'f1_score',\n",
    "    'roc_auc'\n",
    "])"
   ]
  },
  {
   "cell_type": "markdown",
   "id": "f64035a9",
   "metadata": {},
   "source": [
    "## Account for Imbalanced Class"
   ]
  },
  {
   "cell_type": "markdown",
   "id": "3f538806",
   "metadata": {},
   "source": [
    "We note from our target column: 'wnvpresent' that there is massive class imbalance. We can resolve this by using SMOTE and embed it within a pipeline."
   ]
  },
  {
   "cell_type": "code",
   "execution_count": 12,
   "id": "34c9c39b",
   "metadata": {},
   "outputs": [],
   "source": [
    "# sm = SMOTE()"
   ]
  },
  {
   "cell_type": "code",
   "execution_count": 13,
   "id": "d242f9ba",
   "metadata": {},
   "outputs": [],
   "source": [
    "# Xsm_train, ysm_train = sm.fit_resample(Xs_train, y_train)"
   ]
  },
  {
   "cell_type": "markdown",
   "id": "7f767804",
   "metadata": {},
   "source": [
    "## Logistic Regression"
   ]
  },
  {
   "cell_type": "code",
   "execution_count": 14,
   "id": "d287f63d",
   "metadata": {
    "scrolled": true
   },
   "outputs": [],
   "source": [
    "# instantiate pipeline\n",
    "pipe_logreg = Pipeline([('sampling', SMOTE()),\n",
    "                ('logreg', LogisticRegression(solver='liblinear', random_state=100))\n",
    "                ])"
   ]
  },
  {
   "cell_type": "code",
   "execution_count": 15,
   "id": "b16ab881",
   "metadata": {},
   "outputs": [],
   "source": [
    "# set params to gridsearch\n",
    "# sampling params set to comment because it was taking too long to fit\n",
    "pipe_logreg_params = {\n",
    "    'logreg__penalty': ['l1','l2'],\n",
    "    'logreg__C': [0.5, 1, 1.5, 2],\n",
    "#    'sampling__sampling_strategy': ['minority', 'auto'],\n",
    "#    'sampling__k_neighbors': [3, 5],\n",
    "}"
   ]
  },
  {
   "cell_type": "code",
   "execution_count": 16,
   "id": "b53b2c5a",
   "metadata": {},
   "outputs": [],
   "source": [
    "gs_logreg = GridSearchCV(pipe_logreg, pipe_logreg_params, verbose=2, n_jobs=-1)"
   ]
  },
  {
   "cell_type": "code",
   "execution_count": 17,
   "id": "3301f59e",
   "metadata": {},
   "outputs": [
    {
     "name": "stdout",
     "output_type": "stream",
     "text": [
      "Fitting 5 folds for each of 8 candidates, totalling 40 fits\n",
      "Wall time: 9.51 s\n"
     ]
    },
    {
     "data": {
      "text/plain": [
       "GridSearchCV(estimator=Pipeline(steps=[('sampling', SMOTE()),\n",
       "                                       ('logreg',\n",
       "                                        LogisticRegression(random_state=100,\n",
       "                                                           solver='liblinear'))]),\n",
       "             n_jobs=-1,\n",
       "             param_grid={'logreg__C': [0.5, 1, 1.5, 2],\n",
       "                         'logreg__penalty': ['l1', 'l2']},\n",
       "             verbose=2)"
      ]
     },
     "execution_count": 17,
     "metadata": {},
     "output_type": "execute_result"
    }
   ],
   "source": [
    "%%time\n",
    "gs_logreg.fit(Xs_train, y_train)"
   ]
  },
  {
   "cell_type": "code",
   "execution_count": 18,
   "id": "54f00ef4",
   "metadata": {},
   "outputs": [
    {
     "data": {
      "text/plain": [
       "{'logreg__C': 0.5, 'logreg__penalty': 'l2'}"
      ]
     },
     "execution_count": 18,
     "metadata": {},
     "output_type": "execute_result"
    }
   ],
   "source": [
    "gs_logreg.best_params_"
   ]
  },
  {
   "cell_type": "code",
   "execution_count": 19,
   "id": "1fb15d6f",
   "metadata": {},
   "outputs": [
    {
     "data": {
      "image/png": "[encoded data removed]",
      "text/plain": [
       "<Figure size 936x360 with 3 Axes>"
      ]
     },
     "metadata": {
      "needs_background": "light"
     },
     "output_type": "display_data"
    }
   ],
   "source": [
    "mod_metrics = metrics_and_plot_cm(gs_logreg, Xs_val, y_val)"
   ]
  },
  {
   "cell_type": "code",
   "execution_count": 20,
   "id": "ca843279",
   "metadata": {},
   "outputs": [],
   "source": [
    "results_df = append_results(results_df,\n",
    "                           gs_logreg.score(Xs_train, y_train),\n",
    "                           mod_metrics,\n",
    "                           'Logistic Regression',\n",
    "                           )"
   ]
  },
  {
   "cell_type": "code",
   "execution_count": 21,
   "id": "b698af11",
   "metadata": {
    "scrolled": true
   },
   "outputs": [
    {
     "data": {
      "text/html": [
       "<div>\n",
       "<style scoped>\n",
       "    .dataframe tbody tr th:only-of-type {\n",
       "        vertical-align: middle;\n",
       "    }\n",
       "\n",
       "    .dataframe tbody tr th {\n",
       "        vertical-align: top;\n",
       "    }\n",
       "\n",
       "    .dataframe thead th {\n",
       "        text-align: right;\n",
       "    }\n",
       "</style>\n",
       "<table border=\"1\" class=\"dataframe\">\n",
       "  <thead>\n",
       "    <tr style=\"text-align: right;\">\n",
       "      <th></th>\n",
       "      <th>model</th>\n",
       "      <th>train_accuracy</th>\n",
       "      <th>test_accuracy</th>\n",
       "      <th>misclassification</th>\n",
       "      <th>sensitivity</th>\n",
       "      <th>specificity</th>\n",
       "      <th>precision</th>\n",
       "      <th>f1_score</th>\n",
       "      <th>roc_auc</th>\n",
       "    </tr>\n",
       "  </thead>\n",
       "  <tbody>\n",
       "    <tr>\n",
       "      <th>0</th>\n",
       "      <td>Logistic Regression</td>\n",
       "      <td>0.757707</td>\n",
       "      <td>0.763487</td>\n",
       "      <td>0.236513</td>\n",
       "      <td>0.798246</td>\n",
       "      <td>0.761468</td>\n",
       "      <td>0.162791</td>\n",
       "      <td>0.270431</td>\n",
       "      <td>0.850991</td>\n",
       "    </tr>\n",
       "  </tbody>\n",
       "</table>\n",
       "</div>"
      ],
      "text/plain": [
       "                 model  train_accuracy  test_accuracy  misclassification  \\\n",
       "0  Logistic Regression        0.757707       0.763487           0.236513   \n",
       "\n",
       "   sensitivity  specificity  precision  f1_score   roc_auc  \n",
       "0     0.798246     0.761468   0.162791  0.270431  0.850991  "
      ]
     },
     "execution_count": 21,
     "metadata": {},
     "output_type": "execute_result"
    }
   ],
   "source": [
    "results_df"
   ]
  },
  {
   "cell_type": "markdown",
   "id": "80581121",
   "metadata": {},
   "source": [
    "## SVM"
   ]
  },
  {
   "cell_type": "code",
   "execution_count": 22,
   "id": "a46e9814",
   "metadata": {},
   "outputs": [],
   "source": [
    "# instantiate pipeline\n",
    "pipe_svc = Pipeline([('sampling', SMOTE()),\n",
    "                 ('svc', SVC(probability=True, random_state=100)) # probability=True is needed to calculate predict_proba but fitting grid model would take very long\n",
    "                ])"
   ]
  },
  {
   "cell_type": "code",
   "execution_count": 23,
   "id": "13077afa",
   "metadata": {},
   "outputs": [],
   "source": [
    "pipe_svc_params = {\n",
    "    'svc__C': [5, 7, 9],\n",
    "    'svc__kernel': ['rbf'],  #'poly'\n",
    "    #'sampling__sampling_strategy': ['minority', 'not minority', 'auto'],\n",
    "    #'sampling__k_neighbors': [3, 5],      \n",
    "}"
   ]
  },
  {
   "cell_type": "code",
   "execution_count": 24,
   "id": "b1c12311",
   "metadata": {},
   "outputs": [],
   "source": [
    "gs_svc = GridSearchCV(pipe_svc, pipe_svc_params, verbose=2, n_jobs=-1)"
   ]
  },
  {
   "cell_type": "code",
   "execution_count": 25,
   "id": "a222d9d7",
   "metadata": {},
   "outputs": [
    {
     "name": "stdout",
     "output_type": "stream",
     "text": [
      "Fitting 5 folds for each of 3 candidates, totalling 15 fits\n",
      "Wall time: 36.2 s\n"
     ]
    },
    {
     "data": {
      "text/plain": [
       "GridSearchCV(estimator=Pipeline(steps=[('sampling', SMOTE()),\n",
       "                                       ('svc',\n",
       "                                        SVC(probability=True,\n",
       "                                            random_state=100))]),\n",
       "             n_jobs=-1,\n",
       "             param_grid={'svc__C': [5, 7, 9], 'svc__kernel': ['rbf']},\n",
       "             verbose=2)"
      ]
     },
     "execution_count": 25,
     "metadata": {},
     "output_type": "execute_result"
    }
   ],
   "source": [
    "%%time\n",
    "gs_svc.fit(Xs_train, y_train)\n",
    "\n",
    "# wall time is cut by half we dont put SVC(probability=True) in the pipeline"
   ]
  },
  {
   "cell_type": "code",
   "execution_count": 26,
   "id": "16105190",
   "metadata": {},
   "outputs": [
    {
     "data": {
      "text/plain": [
       "{'svc__C': 9, 'svc__kernel': 'rbf'}"
      ]
     },
     "execution_count": 26,
     "metadata": {},
     "output_type": "execute_result"
    }
   ],
   "source": [
    "gs_svc.best_params_"
   ]
  },
  {
   "cell_type": "code",
   "execution_count": 27,
   "id": "3c650df1",
   "metadata": {},
   "outputs": [
    {
     "data": {
      "image/png": "[encoded data removed]",
      "text/plain": [
       "<Figure size 936x360 with 3 Axes>"
      ]
     },
     "metadata": {
      "needs_background": "light"
     },
     "output_type": "display_data"
    }
   ],
   "source": [
    "mod_metrics = metrics_and_plot_cm(gs_svc, Xs_val, y_val)"
   ]
  },
  {
   "cell_type": "code",
   "execution_count": 28,
   "id": "4c3544ce",
   "metadata": {},
   "outputs": [],
   "source": [
    "results_df = append_results(results_df,\n",
    "                           gs_svc.score(Xs_train, y_train),\n",
    "                           mod_metrics,\n",
    "                           'SVM',\n",
    "                           )"
   ]
  },
  {
   "cell_type": "code",
   "execution_count": 29,
   "id": "5e8c1376",
   "metadata": {},
   "outputs": [
    {
     "data": {
      "text/html": [
       "<div>\n",
       "<style scoped>\n",
       "    .dataframe tbody tr th:only-of-type {\n",
       "        vertical-align: middle;\n",
       "    }\n",
       "\n",
       "    .dataframe tbody tr th {\n",
       "        vertical-align: top;\n",
       "    }\n",
       "\n",
       "    .dataframe thead th {\n",
       "        text-align: right;\n",
       "    }\n",
       "</style>\n",
       "<table border=\"1\" class=\"dataframe\">\n",
       "  <thead>\n",
       "    <tr style=\"text-align: right;\">\n",
       "      <th></th>\n",
       "      <th>model</th>\n",
       "      <th>train_accuracy</th>\n",
       "      <th>test_accuracy</th>\n",
       "      <th>misclassification</th>\n",
       "      <th>sensitivity</th>\n",
       "      <th>specificity</th>\n",
       "      <th>precision</th>\n",
       "      <th>f1_score</th>\n",
       "      <th>roc_auc</th>\n",
       "    </tr>\n",
       "  </thead>\n",
       "  <tbody>\n",
       "    <tr>\n",
       "      <th>0</th>\n",
       "      <td>Logistic Regression</td>\n",
       "      <td>0.757707</td>\n",
       "      <td>0.763487</td>\n",
       "      <td>0.236513</td>\n",
       "      <td>0.798246</td>\n",
       "      <td>0.761468</td>\n",
       "      <td>0.162791</td>\n",
       "      <td>0.270431</td>\n",
       "      <td>0.850991</td>\n",
       "    </tr>\n",
       "    <tr>\n",
       "      <th>1</th>\n",
       "      <td>SVM</td>\n",
       "      <td>0.894027</td>\n",
       "      <td>0.850193</td>\n",
       "      <td>0.149807</td>\n",
       "      <td>0.517544</td>\n",
       "      <td>0.869521</td>\n",
       "      <td>0.187302</td>\n",
       "      <td>0.275058</td>\n",
       "      <td>0.820864</td>\n",
       "    </tr>\n",
       "  </tbody>\n",
       "</table>\n",
       "</div>"
      ],
      "text/plain": [
       "                 model  train_accuracy  test_accuracy  misclassification  \\\n",
       "0  Logistic Regression        0.757707       0.763487           0.236513   \n",
       "1                  SVM        0.894027       0.850193           0.149807   \n",
       "\n",
       "   sensitivity  specificity  precision  f1_score   roc_auc  \n",
       "0     0.798246     0.761468   0.162791  0.270431  0.850991  \n",
       "1     0.517544     0.869521   0.187302  0.275058  0.820864  "
      ]
     },
     "execution_count": 29,
     "metadata": {},
     "output_type": "execute_result"
    }
   ],
   "source": [
    "results_df"
   ]
  },
  {
   "cell_type": "markdown",
   "id": "23f8a8a4",
   "metadata": {},
   "source": [
    "## PCA"
   ]
  },
  {
   "cell_type": "code",
   "execution_count": 30,
   "id": "9d67e6e1",
   "metadata": {},
   "outputs": [],
   "source": [
    "# instantiate pca\n",
    "pca = PCA(random_state=100)"
   ]
  },
  {
   "cell_type": "code",
   "execution_count": 31,
   "id": "16a7ff83",
   "metadata": {},
   "outputs": [
    {
     "data": {
      "text/plain": [
       "PCA(random_state=100)"
      ]
     },
     "execution_count": 31,
     "metadata": {},
     "output_type": "execute_result"
    }
   ],
   "source": [
    "pca.fit(Xs_train)"
   ]
  },
  {
   "cell_type": "code",
   "execution_count": 32,
   "id": "94135f4a",
   "metadata": {},
   "outputs": [],
   "source": [
    "Z_train, Z_val = pca.transform(Xs_train), pca.transform(Xs_val)"
   ]
  },
  {
   "cell_type": "code",
   "execution_count": 33,
   "id": "b130348c",
   "metadata": {},
   "outputs": [
    {
     "data": {
      "text/plain": [
       "array([0.263, 0.152, 0.096, 0.071, 0.054, 0.041, 0.039, 0.037, 0.036,\n",
       "       0.03 , 0.028, 0.027, 0.025, 0.02 , 0.019, 0.019, 0.013, 0.011,\n",
       "       0.008, 0.005, 0.003, 0.002, 0.001, 0.001, 0.   , 0.   , 0.   ,\n",
       "       0.   , 0.   , 0.   , 0.   , 0.   , 0.   , 0.   , 0.   , 0.   ])"
      ]
     },
     "execution_count": 33,
     "metadata": {},
     "output_type": "execute_result"
    }
   ],
   "source": [
    "pca.explained_variance_ratio_.round(3)"
   ]
  },
  {
   "cell_type": "code",
   "execution_count": 34,
   "id": "fa6b17d9",
   "metadata": {},
   "outputs": [
    {
     "data": {
      "text/plain": [
       "0.8190000000000002"
      ]
     },
     "execution_count": 34,
     "metadata": {},
     "output_type": "execute_result"
    }
   ],
   "source": [
    "pca.explained_variance_ratio_.round(3)[:10].sum()"
   ]
  },
  {
   "cell_type": "markdown",
   "id": "a49a7ee8",
   "metadata": {},
   "source": [
    "We see that the first 10 components explain 77% of the variance."
   ]
  },
  {
   "cell_type": "code",
   "execution_count": 35,
   "id": "648959c1",
   "metadata": {},
   "outputs": [
    {
     "data": {
      "text/plain": [
       "1.001"
      ]
     },
     "execution_count": 35,
     "metadata": {},
     "output_type": "execute_result"
    }
   ],
   "source": [
    "pca.explained_variance_ratio_.round(3)[:25].sum()"
   ]
  },
  {
   "cell_type": "markdown",
   "id": "bff69c67",
   "metadata": {},
   "source": [
    "The first 25 component explain 100% of the variance."
   ]
  },
  {
   "cell_type": "markdown",
   "id": "584d43cc",
   "metadata": {},
   "source": [
    "### Logistic Regression with PCA"
   ]
  },
  {
   "cell_type": "code",
   "execution_count": 36,
   "id": "18333750",
   "metadata": {},
   "outputs": [],
   "source": [
    "# embed pca in a pipeline\n",
    "pipe_pca_logreg = Pipeline([('sampling', SMOTE()),\n",
    "                 ('pca', PCA()),\n",
    "                 ('logreg', LogisticRegression(solver='liblinear', random_state=100))\n",
    "                ])"
   ]
  },
  {
   "cell_type": "code",
   "execution_count": 37,
   "id": "4eabca1f",
   "metadata": {},
   "outputs": [],
   "source": [
    "pipe_pca_logreg_params = {\n",
    "    'logreg__penalty': ['l1','l2'],\n",
    "    'logreg__C': [1, 1.5, 2],\n",
    "    'pca__n_components': [20, 30, 40]\n",
    "    #'sampling__sampling_strategy': ['minority', 'not minority', 'auto'],\n",
    "    #'sampling__k_neighbors': [3, 5],\n",
    "}"
   ]
  },
  {
   "cell_type": "code",
   "execution_count": 38,
   "id": "aaef888f",
   "metadata": {},
   "outputs": [],
   "source": [
    "gs_pca_logreg = GridSearchCV(pipe_pca_logreg, pipe_pca_logreg_params, verbose=2, n_jobs=-1)"
   ]
  },
  {
   "cell_type": "code",
   "execution_count": 39,
   "id": "1773ebfd",
   "metadata": {
    "scrolled": true
   },
   "outputs": [
    {
     "name": "stdout",
     "output_type": "stream",
     "text": [
      "Fitting 5 folds for each of 18 candidates, totalling 90 fits\n"
     ]
    },
    {
     "name": "stderr",
     "output_type": "stream",
     "text": [
      "C:\\Users\\Seraphim\\anaconda3\\envs\\dsi\\lib\\site-packages\\sklearn\\model_selection\\_search.py:918: UserWarning: One or more of the test scores are non-finite: [0.74871583 0.74919621        nan 0.74807351 0.75080263        nan\n",
      " 0.7528897  0.75032096        nan 0.75288983 0.75433535        nan\n",
      " 0.75016045 0.75160533        nan 0.75353265 0.75256699        nan]\n",
      "  warnings.warn(\n"
     ]
    },
    {
     "name": "stdout",
     "output_type": "stream",
     "text": [
      "Wall time: 4.69 s\n"
     ]
    },
    {
     "data": {
      "text/plain": [
       "GridSearchCV(estimator=Pipeline(steps=[('sampling', SMOTE()), ('pca', PCA()),\n",
       "                                       ('logreg',\n",
       "                                        LogisticRegression(random_state=100,\n",
       "                                                           solver='liblinear'))]),\n",
       "             n_jobs=-1,\n",
       "             param_grid={'logreg__C': [1, 1.5, 2],\n",
       "                         'logreg__penalty': ['l1', 'l2'],\n",
       "                         'pca__n_components': [20, 30, 40]},\n",
       "             verbose=2)"
      ]
     },
     "execution_count": 39,
     "metadata": {},
     "output_type": "execute_result"
    }
   ],
   "source": [
    "%%time\n",
    "gs_pca_logreg.fit(Xs_train, y_train)"
   ]
  },
  {
   "cell_type": "code",
   "execution_count": 40,
   "id": "caedc044",
   "metadata": {},
   "outputs": [
    {
     "data": {
      "text/plain": [
       "{'logreg__C': 1.5, 'logreg__penalty': 'l2', 'pca__n_components': 30}"
      ]
     },
     "execution_count": 40,
     "metadata": {},
     "output_type": "execute_result"
    }
   ],
   "source": [
    "gs_pca_logreg.best_params_"
   ]
  },
  {
   "cell_type": "code",
   "execution_count": 41,
   "id": "02891141",
   "metadata": {},
   "outputs": [
    {
     "data": {
      "image/png": "[encoded data removed]",
      "text/plain": [
       "<Figure size 936x360 with 3 Axes>"
      ]
     },
     "metadata": {
      "needs_background": "light"
     },
     "output_type": "display_data"
    }
   ],
   "source": [
    "mod_metrics = metrics_and_plot_cm(gs_pca_logreg, Xs_val, y_val)"
   ]
  },
  {
   "cell_type": "code",
   "execution_count": 42,
   "id": "4bed1347",
   "metadata": {},
   "outputs": [],
   "source": [
    "results_df = append_results(results_df,\n",
    "                           gs_pca_logreg.score(Xs_train, y_train),\n",
    "                           mod_metrics,\n",
    "                           'PCA Logistic Regression',\n",
    "                           )"
   ]
  },
  {
   "cell_type": "code",
   "execution_count": 43,
   "id": "d26a5742",
   "metadata": {},
   "outputs": [
    {
     "data": {
      "text/html": [
       "<div>\n",
       "<style scoped>\n",
       "    .dataframe tbody tr th:only-of-type {\n",
       "        vertical-align: middle;\n",
       "    }\n",
       "\n",
       "    .dataframe tbody tr th {\n",
       "        vertical-align: top;\n",
       "    }\n",
       "\n",
       "    .dataframe thead th {\n",
       "        text-align: right;\n",
       "    }\n",
       "</style>\n",
       "<table border=\"1\" class=\"dataframe\">\n",
       "  <thead>\n",
       "    <tr style=\"text-align: right;\">\n",
       "      <th></th>\n",
       "      <th>model</th>\n",
       "      <th>train_accuracy</th>\n",
       "      <th>test_accuracy</th>\n",
       "      <th>misclassification</th>\n",
       "      <th>sensitivity</th>\n",
       "      <th>specificity</th>\n",
       "      <th>precision</th>\n",
       "      <th>f1_score</th>\n",
       "      <th>roc_auc</th>\n",
       "    </tr>\n",
       "  </thead>\n",
       "  <tbody>\n",
       "    <tr>\n",
       "      <th>0</th>\n",
       "      <td>Logistic Regression</td>\n",
       "      <td>0.757707</td>\n",
       "      <td>0.763487</td>\n",
       "      <td>0.236513</td>\n",
       "      <td>0.798246</td>\n",
       "      <td>0.761468</td>\n",
       "      <td>0.162791</td>\n",
       "      <td>0.270431</td>\n",
       "      <td>0.850991</td>\n",
       "    </tr>\n",
       "    <tr>\n",
       "      <th>1</th>\n",
       "      <td>SVM</td>\n",
       "      <td>0.894027</td>\n",
       "      <td>0.850193</td>\n",
       "      <td>0.149807</td>\n",
       "      <td>0.517544</td>\n",
       "      <td>0.869521</td>\n",
       "      <td>0.187302</td>\n",
       "      <td>0.275058</td>\n",
       "      <td>0.820864</td>\n",
       "    </tr>\n",
       "    <tr>\n",
       "      <th>2</th>\n",
       "      <td>PCA Logistic Regression</td>\n",
       "      <td>0.757225</td>\n",
       "      <td>0.758671</td>\n",
       "      <td>0.241329</td>\n",
       "      <td>0.780702</td>\n",
       "      <td>0.757390</td>\n",
       "      <td>0.157522</td>\n",
       "      <td>0.262150</td>\n",
       "      <td>0.851505</td>\n",
       "    </tr>\n",
       "  </tbody>\n",
       "</table>\n",
       "</div>"
      ],
      "text/plain": [
       "                     model  train_accuracy  test_accuracy  misclassification  \\\n",
       "0      Logistic Regression        0.757707       0.763487           0.236513   \n",
       "1                      SVM        0.894027       0.850193           0.149807   \n",
       "2  PCA Logistic Regression        0.757225       0.758671           0.241329   \n",
       "\n",
       "   sensitivity  specificity  precision  f1_score   roc_auc  \n",
       "0     0.798246     0.761468   0.162791  0.270431  0.850991  \n",
       "1     0.517544     0.869521   0.187302  0.275058  0.820864  \n",
       "2     0.780702     0.757390   0.157522  0.262150  0.851505  "
      ]
     },
     "execution_count": 43,
     "metadata": {},
     "output_type": "execute_result"
    }
   ],
   "source": [
    "results_df"
   ]
  },
  {
   "cell_type": "markdown",
   "id": "725ac5c9",
   "metadata": {},
   "source": [
    "### SVM with PCA"
   ]
  },
  {
   "cell_type": "code",
   "execution_count": 44,
   "id": "bfba59b8",
   "metadata": {},
   "outputs": [],
   "source": [
    "pipe_pca_svc = Pipeline([('sampling', SMOTE()),\n",
    "                 ('pca', PCA()),\n",
    "                 ('svc', SVC(probability=True, random_state=100))\n",
    "])"
   ]
  },
  {
   "cell_type": "code",
   "execution_count": 45,
   "id": "834adb80",
   "metadata": {},
   "outputs": [],
   "source": [
    "pipe_pca_svc_params = {\n",
    "    'svc__C': [5, 7, 9],\n",
    "    'svc__kernel': ['rbf'],  # 'poly'\n",
    "    'pca__n_components': [20, 30, 40]\n",
    "    #'sampling__sampling_strategy': ['minority', 'not minority', 'auto'],\n",
    "    #'sampling__k_neighbors': [3, 5],      \n",
    "}"
   ]
  },
  {
   "cell_type": "code",
   "execution_count": 46,
   "id": "5753a1a7",
   "metadata": {},
   "outputs": [],
   "source": [
    "gs_pca_svc = GridSearchCV(pipe_pca_svc, pipe_pca_svc_params, verbose=2, n_jobs=-1)"
   ]
  },
  {
   "cell_type": "code",
   "execution_count": 47,
   "id": "f8501cbf",
   "metadata": {},
   "outputs": [
    {
     "name": "stdout",
     "output_type": "stream",
     "text": [
      "Fitting 5 folds for each of 9 candidates, totalling 45 fits\n"
     ]
    },
    {
     "name": "stderr",
     "output_type": "stream",
     "text": [
      "C:\\Users\\Seraphim\\anaconda3\\envs\\dsi\\lib\\site-packages\\sklearn\\model_selection\\_search.py:918: UserWarning: One or more of the test scores are non-finite: [0.86367944 0.86255571 0.8665701  0.86480342 0.86689139 0.86640959\n",
      "        nan        nan        nan]\n",
      "  warnings.warn(\n"
     ]
    },
    {
     "name": "stdout",
     "output_type": "stream",
     "text": [
      "Wall time: 45.5 s\n"
     ]
    },
    {
     "data": {
      "text/plain": [
       "GridSearchCV(estimator=Pipeline(steps=[('sampling', SMOTE()), ('pca', PCA()),\n",
       "                                       ('svc',\n",
       "                                        SVC(probability=True,\n",
       "                                            random_state=100))]),\n",
       "             n_jobs=-1,\n",
       "             param_grid={'pca__n_components': [20, 30, 40], 'svc__C': [5, 7, 9],\n",
       "                         'svc__kernel': ['rbf']},\n",
       "             verbose=2)"
      ]
     },
     "execution_count": 47,
     "metadata": {},
     "output_type": "execute_result"
    }
   ],
   "source": [
    "%%time\n",
    "gs_pca_svc.fit(Xs_train, y_train)\n",
    "\n",
    "## lol example of time taken (14 mins) if we put SVC(probability=True) in the pipeline"
   ]
  },
  {
   "cell_type": "code",
   "execution_count": 48,
   "id": "5fb29c4c",
   "metadata": {},
   "outputs": [
    {
     "data": {
      "text/plain": [
       "{'pca__n_components': 30, 'svc__C': 7, 'svc__kernel': 'rbf'}"
      ]
     },
     "execution_count": 48,
     "metadata": {},
     "output_type": "execute_result"
    }
   ],
   "source": [
    "gs_pca_svc.best_params_"
   ]
  },
  {
   "cell_type": "code",
   "execution_count": 49,
   "id": "31a2badf",
   "metadata": {},
   "outputs": [
    {
     "data": {
      "image/png": "[encoded data removed]",
      "text/plain": [
       "<Figure size 936x360 with 3 Axes>"
      ]
     },
     "metadata": {
      "needs_background": "light"
     },
     "output_type": "display_data"
    }
   ],
   "source": [
    "mod_metrics = metrics_and_plot_cm(gs_pca_logreg, Xs_val, y_val)"
   ]
  },
  {
   "cell_type": "code",
   "execution_count": 50,
   "id": "812bdf04",
   "metadata": {},
   "outputs": [],
   "source": [
    "results_df = append_results(results_df,\n",
    "                           gs_pca_svc.score(Xs_train, y_train),\n",
    "                           mod_metrics,\n",
    "                           'PCA SVM',\n",
    "                           )"
   ]
  },
  {
   "cell_type": "code",
   "execution_count": 51,
   "id": "ab49aa99",
   "metadata": {},
   "outputs": [
    {
     "data": {
      "text/html": [
       "<div>\n",
       "<style scoped>\n",
       "    .dataframe tbody tr th:only-of-type {\n",
       "        vertical-align: middle;\n",
       "    }\n",
       "\n",
       "    .dataframe tbody tr th {\n",
       "        vertical-align: top;\n",
       "    }\n",
       "\n",
       "    .dataframe thead th {\n",
       "        text-align: right;\n",
       "    }\n",
       "</style>\n",
       "<table border=\"1\" class=\"dataframe\">\n",
       "  <thead>\n",
       "    <tr style=\"text-align: right;\">\n",
       "      <th></th>\n",
       "      <th>model</th>\n",
       "      <th>train_accuracy</th>\n",
       "      <th>test_accuracy</th>\n",
       "      <th>misclassification</th>\n",
       "      <th>sensitivity</th>\n",
       "      <th>specificity</th>\n",
       "      <th>precision</th>\n",
       "      <th>f1_score</th>\n",
       "      <th>roc_auc</th>\n",
       "    </tr>\n",
       "  </thead>\n",
       "  <tbody>\n",
       "    <tr>\n",
       "      <th>0</th>\n",
       "      <td>Logistic Regression</td>\n",
       "      <td>0.757707</td>\n",
       "      <td>0.763487</td>\n",
       "      <td>0.236513</td>\n",
       "      <td>0.798246</td>\n",
       "      <td>0.761468</td>\n",
       "      <td>0.162791</td>\n",
       "      <td>0.270431</td>\n",
       "      <td>0.850991</td>\n",
       "    </tr>\n",
       "    <tr>\n",
       "      <th>1</th>\n",
       "      <td>SVM</td>\n",
       "      <td>0.894027</td>\n",
       "      <td>0.850193</td>\n",
       "      <td>0.149807</td>\n",
       "      <td>0.517544</td>\n",
       "      <td>0.869521</td>\n",
       "      <td>0.187302</td>\n",
       "      <td>0.275058</td>\n",
       "      <td>0.820864</td>\n",
       "    </tr>\n",
       "    <tr>\n",
       "      <th>2</th>\n",
       "      <td>PCA Logistic Regression</td>\n",
       "      <td>0.757225</td>\n",
       "      <td>0.758671</td>\n",
       "      <td>0.241329</td>\n",
       "      <td>0.780702</td>\n",
       "      <td>0.757390</td>\n",
       "      <td>0.157522</td>\n",
       "      <td>0.262150</td>\n",
       "      <td>0.851505</td>\n",
       "    </tr>\n",
       "    <tr>\n",
       "      <th>3</th>\n",
       "      <td>PCA SVM</td>\n",
       "      <td>0.890334</td>\n",
       "      <td>0.758671</td>\n",
       "      <td>0.241329</td>\n",
       "      <td>0.780702</td>\n",
       "      <td>0.757390</td>\n",
       "      <td>0.157522</td>\n",
       "      <td>0.262150</td>\n",
       "      <td>0.851505</td>\n",
       "    </tr>\n",
       "  </tbody>\n",
       "</table>\n",
       "</div>"
      ],
      "text/plain": [
       "                     model  train_accuracy  test_accuracy  misclassification  \\\n",
       "0      Logistic Regression        0.757707       0.763487           0.236513   \n",
       "1                      SVM        0.894027       0.850193           0.149807   \n",
       "2  PCA Logistic Regression        0.757225       0.758671           0.241329   \n",
       "3                  PCA SVM        0.890334       0.758671           0.241329   \n",
       "\n",
       "   sensitivity  specificity  precision  f1_score   roc_auc  \n",
       "0     0.798246     0.761468   0.162791  0.270431  0.850991  \n",
       "1     0.517544     0.869521   0.187302  0.275058  0.820864  \n",
       "2     0.780702     0.757390   0.157522  0.262150  0.851505  \n",
       "3     0.780702     0.757390   0.157522  0.262150  0.851505  "
      ]
     },
     "execution_count": 51,
     "metadata": {},
     "output_type": "execute_result"
    }
   ],
   "source": [
    "results_df"
   ]
  },
  {
   "cell_type": "markdown",
   "id": "5d413a9c",
   "metadata": {},
   "source": [
    "# Feature Importance"
   ]
  },
  {
   "cell_type": "code",
   "execution_count": 52,
   "id": "c4583d34",
   "metadata": {},
   "outputs": [],
   "source": [
    "# note: svm on rbf has no feature importance, only svm on linear has it\n",
    "# https://stackoverflow.com/questions/41592661/determining-the-most-contributing-features-for-svm-classifier-in-sklearn"
   ]
  },
  {
   "cell_type": "markdown",
   "id": "06efda2b",
   "metadata": {},
   "source": [
    "Feature Importance based on Logistic Regression"
   ]
  },
  {
   "cell_type": "code",
   "execution_count": 54,
   "id": "260ab80e",
   "metadata": {},
   "outputs": [
    {
     "data": {
      "text/plain": [
       "array([[ 0.12162624,  0.26264071,  1.00789567,  0.98715287,  0.45232111,\n",
       "         0.39025884,  1.36567128, -3.17856511, -0.1372427 ,  0.26074977,\n",
       "         0.88891773,  1.18121074, -0.344721  ,  1.32968176, -1.1780276 ,\n",
       "         0.16649713,  0.25208623, -0.18912332,  0.        ,  0.35384057,\n",
       "        -0.17791985,  0.17585444,  0.        ,  0.        , -0.11365429,\n",
       "         0.        , -0.12328691,  0.        ,  0.        ,  0.30744881,\n",
       "         0.        , -0.19268168, -2.10314398,  1.36567128, -0.26810177,\n",
       "         0.08103826]])"
      ]
     },
     "execution_count": 54,
     "metadata": {},
     "output_type": "execute_result"
    }
   ],
   "source": [
    "gs_logreg.best_estimator_[1].coef_"
   ]
  },
  {
   "cell_type": "code",
   "execution_count": null,
   "id": "0b289e07",
   "metadata": {
    "scrolled": true
   },
   "outputs": [],
   "source": [
    "logreg_features = pd.DataFrame({'feature_names': X_train.columns,\n",
    "                                'feature_importance': logreg_grid.best_estimator_[1].coef_[0]})\n",
    "\n",
    "# top 20 features\n",
    "logreg_features.sort_values(by='feature_importance', ascending=False).head(20)"
   ]
  },
  {
   "cell_type": "code",
   "execution_count": null,
   "id": "bcd63dfa",
   "metadata": {},
   "outputs": [],
   "source": []
  },
  {
   "cell_type": "code",
   "execution_count": null,
   "id": "612d5504",
   "metadata": {},
   "outputs": [],
   "source": []
  },
  {
   "cell_type": "markdown",
   "id": "a09ab6bd",
   "metadata": {},
   "source": [
    "# Cost Benefit Analysis"
   ]
  },
  {
   "cell_type": "code",
   "execution_count": null,
   "id": "7bf4f468",
   "metadata": {},
   "outputs": [],
   "source": []
  },
  {
   "cell_type": "code",
   "execution_count": null,
   "id": "87618bd4",
   "metadata": {},
   "outputs": [],
   "source": []
  },
  {
   "cell_type": "code",
   "execution_count": null,
   "id": "72cb1cf6",
   "metadata": {},
   "outputs": [],
   "source": []
  },
  {
   "cell_type": "code",
   "execution_count": null,
   "id": "faf332a4",
   "metadata": {},
   "outputs": [],
   "source": []
  },
  {
   "cell_type": "code",
   "execution_count": null,
   "id": "3f8c381d",
   "metadata": {},
   "outputs": [],
   "source": []
  },
  {
   "cell_type": "markdown",
   "id": "2f0a53b3",
   "metadata": {},
   "source": [
    "# Conclusion"
   ]
  },
  {
   "cell_type": "code",
   "execution_count": null,
   "id": "f50a0c17",
   "metadata": {},
   "outputs": [],
   "source": []
  },
  {
   "cell_type": "code",
   "execution_count": null,
   "id": "70dc7b93",
   "metadata": {},
   "outputs": [],
   "source": []
  },
  {
   "cell_type": "code",
   "execution_count": null,
   "id": "e96690ad",
   "metadata": {},
   "outputs": [],
   "source": []
  },
  {
   "cell_type": "code",
   "execution_count": null,
   "id": "266e2542",
   "metadata": {},
   "outputs": [],
   "source": []
  },
  {
   "cell_type": "code",
   "execution_count": null,
   "id": "32b063f6",
   "metadata": {},
   "outputs": [],
   "source": []
  },
  {
   "cell_type": "code",
   "execution_count": null,
   "id": "05b31a71",
   "metadata": {},
   "outputs": [],
   "source": [
    "def model_perform(classifier, X, y):\n",
    "    \n",
    "    print(f'Best Score: {classifier.best_score_}')\n",
    "    print('Best Parameters: ')\n",
    "    print(classifier.best_params_)\n",
    "    \n",
    "    d_scores = {'classifier': classifier}\n",
    "    \n",
    "    y_pred = classifier.predict(X)\n",
    "    y_pred_proba = classifier.predict_proba(X)[:, 1]\n",
    "    \n",
    "    \n",
    "    d_scores['accuracy'] = accuracy_score(y, y_pred)\n",
    "    d_scores['recall'] = recall_score(y, y_pred)\n",
    "    d_scores['precision'] = precision_score(y, y_pred)\n",
    "    d_scores['f1_score'] = f1_score(y, y_pred)\n",
    "    d_scores['val_roc_auc_score'] = roc_auc_score(y, y_pred_proba)\n",
    "    \n",
    "    return d_scores"
   ]
  },
  {
   "cell_type": "code",
   "execution_count": null,
   "id": "ab239f00",
   "metadata": {},
   "outputs": [],
   "source": []
  }
 ],
 "metadata": {
  "kernelspec": {
   "display_name": "Python 3",
   "language": "python",
   "name": "python3"
  },
  "language_info": {
   "codemirror_mode": {
    "name": "ipython",
    "version": 3
   },
   "file_extension": ".py",
   "mimetype": "text/x-python",
   "name": "python",
   "nbconvert_exporter": "python",
   "pygments_lexer": "ipython3",
   "version": "3.8.8"
  },
  "toc": {
   "base_numbering": 1,
   "nav_menu": {},
   "number_sections": true,
   "sideBar": true,
   "skip_h1_title": false,
   "title_cell": "Table of Contents",
   "title_sidebar": "Contents",
   "toc_cell": false,
   "toc_position": {
    "height": "calc(100% - 180px)",
    "left": "10px",
    "top": "150px",
    "width": "384px"
   },
   "toc_section_display": true,
   "toc_window_display": true
  }
 },
 "nbformat": 4,
 "nbformat_minor": 5
}
