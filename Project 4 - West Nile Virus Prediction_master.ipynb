{
 "cells": [
  {
   "cell_type": "markdown",
   "id": "bc07daeb",
   "metadata": {},
   "source": [
    "# Problem Statement"
   ]
  },
  {
   "cell_type": "markdown",
   "id": "7f5a2e16",
   "metadata": {},
   "source": [
    "Welcome to your first week of work at the Disease And Treatment Agency, division of Societal Cures In Epidemiology and New Creative Engineering (DATA-SCIENCE). Time to get to work!\n",
    "\n",
    "Due to the recent epidemic of West Nile Virus in the Windy City, we've had the Department of Public Health set up a surveillance and control system. We're hoping it will let us learn something from the mosquito population as we collect data over time. Pesticides are a necessary evil in the fight for public health and safety, not to mention expensive! We need to derive an effective plan to deploy pesticides throughout the city, and that is exactly where you come in!"
   ]
  },
  {
   "cell_type": "markdown",
   "id": "2dbceea8",
   "metadata": {},
   "source": [
    "# Imports and Functions"
   ]
  },
  {
   "cell_type": "code",
   "execution_count": 1,
   "id": "5c7d67eb",
   "metadata": {},
   "outputs": [],
   "source": [
    "import numpy as np\n",
    "import pandas as pd\n",
    "import matplotlib.pyplot as plt\n",
    "import seaborn as sns\n",
    "\n",
    "pd.set_option('display.max_rows', 50)\n",
    "pd.set_option('display.max_columns', 50)\n",
    "\n",
    "%matplotlib inline"
   ]
  },
  {
   "cell_type": "code",
   "execution_count": 2,
   "id": "f0dd37eb",
   "metadata": {},
   "outputs": [],
   "source": [
    "train = pd.read_csv('./assets/train.csv')\n",
    "test = pd.read_csv('./assets/test.csv')\n",
    "weather = pd.read_csv('./assets/weather.csv')\n",
    "spray = pd.read_csv('./assets/spray.csv')"
   ]
  },
  {
   "cell_type": "code",
   "execution_count": 3,
   "id": "97f7dfdf",
   "metadata": {},
   "outputs": [],
   "source": [
    "def create_lag_time(phenom):\n",
    "    '''Creates a dataframe of a chosen column and time lags it 14 days vs the presence of West Nile Virus, and then\n",
    "    plots the number of cases against each day.'''\n",
    "    temp_df = pd.DataFrame()                           # temp dataframe to hold the lagged days\n",
    "    temp_df['wnvpresent'] = train_comb['wnvpresent']\n",
    "    temp_df[phenom] = train_comb[phenom]\n",
    "\n",
    "    for n in range (1,15):                             # lag variable 14 times\n",
    "        phenom_name = phenom + str(n)\n",
    "        temp_df[phenom_name] = temp_df[phenom].shift(n)\n",
    "\n",
    "    temp_df.dropna(inplace = True)                      # drop na rows from lag\n",
    "    temp_df.reset_index(drop = 'first', inplace = True)\n",
    "    \n",
    "    return temp_df"
   ]
  },
  {
   "cell_type": "code",
   "execution_count": 4,
   "id": "2677380b",
   "metadata": {},
   "outputs": [],
   "source": [
    "def plot_graphs(list_of_variables, suptitle, fig_size):\n",
    "    fig, axs = plt.subplots((len(list_of_variables)//2) + 1, 2, figsize = fig_size)\n",
    "    fig.suptitle(suptitle, fontsize = 18)\n",
    "    fig.tight_layout(pad = 0.4, w_pad = 0.5, h_pad = 3.0, rect = [0, 0, 1, 0.95]) \n",
    "    axs = axs.ravel()\n",
    "    plot_count = 0\n",
    "    for variable in list_of_variables:\n",
    "        temp_df = create_lag_time(variable)\n",
    "        axs[plot_count].bar(\n",
    "            x = temp_df.drop(columns = 'wnvpresent').columns,\n",
    "            height = temp_df[temp_df['wnvpresent'] == 1].drop(columns = 'wnvpresent').sum()\n",
    "        )\n",
    "        axs[plot_count].set_title(f'({variable}) vs Different Lag Times', \n",
    "                  fontsize = 8)\n",
    "        axs[plot_count].set_ylabel('Number of West Nile Virus Cases', fontsize = 8)\n",
    "        axs[plot_count].set_xlabel(f'{variable} Lag Times', fontsize = 8)\n",
    "        plot_count += 1;"
   ]
  },
  {
   "cell_type": "code",
   "execution_count": 5,
   "id": "0cfc56b1",
   "metadata": {},
   "outputs": [],
   "source": [
    "def clean_data(row):\n",
    "    if ('M' in row) | ('T' in row):\n",
    "        row = np.nan  # to impute\n",
    "    return row"
   ]
  },
  {
   "cell_type": "code",
   "execution_count": 6,
   "id": "03fc76aa",
   "metadata": {},
   "outputs": [],
   "source": [
    "def adjust_columns(df):\n",
    "    df.columns = df.columns.str.lower()\n",
    "    \n",
    "    df['date'] = pd.to_datetime(df['date'])\n",
    "    df['day'] = df['date'].dt.day\n",
    "    df['month'] = df['date'].dt.month\n",
    "    df['year'] = df['date'].dt.year\n",
    "    return df"
   ]
  },
  {
   "cell_type": "markdown",
   "id": "a498e1c9",
   "metadata": {},
   "source": [
    "# Data Cleaning"
   ]
  },
  {
   "cell_type": "code",
   "execution_count": 7,
   "id": "9e0ed55a",
   "metadata": {},
   "outputs": [],
   "source": [
    "train = adjust_columns(train)\n",
    "test = adjust_columns(test)\n",
    "weather = adjust_columns(weather)\n",
    "spray = adjust_columns(spray)"
   ]
  },
  {
   "cell_type": "code",
   "execution_count": 8,
   "id": "f5a41e8d",
   "metadata": {},
   "outputs": [
    {
     "name": "stdout",
     "output_type": "stream",
     "text": [
      "<class 'pandas.core.frame.DataFrame'>\n",
      "RangeIndex: 10506 entries, 0 to 10505\n",
      "Data columns (total 15 columns):\n",
      " #   Column                  Non-Null Count  Dtype         \n",
      "---  ------                  --------------  -----         \n",
      " 0   date                    10506 non-null  datetime64[ns]\n",
      " 1   address                 10506 non-null  object        \n",
      " 2   species                 10506 non-null  object        \n",
      " 3   block                   10506 non-null  int64         \n",
      " 4   street                  10506 non-null  object        \n",
      " 5   trap                    10506 non-null  object        \n",
      " 6   addressnumberandstreet  10506 non-null  object        \n",
      " 7   latitude                10506 non-null  float64       \n",
      " 8   longitude               10506 non-null  float64       \n",
      " 9   addressaccuracy         10506 non-null  int64         \n",
      " 10  nummosquitos            10506 non-null  int64         \n",
      " 11  wnvpresent              10506 non-null  int64         \n",
      " 12  day                     10506 non-null  int64         \n",
      " 13  month                   10506 non-null  int64         \n",
      " 14  year                    10506 non-null  int64         \n",
      "dtypes: datetime64[ns](1), float64(2), int64(7), object(5)\n",
      "memory usage: 1.2+ MB\n"
     ]
    }
   ],
   "source": [
    "train.info()"
   ]
  },
  {
   "cell_type": "code",
   "execution_count": 9,
   "id": "5b7924f9",
   "metadata": {},
   "outputs": [
    {
     "data": {
      "text/html": [
       "<div>\n",
       "<style scoped>\n",
       "    .dataframe tbody tr th:only-of-type {\n",
       "        vertical-align: middle;\n",
       "    }\n",
       "\n",
       "    .dataframe tbody tr th {\n",
       "        vertical-align: top;\n",
       "    }\n",
       "\n",
       "    .dataframe thead th {\n",
       "        text-align: right;\n",
       "    }\n",
       "</style>\n",
       "<table border=\"1\" class=\"dataframe\">\n",
       "  <thead>\n",
       "    <tr style=\"text-align: right;\">\n",
       "      <th></th>\n",
       "      <th>date</th>\n",
       "      <th>address</th>\n",
       "      <th>species</th>\n",
       "      <th>block</th>\n",
       "      <th>street</th>\n",
       "      <th>trap</th>\n",
       "      <th>addressnumberandstreet</th>\n",
       "      <th>latitude</th>\n",
       "      <th>longitude</th>\n",
       "      <th>addressaccuracy</th>\n",
       "      <th>nummosquitos</th>\n",
       "      <th>wnvpresent</th>\n",
       "      <th>day</th>\n",
       "      <th>month</th>\n",
       "      <th>year</th>\n",
       "    </tr>\n",
       "  </thead>\n",
       "  <tbody>\n",
       "    <tr>\n",
       "      <th>0</th>\n",
       "      <td>2007-05-29</td>\n",
       "      <td>4100 North Oak Park Avenue, Chicago, IL 60634,...</td>\n",
       "      <td>CULEX PIPIENS/RESTUANS</td>\n",
       "      <td>41</td>\n",
       "      <td>N OAK PARK AVE</td>\n",
       "      <td>T002</td>\n",
       "      <td>4100  N OAK PARK AVE, Chicago, IL</td>\n",
       "      <td>41.954690</td>\n",
       "      <td>-87.800991</td>\n",
       "      <td>9</td>\n",
       "      <td>1</td>\n",
       "      <td>0</td>\n",
       "      <td>29</td>\n",
       "      <td>5</td>\n",
       "      <td>2007</td>\n",
       "    </tr>\n",
       "    <tr>\n",
       "      <th>1</th>\n",
       "      <td>2007-05-29</td>\n",
       "      <td>4100 North Oak Park Avenue, Chicago, IL 60634,...</td>\n",
       "      <td>CULEX RESTUANS</td>\n",
       "      <td>41</td>\n",
       "      <td>N OAK PARK AVE</td>\n",
       "      <td>T002</td>\n",
       "      <td>4100  N OAK PARK AVE, Chicago, IL</td>\n",
       "      <td>41.954690</td>\n",
       "      <td>-87.800991</td>\n",
       "      <td>9</td>\n",
       "      <td>1</td>\n",
       "      <td>0</td>\n",
       "      <td>29</td>\n",
       "      <td>5</td>\n",
       "      <td>2007</td>\n",
       "    </tr>\n",
       "    <tr>\n",
       "      <th>2</th>\n",
       "      <td>2007-05-29</td>\n",
       "      <td>6200 North Mandell Avenue, Chicago, IL 60646, USA</td>\n",
       "      <td>CULEX RESTUANS</td>\n",
       "      <td>62</td>\n",
       "      <td>N MANDELL AVE</td>\n",
       "      <td>T007</td>\n",
       "      <td>6200  N MANDELL AVE, Chicago, IL</td>\n",
       "      <td>41.994991</td>\n",
       "      <td>-87.769279</td>\n",
       "      <td>9</td>\n",
       "      <td>1</td>\n",
       "      <td>0</td>\n",
       "      <td>29</td>\n",
       "      <td>5</td>\n",
       "      <td>2007</td>\n",
       "    </tr>\n",
       "    <tr>\n",
       "      <th>3</th>\n",
       "      <td>2007-05-29</td>\n",
       "      <td>7900 West Foster Avenue, Chicago, IL 60656, USA</td>\n",
       "      <td>CULEX PIPIENS/RESTUANS</td>\n",
       "      <td>79</td>\n",
       "      <td>W FOSTER AVE</td>\n",
       "      <td>T015</td>\n",
       "      <td>7900  W FOSTER AVE, Chicago, IL</td>\n",
       "      <td>41.974089</td>\n",
       "      <td>-87.824812</td>\n",
       "      <td>8</td>\n",
       "      <td>1</td>\n",
       "      <td>0</td>\n",
       "      <td>29</td>\n",
       "      <td>5</td>\n",
       "      <td>2007</td>\n",
       "    </tr>\n",
       "    <tr>\n",
       "      <th>4</th>\n",
       "      <td>2007-05-29</td>\n",
       "      <td>7900 West Foster Avenue, Chicago, IL 60656, USA</td>\n",
       "      <td>CULEX RESTUANS</td>\n",
       "      <td>79</td>\n",
       "      <td>W FOSTER AVE</td>\n",
       "      <td>T015</td>\n",
       "      <td>7900  W FOSTER AVE, Chicago, IL</td>\n",
       "      <td>41.974089</td>\n",
       "      <td>-87.824812</td>\n",
       "      <td>8</td>\n",
       "      <td>4</td>\n",
       "      <td>0</td>\n",
       "      <td>29</td>\n",
       "      <td>5</td>\n",
       "      <td>2007</td>\n",
       "    </tr>\n",
       "  </tbody>\n",
       "</table>\n",
       "</div>"
      ],
      "text/plain": [
       "        date                                            address  \\\n",
       "0 2007-05-29  4100 North Oak Park Avenue, Chicago, IL 60634,...   \n",
       "1 2007-05-29  4100 North Oak Park Avenue, Chicago, IL 60634,...   \n",
       "2 2007-05-29  6200 North Mandell Avenue, Chicago, IL 60646, USA   \n",
       "3 2007-05-29    7900 West Foster Avenue, Chicago, IL 60656, USA   \n",
       "4 2007-05-29    7900 West Foster Avenue, Chicago, IL 60656, USA   \n",
       "\n",
       "                  species  block           street  trap  \\\n",
       "0  CULEX PIPIENS/RESTUANS     41   N OAK PARK AVE  T002   \n",
       "1          CULEX RESTUANS     41   N OAK PARK AVE  T002   \n",
       "2          CULEX RESTUANS     62    N MANDELL AVE  T007   \n",
       "3  CULEX PIPIENS/RESTUANS     79     W FOSTER AVE  T015   \n",
       "4          CULEX RESTUANS     79     W FOSTER AVE  T015   \n",
       "\n",
       "              addressnumberandstreet   latitude  longitude  addressaccuracy  \\\n",
       "0  4100  N OAK PARK AVE, Chicago, IL  41.954690 -87.800991                9   \n",
       "1  4100  N OAK PARK AVE, Chicago, IL  41.954690 -87.800991                9   \n",
       "2   6200  N MANDELL AVE, Chicago, IL  41.994991 -87.769279                9   \n",
       "3    7900  W FOSTER AVE, Chicago, IL  41.974089 -87.824812                8   \n",
       "4    7900  W FOSTER AVE, Chicago, IL  41.974089 -87.824812                8   \n",
       "\n",
       "   nummosquitos  wnvpresent  day  month  year  \n",
       "0             1           0   29      5  2007  \n",
       "1             1           0   29      5  2007  \n",
       "2             1           0   29      5  2007  \n",
       "3             1           0   29      5  2007  \n",
       "4             4           0   29      5  2007  "
      ]
     },
     "execution_count": 9,
     "metadata": {},
     "output_type": "execute_result"
    }
   ],
   "source": [
    "train.head()"
   ]
  },
  {
   "cell_type": "code",
   "execution_count": 10,
   "id": "9d706840",
   "metadata": {},
   "outputs": [
    {
     "data": {
      "text/plain": [
       "date                      0\n",
       "address                   0\n",
       "species                   0\n",
       "block                     0\n",
       "street                    0\n",
       "trap                      0\n",
       "addressnumberandstreet    0\n",
       "latitude                  0\n",
       "longitude                 0\n",
       "addressaccuracy           0\n",
       "nummosquitos              0\n",
       "wnvpresent                0\n",
       "day                       0\n",
       "month                     0\n",
       "year                      0\n",
       "dtype: int64"
      ]
     },
     "execution_count": 10,
     "metadata": {},
     "output_type": "execute_result"
    }
   ],
   "source": [
    "train.isnull().sum()"
   ]
  },
  {
   "cell_type": "code",
   "execution_count": 11,
   "id": "c6c1e204",
   "metadata": {},
   "outputs": [
    {
     "data": {
      "text/plain": [
       "id                        0\n",
       "date                      0\n",
       "address                   0\n",
       "species                   0\n",
       "block                     0\n",
       "street                    0\n",
       "trap                      0\n",
       "addressnumberandstreet    0\n",
       "latitude                  0\n",
       "longitude                 0\n",
       "addressaccuracy           0\n",
       "day                       0\n",
       "month                     0\n",
       "year                      0\n",
       "dtype: int64"
      ]
     },
     "execution_count": 11,
     "metadata": {},
     "output_type": "execute_result"
    }
   ],
   "source": [
    "test.isnull().sum()"
   ]
  },
  {
   "cell_type": "code",
   "execution_count": 12,
   "id": "aa3186a7",
   "metadata": {},
   "outputs": [
    {
     "name": "stdout",
     "output_type": "stream",
     "text": [
      "<class 'pandas.core.frame.DataFrame'>\n",
      "RangeIndex: 2944 entries, 0 to 2943\n",
      "Data columns (total 25 columns):\n",
      " #   Column       Non-Null Count  Dtype         \n",
      "---  ------       --------------  -----         \n",
      " 0   station      2944 non-null   int64         \n",
      " 1   date         2944 non-null   datetime64[ns]\n",
      " 2   tmax         2944 non-null   int64         \n",
      " 3   tmin         2944 non-null   int64         \n",
      " 4   tavg         2944 non-null   object        \n",
      " 5   depart       2944 non-null   object        \n",
      " 6   dewpoint     2944 non-null   int64         \n",
      " 7   wetbulb      2944 non-null   object        \n",
      " 8   heat         2944 non-null   object        \n",
      " 9   cool         2944 non-null   object        \n",
      " 10  sunrise      2944 non-null   object        \n",
      " 11  sunset       2944 non-null   object        \n",
      " 12  codesum      2944 non-null   object        \n",
      " 13  depth        2944 non-null   object        \n",
      " 14  water1       2944 non-null   object        \n",
      " 15  snowfall     2944 non-null   object        \n",
      " 16  preciptotal  2944 non-null   object        \n",
      " 17  stnpressure  2944 non-null   object        \n",
      " 18  sealevel     2944 non-null   object        \n",
      " 19  resultspeed  2944 non-null   float64       \n",
      " 20  resultdir    2944 non-null   int64         \n",
      " 21  avgspeed     2944 non-null   object        \n",
      " 22  day          2944 non-null   int64         \n",
      " 23  month        2944 non-null   int64         \n",
      " 24  year         2944 non-null   int64         \n",
      "dtypes: datetime64[ns](1), float64(1), int64(8), object(15)\n",
      "memory usage: 575.1+ KB\n"
     ]
    }
   ],
   "source": [
    "weather.info()"
   ]
  },
  {
   "cell_type": "code",
   "execution_count": 13,
   "id": "7ad29896",
   "metadata": {},
   "outputs": [
    {
     "name": "stdout",
     "output_type": "stream",
     "text": [
      "<class 'pandas.core.frame.DataFrame'>\n",
      "RangeIndex: 14835 entries, 0 to 14834\n",
      "Data columns (total 7 columns):\n",
      " #   Column     Non-Null Count  Dtype         \n",
      "---  ------     --------------  -----         \n",
      " 0   date       14835 non-null  datetime64[ns]\n",
      " 1   time       14251 non-null  object        \n",
      " 2   latitude   14835 non-null  float64       \n",
      " 3   longitude  14835 non-null  float64       \n",
      " 4   day        14835 non-null  int64         \n",
      " 5   month      14835 non-null  int64         \n",
      " 6   year       14835 non-null  int64         \n",
      "dtypes: datetime64[ns](1), float64(2), int64(3), object(1)\n",
      "memory usage: 811.4+ KB\n"
     ]
    }
   ],
   "source": [
    "spray.info()"
   ]
  },
  {
   "cell_type": "code",
   "execution_count": 14,
   "id": "6d9b0d01",
   "metadata": {},
   "outputs": [
    {
     "data": {
      "text/plain": [
       "array(['CULEX PIPIENS/RESTUANS', 'CULEX RESTUANS', 'CULEX PIPIENS',\n",
       "       'CULEX SALINARIUS', 'CULEX TERRITANS', 'CULEX TARSALIS',\n",
       "       'CULEX ERRATICUS'], dtype=object)"
      ]
     },
     "execution_count": 14,
     "metadata": {},
     "output_type": "execute_result"
    }
   ],
   "source": [
    "train['species'].unique()"
   ]
  },
  {
   "cell_type": "code",
   "execution_count": 15,
   "id": "8c77aef0",
   "metadata": {},
   "outputs": [
    {
     "data": {
      "text/plain": [
       "array(['T002', 'T007', 'T015', 'T045', 'T046', 'T048', 'T049', 'T050',\n",
       "       'T054', 'T086', 'T091', 'T094', 'T096', 'T129', 'T143', 'T148',\n",
       "       'T153', 'T159', 'T009', 'T011', 'T016', 'T019', 'T025', 'T028',\n",
       "       'T031', 'T033', 'T089', 'T090', 'T092', 'T135', 'T141', 'T142',\n",
       "       'T145', 'T146', 'T147', 'T149', 'T150', 'T151', 'T152', 'T154',\n",
       "       'T158', 'T162', 'T218', 'T220', 'T001', 'T003', 'T006', 'T008',\n",
       "       'T012', 'T034', 'T037', 'T040', 'T043', 'T047', 'T051', 'T085',\n",
       "       'T088', 'T161', 'T219', 'T013', 'T014', 'T018', 'T030', 'T084',\n",
       "       'T144', 'T160', 'T005', 'T017', 'T044', 'T095', 'T004', 'T035',\n",
       "       'T036', 'T039', 'T060', 'T061', 'T062', 'T065', 'T066', 'T067',\n",
       "       'T069', 'T070', 'T071', 'T073', 'T074', 'T075', 'T076', 'T077',\n",
       "       'T079', 'T080', 'T081', 'T082', 'T083', 'T114', 'T155', 'T063',\n",
       "       'T115', 'T138', 'T200', 'T206', 'T209', 'T212', 'T215', 'T107',\n",
       "       'T128', 'T072', 'T078', 'T097', 'T099', 'T100', 'T102', 'T103',\n",
       "       'T027', 'T156', 'T157', 'T221', 'T900', 'T903', 'T222', 'T223',\n",
       "       'T225', 'T227', 'T224', 'T226', 'T229', 'T230', 'T228', 'T232',\n",
       "       'T231', 'T235', 'T233', 'T236', 'T237', 'T238', 'T094B', 'T054C'],\n",
       "      dtype=object)"
      ]
     },
     "execution_count": 15,
     "metadata": {},
     "output_type": "execute_result"
    }
   ],
   "source": [
    "train['trap'].unique()"
   ]
  },
  {
   "cell_type": "markdown",
   "id": "ffadd6cd",
   "metadata": {},
   "source": [
    "## Data Cleaning for Train"
   ]
  },
  {
   "cell_type": "code",
   "execution_count": 16,
   "id": "5039b3b2",
   "metadata": {},
   "outputs": [
    {
     "data": {
      "text/plain": [
       "8     0.357034\n",
       "7     0.248049\n",
       "9     0.211117\n",
       "6     0.149534\n",
       "10    0.026271\n",
       "5     0.007995\n",
       "Name: month, dtype: float64"
      ]
     },
     "execution_count": 16,
     "metadata": {},
     "output_type": "execute_result"
    }
   ],
   "source": [
    "train['month'].value_counts(normalize=True)"
   ]
  },
  {
   "cell_type": "code",
   "execution_count": 17,
   "id": "4641da74",
   "metadata": {},
   "outputs": [
    {
     "data": {
      "text/plain": [
       "8    0.440510\n",
       "9    0.378831\n",
       "5    0.171997\n",
       "3    0.008662\n",
       "Name: addressaccuracy, dtype: float64"
      ]
     },
     "execution_count": 17,
     "metadata": {},
     "output_type": "execute_result"
    }
   ],
   "source": [
    "train['addressaccuracy'].value_counts(normalize=True)"
   ]
  },
  {
   "cell_type": "code",
   "execution_count": 18,
   "id": "d92877d3",
   "metadata": {},
   "outputs": [
    {
     "name": "stdout",
     "output_type": "stream",
     "text": [
      "<class 'pandas.core.frame.DataFrame'>\n",
      "Int64Index: 1019 entries, 293 to 10267\n",
      "Data columns (total 15 columns):\n",
      " #   Column                  Non-Null Count  Dtype         \n",
      "---  ------                  --------------  -----         \n",
      " 0   date                    1019 non-null   datetime64[ns]\n",
      " 1   address                 1019 non-null   object        \n",
      " 2   species                 1019 non-null   object        \n",
      " 3   block                   1019 non-null   int64         \n",
      " 4   street                  1019 non-null   object        \n",
      " 5   trap                    1019 non-null   object        \n",
      " 6   addressnumberandstreet  1019 non-null   object        \n",
      " 7   latitude                1019 non-null   float64       \n",
      " 8   longitude               1019 non-null   float64       \n",
      " 9   addressaccuracy         1019 non-null   int64         \n",
      " 10  nummosquitos            1019 non-null   int64         \n",
      " 11  wnvpresent              1019 non-null   int64         \n",
      " 12  day                     1019 non-null   int64         \n",
      " 13  month                   1019 non-null   int64         \n",
      " 14  year                    1019 non-null   int64         \n",
      "dtypes: datetime64[ns](1), float64(2), int64(7), object(5)\n",
      "memory usage: 127.4+ KB\n"
     ]
    }
   ],
   "source": [
    "train[train['nummosquitos'] == 50].info()"
   ]
  },
  {
   "cell_type": "code",
   "execution_count": 19,
   "id": "8457ab9e",
   "metadata": {},
   "outputs": [
    {
     "data": {
      "text/html": [
       "<div>\n",
       "<style scoped>\n",
       "    .dataframe tbody tr th:only-of-type {\n",
       "        vertical-align: middle;\n",
       "    }\n",
       "\n",
       "    .dataframe tbody tr th {\n",
       "        vertical-align: top;\n",
       "    }\n",
       "\n",
       "    .dataframe thead th {\n",
       "        text-align: right;\n",
       "    }\n",
       "</style>\n",
       "<table border=\"1\" class=\"dataframe\">\n",
       "  <thead>\n",
       "    <tr style=\"text-align: right;\">\n",
       "      <th></th>\n",
       "      <th>date</th>\n",
       "      <th>address</th>\n",
       "      <th>species</th>\n",
       "      <th>block</th>\n",
       "      <th>street</th>\n",
       "      <th>trap</th>\n",
       "      <th>addressnumberandstreet</th>\n",
       "      <th>latitude</th>\n",
       "      <th>longitude</th>\n",
       "      <th>addressaccuracy</th>\n",
       "      <th>nummosquitos</th>\n",
       "      <th>wnvpresent</th>\n",
       "      <th>day</th>\n",
       "      <th>month</th>\n",
       "      <th>year</th>\n",
       "    </tr>\n",
       "  </thead>\n",
       "  <tbody>\n",
       "    <tr>\n",
       "      <th>69</th>\n",
       "      <td>2007-06-05</td>\n",
       "      <td>Chicago, IL, USA</td>\n",
       "      <td>CULEX RESTUANS</td>\n",
       "      <td>43</td>\n",
       "      <td>N ASHLAND AVE OVERPASS</td>\n",
       "      <td>T145</td>\n",
       "      <td>4300  N ASHLAND AVE OVERPASS, Chicago, IL</td>\n",
       "      <td>41.878114</td>\n",
       "      <td>-87.629798</td>\n",
       "      <td>3</td>\n",
       "      <td>3</td>\n",
       "      <td>0</td>\n",
       "      <td>5</td>\n",
       "      <td>6</td>\n",
       "      <td>2007</td>\n",
       "    </tr>\n",
       "    <tr>\n",
       "      <th>127</th>\n",
       "      <td>2007-06-26</td>\n",
       "      <td>Chicago, IL, USA</td>\n",
       "      <td>CULEX RESTUANS</td>\n",
       "      <td>43</td>\n",
       "      <td>N ASHLAND AVE OVERPASS</td>\n",
       "      <td>T145</td>\n",
       "      <td>4300  N ASHLAND AVE OVERPASS, Chicago, IL</td>\n",
       "      <td>41.878114</td>\n",
       "      <td>-87.629798</td>\n",
       "      <td>3</td>\n",
       "      <td>1</td>\n",
       "      <td>0</td>\n",
       "      <td>26</td>\n",
       "      <td>6</td>\n",
       "      <td>2007</td>\n",
       "    </tr>\n",
       "    <tr>\n",
       "      <th>179</th>\n",
       "      <td>2007-06-29</td>\n",
       "      <td>Chicago, IL, USA</td>\n",
       "      <td>CULEX RESTUANS</td>\n",
       "      <td>43</td>\n",
       "      <td>N ASHLAND AVE OVERPASS</td>\n",
       "      <td>T145</td>\n",
       "      <td>4300  N ASHLAND AVE OVERPASS, Chicago, IL</td>\n",
       "      <td>41.878114</td>\n",
       "      <td>-87.629798</td>\n",
       "      <td>3</td>\n",
       "      <td>1</td>\n",
       "      <td>0</td>\n",
       "      <td>29</td>\n",
       "      <td>6</td>\n",
       "      <td>2007</td>\n",
       "    </tr>\n",
       "    <tr>\n",
       "      <th>237</th>\n",
       "      <td>2007-07-02</td>\n",
       "      <td>Chicago, IL, USA</td>\n",
       "      <td>CULEX SALINARIUS</td>\n",
       "      <td>43</td>\n",
       "      <td>N ASHLAND AVE OVERPASS</td>\n",
       "      <td>T145</td>\n",
       "      <td>4300  N ASHLAND AVE OVERPASS, Chicago, IL</td>\n",
       "      <td>41.878114</td>\n",
       "      <td>-87.629798</td>\n",
       "      <td>3</td>\n",
       "      <td>1</td>\n",
       "      <td>0</td>\n",
       "      <td>2</td>\n",
       "      <td>7</td>\n",
       "      <td>2007</td>\n",
       "    </tr>\n",
       "    <tr>\n",
       "      <th>342</th>\n",
       "      <td>2007-07-11</td>\n",
       "      <td>Chicago, IL, USA</td>\n",
       "      <td>CULEX PIPIENS/RESTUANS</td>\n",
       "      <td>43</td>\n",
       "      <td>N ASHLAND AVE OVERPASS</td>\n",
       "      <td>T145</td>\n",
       "      <td>4300  N ASHLAND AVE OVERPASS, Chicago, IL</td>\n",
       "      <td>41.878114</td>\n",
       "      <td>-87.629798</td>\n",
       "      <td>3</td>\n",
       "      <td>3</td>\n",
       "      <td>0</td>\n",
       "      <td>11</td>\n",
       "      <td>7</td>\n",
       "      <td>2007</td>\n",
       "    </tr>\n",
       "    <tr>\n",
       "      <th>...</th>\n",
       "      <td>...</td>\n",
       "      <td>...</td>\n",
       "      <td>...</td>\n",
       "      <td>...</td>\n",
       "      <td>...</td>\n",
       "      <td>...</td>\n",
       "      <td>...</td>\n",
       "      <td>...</td>\n",
       "      <td>...</td>\n",
       "      <td>...</td>\n",
       "      <td>...</td>\n",
       "      <td>...</td>\n",
       "      <td>...</td>\n",
       "      <td>...</td>\n",
       "      <td>...</td>\n",
       "    </tr>\n",
       "    <tr>\n",
       "      <th>10049</th>\n",
       "      <td>2013-09-06</td>\n",
       "      <td>Chicago, IL, USA</td>\n",
       "      <td>CULEX PIPIENS/RESTUANS</td>\n",
       "      <td>43</td>\n",
       "      <td>N ASHLAND AVE OVERPASS</td>\n",
       "      <td>T145</td>\n",
       "      <td>4300  N ASHLAND AVE OVERPASS, Chicago, IL</td>\n",
       "      <td>41.878114</td>\n",
       "      <td>-87.629798</td>\n",
       "      <td>3</td>\n",
       "      <td>10</td>\n",
       "      <td>0</td>\n",
       "      <td>6</td>\n",
       "      <td>9</td>\n",
       "      <td>2013</td>\n",
       "    </tr>\n",
       "    <tr>\n",
       "      <th>10050</th>\n",
       "      <td>2013-09-06</td>\n",
       "      <td>Chicago, IL, USA</td>\n",
       "      <td>CULEX PIPIENS</td>\n",
       "      <td>43</td>\n",
       "      <td>N ASHLAND AVE OVERPASS</td>\n",
       "      <td>T145</td>\n",
       "      <td>4300  N ASHLAND AVE OVERPASS, Chicago, IL</td>\n",
       "      <td>41.878114</td>\n",
       "      <td>-87.629798</td>\n",
       "      <td>3</td>\n",
       "      <td>27</td>\n",
       "      <td>0</td>\n",
       "      <td>6</td>\n",
       "      <td>9</td>\n",
       "      <td>2013</td>\n",
       "    </tr>\n",
       "    <tr>\n",
       "      <th>10191</th>\n",
       "      <td>2013-09-12</td>\n",
       "      <td>Chicago, IL, USA</td>\n",
       "      <td>CULEX PIPIENS/RESTUANS</td>\n",
       "      <td>43</td>\n",
       "      <td>N ASHLAND AVE OVERPASS</td>\n",
       "      <td>T145</td>\n",
       "      <td>4300  N ASHLAND AVE OVERPASS, Chicago, IL</td>\n",
       "      <td>41.878114</td>\n",
       "      <td>-87.629798</td>\n",
       "      <td>3</td>\n",
       "      <td>1</td>\n",
       "      <td>0</td>\n",
       "      <td>12</td>\n",
       "      <td>9</td>\n",
       "      <td>2013</td>\n",
       "    </tr>\n",
       "    <tr>\n",
       "      <th>10326</th>\n",
       "      <td>2013-09-19</td>\n",
       "      <td>Chicago, IL, USA</td>\n",
       "      <td>CULEX PIPIENS</td>\n",
       "      <td>43</td>\n",
       "      <td>N ASHLAND AVE OVERPASS</td>\n",
       "      <td>T145</td>\n",
       "      <td>4300  N ASHLAND AVE OVERPASS, Chicago, IL</td>\n",
       "      <td>41.878114</td>\n",
       "      <td>-87.629798</td>\n",
       "      <td>3</td>\n",
       "      <td>9</td>\n",
       "      <td>0</td>\n",
       "      <td>19</td>\n",
       "      <td>9</td>\n",
       "      <td>2013</td>\n",
       "    </tr>\n",
       "    <tr>\n",
       "      <th>10433</th>\n",
       "      <td>2013-09-26</td>\n",
       "      <td>Chicago, IL, USA</td>\n",
       "      <td>CULEX PIPIENS</td>\n",
       "      <td>43</td>\n",
       "      <td>N ASHLAND AVE OVERPASS</td>\n",
       "      <td>T145</td>\n",
       "      <td>4300  N ASHLAND AVE OVERPASS, Chicago, IL</td>\n",
       "      <td>41.878114</td>\n",
       "      <td>-87.629798</td>\n",
       "      <td>3</td>\n",
       "      <td>2</td>\n",
       "      <td>0</td>\n",
       "      <td>26</td>\n",
       "      <td>9</td>\n",
       "      <td>2013</td>\n",
       "    </tr>\n",
       "  </tbody>\n",
       "</table>\n",
       "<p>91 rows × 15 columns</p>\n",
       "</div>"
      ],
      "text/plain": [
       "            date           address                 species  block  \\\n",
       "69    2007-06-05  Chicago, IL, USA          CULEX RESTUANS     43   \n",
       "127   2007-06-26  Chicago, IL, USA          CULEX RESTUANS     43   \n",
       "179   2007-06-29  Chicago, IL, USA          CULEX RESTUANS     43   \n",
       "237   2007-07-02  Chicago, IL, USA        CULEX SALINARIUS     43   \n",
       "342   2007-07-11  Chicago, IL, USA  CULEX PIPIENS/RESTUANS     43   \n",
       "...          ...               ...                     ...    ...   \n",
       "10049 2013-09-06  Chicago, IL, USA  CULEX PIPIENS/RESTUANS     43   \n",
       "10050 2013-09-06  Chicago, IL, USA           CULEX PIPIENS     43   \n",
       "10191 2013-09-12  Chicago, IL, USA  CULEX PIPIENS/RESTUANS     43   \n",
       "10326 2013-09-19  Chicago, IL, USA           CULEX PIPIENS     43   \n",
       "10433 2013-09-26  Chicago, IL, USA           CULEX PIPIENS     43   \n",
       "\n",
       "                        street  trap  \\\n",
       "69      N ASHLAND AVE OVERPASS  T145   \n",
       "127     N ASHLAND AVE OVERPASS  T145   \n",
       "179     N ASHLAND AVE OVERPASS  T145   \n",
       "237     N ASHLAND AVE OVERPASS  T145   \n",
       "342     N ASHLAND AVE OVERPASS  T145   \n",
       "...                        ...   ...   \n",
       "10049   N ASHLAND AVE OVERPASS  T145   \n",
       "10050   N ASHLAND AVE OVERPASS  T145   \n",
       "10191   N ASHLAND AVE OVERPASS  T145   \n",
       "10326   N ASHLAND AVE OVERPASS  T145   \n",
       "10433   N ASHLAND AVE OVERPASS  T145   \n",
       "\n",
       "                          addressnumberandstreet   latitude  longitude  \\\n",
       "69     4300  N ASHLAND AVE OVERPASS, Chicago, IL  41.878114 -87.629798   \n",
       "127    4300  N ASHLAND AVE OVERPASS, Chicago, IL  41.878114 -87.629798   \n",
       "179    4300  N ASHLAND AVE OVERPASS, Chicago, IL  41.878114 -87.629798   \n",
       "237    4300  N ASHLAND AVE OVERPASS, Chicago, IL  41.878114 -87.629798   \n",
       "342    4300  N ASHLAND AVE OVERPASS, Chicago, IL  41.878114 -87.629798   \n",
       "...                                          ...        ...        ...   \n",
       "10049  4300  N ASHLAND AVE OVERPASS, Chicago, IL  41.878114 -87.629798   \n",
       "10050  4300  N ASHLAND AVE OVERPASS, Chicago, IL  41.878114 -87.629798   \n",
       "10191  4300  N ASHLAND AVE OVERPASS, Chicago, IL  41.878114 -87.629798   \n",
       "10326  4300  N ASHLAND AVE OVERPASS, Chicago, IL  41.878114 -87.629798   \n",
       "10433  4300  N ASHLAND AVE OVERPASS, Chicago, IL  41.878114 -87.629798   \n",
       "\n",
       "       addressaccuracy  nummosquitos  wnvpresent  day  month  year  \n",
       "69                   3             3           0    5      6  2007  \n",
       "127                  3             1           0   26      6  2007  \n",
       "179                  3             1           0   29      6  2007  \n",
       "237                  3             1           0    2      7  2007  \n",
       "342                  3             3           0   11      7  2007  \n",
       "...                ...           ...         ...  ...    ...   ...  \n",
       "10049                3            10           0    6      9  2013  \n",
       "10050                3            27           0    6      9  2013  \n",
       "10191                3             1           0   12      9  2013  \n",
       "10326                3             9           0   19      9  2013  \n",
       "10433                3             2           0   26      9  2013  \n",
       "\n",
       "[91 rows x 15 columns]"
      ]
     },
     "execution_count": 19,
     "metadata": {},
     "output_type": "execute_result"
    }
   ],
   "source": [
    "train[train['addressaccuracy'] == 3]"
   ]
  },
  {
   "cell_type": "code",
   "execution_count": 20,
   "id": "ce5f47f1",
   "metadata": {},
   "outputs": [
    {
     "data": {
      "text/plain": [
       "813"
      ]
     },
     "execution_count": 20,
     "metadata": {},
     "output_type": "execute_result"
    }
   ],
   "source": [
    "train.duplicated().sum()"
   ]
  },
  {
   "cell_type": "code",
   "execution_count": 21,
   "id": "cc6e2874",
   "metadata": {},
   "outputs": [
    {
     "name": "stdout",
     "output_type": "stream",
     "text": [
      "<class 'pandas.core.frame.DataFrame'>\n",
      "Int64Index: 9487 entries, 0 to 10505\n",
      "Data columns (total 15 columns):\n",
      " #   Column                  Non-Null Count  Dtype         \n",
      "---  ------                  --------------  -----         \n",
      " 0   date                    9487 non-null   datetime64[ns]\n",
      " 1   address                 9487 non-null   object        \n",
      " 2   species                 9487 non-null   object        \n",
      " 3   block                   9487 non-null   int64         \n",
      " 4   street                  9487 non-null   object        \n",
      " 5   trap                    9487 non-null   object        \n",
      " 6   addressnumberandstreet  9487 non-null   object        \n",
      " 7   latitude                9487 non-null   float64       \n",
      " 8   longitude               9487 non-null   float64       \n",
      " 9   addressaccuracy         9487 non-null   int64         \n",
      " 10  nummosquitos            9487 non-null   int64         \n",
      " 11  wnvpresent              9487 non-null   int64         \n",
      " 12  day                     9487 non-null   int64         \n",
      " 13  month                   9487 non-null   int64         \n",
      " 14  year                    9487 non-null   int64         \n",
      "dtypes: datetime64[ns](1), float64(2), int64(7), object(5)\n",
      "memory usage: 1.2+ MB\n"
     ]
    }
   ],
   "source": [
    "train.loc[train['nummosquitos'] != 50, :].info()"
   ]
  },
  {
   "cell_type": "code",
   "execution_count": 22,
   "id": "c26876f2",
   "metadata": {},
   "outputs": [
    {
     "name": "stdout",
     "output_type": "stream",
     "text": [
      "<class 'pandas.core.frame.DataFrame'>\n",
      "Int64Index: 9693 entries, 0 to 10505\n",
      "Data columns (total 15 columns):\n",
      " #   Column                  Non-Null Count  Dtype         \n",
      "---  ------                  --------------  -----         \n",
      " 0   date                    9693 non-null   datetime64[ns]\n",
      " 1   address                 9693 non-null   object        \n",
      " 2   species                 9693 non-null   object        \n",
      " 3   block                   9693 non-null   int64         \n",
      " 4   street                  9693 non-null   object        \n",
      " 5   trap                    9693 non-null   object        \n",
      " 6   addressnumberandstreet  9693 non-null   object        \n",
      " 7   latitude                9693 non-null   float64       \n",
      " 8   longitude               9693 non-null   float64       \n",
      " 9   addressaccuracy         9693 non-null   int64         \n",
      " 10  nummosquitos            9693 non-null   int64         \n",
      " 11  wnvpresent              9693 non-null   int64         \n",
      " 12  day                     9693 non-null   int64         \n",
      " 13  month                   9693 non-null   int64         \n",
      " 14  year                    9693 non-null   int64         \n",
      "dtypes: datetime64[ns](1), float64(2), int64(7), object(5)\n",
      "memory usage: 1.2+ MB\n"
     ]
    }
   ],
   "source": [
    "train_clean = train.drop_duplicates(subset = ['date', 'species', 'latitude', 'longitude', 'address', 'trap', 'wnvpresent', 'nummosquitos'], keep = 'first')\n",
    "train_clean.info()"
   ]
  },
  {
   "cell_type": "markdown",
   "id": "866bbd4c",
   "metadata": {},
   "source": [
    "Mosquito count capped at 50, additional mosquitos caught above that are made into a new record. We will group these records and sum them together to get the total number of mosquitos."
   ]
  },
  {
   "cell_type": "code",
   "execution_count": 23,
   "id": "ca7da8d8",
   "metadata": {},
   "outputs": [],
   "source": [
    "train_clean.reset_index(drop = True, inplace = True)"
   ]
  },
  {
   "cell_type": "code",
   "execution_count": 24,
   "id": "b0660b88",
   "metadata": {},
   "outputs": [
    {
     "name": "stderr",
     "output_type": "stream",
     "text": [
      "C:\\Users\\Seraphim\\anaconda3\\envs\\dsi\\lib\\site-packages\\pandas\\core\\frame.py:4308: SettingWithCopyWarning: \n",
      "A value is trying to be set on a copy of a slice from a DataFrame\n",
      "\n",
      "See the caveats in the documentation: https://pandas.pydata.org/pandas-docs/stable/user_guide/indexing.html#returning-a-view-versus-a-copy\n",
      "  return super().drop(\n"
     ]
    }
   ],
   "source": [
    "train_clean.drop(columns = ['address', 'block', 'street', 'addressnumberandstreet'], inplace = True)"
   ]
  },
  {
   "cell_type": "markdown",
   "id": "81b89168",
   "metadata": {},
   "source": [
    "Since we already have latitude and longitude, we will drop the other address-related columns:\n",
    "* address\n",
    "* block\n",
    "* street\n",
    "* addressnumberandstreet"
   ]
  },
  {
   "cell_type": "markdown",
   "id": "409c6526",
   "metadata": {},
   "source": [
    "## Data Cleaning for Spray"
   ]
  },
  {
   "cell_type": "code",
   "execution_count": 25,
   "id": "1ab36fa2",
   "metadata": {},
   "outputs": [
    {
     "data": {
      "text/plain": [
       "8    0.538456\n",
       "7    0.256758\n",
       "9    0.204786\n",
       "Name: month, dtype: float64"
      ]
     },
     "execution_count": 25,
     "metadata": {},
     "output_type": "execute_result"
    }
   ],
   "source": [
    "spray['month'].value_counts(normalize=True)"
   ]
  },
  {
   "cell_type": "code",
   "execution_count": 26,
   "id": "90a5d31c",
   "metadata": {},
   "outputs": [
    {
     "data": {
      "text/plain": [
       "count    14835.000000\n",
       "mean       -87.736690\n",
       "std          0.067292\n",
       "min        -88.096468\n",
       "25%        -87.794225\n",
       "50%        -87.727853\n",
       "75%        -87.694108\n",
       "max        -87.586727\n",
       "Name: longitude, dtype: float64"
      ]
     },
     "execution_count": 26,
     "metadata": {},
     "output_type": "execute_result"
    }
   ],
   "source": [
    "spray['longitude'].describe()"
   ]
  },
  {
   "cell_type": "code",
   "execution_count": 27,
   "id": "ad3594d1",
   "metadata": {},
   "outputs": [
    {
     "data": {
      "text/plain": [
       "count    10506.000000\n",
       "mean       -87.699908\n",
       "std          0.096514\n",
       "min        -87.930995\n",
       "25%        -87.760070\n",
       "50%        -87.694991\n",
       "75%        -87.627796\n",
       "max        -87.531635\n",
       "Name: longitude, dtype: float64"
      ]
     },
     "execution_count": 27,
     "metadata": {},
     "output_type": "execute_result"
    }
   ],
   "source": [
    "train['longitude'].describe()"
   ]
  },
  {
   "cell_type": "code",
   "execution_count": 28,
   "id": "cf9310ae",
   "metadata": {},
   "outputs": [
    {
     "data": {
      "text/plain": [
       "<AxesSubplot:xlabel='longitude'>"
      ]
     },
     "execution_count": 28,
     "metadata": {},
     "output_type": "execute_result"
    },
    {
     "data": {
      "image/png": "[encoded data removed]",
      "text/plain": [
       "<Figure size 432x288 with 1 Axes>"
      ]
     },
     "metadata": {
      "needs_background": "light"
     },
     "output_type": "display_data"
    }
   ],
   "source": [
    "sns.boxplot(data=spray, x='longitude')"
   ]
  },
  {
   "cell_type": "markdown",
   "id": "5e4a568a",
   "metadata": {},
   "source": [
    "We notice there is an outlier for longitudinal data for spray. We will exclude these records."
   ]
  },
  {
   "cell_type": "code",
   "execution_count": 29,
   "id": "4af6762d",
   "metadata": {},
   "outputs": [],
   "source": [
    "spray_clean = spray[spray['longitude'] > -88]"
   ]
  },
  {
   "cell_type": "code",
   "execution_count": 30,
   "id": "fb7fb817",
   "metadata": {},
   "outputs": [
    {
     "data": {
      "text/plain": [
       "541"
      ]
     },
     "execution_count": 30,
     "metadata": {},
     "output_type": "execute_result"
    }
   ],
   "source": [
    "spray.duplicated().sum()"
   ]
  },
  {
   "cell_type": "code",
   "execution_count": 31,
   "id": "ca88af06",
   "metadata": {},
   "outputs": [],
   "source": [
    "spray_clean = spray.drop_duplicates(keep = 'first')"
   ]
  },
  {
   "cell_type": "code",
   "execution_count": 32,
   "id": "5a7a72e0",
   "metadata": {},
   "outputs": [
    {
     "name": "stderr",
     "output_type": "stream",
     "text": [
      "<ipython-input-32-d11d5e90271a>:1: SettingWithCopyWarning: \n",
      "A value is trying to be set on a copy of a slice from a DataFrame.\n",
      "Try using .loc[row_indexer,col_indexer] = value instead\n",
      "\n",
      "See the caveats in the documentation: https://pandas.pydata.org/pandas-docs/stable/user_guide/indexing.html#returning-a-view-versus-a-copy\n",
      "  spray_clean['spray'] = 1\n"
     ]
    }
   ],
   "source": [
    "spray_clean['spray'] = 1"
   ]
  },
  {
   "cell_type": "markdown",
   "id": "3f36e1f3",
   "metadata": {},
   "source": [
    "We dropped the time column because time of day was not a concern. As long as the spray occurred 8-10 days prior, it would disrupt the mosquito lifecycle.\n",
    "\n",
    "Considerations that might change it would be if we knew when precipitation ended. However, as this is not recorded on the weather forecast, we will assume that sprays occurred post-rainfall."
   ]
  },
  {
   "cell_type": "code",
   "execution_count": 33,
   "id": "cbb4f854",
   "metadata": {},
   "outputs": [],
   "source": [
    "spray_clean = spray_clean.drop(columns = 'time')"
   ]
  },
  {
   "cell_type": "markdown",
   "id": "67786585",
   "metadata": {},
   "source": [
    "## Data Cleaning for Weather"
   ]
  },
  {
   "cell_type": "code",
   "execution_count": 34,
   "id": "ac064d5c",
   "metadata": {},
   "outputs": [
    {
     "data": {
      "text/plain": [
       "8     0.168478\n",
       "10    0.168478\n",
       "5     0.168478\n",
       "7     0.168478\n",
       "6     0.163043\n",
       "9     0.163043\n",
       "Name: month, dtype: float64"
      ]
     },
     "execution_count": 34,
     "metadata": {},
     "output_type": "execute_result"
    }
   ],
   "source": [
    "weather['month'].value_counts(normalize=True)"
   ]
  },
  {
   "cell_type": "code",
   "execution_count": 35,
   "id": "b2e8be15",
   "metadata": {},
   "outputs": [
    {
     "data": {
      "text/plain": [
       "M    2944\n",
       "Name: water1, dtype: int64"
      ]
     },
     "execution_count": 35,
     "metadata": {},
     "output_type": "execute_result"
    }
   ],
   "source": [
    "weather['water1'].value_counts()"
   ]
  },
  {
   "cell_type": "markdown",
   "id": "6a581b03",
   "metadata": {},
   "source": [
    "We notice all of the data in `water1` is missing. This feature will not be useful, and hence will be dropped."
   ]
  },
  {
   "cell_type": "code",
   "execution_count": 36,
   "id": "89552b04",
   "metadata": {},
   "outputs": [],
   "source": [
    "weather = weather.drop(columns = 'water1')"
   ]
  },
  {
   "cell_type": "code",
   "execution_count": 37,
   "id": "e5715717",
   "metadata": {},
   "outputs": [
    {
     "data": {
      "text/plain": [
       "station           0\n",
       "date              0\n",
       "tmax              0\n",
       "tmin              0\n",
       "tavg             11\n",
       "depart         1472\n",
       "dewpoint          0\n",
       "wetbulb           4\n",
       "heat             11\n",
       "cool             11\n",
       "sunrise           0\n",
       "sunset            0\n",
       "codesum           0\n",
       "depth          1472\n",
       "snowfall       1472\n",
       "preciptotal       2\n",
       "stnpressure       4\n",
       "sealevel          9\n",
       "resultspeed       0\n",
       "resultdir         0\n",
       "avgspeed          3\n",
       "day               0\n",
       "month             0\n",
       "year              0\n",
       "dtype: int64"
      ]
     },
     "execution_count": 37,
     "metadata": {},
     "output_type": "execute_result"
    }
   ],
   "source": [
    "# check for missing or trace values based on data dict\n",
    "weather.isin(['T', 'M']).sum()"
   ]
  },
  {
   "cell_type": "markdown",
   "id": "33100704",
   "metadata": {},
   "source": [
    "### Imputing"
   ]
  },
  {
   "cell_type": "markdown",
   "id": "614f390f",
   "metadata": {},
   "source": [
    "####  Depth and Snowfall"
   ]
  },
  {
   "cell_type": "code",
   "execution_count": 38,
   "id": "8f63fb82",
   "metadata": {},
   "outputs": [
    {
     "data": {
      "text/plain": [
       "M    1472\n",
       "0    1472\n",
       "Name: depth, dtype: int64"
      ]
     },
     "execution_count": 38,
     "metadata": {},
     "output_type": "execute_result"
    }
   ],
   "source": [
    "weather['depth'].value_counts()"
   ]
  },
  {
   "cell_type": "code",
   "execution_count": 39,
   "id": "75f3a473",
   "metadata": {},
   "outputs": [
    {
     "data": {
      "text/plain": [
       "M      1472\n",
       "0.0    1459\n",
       "  T      12\n",
       "0.1       1\n",
       "Name: snowfall, dtype: int64"
      ]
     },
     "execution_count": 39,
     "metadata": {},
     "output_type": "execute_result"
    }
   ],
   "source": [
    "weather['snowfall'].value_counts()"
   ]
  },
  {
   "cell_type": "markdown",
   "id": "e82c5ecd",
   "metadata": {},
   "source": [
    "We will drop both depth and snowfall since most values are missing, 0 or trace."
   ]
  },
  {
   "cell_type": "code",
   "execution_count": 40,
   "id": "b6a6fd06",
   "metadata": {},
   "outputs": [],
   "source": [
    "weather.drop(columns = ['depth', 'snowfall'], inplace = True)"
   ]
  },
  {
   "cell_type": "code",
   "execution_count": 41,
   "id": "838be2b3",
   "metadata": {},
   "outputs": [
    {
     "data": {
      "text/html": [
       "<div>\n",
       "<style scoped>\n",
       "    .dataframe tbody tr th:only-of-type {\n",
       "        vertical-align: middle;\n",
       "    }\n",
       "\n",
       "    .dataframe tbody tr th {\n",
       "        vertical-align: top;\n",
       "    }\n",
       "\n",
       "    .dataframe thead th {\n",
       "        text-align: right;\n",
       "    }\n",
       "</style>\n",
       "<table border=\"1\" class=\"dataframe\">\n",
       "  <thead>\n",
       "    <tr style=\"text-align: right;\">\n",
       "      <th></th>\n",
       "      <th>station</th>\n",
       "      <th>date</th>\n",
       "      <th>sunrise</th>\n",
       "      <th>sunset</th>\n",
       "    </tr>\n",
       "  </thead>\n",
       "  <tbody>\n",
       "    <tr>\n",
       "      <th>0</th>\n",
       "      <td>1</td>\n",
       "      <td>2007-05-01</td>\n",
       "      <td>0448</td>\n",
       "      <td>1849</td>\n",
       "    </tr>\n",
       "    <tr>\n",
       "      <th>1</th>\n",
       "      <td>2</td>\n",
       "      <td>2007-05-01</td>\n",
       "      <td>-</td>\n",
       "      <td>-</td>\n",
       "    </tr>\n",
       "    <tr>\n",
       "      <th>2</th>\n",
       "      <td>1</td>\n",
       "      <td>2007-05-02</td>\n",
       "      <td>0447</td>\n",
       "      <td>1850</td>\n",
       "    </tr>\n",
       "    <tr>\n",
       "      <th>3</th>\n",
       "      <td>2</td>\n",
       "      <td>2007-05-02</td>\n",
       "      <td>-</td>\n",
       "      <td>-</td>\n",
       "    </tr>\n",
       "    <tr>\n",
       "      <th>4</th>\n",
       "      <td>1</td>\n",
       "      <td>2007-05-03</td>\n",
       "      <td>0446</td>\n",
       "      <td>1851</td>\n",
       "    </tr>\n",
       "    <tr>\n",
       "      <th>...</th>\n",
       "      <td>...</td>\n",
       "      <td>...</td>\n",
       "      <td>...</td>\n",
       "      <td>...</td>\n",
       "    </tr>\n",
       "    <tr>\n",
       "      <th>2939</th>\n",
       "      <td>2</td>\n",
       "      <td>2014-10-29</td>\n",
       "      <td>-</td>\n",
       "      <td>-</td>\n",
       "    </tr>\n",
       "    <tr>\n",
       "      <th>2940</th>\n",
       "      <td>1</td>\n",
       "      <td>2014-10-30</td>\n",
       "      <td>0622</td>\n",
       "      <td>1649</td>\n",
       "    </tr>\n",
       "    <tr>\n",
       "      <th>2941</th>\n",
       "      <td>2</td>\n",
       "      <td>2014-10-30</td>\n",
       "      <td>-</td>\n",
       "      <td>-</td>\n",
       "    </tr>\n",
       "    <tr>\n",
       "      <th>2942</th>\n",
       "      <td>1</td>\n",
       "      <td>2014-10-31</td>\n",
       "      <td>0623</td>\n",
       "      <td>1647</td>\n",
       "    </tr>\n",
       "    <tr>\n",
       "      <th>2943</th>\n",
       "      <td>2</td>\n",
       "      <td>2014-10-31</td>\n",
       "      <td>-</td>\n",
       "      <td>-</td>\n",
       "    </tr>\n",
       "  </tbody>\n",
       "</table>\n",
       "<p>2944 rows × 4 columns</p>\n",
       "</div>"
      ],
      "text/plain": [
       "      station       date sunrise sunset\n",
       "0           1 2007-05-01    0448   1849\n",
       "1           2 2007-05-01       -      -\n",
       "2           1 2007-05-02    0447   1850\n",
       "3           2 2007-05-02       -      -\n",
       "4           1 2007-05-03    0446   1851\n",
       "...       ...        ...     ...    ...\n",
       "2939        2 2014-10-29       -      -\n",
       "2940        1 2014-10-30    0622   1649\n",
       "2941        2 2014-10-30       -      -\n",
       "2942        1 2014-10-31    0623   1647\n",
       "2943        2 2014-10-31       -      -\n",
       "\n",
       "[2944 rows x 4 columns]"
      ]
     },
     "execution_count": 41,
     "metadata": {},
     "output_type": "execute_result"
    }
   ],
   "source": [
    "weather[['station','date','sunrise', 'sunset']]"
   ]
  },
  {
   "cell_type": "markdown",
   "id": "a8adc134",
   "metadata": {},
   "source": [
    "#### Sunrise and Sunset"
   ]
  },
  {
   "cell_type": "code",
   "execution_count": 42,
   "id": "a583b0cb",
   "metadata": {},
   "outputs": [
    {
     "name": "stderr",
     "output_type": "stream",
     "text": [
      "<ipython-input-42-b0dc24ae8234>:4: SettingWithCopyWarning: \n",
      "A value is trying to be set on a copy of a slice from a DataFrame\n",
      "\n",
      "See the caveats in the documentation: https://pandas.pydata.org/pandas-docs/stable/user_guide/indexing.html#returning-a-view-versus-a-copy\n",
      "  weather['sunrise'][n] = weather['sunrise'][n-1]\n"
     ]
    }
   ],
   "source": [
    "# impute sunrise data with the data in the row above\n",
    "for n in weather.index:\n",
    "    if n % 2 == 1:\n",
    "        weather['sunrise'][n] = weather['sunrise'][n-1]"
   ]
  },
  {
   "cell_type": "code",
   "execution_count": 43,
   "id": "e3661d07",
   "metadata": {},
   "outputs": [
    {
     "name": "stderr",
     "output_type": "stream",
     "text": [
      "<ipython-input-43-d40f2b359dc5>:4: SettingWithCopyWarning: \n",
      "A value is trying to be set on a copy of a slice from a DataFrame\n",
      "\n",
      "See the caveats in the documentation: https://pandas.pydata.org/pandas-docs/stable/user_guide/indexing.html#returning-a-view-versus-a-copy\n",
      "  weather['sunset'][n] = weather['sunset'][n-1]\n"
     ]
    }
   ],
   "source": [
    "# impute sunset data with the data in the row above\n",
    "for n in weather.index:\n",
    "    if n % 2 == 1:\n",
    "        weather['sunset'][n] = weather['sunset'][n-1]"
   ]
  },
  {
   "cell_type": "code",
   "execution_count": 44,
   "id": "a005e8c1",
   "metadata": {},
   "outputs": [],
   "source": [
    "# convert sunrise and sunset columns to numbers\n",
    "weather['sunrise'] = weather['sunrise'].astype(int)\n",
    "weather['sunset'] = weather['sunset'].astype(int)"
   ]
  },
  {
   "cell_type": "code",
   "execution_count": 45,
   "id": "07d80266",
   "metadata": {},
   "outputs": [],
   "source": [
    "# to convert sunrise and sunset into number of mins from start of day\n",
    "# subsequently we can feature engineer with total sunlight time (sunset - sunrise)\n",
    "def get_duration(sun_time):\n",
    "    hours = sun_time // 100  # hour value\n",
    "    mins = sun_time % 100   # min value\n",
    "    total_mins = hours * 60 + mins\n",
    "    return total_mins"
   ]
  },
  {
   "cell_type": "code",
   "execution_count": 46,
   "id": "ee6cf156",
   "metadata": {},
   "outputs": [],
   "source": [
    "weather['sunrise_dur'] = weather['sunrise'].apply(get_duration)\n",
    "weather['sunset_dur'] = weather['sunset'].apply(get_duration)"
   ]
  },
  {
   "cell_type": "markdown",
   "id": "e1bf4ae2",
   "metadata": {},
   "source": [
    "#### Average Temperature"
   ]
  },
  {
   "cell_type": "code",
   "execution_count": 47,
   "id": "d45b8dc0",
   "metadata": {},
   "outputs": [],
   "source": [
    "def impute_tavg(row):\n",
    "    if row['tavg'] == 'M':\n",
    "        row['tavg'] = round((row['tmax'] + row['tmin']) / 2) \n",
    "    return row"
   ]
  },
  {
   "cell_type": "code",
   "execution_count": 48,
   "id": "cd1a210c",
   "metadata": {},
   "outputs": [],
   "source": [
    "weather = weather.apply(impute_tavg, axis=1)"
   ]
  },
  {
   "cell_type": "code",
   "execution_count": 49,
   "id": "4f00b702",
   "metadata": {},
   "outputs": [],
   "source": [
    "weather['tavg'] = weather['tavg'].astype(int)"
   ]
  },
  {
   "cell_type": "markdown",
   "id": "bdac0189",
   "metadata": {},
   "source": [
    "#### Heat and Cool"
   ]
  },
  {
   "cell_type": "code",
   "execution_count": 50,
   "id": "4f287be4",
   "metadata": {},
   "outputs": [
    {
     "name": "stderr",
     "output_type": "stream",
     "text": [
      "<ipython-input-50-2eeee7d08e47>:4: SettingWithCopyWarning: \n",
      "A value is trying to be set on a copy of a slice from a DataFrame\n",
      "\n",
      "See the caveats in the documentation: https://pandas.pydata.org/pandas-docs/stable/user_guide/indexing.html#returning-a-view-versus-a-copy\n",
      "  weather['cool'][row] = avg_temp\n",
      "<ipython-input-50-2eeee7d08e47>:5: SettingWithCopyWarning: \n",
      "A value is trying to be set on a copy of a slice from a DataFrame\n",
      "\n",
      "See the caveats in the documentation: https://pandas.pydata.org/pandas-docs/stable/user_guide/indexing.html#returning-a-view-versus-a-copy\n",
      "  weather['heat'][row] = 0\n",
      "<ipython-input-50-2eeee7d08e47>:7: SettingWithCopyWarning: \n",
      "A value is trying to be set on a copy of a slice from a DataFrame\n",
      "\n",
      "See the caveats in the documentation: https://pandas.pydata.org/pandas-docs/stable/user_guide/indexing.html#returning-a-view-versus-a-copy\n",
      "  weather['heat'][row] = abs(avg_temp)\n",
      "<ipython-input-50-2eeee7d08e47>:8: SettingWithCopyWarning: \n",
      "A value is trying to be set on a copy of a slice from a DataFrame\n",
      "\n",
      "See the caveats in the documentation: https://pandas.pydata.org/pandas-docs/stable/user_guide/indexing.html#returning-a-view-versus-a-copy\n",
      "  weather['cool'][row] = 0\n"
     ]
    }
   ],
   "source": [
    "for row in weather.index:\n",
    "    avg_temp = weather['tavg'][row] - 65\n",
    "    if avg_temp >= 0:\n",
    "        weather['cool'][row] = avg_temp\n",
    "        weather['heat'][row] = 0\n",
    "    if avg_temp < 0:\n",
    "        weather['heat'][row] = abs(avg_temp)\n",
    "        weather['cool'][row] = 0        "
   ]
  },
  {
   "cell_type": "markdown",
   "id": "fdbd5b2b",
   "metadata": {},
   "source": [
    "#### Departure from Norm"
   ]
  },
  {
   "cell_type": "code",
   "execution_count": 51,
   "id": "fc0280cf",
   "metadata": {},
   "outputs": [
    {
     "data": {
      "text/html": [
       "<div>\n",
       "<style scoped>\n",
       "    .dataframe tbody tr th:only-of-type {\n",
       "        vertical-align: middle;\n",
       "    }\n",
       "\n",
       "    .dataframe tbody tr th {\n",
       "        vertical-align: top;\n",
       "    }\n",
       "\n",
       "    .dataframe thead th {\n",
       "        text-align: right;\n",
       "    }\n",
       "</style>\n",
       "<table border=\"1\" class=\"dataframe\">\n",
       "  <thead>\n",
       "    <tr style=\"text-align: right;\">\n",
       "      <th></th>\n",
       "      <th>station</th>\n",
       "      <th>date</th>\n",
       "      <th>tmax</th>\n",
       "      <th>tmin</th>\n",
       "      <th>tavg</th>\n",
       "      <th>depart</th>\n",
       "      <th>dewpoint</th>\n",
       "      <th>wetbulb</th>\n",
       "      <th>heat</th>\n",
       "      <th>cool</th>\n",
       "      <th>sunrise</th>\n",
       "      <th>sunset</th>\n",
       "      <th>codesum</th>\n",
       "      <th>preciptotal</th>\n",
       "      <th>stnpressure</th>\n",
       "      <th>sealevel</th>\n",
       "      <th>resultspeed</th>\n",
       "      <th>resultdir</th>\n",
       "      <th>avgspeed</th>\n",
       "      <th>day</th>\n",
       "      <th>month</th>\n",
       "      <th>year</th>\n",
       "      <th>sunrise_dur</th>\n",
       "      <th>sunset_dur</th>\n",
       "    </tr>\n",
       "  </thead>\n",
       "  <tbody>\n",
       "    <tr>\n",
       "      <th>1</th>\n",
       "      <td>2</td>\n",
       "      <td>2007-05-01</td>\n",
       "      <td>84</td>\n",
       "      <td>52</td>\n",
       "      <td>68</td>\n",
       "      <td>M</td>\n",
       "      <td>51</td>\n",
       "      <td>57</td>\n",
       "      <td>0</td>\n",
       "      <td>3</td>\n",
       "      <td>448</td>\n",
       "      <td>1849</td>\n",
       "      <td></td>\n",
       "      <td>0.00</td>\n",
       "      <td>29.18</td>\n",
       "      <td>29.82</td>\n",
       "      <td>2.7</td>\n",
       "      <td>25</td>\n",
       "      <td>9.6</td>\n",
       "      <td>1</td>\n",
       "      <td>5</td>\n",
       "      <td>2007</td>\n",
       "      <td>288</td>\n",
       "      <td>1129</td>\n",
       "    </tr>\n",
       "    <tr>\n",
       "      <th>3</th>\n",
       "      <td>2</td>\n",
       "      <td>2007-05-02</td>\n",
       "      <td>60</td>\n",
       "      <td>43</td>\n",
       "      <td>52</td>\n",
       "      <td>M</td>\n",
       "      <td>42</td>\n",
       "      <td>47</td>\n",
       "      <td>13</td>\n",
       "      <td>0</td>\n",
       "      <td>447</td>\n",
       "      <td>1850</td>\n",
       "      <td>BR HZ</td>\n",
       "      <td>0.00</td>\n",
       "      <td>29.44</td>\n",
       "      <td>30.08</td>\n",
       "      <td>13.3</td>\n",
       "      <td>2</td>\n",
       "      <td>13.4</td>\n",
       "      <td>2</td>\n",
       "      <td>5</td>\n",
       "      <td>2007</td>\n",
       "      <td>287</td>\n",
       "      <td>1130</td>\n",
       "    </tr>\n",
       "    <tr>\n",
       "      <th>5</th>\n",
       "      <td>2</td>\n",
       "      <td>2007-05-03</td>\n",
       "      <td>67</td>\n",
       "      <td>48</td>\n",
       "      <td>58</td>\n",
       "      <td>M</td>\n",
       "      <td>40</td>\n",
       "      <td>50</td>\n",
       "      <td>7</td>\n",
       "      <td>0</td>\n",
       "      <td>446</td>\n",
       "      <td>1851</td>\n",
       "      <td>HZ</td>\n",
       "      <td>0.00</td>\n",
       "      <td>29.46</td>\n",
       "      <td>30.12</td>\n",
       "      <td>12.9</td>\n",
       "      <td>6</td>\n",
       "      <td>13.2</td>\n",
       "      <td>3</td>\n",
       "      <td>5</td>\n",
       "      <td>2007</td>\n",
       "      <td>286</td>\n",
       "      <td>1131</td>\n",
       "    </tr>\n",
       "    <tr>\n",
       "      <th>7</th>\n",
       "      <td>2</td>\n",
       "      <td>2007-05-04</td>\n",
       "      <td>78</td>\n",
       "      <td>51</td>\n",
       "      <td>64</td>\n",
       "      <td>M</td>\n",
       "      <td>42</td>\n",
       "      <td>50</td>\n",
       "      <td>1</td>\n",
       "      <td>0</td>\n",
       "      <td>444</td>\n",
       "      <td>1852</td>\n",
       "      <td></td>\n",
       "      <td>0.00</td>\n",
       "      <td>29.36</td>\n",
       "      <td>30.04</td>\n",
       "      <td>10.1</td>\n",
       "      <td>7</td>\n",
       "      <td>10.4</td>\n",
       "      <td>4</td>\n",
       "      <td>5</td>\n",
       "      <td>2007</td>\n",
       "      <td>284</td>\n",
       "      <td>1132</td>\n",
       "    </tr>\n",
       "    <tr>\n",
       "      <th>9</th>\n",
       "      <td>2</td>\n",
       "      <td>2007-05-05</td>\n",
       "      <td>66</td>\n",
       "      <td>54</td>\n",
       "      <td>60</td>\n",
       "      <td>M</td>\n",
       "      <td>39</td>\n",
       "      <td>50</td>\n",
       "      <td>5</td>\n",
       "      <td>0</td>\n",
       "      <td>443</td>\n",
       "      <td>1853</td>\n",
       "      <td></td>\n",
       "      <td>T</td>\n",
       "      <td>29.46</td>\n",
       "      <td>30.09</td>\n",
       "      <td>11.2</td>\n",
       "      <td>7</td>\n",
       "      <td>11.5</td>\n",
       "      <td>5</td>\n",
       "      <td>5</td>\n",
       "      <td>2007</td>\n",
       "      <td>283</td>\n",
       "      <td>1133</td>\n",
       "    </tr>\n",
       "  </tbody>\n",
       "</table>\n",
       "</div>"
      ],
      "text/plain": [
       "   station       date  tmax  tmin  tavg depart  dewpoint wetbulb heat cool  \\\n",
       "1        2 2007-05-01    84    52    68      M        51      57    0    3   \n",
       "3        2 2007-05-02    60    43    52      M        42      47   13    0   \n",
       "5        2 2007-05-03    67    48    58      M        40      50    7    0   \n",
       "7        2 2007-05-04    78    51    64      M        42      50    1    0   \n",
       "9        2 2007-05-05    66    54    60      M        39      50    5    0   \n",
       "\n",
       "   sunrise  sunset codesum preciptotal stnpressure sealevel  resultspeed  \\\n",
       "1      448    1849                0.00       29.18    29.82          2.7   \n",
       "3      447    1850   BR HZ        0.00       29.44    30.08         13.3   \n",
       "5      446    1851      HZ        0.00       29.46    30.12         12.9   \n",
       "7      444    1852                0.00       29.36    30.04         10.1   \n",
       "9      443    1853                   T       29.46    30.09         11.2   \n",
       "\n",
       "   resultdir avgspeed  day  month  year  sunrise_dur  sunset_dur  \n",
       "1         25      9.6    1      5  2007          288        1129  \n",
       "3          2     13.4    2      5  2007          287        1130  \n",
       "5          6     13.2    3      5  2007          286        1131  \n",
       "7          7     10.4    4      5  2007          284        1132  \n",
       "9          7     11.5    5      5  2007          283        1133  "
      ]
     },
     "execution_count": 51,
     "metadata": {},
     "output_type": "execute_result"
    }
   ],
   "source": [
    "weather.loc[weather['depart'].str.contains('M')].head(5)"
   ]
  },
  {
   "cell_type": "code",
   "execution_count": 52,
   "id": "68fbc40c",
   "metadata": {},
   "outputs": [
    {
     "data": {
      "text/html": [
       "<div>\n",
       "<style scoped>\n",
       "    .dataframe tbody tr th:only-of-type {\n",
       "        vertical-align: middle;\n",
       "    }\n",
       "\n",
       "    .dataframe tbody tr th {\n",
       "        vertical-align: top;\n",
       "    }\n",
       "\n",
       "    .dataframe thead th {\n",
       "        text-align: right;\n",
       "    }\n",
       "</style>\n",
       "<table border=\"1\" class=\"dataframe\">\n",
       "  <thead>\n",
       "    <tr style=\"text-align: right;\">\n",
       "      <th></th>\n",
       "      <th>station</th>\n",
       "      <th>date</th>\n",
       "      <th>tmax</th>\n",
       "      <th>tmin</th>\n",
       "      <th>tavg</th>\n",
       "      <th>depart</th>\n",
       "      <th>dewpoint</th>\n",
       "      <th>wetbulb</th>\n",
       "      <th>heat</th>\n",
       "      <th>cool</th>\n",
       "      <th>sunrise</th>\n",
       "      <th>sunset</th>\n",
       "      <th>codesum</th>\n",
       "      <th>preciptotal</th>\n",
       "      <th>stnpressure</th>\n",
       "      <th>sealevel</th>\n",
       "      <th>resultspeed</th>\n",
       "      <th>resultdir</th>\n",
       "      <th>avgspeed</th>\n",
       "      <th>day</th>\n",
       "      <th>month</th>\n",
       "      <th>year</th>\n",
       "      <th>sunrise_dur</th>\n",
       "      <th>sunset_dur</th>\n",
       "    </tr>\n",
       "  </thead>\n",
       "  <tbody>\n",
       "  </tbody>\n",
       "</table>\n",
       "</div>"
      ],
      "text/plain": [
       "Empty DataFrame\n",
       "Columns: [station, date, tmax, tmin, tavg, depart, dewpoint, wetbulb, heat, cool, sunrise, sunset, codesum, preciptotal, stnpressure, sealevel, resultspeed, resultdir, avgspeed, day, month, year, sunrise_dur, sunset_dur]\n",
       "Index: []"
      ]
     },
     "execution_count": 52,
     "metadata": {},
     "output_type": "execute_result"
    }
   ],
   "source": [
    "weather.loc[(weather['depart'].str.contains('M')) &\n",
    "            (weather['station'] == 1)]"
   ]
  },
  {
   "cell_type": "markdown",
   "id": "af9d5e3b",
   "metadata": {},
   "source": [
    "We see that all the missing values in the Depart column are found in Station 2 only."
   ]
  },
  {
   "cell_type": "markdown",
   "id": "067feb1f",
   "metadata": {},
   "source": [
    "Based on the data dictionary, Depart means the departure from normal temperature.\n",
    "\n",
    "In order to impute the missing values here, we suggest to:\n",
    "1. Take the 'Tavg' difference between both stations for each day \n",
    "2. Add this difference to the Station 1's 'Depart' value to calculate Station 2's 'Depart' value"
   ]
  },
  {
   "cell_type": "code",
   "execution_count": 53,
   "id": "951bc6ac",
   "metadata": {},
   "outputs": [
    {
     "data": {
      "text/plain": [
       "1    M\n",
       "Name: depart, dtype: object"
      ]
     },
     "execution_count": 53,
     "metadata": {},
     "output_type": "execute_result"
    }
   ],
   "source": [
    "weather.loc[[1], 'depart']"
   ]
  },
  {
   "cell_type": "code",
   "execution_count": 54,
   "id": "fa7332de",
   "metadata": {},
   "outputs": [],
   "source": [
    "def impute_depart(row):\n",
    "    if row['station'] == 2:\n",
    "        diff = row['tavg'] - int(weather.loc[(weather['date'] == row['date']) &\n",
    "                                         (weather['station'] == 1),\n",
    "                                         'tavg'])\n",
    "        \n",
    "        row['depart'] = diff + int(weather.loc[(weather['date'] == row['date']) &\n",
    "                                           (weather['station'] == 1), \n",
    "                                           'depart'])\n",
    "        \n",
    "    return row"
   ]
  },
  {
   "cell_type": "code",
   "execution_count": 55,
   "id": "2a631c2f",
   "metadata": {},
   "outputs": [],
   "source": [
    "weather = weather.apply(impute_depart, axis=1)"
   ]
  },
  {
   "cell_type": "markdown",
   "id": "2bf486cd",
   "metadata": {},
   "source": [
    "#### Wetbulb"
   ]
  },
  {
   "cell_type": "code",
   "execution_count": 56,
   "id": "8cb545be",
   "metadata": {},
   "outputs": [],
   "source": [
    "def check_value(df, col, station_1_idx):\n",
    "    if ((df.loc[station_1_idx][col] in ['M','T']) & (df.loc[station_1_idx+1][col] in ['M','T'])):\n",
    "        return True\n",
    "    else:\n",
    "        return False"
   ]
  },
  {
   "cell_type": "code",
   "execution_count": 57,
   "id": "1e3e40a6",
   "metadata": {},
   "outputs": [],
   "source": [
    "def impute_data(df, col):\n",
    "    df_1 = df.loc[(df['station'] == 1) & (~df[col].str.strip().isin(['M','T'])),col].astype(float)\n",
    "    df_2 = df.loc[(df['station'] == 2) & (~df[col].str.strip().isin(['M','T'])),col].astype(float)\n",
    "    mean_diff = df_1.mean() - df_2.mean()\n",
    "    \n",
    "    idx = list(df.loc[(df[col].str.strip().isin(['M']))].index)\n",
    "    \n",
    "    for i in idx:\n",
    "        if df.loc[i]['station'] == 1:\n",
    "            if check_value(df, col, i):\n",
    "                new_val = (float(df.loc[i+2][col]) + float(df.loc[i-2][col])) / 2\n",
    "                df.at[i,col] = new_val\n",
    "                df.at[i+1,col] = new_val\n",
    "                idx.remove(i)\n",
    "                idx.remove(i+1)\n",
    "            else:\n",
    "                df.at[i,col] = float(df.loc[i+1][col]) + mean_diff\n",
    "        else:\n",
    "            df.at[i,col] = float(df.loc[i-1][col]) + mean_diff\n",
    "    \n",
    "    zero_idx = list(df.loc[(df[col].str.strip().isin(['T']))].index)\n",
    "    for i in zero_idx:\n",
    "        df.at[i,col] = 0\n",
    "    \n",
    "    return df"
   ]
  },
  {
   "cell_type": "code",
   "execution_count": 58,
   "id": "922b3da5",
   "metadata": {},
   "outputs": [],
   "source": [
    "weather = impute_data(weather, 'wetbulb')"
   ]
  },
  {
   "cell_type": "markdown",
   "id": "3c71bc17",
   "metadata": {},
   "source": [
    "#### Total Precipitation"
   ]
  },
  {
   "cell_type": "code",
   "execution_count": 59,
   "id": "4accc279",
   "metadata": {},
   "outputs": [],
   "source": [
    "weather = impute_data(weather, 'preciptotal')"
   ]
  },
  {
   "cell_type": "markdown",
   "id": "e093c59d",
   "metadata": {},
   "source": [
    "#### Station Pressure"
   ]
  },
  {
   "cell_type": "code",
   "execution_count": 60,
   "id": "902f1207",
   "metadata": {},
   "outputs": [],
   "source": [
    "weather = impute_data(weather, 'stnpressure')"
   ]
  },
  {
   "cell_type": "markdown",
   "id": "f6d3fbc9",
   "metadata": {},
   "source": [
    "#### Average Speed"
   ]
  },
  {
   "cell_type": "code",
   "execution_count": 61,
   "id": "17663a09",
   "metadata": {},
   "outputs": [],
   "source": [
    "weather = impute_data(weather, 'avgspeed')"
   ]
  },
  {
   "cell_type": "markdown",
   "id": "e243f06a",
   "metadata": {},
   "source": [
    "#### Sea Level"
   ]
  },
  {
   "cell_type": "code",
   "execution_count": 62,
   "id": "75659bc0",
   "metadata": {},
   "outputs": [],
   "source": [
    "weather = impute_data(weather,'sealevel')"
   ]
  },
  {
   "cell_type": "markdown",
   "id": "fdaa9696",
   "metadata": {},
   "source": [
    "## Vectorizing Weather Phenomena"
   ]
  },
  {
   "cell_type": "code",
   "execution_count": 63,
   "id": "55dae6b9",
   "metadata": {},
   "outputs": [
    {
     "data": {
      "text/plain": [
       "array([' ', 'BR', 'BR HZ', 'HZ', 'RA', 'RA BR', 'TSRA RA BR', 'RA VCTS',\n",
       "       'TSRA RA', 'RA HZ', 'TSRA RA BR HZ', 'TSRA BR HZ', 'RA BR HZ VCTS',\n",
       "       'TSRA RA HZ', 'TSRA BR HZ VCTS', 'TSRA', 'TSRA BR HZ FU',\n",
       "       'TSRA RA HZ FU', 'BR HZ FU', 'TSRA RA VCTS', 'HZ VCTS', 'TSRA HZ',\n",
       "       'VCTS', 'RA BR VCTS', 'TSRA RA BR VCTS', 'TS TSRA RA BR HZ VCTS',\n",
       "       'DZ BR', 'TS TSRA RA BR HZ', 'TS TSRA BR HZ', 'RA BR HZ',\n",
       "       'TSRA RA DZ BR HZ', 'TS TSRA RA BR', 'TS RA BR', 'TS TSRA RA',\n",
       "       'TS TSRA RA BR VCTS', 'TS TSRA BR', 'TS RA', 'RA BCFG BR',\n",
       "       'TSRA BR', 'RA DZ FG+ BCFG BR', 'RA FG+ MIFG BR', 'RA DZ',\n",
       "       'RA DZ BR', 'TS TSRA RA HZ', 'TSRA RA FG+ FG BR',\n",
       "       'TSRA DZ FG+ FG BR HZ', 'TS BR', 'RA BR SQ', 'TS TSRA',\n",
       "       'TSRA RA BR HZ VCTS', 'BR VCTS', 'TS', 'FG+ BR HZ', 'RA SN',\n",
       "       'TSRA RA DZ BR', 'DZ BR HZ', 'RA BR FU', 'TS BR HZ', 'DZ',\n",
       "       'FG+ BR', 'FG+ FG BR', 'FG+ MIFG BR', 'TSRA RA FG BR',\n",
       "       'TSRA FG+ BR', 'RA DZ BR HZ', 'RA DZ SN', 'FG+ FG BR HZ',\n",
       "       'TS TSRA RA FG BR', 'BR HZ VCFG', 'TS RA FG+ FG BR',\n",
       "       'TSRA RA FG+ BR', 'RA DZ FG+ FG BR', 'TS TSRA RA VCTS', 'FU',\n",
       "       'TS TSRA VCFG', 'TS TSRA HZ', 'TS TSRA GR RA BR', 'RA FG BR',\n",
       "       'HZ FU', 'RA BR HZ FU', 'MIFG BCFG BR', 'FG+ BCFG BR',\n",
       "       'TSRA RA FG+ FG BR HZ', 'FG+', 'TSRA BR SQ', 'TSRA DZ BR HZ',\n",
       "       'RA BR HZ VCFG', 'RA FG+ BR', 'FG BR HZ', 'TS HZ',\n",
       "       'TS TSRA RA FG BR HZ', 'RA DZ FG+ BR', 'RA DZ FG+ BR HZ',\n",
       "       'TSRA FG+ BR HZ', 'RA BR VCFG', 'TS RA BR HZ', 'BCFG BR',\n",
       "       'RA SN BR'], dtype=object)"
      ]
     },
     "execution_count": 63,
     "metadata": {},
     "output_type": "execute_result"
    }
   ],
   "source": [
    "weather['codesum'].unique()"
   ]
  },
  {
   "cell_type": "code",
   "execution_count": 64,
   "id": "0a0ccd31",
   "metadata": {},
   "outputs": [],
   "source": [
    "from sklearn.feature_extraction.text import CountVectorizer\n",
    "\n",
    "cvec = CountVectorizer()\n",
    "we_types = cvec.fit_transform(weather['codesum'])"
   ]
  },
  {
   "cell_type": "code",
   "execution_count": 65,
   "id": "f52601ea",
   "metadata": {},
   "outputs": [],
   "source": [
    "we_types = pd.DataFrame(\n",
    "    we_types.todense(),\n",
    "    columns = cvec.get_feature_names()\n",
    "            )"
   ]
  },
  {
   "cell_type": "code",
   "execution_count": 66,
   "id": "0b4e1c42",
   "metadata": {},
   "outputs": [],
   "source": [
    "for row in range(len(we_types)):\n",
    "    if we_types['tsra'][row] == 1:\n",
    "        we_types['ts'][row] = 1\n",
    "        we_types['ra'][row] = 1\n",
    "\n",
    "we_types.drop(columns = 'tsra', inplace = True)"
   ]
  },
  {
   "cell_type": "code",
   "execution_count": 67,
   "id": "e4abab91",
   "metadata": {},
   "outputs": [
    {
     "data": {
      "text/plain": [
       "ra      1035\n",
       "br       813\n",
       "ts       345\n",
       "hz       263\n",
       "dz       133\n",
       "fg        43\n",
       "vcts      19\n",
       "fu         9\n",
       "sn         6\n",
       "bcfg       5\n",
       "vcfg       4\n",
       "mifg       3\n",
       "sq         3\n",
       "gr         1\n",
       "dtype: int64"
      ]
     },
     "execution_count": 67,
     "metadata": {},
     "output_type": "execute_result"
    }
   ],
   "source": [
    "we_types.sum().sort_values(ascending = False)"
   ]
  },
  {
   "cell_type": "code",
   "execution_count": 68,
   "id": "01f69819",
   "metadata": {},
   "outputs": [
    {
     "data": {
      "text/html": [
       "<div>\n",
       "<style scoped>\n",
       "    .dataframe tbody tr th:only-of-type {\n",
       "        vertical-align: middle;\n",
       "    }\n",
       "\n",
       "    .dataframe tbody tr th {\n",
       "        vertical-align: top;\n",
       "    }\n",
       "\n",
       "    .dataframe thead th {\n",
       "        text-align: right;\n",
       "    }\n",
       "</style>\n",
       "<table border=\"1\" class=\"dataframe\">\n",
       "  <thead>\n",
       "    <tr style=\"text-align: right;\">\n",
       "      <th></th>\n",
       "      <th>bcfg</th>\n",
       "      <th>br</th>\n",
       "      <th>dz</th>\n",
       "      <th>fg</th>\n",
       "      <th>fu</th>\n",
       "      <th>gr</th>\n",
       "      <th>hz</th>\n",
       "      <th>mifg</th>\n",
       "      <th>ra</th>\n",
       "      <th>sn</th>\n",
       "      <th>sq</th>\n",
       "      <th>ts</th>\n",
       "      <th>vcfg</th>\n",
       "      <th>vcts</th>\n",
       "    </tr>\n",
       "  </thead>\n",
       "  <tbody>\n",
       "    <tr>\n",
       "      <th>0</th>\n",
       "      <td>0</td>\n",
       "      <td>0</td>\n",
       "      <td>0</td>\n",
       "      <td>0</td>\n",
       "      <td>0</td>\n",
       "      <td>0</td>\n",
       "      <td>0</td>\n",
       "      <td>0</td>\n",
       "      <td>0</td>\n",
       "      <td>0</td>\n",
       "      <td>0</td>\n",
       "      <td>0</td>\n",
       "      <td>0</td>\n",
       "      <td>0</td>\n",
       "    </tr>\n",
       "    <tr>\n",
       "      <th>1</th>\n",
       "      <td>0</td>\n",
       "      <td>0</td>\n",
       "      <td>0</td>\n",
       "      <td>0</td>\n",
       "      <td>0</td>\n",
       "      <td>0</td>\n",
       "      <td>0</td>\n",
       "      <td>0</td>\n",
       "      <td>0</td>\n",
       "      <td>0</td>\n",
       "      <td>0</td>\n",
       "      <td>0</td>\n",
       "      <td>0</td>\n",
       "      <td>0</td>\n",
       "    </tr>\n",
       "    <tr>\n",
       "      <th>2</th>\n",
       "      <td>0</td>\n",
       "      <td>1</td>\n",
       "      <td>0</td>\n",
       "      <td>0</td>\n",
       "      <td>0</td>\n",
       "      <td>0</td>\n",
       "      <td>0</td>\n",
       "      <td>0</td>\n",
       "      <td>0</td>\n",
       "      <td>0</td>\n",
       "      <td>0</td>\n",
       "      <td>0</td>\n",
       "      <td>0</td>\n",
       "      <td>0</td>\n",
       "    </tr>\n",
       "    <tr>\n",
       "      <th>3</th>\n",
       "      <td>0</td>\n",
       "      <td>1</td>\n",
       "      <td>0</td>\n",
       "      <td>0</td>\n",
       "      <td>0</td>\n",
       "      <td>0</td>\n",
       "      <td>1</td>\n",
       "      <td>0</td>\n",
       "      <td>0</td>\n",
       "      <td>0</td>\n",
       "      <td>0</td>\n",
       "      <td>0</td>\n",
       "      <td>0</td>\n",
       "      <td>0</td>\n",
       "    </tr>\n",
       "    <tr>\n",
       "      <th>4</th>\n",
       "      <td>0</td>\n",
       "      <td>0</td>\n",
       "      <td>0</td>\n",
       "      <td>0</td>\n",
       "      <td>0</td>\n",
       "      <td>0</td>\n",
       "      <td>0</td>\n",
       "      <td>0</td>\n",
       "      <td>0</td>\n",
       "      <td>0</td>\n",
       "      <td>0</td>\n",
       "      <td>0</td>\n",
       "      <td>0</td>\n",
       "      <td>0</td>\n",
       "    </tr>\n",
       "    <tr>\n",
       "      <th>...</th>\n",
       "      <td>...</td>\n",
       "      <td>...</td>\n",
       "      <td>...</td>\n",
       "      <td>...</td>\n",
       "      <td>...</td>\n",
       "      <td>...</td>\n",
       "      <td>...</td>\n",
       "      <td>...</td>\n",
       "      <td>...</td>\n",
       "      <td>...</td>\n",
       "      <td>...</td>\n",
       "      <td>...</td>\n",
       "      <td>...</td>\n",
       "      <td>...</td>\n",
       "    </tr>\n",
       "    <tr>\n",
       "      <th>2939</th>\n",
       "      <td>0</td>\n",
       "      <td>0</td>\n",
       "      <td>0</td>\n",
       "      <td>0</td>\n",
       "      <td>0</td>\n",
       "      <td>0</td>\n",
       "      <td>0</td>\n",
       "      <td>0</td>\n",
       "      <td>0</td>\n",
       "      <td>0</td>\n",
       "      <td>0</td>\n",
       "      <td>0</td>\n",
       "      <td>0</td>\n",
       "      <td>0</td>\n",
       "    </tr>\n",
       "    <tr>\n",
       "      <th>2940</th>\n",
       "      <td>0</td>\n",
       "      <td>0</td>\n",
       "      <td>0</td>\n",
       "      <td>0</td>\n",
       "      <td>0</td>\n",
       "      <td>0</td>\n",
       "      <td>0</td>\n",
       "      <td>0</td>\n",
       "      <td>0</td>\n",
       "      <td>0</td>\n",
       "      <td>0</td>\n",
       "      <td>0</td>\n",
       "      <td>0</td>\n",
       "      <td>0</td>\n",
       "    </tr>\n",
       "    <tr>\n",
       "      <th>2941</th>\n",
       "      <td>0</td>\n",
       "      <td>0</td>\n",
       "      <td>0</td>\n",
       "      <td>0</td>\n",
       "      <td>0</td>\n",
       "      <td>0</td>\n",
       "      <td>0</td>\n",
       "      <td>0</td>\n",
       "      <td>1</td>\n",
       "      <td>0</td>\n",
       "      <td>0</td>\n",
       "      <td>0</td>\n",
       "      <td>0</td>\n",
       "      <td>0</td>\n",
       "    </tr>\n",
       "    <tr>\n",
       "      <th>2942</th>\n",
       "      <td>0</td>\n",
       "      <td>0</td>\n",
       "      <td>0</td>\n",
       "      <td>0</td>\n",
       "      <td>0</td>\n",
       "      <td>0</td>\n",
       "      <td>0</td>\n",
       "      <td>0</td>\n",
       "      <td>1</td>\n",
       "      <td>1</td>\n",
       "      <td>0</td>\n",
       "      <td>0</td>\n",
       "      <td>0</td>\n",
       "      <td>0</td>\n",
       "    </tr>\n",
       "    <tr>\n",
       "      <th>2943</th>\n",
       "      <td>0</td>\n",
       "      <td>1</td>\n",
       "      <td>0</td>\n",
       "      <td>0</td>\n",
       "      <td>0</td>\n",
       "      <td>0</td>\n",
       "      <td>0</td>\n",
       "      <td>0</td>\n",
       "      <td>1</td>\n",
       "      <td>1</td>\n",
       "      <td>0</td>\n",
       "      <td>0</td>\n",
       "      <td>0</td>\n",
       "      <td>0</td>\n",
       "    </tr>\n",
       "  </tbody>\n",
       "</table>\n",
       "<p>2944 rows × 14 columns</p>\n",
       "</div>"
      ],
      "text/plain": [
       "      bcfg  br  dz  fg  fu  gr  hz  mifg  ra  sn  sq  ts  vcfg  vcts\n",
       "0        0   0   0   0   0   0   0     0   0   0   0   0     0     0\n",
       "1        0   0   0   0   0   0   0     0   0   0   0   0     0     0\n",
       "2        0   1   0   0   0   0   0     0   0   0   0   0     0     0\n",
       "3        0   1   0   0   0   0   1     0   0   0   0   0     0     0\n",
       "4        0   0   0   0   0   0   0     0   0   0   0   0     0     0\n",
       "...    ...  ..  ..  ..  ..  ..  ..   ...  ..  ..  ..  ..   ...   ...\n",
       "2939     0   0   0   0   0   0   0     0   0   0   0   0     0     0\n",
       "2940     0   0   0   0   0   0   0     0   0   0   0   0     0     0\n",
       "2941     0   0   0   0   0   0   0     0   1   0   0   0     0     0\n",
       "2942     0   0   0   0   0   0   0     0   1   1   0   0     0     0\n",
       "2943     0   1   0   0   0   0   0     0   1   1   0   0     0     0\n",
       "\n",
       "[2944 rows x 14 columns]"
      ]
     },
     "execution_count": 68,
     "metadata": {},
     "output_type": "execute_result"
    }
   ],
   "source": [
    "we_types"
   ]
  },
  {
   "cell_type": "code",
   "execution_count": 69,
   "id": "b003625f",
   "metadata": {},
   "outputs": [],
   "source": [
    "weather.drop(columns = 'codesum', inplace = True)"
   ]
  },
  {
   "cell_type": "code",
   "execution_count": 70,
   "id": "2712c123",
   "metadata": {},
   "outputs": [],
   "source": [
    "weather_clean = pd.concat(\n",
    "    objs = [weather, we_types],\n",
    "    axis = 1\n",
    ")"
   ]
  },
  {
   "cell_type": "markdown",
   "id": "19162c4c",
   "metadata": {},
   "source": [
    "## Numericizing Columns"
   ]
  },
  {
   "cell_type": "code",
   "execution_count": 71,
   "id": "ac323e2f",
   "metadata": {},
   "outputs": [
    {
     "data": {
      "text/plain": [
       "station        0\n",
       "date           0\n",
       "tmax           0\n",
       "tmin           0\n",
       "tavg           0\n",
       "depart         0\n",
       "dewpoint       0\n",
       "wetbulb        0\n",
       "heat           0\n",
       "cool           0\n",
       "sunrise        0\n",
       "sunset         0\n",
       "preciptotal    0\n",
       "stnpressure    0\n",
       "sealevel       0\n",
       "resultspeed    0\n",
       "resultdir      0\n",
       "avgspeed       0\n",
       "day            0\n",
       "month          0\n",
       "year           0\n",
       "sunrise_dur    0\n",
       "sunset_dur     0\n",
       "bcfg           0\n",
       "br             0\n",
       "dz             0\n",
       "fg             0\n",
       "fu             0\n",
       "gr             0\n",
       "hz             0\n",
       "mifg           0\n",
       "ra             0\n",
       "sn             0\n",
       "sq             0\n",
       "ts             0\n",
       "vcfg           0\n",
       "vcts           0\n",
       "dtype: int64"
      ]
     },
     "execution_count": 71,
     "metadata": {},
     "output_type": "execute_result"
    }
   ],
   "source": [
    "weather_clean.isin(['M','T']).sum()"
   ]
  },
  {
   "cell_type": "code",
   "execution_count": 72,
   "id": "90a3dacb",
   "metadata": {},
   "outputs": [],
   "source": [
    "num_list = ['depart', 'wetbulb', 'preciptotal', 'stnpressure', 'sealevel', 'avgspeed']\n",
    "for col in num_list:\n",
    "    weather_clean[col] = weather_clean[col].map(lambda x: float(x))"
   ]
  },
  {
   "cell_type": "code",
   "execution_count": 73,
   "id": "26bd3b1d",
   "metadata": {},
   "outputs": [
    {
     "name": "stdout",
     "output_type": "stream",
     "text": [
      "<class 'pandas.core.frame.DataFrame'>\n",
      "RangeIndex: 2944 entries, 0 to 2943\n",
      "Data columns (total 37 columns):\n",
      " #   Column       Non-Null Count  Dtype         \n",
      "---  ------       --------------  -----         \n",
      " 0   station      2944 non-null   int64         \n",
      " 1   date         2944 non-null   datetime64[ns]\n",
      " 2   tmax         2944 non-null   int64         \n",
      " 3   tmin         2944 non-null   int64         \n",
      " 4   tavg         2944 non-null   int64         \n",
      " 5   depart       2944 non-null   float64       \n",
      " 6   dewpoint     2944 non-null   int64         \n",
      " 7   wetbulb      2944 non-null   float64       \n",
      " 8   heat         2944 non-null   int64         \n",
      " 9   cool         2944 non-null   int64         \n",
      " 10  sunrise      2944 non-null   int64         \n",
      " 11  sunset       2944 non-null   int64         \n",
      " 12  preciptotal  2944 non-null   float64       \n",
      " 13  stnpressure  2944 non-null   float64       \n",
      " 14  sealevel     2944 non-null   float64       \n",
      " 15  resultspeed  2944 non-null   float64       \n",
      " 16  resultdir    2944 non-null   int64         \n",
      " 17  avgspeed     2944 non-null   float64       \n",
      " 18  day          2944 non-null   int64         \n",
      " 19  month        2944 non-null   int64         \n",
      " 20  year         2944 non-null   int64         \n",
      " 21  sunrise_dur  2944 non-null   int64         \n",
      " 22  sunset_dur   2944 non-null   int64         \n",
      " 23  bcfg         2944 non-null   int64         \n",
      " 24  br           2944 non-null   int64         \n",
      " 25  dz           2944 non-null   int64         \n",
      " 26  fg           2944 non-null   int64         \n",
      " 27  fu           2944 non-null   int64         \n",
      " 28  gr           2944 non-null   int64         \n",
      " 29  hz           2944 non-null   int64         \n",
      " 30  mifg         2944 non-null   int64         \n",
      " 31  ra           2944 non-null   int64         \n",
      " 32  sn           2944 non-null   int64         \n",
      " 33  sq           2944 non-null   int64         \n",
      " 34  ts           2944 non-null   int64         \n",
      " 35  vcfg         2944 non-null   int64         \n",
      " 36  vcts         2944 non-null   int64         \n",
      "dtypes: datetime64[ns](1), float64(7), int64(29)\n",
      "memory usage: 851.1 KB\n"
     ]
    }
   ],
   "source": [
    "weather_clean.info()"
   ]
  },
  {
   "cell_type": "code",
   "execution_count": 74,
   "id": "298deb9a",
   "metadata": {
    "scrolled": false
   },
   "outputs": [
    {
     "data": {
      "text/plain": [
       "station        0\n",
       "date           0\n",
       "tmax           0\n",
       "tmin           0\n",
       "tavg           0\n",
       "depart         0\n",
       "dewpoint       0\n",
       "wetbulb        0\n",
       "heat           0\n",
       "cool           0\n",
       "sunrise        0\n",
       "sunset         0\n",
       "preciptotal    0\n",
       "stnpressure    0\n",
       "sealevel       0\n",
       "resultspeed    0\n",
       "resultdir      0\n",
       "avgspeed       0\n",
       "day            0\n",
       "month          0\n",
       "year           0\n",
       "sunrise_dur    0\n",
       "sunset_dur     0\n",
       "dtype: int64"
      ]
     },
     "execution_count": 74,
     "metadata": {},
     "output_type": "execute_result"
    }
   ],
   "source": [
    "# check for missing or trace values based on data dict\n",
    "weather.isin(['T', 'M']).sum()"
   ]
  },
  {
   "cell_type": "markdown",
   "id": "c10166e9",
   "metadata": {},
   "source": [
    "## Analysis of the Spray Schedule"
   ]
  },
  {
   "cell_type": "code",
   "execution_count": 75,
   "id": "5669e1c7",
   "metadata": {},
   "outputs": [
    {
     "data": {
      "text/plain": [
       "array(['2011-08-29T00:00:00.000000000', '2011-09-07T00:00:00.000000000',\n",
       "       '2013-07-17T00:00:00.000000000', '2013-07-25T00:00:00.000000000',\n",
       "       '2013-08-08T00:00:00.000000000', '2013-08-15T00:00:00.000000000',\n",
       "       '2013-08-16T00:00:00.000000000', '2013-08-22T00:00:00.000000000',\n",
       "       '2013-08-29T00:00:00.000000000', '2013-09-05T00:00:00.000000000'],\n",
       "      dtype='datetime64[ns]')"
      ]
     },
     "execution_count": 75,
     "metadata": {},
     "output_type": "execute_result"
    }
   ],
   "source": [
    "spray_clean['date'].unique()"
   ]
  },
  {
   "cell_type": "code",
   "execution_count": 76,
   "id": "3c030dbb",
   "metadata": {},
   "outputs": [
    {
     "data": {
      "text/plain": [
       "date\n",
       "2011-08-29      95\n",
       "2011-09-07    1573\n",
       "2013-07-17    2202\n",
       "2013-07-25    1607\n",
       "2013-08-08    1195\n",
       "2013-08-15    2668\n",
       "2013-08-16     141\n",
       "2013-08-22    1587\n",
       "2013-08-29    2302\n",
       "2013-09-05     924\n",
       "Name: spray, dtype: int64"
      ]
     },
     "execution_count": 76,
     "metadata": {},
     "output_type": "execute_result"
    }
   ],
   "source": [
    "spray_clean.groupby('date')['spray'].count()"
   ]
  },
  {
   "cell_type": "code",
   "execution_count": 77,
   "id": "55f5c9d2",
   "metadata": {},
   "outputs": [
    {
     "data": {
      "image/png": "[encoded data removed]",
      "text/plain": [
       "<Figure size 432x576 with 1 Axes>"
      ]
     },
     "metadata": {
      "needs_background": "light"
     },
     "output_type": "display_data"
    }
   ],
   "source": [
    "def spray_map(date):\n",
    "    train_longs = train_clean['longitude']\n",
    "    train_lats = train_clean['latitude']\n",
    "\n",
    "    spray_longs = spray_clean.loc[spray_clean['date'] == date, 'longitude']\n",
    "    spray_lats = spray_clean.loc[spray_clean['date'] == date, 'latitude']\n",
    "\n",
    "    plt.figure(figsize=(6,8))\n",
    "    origin = [41.6, -88.0]              # lat/long of origin (lower left corner)\n",
    "    upperRight = [42.1, -87.5]          # lat/long of upper right corner\n",
    "\n",
    "    mapdata = np.loadtxt(\"./assets/mapdata_copyright_openstreetmap_contributors.txt\")\n",
    "\n",
    "    intersection = [41.909614, -87.746134]  # co-ordinates of intersection of IL64 / IL50 according to Google Earth\n",
    "\n",
    "    # generate plot\n",
    "    plt.imshow(mapdata, cmap=plt.get_cmap('gray'), extent=[origin[1], upperRight[1], origin[0], upperRight[0]])\n",
    "    plt.scatter(x=spray_longs, y=spray_lats, c='r', s=10)\n",
    "    plt.scatter(x=train_longs, y=train_lats, c='b', s=15, marker='s')\n",
    "    plt.show()\n",
    "    \n",
    "spray_map('2011-09-07')"
   ]
  },
  {
   "cell_type": "code",
   "execution_count": 78,
   "id": "b9e9c3a9",
   "metadata": {},
   "outputs": [
    {
     "data": {
      "text/plain": [
       "Timestamp('2011-09-02 00:00:00')"
      ]
     },
     "execution_count": 78,
     "metadata": {},
     "output_type": "execute_result"
    }
   ],
   "source": [
    "start_date = pd.to_datetime('2011-09-07') - pd.to_timedelta(5, unit='d')\n",
    "start_date"
   ]
  },
  {
   "cell_type": "code",
   "execution_count": 90,
   "id": "9347b644",
   "metadata": {},
   "outputs": [],
   "source": [
    "def spray_plot(date):\n",
    "    # plot mosquitoes for the traps in the area for the 12 days after (WNV +ve), rain in red? \n",
    "    max_lat = max(spray_clean.loc[spray_clean['date'] == date, 'latitude'])\n",
    "    min_lat = min(spray_clean.loc[spray_clean['date'] == date, 'latitude'])\n",
    "    max_long = max(spray_clean.loc[spray_clean['date'] == date, 'longitude'])\n",
    "    min_long = min(spray_clean.loc[spray_clean['date'] == date, 'longitude'])\n",
    "    \n",
    "    start_date = pd.to_datetime(date) - pd.to_timedelta(7, unit='d') # start 7 days prior\n",
    "    end_date = pd.to_datetime(date) + pd.to_timedelta(12, unit='d') # increase date by 12 day\n",
    "    \n",
    "    mask = (train_comb.index > start_date) & (train_comb.index <= end_date)\n",
    "    train_tempdf = train_comb.loc[mask]\n",
    "    \n",
    "    weekly_mos_count = train_tempdf.loc[((train_tempdf['longitude'] <= max_long) &\n",
    "                                         (train_tempdf['longitude'] >= min_long) &\n",
    "                                         (train_tempdf['latitude'] <= max_lat) &\n",
    "                                         (train_tempdf['latitude'] >= min_lat))\n",
    "                                         ,['nummosquitos', 'ra']].groupby('date').sum()\n",
    "    \n",
    "    spray_8 = pd.to_datetime(date) + pd.to_timedelta(8, unit='d')\n",
    "    spray_10 = pd.to_datetime(date) + pd.to_timedelta(10, unit='d')\n",
    "    print(f'Date Range of Day 8-10 Post-Spray is {spray_8}, {spray_10}.')\n",
    "    plt.figure(figsize=(6,4))\n",
    "    plt.title(f'Number of Mosquitos Caught In Spray Zone, Sprayed: ({date})')\n",
    "    plt.ylabel('Num of Mosquitos')\n",
    "    plt.xlabel(f'Date Range from {start_date} & {end_date}')\n",
    "    sns.barplot(\n",
    "        data = weekly_mos_count,\n",
    "        x = weekly_mos_count.index,\n",
    "        y = 'nummosquitos',\n",
    "        hue = 'ra'\n",
    "    )\n",
    "    plt.show()"
   ]
  },
  {
   "cell_type": "code",
   "execution_count": 91,
   "id": "8edca623",
   "metadata": {},
   "outputs": [
    {
     "name": "stdout",
     "output_type": "stream",
     "text": [
      "Date Range of Day 8-10 Post-Spray is 2011-09-06 00:00:00, 2011-09-08 00:00:00.\n",
      "Empty DataFrame\n",
      "Columns: [nummosquitos, ra]\n",
      "Index: []\n"
     ]
    },
    {
     "ename": "ValueError",
     "evalue": "The truth value of a Series is ambiguous. Use a.empty, a.bool(), a.item(), a.any() or a.all().",
     "output_type": "error",
     "traceback": [
      "\u001b[1;31m---------------------------------------------------------------------------\u001b[0m",
      "\u001b[1;31mValueError\u001b[0m                                Traceback (most recent call last)",
      "\u001b[1;32m<ipython-input-91-33a53ef707cf>\u001b[0m in \u001b[0;36m<module>\u001b[1;34m\u001b[0m\n\u001b[0;32m      1\u001b[0m \u001b[1;32mfor\u001b[0m \u001b[0mdate\u001b[0m \u001b[1;32min\u001b[0m \u001b[0mspray_clean\u001b[0m\u001b[1;33m[\u001b[0m\u001b[1;34m'date'\u001b[0m\u001b[1;33m]\u001b[0m\u001b[1;33m.\u001b[0m\u001b[0munique\u001b[0m\u001b[1;33m(\u001b[0m\u001b[1;33m)\u001b[0m\u001b[1;33m:\u001b[0m\u001b[1;33m\u001b[0m\u001b[1;33m\u001b[0m\u001b[0m\n\u001b[1;32m----> 2\u001b[1;33m     \u001b[0mspray_plot\u001b[0m\u001b[1;33m(\u001b[0m\u001b[0mdate\u001b[0m\u001b[1;33m)\u001b[0m\u001b[1;33m\u001b[0m\u001b[1;33m\u001b[0m\u001b[0m\n\u001b[0m",
      "\u001b[1;32m<ipython-input-90-e65eb65681ed>\u001b[0m in \u001b[0;36mspray_plot\u001b[1;34m(date)\u001b[0m\n\u001b[0;32m     26\u001b[0m     \u001b[0mplt\u001b[0m\u001b[1;33m.\u001b[0m\u001b[0mylabel\u001b[0m\u001b[1;33m(\u001b[0m\u001b[1;34m'Num of Mosquitos'\u001b[0m\u001b[1;33m)\u001b[0m\u001b[1;33m\u001b[0m\u001b[1;33m\u001b[0m\u001b[0m\n\u001b[0;32m     27\u001b[0m     \u001b[0mplt\u001b[0m\u001b[1;33m.\u001b[0m\u001b[0mxlabel\u001b[0m\u001b[1;33m(\u001b[0m\u001b[1;34mf'Date Range from {start_date} & {end_date}'\u001b[0m\u001b[1;33m)\u001b[0m\u001b[1;33m\u001b[0m\u001b[1;33m\u001b[0m\u001b[0m\n\u001b[1;32m---> 28\u001b[1;33m     sns.barplot(\n\u001b[0m\u001b[0;32m     29\u001b[0m         \u001b[0mdata\u001b[0m \u001b[1;33m=\u001b[0m \u001b[0mweekly_mos_count\u001b[0m\u001b[1;33m,\u001b[0m\u001b[1;33m\u001b[0m\u001b[1;33m\u001b[0m\u001b[0m\n\u001b[0;32m     30\u001b[0m         \u001b[0mx\u001b[0m \u001b[1;33m=\u001b[0m \u001b[0mweekly_mos_count\u001b[0m\u001b[1;33m.\u001b[0m\u001b[0mindex\u001b[0m\u001b[1;33m,\u001b[0m\u001b[1;33m\u001b[0m\u001b[1;33m\u001b[0m\u001b[0m\n",
      "\u001b[1;32m~\\anaconda3\\envs\\dsi\\lib\\site-packages\\seaborn\\_decorators.py\u001b[0m in \u001b[0;36minner_f\u001b[1;34m(*args, **kwargs)\u001b[0m\n\u001b[0;32m     44\u001b[0m             )\n\u001b[0;32m     45\u001b[0m         \u001b[0mkwargs\u001b[0m\u001b[1;33m.\u001b[0m\u001b[0mupdate\u001b[0m\u001b[1;33m(\u001b[0m\u001b[1;33m{\u001b[0m\u001b[0mk\u001b[0m\u001b[1;33m:\u001b[0m \u001b[0marg\u001b[0m \u001b[1;32mfor\u001b[0m \u001b[0mk\u001b[0m\u001b[1;33m,\u001b[0m \u001b[0marg\u001b[0m \u001b[1;32min\u001b[0m \u001b[0mzip\u001b[0m\u001b[1;33m(\u001b[0m\u001b[0msig\u001b[0m\u001b[1;33m.\u001b[0m\u001b[0mparameters\u001b[0m\u001b[1;33m,\u001b[0m \u001b[0margs\u001b[0m\u001b[1;33m)\u001b[0m\u001b[1;33m}\u001b[0m\u001b[1;33m)\u001b[0m\u001b[1;33m\u001b[0m\u001b[1;33m\u001b[0m\u001b[0m\n\u001b[1;32m---> 46\u001b[1;33m         \u001b[1;32mreturn\u001b[0m \u001b[0mf\u001b[0m\u001b[1;33m(\u001b[0m\u001b[1;33m**\u001b[0m\u001b[0mkwargs\u001b[0m\u001b[1;33m)\u001b[0m\u001b[1;33m\u001b[0m\u001b[1;33m\u001b[0m\u001b[0m\n\u001b[0m\u001b[0;32m     47\u001b[0m     \u001b[1;32mreturn\u001b[0m \u001b[0minner_f\u001b[0m\u001b[1;33m\u001b[0m\u001b[1;33m\u001b[0m\u001b[0m\n\u001b[0;32m     48\u001b[0m \u001b[1;33m\u001b[0m\u001b[0m\n",
      "\u001b[1;32m~\\anaconda3\\envs\\dsi\\lib\\site-packages\\seaborn\\categorical.py\u001b[0m in \u001b[0;36mbarplot\u001b[1;34m(x, y, hue, data, order, hue_order, estimator, ci, n_boot, units, seed, orient, color, palette, saturation, errcolor, errwidth, capsize, dodge, ax, **kwargs)\u001b[0m\n\u001b[0;32m   3177\u001b[0m ):\n\u001b[0;32m   3178\u001b[0m \u001b[1;33m\u001b[0m\u001b[0m\n\u001b[1;32m-> 3179\u001b[1;33m     plotter = _BarPlotter(x, y, hue, data, order, hue_order,\n\u001b[0m\u001b[0;32m   3180\u001b[0m                           \u001b[0mestimator\u001b[0m\u001b[1;33m,\u001b[0m \u001b[0mci\u001b[0m\u001b[1;33m,\u001b[0m \u001b[0mn_boot\u001b[0m\u001b[1;33m,\u001b[0m \u001b[0munits\u001b[0m\u001b[1;33m,\u001b[0m \u001b[0mseed\u001b[0m\u001b[1;33m,\u001b[0m\u001b[1;33m\u001b[0m\u001b[1;33m\u001b[0m\u001b[0m\n\u001b[0;32m   3181\u001b[0m                           \u001b[0morient\u001b[0m\u001b[1;33m,\u001b[0m \u001b[0mcolor\u001b[0m\u001b[1;33m,\u001b[0m \u001b[0mpalette\u001b[0m\u001b[1;33m,\u001b[0m \u001b[0msaturation\u001b[0m\u001b[1;33m,\u001b[0m\u001b[1;33m\u001b[0m\u001b[1;33m\u001b[0m\u001b[0m\n",
      "\u001b[1;32m~\\anaconda3\\envs\\dsi\\lib\\site-packages\\seaborn\\categorical.py\u001b[0m in \u001b[0;36m__init__\u001b[1;34m(self, x, y, hue, data, order, hue_order, estimator, ci, n_boot, units, seed, orient, color, palette, saturation, errcolor, errwidth, capsize, dodge)\u001b[0m\n\u001b[0;32m   1582\u001b[0m                  errwidth, capsize, dodge):\n\u001b[0;32m   1583\u001b[0m         \u001b[1;34m\"\"\"Initialize the plotter.\"\"\"\u001b[0m\u001b[1;33m\u001b[0m\u001b[1;33m\u001b[0m\u001b[0m\n\u001b[1;32m-> 1584\u001b[1;33m         self.establish_variables(x, y, hue, data, orient,\n\u001b[0m\u001b[0;32m   1585\u001b[0m                                  order, hue_order, units)\n\u001b[0;32m   1586\u001b[0m         \u001b[0mself\u001b[0m\u001b[1;33m.\u001b[0m\u001b[0mestablish_colors\u001b[0m\u001b[1;33m(\u001b[0m\u001b[0mcolor\u001b[0m\u001b[1;33m,\u001b[0m \u001b[0mpalette\u001b[0m\u001b[1;33m,\u001b[0m \u001b[0msaturation\u001b[0m\u001b[1;33m)\u001b[0m\u001b[1;33m\u001b[0m\u001b[1;33m\u001b[0m\u001b[0m\n",
      "\u001b[1;32m~\\anaconda3\\envs\\dsi\\lib\\site-packages\\seaborn\\categorical.py\u001b[0m in \u001b[0;36mestablish_variables\u001b[1;34m(self, x, y, hue, data, orient, order, hue_order, units)\u001b[0m\n\u001b[0;32m    154\u001b[0m \u001b[1;33m\u001b[0m\u001b[0m\n\u001b[0;32m    155\u001b[0m             \u001b[1;31m# Figure out the plotting orientation\u001b[0m\u001b[1;33m\u001b[0m\u001b[1;33m\u001b[0m\u001b[1;33m\u001b[0m\u001b[0m\n\u001b[1;32m--> 156\u001b[1;33m             orient = infer_orient(\n\u001b[0m\u001b[0;32m    157\u001b[0m                 \u001b[0mx\u001b[0m\u001b[1;33m,\u001b[0m \u001b[0my\u001b[0m\u001b[1;33m,\u001b[0m \u001b[0morient\u001b[0m\u001b[1;33m,\u001b[0m \u001b[0mrequire_numeric\u001b[0m\u001b[1;33m=\u001b[0m\u001b[0mself\u001b[0m\u001b[1;33m.\u001b[0m\u001b[0mrequire_numeric\u001b[0m\u001b[1;33m\u001b[0m\u001b[1;33m\u001b[0m\u001b[0m\n\u001b[0;32m    158\u001b[0m             )\n",
      "\u001b[1;32m~\\anaconda3\\envs\\dsi\\lib\\site-packages\\seaborn\\_core.py\u001b[0m in \u001b[0;36minfer_orient\u001b[1;34m(x, y, orient, require_numeric)\u001b[0m\n\u001b[0;32m   1302\u001b[0m     \"\"\"\n\u001b[0;32m   1303\u001b[0m \u001b[1;33m\u001b[0m\u001b[0m\n\u001b[1;32m-> 1304\u001b[1;33m     \u001b[0mx_type\u001b[0m \u001b[1;33m=\u001b[0m \u001b[1;32mNone\u001b[0m \u001b[1;32mif\u001b[0m \u001b[0mx\u001b[0m \u001b[1;32mis\u001b[0m \u001b[1;32mNone\u001b[0m \u001b[1;32melse\u001b[0m \u001b[0mvariable_type\u001b[0m\u001b[1;33m(\u001b[0m\u001b[0mx\u001b[0m\u001b[1;33m)\u001b[0m\u001b[1;33m\u001b[0m\u001b[1;33m\u001b[0m\u001b[0m\n\u001b[0m\u001b[0;32m   1305\u001b[0m     \u001b[0my_type\u001b[0m \u001b[1;33m=\u001b[0m \u001b[1;32mNone\u001b[0m \u001b[1;32mif\u001b[0m \u001b[0my\u001b[0m \u001b[1;32mis\u001b[0m \u001b[1;32mNone\u001b[0m \u001b[1;32melse\u001b[0m \u001b[0mvariable_type\u001b[0m\u001b[1;33m(\u001b[0m\u001b[0my\u001b[0m\u001b[1;33m)\u001b[0m\u001b[1;33m\u001b[0m\u001b[1;33m\u001b[0m\u001b[0m\n\u001b[0;32m   1306\u001b[0m \u001b[1;33m\u001b[0m\u001b[0m\n",
      "\u001b[1;32m~\\anaconda3\\envs\\dsi\\lib\\site-packages\\seaborn\\_core.py\u001b[0m in \u001b[0;36mvariable_type\u001b[1;34m(vector, boolean_type)\u001b[0m\n\u001b[0;32m   1220\u001b[0m \u001b[1;33m\u001b[0m\u001b[0m\n\u001b[0;32m   1221\u001b[0m     \u001b[1;31m# Special-case all-na data, which is always \"numeric\"\u001b[0m\u001b[1;33m\u001b[0m\u001b[1;33m\u001b[0m\u001b[1;33m\u001b[0m\u001b[0m\n\u001b[1;32m-> 1222\u001b[1;33m     \u001b[1;32mif\u001b[0m \u001b[0mpd\u001b[0m\u001b[1;33m.\u001b[0m\u001b[0misna\u001b[0m\u001b[1;33m(\u001b[0m\u001b[0mvector\u001b[0m\u001b[1;33m)\u001b[0m\u001b[1;33m.\u001b[0m\u001b[0mall\u001b[0m\u001b[1;33m(\u001b[0m\u001b[1;33m)\u001b[0m\u001b[1;33m:\u001b[0m\u001b[1;33m\u001b[0m\u001b[1;33m\u001b[0m\u001b[0m\n\u001b[0m\u001b[0;32m   1223\u001b[0m         \u001b[1;32mreturn\u001b[0m \u001b[1;34m\"numeric\"\u001b[0m\u001b[1;33m\u001b[0m\u001b[1;33m\u001b[0m\u001b[0m\n\u001b[0;32m   1224\u001b[0m \u001b[1;33m\u001b[0m\u001b[0m\n",
      "\u001b[1;32m~\\anaconda3\\envs\\dsi\\lib\\site-packages\\pandas\\core\\generic.py\u001b[0m in \u001b[0;36m__nonzero__\u001b[1;34m(self)\u001b[0m\n\u001b[0;32m   1440\u001b[0m     \u001b[1;33m@\u001b[0m\u001b[0mfinal\u001b[0m\u001b[1;33m\u001b[0m\u001b[1;33m\u001b[0m\u001b[0m\n\u001b[0;32m   1441\u001b[0m     \u001b[1;32mdef\u001b[0m \u001b[0m__nonzero__\u001b[0m\u001b[1;33m(\u001b[0m\u001b[0mself\u001b[0m\u001b[1;33m)\u001b[0m\u001b[1;33m:\u001b[0m\u001b[1;33m\u001b[0m\u001b[1;33m\u001b[0m\u001b[0m\n\u001b[1;32m-> 1442\u001b[1;33m         raise ValueError(\n\u001b[0m\u001b[0;32m   1443\u001b[0m             \u001b[1;34mf\"The truth value of a {type(self).__name__} is ambiguous. \"\u001b[0m\u001b[1;33m\u001b[0m\u001b[1;33m\u001b[0m\u001b[0m\n\u001b[0;32m   1444\u001b[0m             \u001b[1;34m\"Use a.empty, a.bool(), a.item(), a.any() or a.all().\"\u001b[0m\u001b[1;33m\u001b[0m\u001b[1;33m\u001b[0m\u001b[0m\n",
      "\u001b[1;31mValueError\u001b[0m: The truth value of a Series is ambiguous. Use a.empty, a.bool(), a.item(), a.any() or a.all()."
     ]
    },
    {
     "data": {
      "image/png": "[encoded data removed]",
      "text/plain": [
       "<Figure size 432x288 with 1 Axes>"
      ]
     },
     "metadata": {
      "needs_background": "light"
     },
     "output_type": "display_data"
    }
   ],
   "source": [
    "for date in spray_clean['date'].unique():\n",
    "    spray_plot(date)"
   ]
  },
  {
   "cell_type": "code",
   "execution_count": null,
   "id": "64377666",
   "metadata": {},
   "outputs": [],
   "source": []
  },
  {
   "cell_type": "code",
   "execution_count": null,
   "id": "d1085bf2",
   "metadata": {},
   "outputs": [],
   "source": []
  },
  {
   "cell_type": "code",
   "execution_count": 87,
   "id": "c3984139",
   "metadata": {},
   "outputs": [
    {
     "name": "stdout",
     "output_type": "stream",
     "text": [
      "Date Range of Day 8-10 Post-Spray is 2011-09-06 00:00:00, 2011-09-08 00:00:00.\n"
     ]
    },
    {
     "ename": "ValueError",
     "evalue": "The truth value of a Series is ambiguous. Use a.empty, a.bool(), a.item(), a.any() or a.all().",
     "output_type": "error",
     "traceback": [
      "\u001b[1;31m---------------------------------------------------------------------------\u001b[0m",
      "\u001b[1;31mValueError\u001b[0m                                Traceback (most recent call last)",
      "\u001b[1;32m<ipython-input-87-33a53ef707cf>\u001b[0m in \u001b[0;36m<module>\u001b[1;34m\u001b[0m\n\u001b[0;32m      1\u001b[0m \u001b[1;32mfor\u001b[0m \u001b[0mdate\u001b[0m \u001b[1;32min\u001b[0m \u001b[0mspray_clean\u001b[0m\u001b[1;33m[\u001b[0m\u001b[1;34m'date'\u001b[0m\u001b[1;33m]\u001b[0m\u001b[1;33m.\u001b[0m\u001b[0munique\u001b[0m\u001b[1;33m(\u001b[0m\u001b[1;33m)\u001b[0m\u001b[1;33m:\u001b[0m\u001b[1;33m\u001b[0m\u001b[1;33m\u001b[0m\u001b[0m\n\u001b[1;32m----> 2\u001b[1;33m     \u001b[0mspray_plot\u001b[0m\u001b[1;33m(\u001b[0m\u001b[0mdate\u001b[0m\u001b[1;33m)\u001b[0m\u001b[1;33m\u001b[0m\u001b[1;33m\u001b[0m\u001b[0m\n\u001b[0m",
      "\u001b[1;32m<ipython-input-86-a3d639eeb61a>\u001b[0m in \u001b[0;36mspray_plot\u001b[1;34m(date)\u001b[0m\n\u001b[0;32m     26\u001b[0m     \u001b[0mplt\u001b[0m\u001b[1;33m.\u001b[0m\u001b[0mylabel\u001b[0m\u001b[1;33m(\u001b[0m\u001b[1;34m'Num of Mosquitos'\u001b[0m\u001b[1;33m)\u001b[0m\u001b[1;33m\u001b[0m\u001b[1;33m\u001b[0m\u001b[0m\n\u001b[0;32m     27\u001b[0m     \u001b[0mplt\u001b[0m\u001b[1;33m.\u001b[0m\u001b[0mxlabel\u001b[0m\u001b[1;33m(\u001b[0m\u001b[1;34mf'Date Range from {start_date} & {end_date}'\u001b[0m\u001b[1;33m)\u001b[0m\u001b[1;33m\u001b[0m\u001b[1;33m\u001b[0m\u001b[0m\n\u001b[1;32m---> 28\u001b[1;33m     sns.barplot(\n\u001b[0m\u001b[0;32m     29\u001b[0m         \u001b[0mdata\u001b[0m \u001b[1;33m=\u001b[0m \u001b[0mweekly_mos_count\u001b[0m\u001b[1;33m,\u001b[0m\u001b[1;33m\u001b[0m\u001b[1;33m\u001b[0m\u001b[0m\n\u001b[0;32m     30\u001b[0m         \u001b[0mx\u001b[0m \u001b[1;33m=\u001b[0m \u001b[0mweekly_mos_count\u001b[0m\u001b[1;33m.\u001b[0m\u001b[0mindex\u001b[0m\u001b[1;33m,\u001b[0m\u001b[1;33m\u001b[0m\u001b[1;33m\u001b[0m\u001b[0m\n",
      "\u001b[1;32m~\\anaconda3\\envs\\dsi\\lib\\site-packages\\seaborn\\_decorators.py\u001b[0m in \u001b[0;36minner_f\u001b[1;34m(*args, **kwargs)\u001b[0m\n\u001b[0;32m     44\u001b[0m             )\n\u001b[0;32m     45\u001b[0m         \u001b[0mkwargs\u001b[0m\u001b[1;33m.\u001b[0m\u001b[0mupdate\u001b[0m\u001b[1;33m(\u001b[0m\u001b[1;33m{\u001b[0m\u001b[0mk\u001b[0m\u001b[1;33m:\u001b[0m \u001b[0marg\u001b[0m \u001b[1;32mfor\u001b[0m \u001b[0mk\u001b[0m\u001b[1;33m,\u001b[0m \u001b[0marg\u001b[0m \u001b[1;32min\u001b[0m \u001b[0mzip\u001b[0m\u001b[1;33m(\u001b[0m\u001b[0msig\u001b[0m\u001b[1;33m.\u001b[0m\u001b[0mparameters\u001b[0m\u001b[1;33m,\u001b[0m \u001b[0margs\u001b[0m\u001b[1;33m)\u001b[0m\u001b[1;33m}\u001b[0m\u001b[1;33m)\u001b[0m\u001b[1;33m\u001b[0m\u001b[1;33m\u001b[0m\u001b[0m\n\u001b[1;32m---> 46\u001b[1;33m         \u001b[1;32mreturn\u001b[0m \u001b[0mf\u001b[0m\u001b[1;33m(\u001b[0m\u001b[1;33m**\u001b[0m\u001b[0mkwargs\u001b[0m\u001b[1;33m)\u001b[0m\u001b[1;33m\u001b[0m\u001b[1;33m\u001b[0m\u001b[0m\n\u001b[0m\u001b[0;32m     47\u001b[0m     \u001b[1;32mreturn\u001b[0m \u001b[0minner_f\u001b[0m\u001b[1;33m\u001b[0m\u001b[1;33m\u001b[0m\u001b[0m\n\u001b[0;32m     48\u001b[0m \u001b[1;33m\u001b[0m\u001b[0m\n",
      "\u001b[1;32m~\\anaconda3\\envs\\dsi\\lib\\site-packages\\seaborn\\categorical.py\u001b[0m in \u001b[0;36mbarplot\u001b[1;34m(x, y, hue, data, order, hue_order, estimator, ci, n_boot, units, seed, orient, color, palette, saturation, errcolor, errwidth, capsize, dodge, ax, **kwargs)\u001b[0m\n\u001b[0;32m   3177\u001b[0m ):\n\u001b[0;32m   3178\u001b[0m \u001b[1;33m\u001b[0m\u001b[0m\n\u001b[1;32m-> 3179\u001b[1;33m     plotter = _BarPlotter(x, y, hue, data, order, hue_order,\n\u001b[0m\u001b[0;32m   3180\u001b[0m                           \u001b[0mestimator\u001b[0m\u001b[1;33m,\u001b[0m \u001b[0mci\u001b[0m\u001b[1;33m,\u001b[0m \u001b[0mn_boot\u001b[0m\u001b[1;33m,\u001b[0m \u001b[0munits\u001b[0m\u001b[1;33m,\u001b[0m \u001b[0mseed\u001b[0m\u001b[1;33m,\u001b[0m\u001b[1;33m\u001b[0m\u001b[1;33m\u001b[0m\u001b[0m\n\u001b[0;32m   3181\u001b[0m                           \u001b[0morient\u001b[0m\u001b[1;33m,\u001b[0m \u001b[0mcolor\u001b[0m\u001b[1;33m,\u001b[0m \u001b[0mpalette\u001b[0m\u001b[1;33m,\u001b[0m \u001b[0msaturation\u001b[0m\u001b[1;33m,\u001b[0m\u001b[1;33m\u001b[0m\u001b[1;33m\u001b[0m\u001b[0m\n",
      "\u001b[1;32m~\\anaconda3\\envs\\dsi\\lib\\site-packages\\seaborn\\categorical.py\u001b[0m in \u001b[0;36m__init__\u001b[1;34m(self, x, y, hue, data, order, hue_order, estimator, ci, n_boot, units, seed, orient, color, palette, saturation, errcolor, errwidth, capsize, dodge)\u001b[0m\n\u001b[0;32m   1582\u001b[0m                  errwidth, capsize, dodge):\n\u001b[0;32m   1583\u001b[0m         \u001b[1;34m\"\"\"Initialize the plotter.\"\"\"\u001b[0m\u001b[1;33m\u001b[0m\u001b[1;33m\u001b[0m\u001b[0m\n\u001b[1;32m-> 1584\u001b[1;33m         self.establish_variables(x, y, hue, data, orient,\n\u001b[0m\u001b[0;32m   1585\u001b[0m                                  order, hue_order, units)\n\u001b[0;32m   1586\u001b[0m         \u001b[0mself\u001b[0m\u001b[1;33m.\u001b[0m\u001b[0mestablish_colors\u001b[0m\u001b[1;33m(\u001b[0m\u001b[0mcolor\u001b[0m\u001b[1;33m,\u001b[0m \u001b[0mpalette\u001b[0m\u001b[1;33m,\u001b[0m \u001b[0msaturation\u001b[0m\u001b[1;33m)\u001b[0m\u001b[1;33m\u001b[0m\u001b[1;33m\u001b[0m\u001b[0m\n",
      "\u001b[1;32m~\\anaconda3\\envs\\dsi\\lib\\site-packages\\seaborn\\categorical.py\u001b[0m in \u001b[0;36mestablish_variables\u001b[1;34m(self, x, y, hue, data, orient, order, hue_order, units)\u001b[0m\n\u001b[0;32m    154\u001b[0m \u001b[1;33m\u001b[0m\u001b[0m\n\u001b[0;32m    155\u001b[0m             \u001b[1;31m# Figure out the plotting orientation\u001b[0m\u001b[1;33m\u001b[0m\u001b[1;33m\u001b[0m\u001b[1;33m\u001b[0m\u001b[0m\n\u001b[1;32m--> 156\u001b[1;33m             orient = infer_orient(\n\u001b[0m\u001b[0;32m    157\u001b[0m                 \u001b[0mx\u001b[0m\u001b[1;33m,\u001b[0m \u001b[0my\u001b[0m\u001b[1;33m,\u001b[0m \u001b[0morient\u001b[0m\u001b[1;33m,\u001b[0m \u001b[0mrequire_numeric\u001b[0m\u001b[1;33m=\u001b[0m\u001b[0mself\u001b[0m\u001b[1;33m.\u001b[0m\u001b[0mrequire_numeric\u001b[0m\u001b[1;33m\u001b[0m\u001b[1;33m\u001b[0m\u001b[0m\n\u001b[0;32m    158\u001b[0m             )\n",
      "\u001b[1;32m~\\anaconda3\\envs\\dsi\\lib\\site-packages\\seaborn\\_core.py\u001b[0m in \u001b[0;36minfer_orient\u001b[1;34m(x, y, orient, require_numeric)\u001b[0m\n\u001b[0;32m   1302\u001b[0m     \"\"\"\n\u001b[0;32m   1303\u001b[0m \u001b[1;33m\u001b[0m\u001b[0m\n\u001b[1;32m-> 1304\u001b[1;33m     \u001b[0mx_type\u001b[0m \u001b[1;33m=\u001b[0m \u001b[1;32mNone\u001b[0m \u001b[1;32mif\u001b[0m \u001b[0mx\u001b[0m \u001b[1;32mis\u001b[0m \u001b[1;32mNone\u001b[0m \u001b[1;32melse\u001b[0m \u001b[0mvariable_type\u001b[0m\u001b[1;33m(\u001b[0m\u001b[0mx\u001b[0m\u001b[1;33m)\u001b[0m\u001b[1;33m\u001b[0m\u001b[1;33m\u001b[0m\u001b[0m\n\u001b[0m\u001b[0;32m   1305\u001b[0m     \u001b[0my_type\u001b[0m \u001b[1;33m=\u001b[0m \u001b[1;32mNone\u001b[0m \u001b[1;32mif\u001b[0m \u001b[0my\u001b[0m \u001b[1;32mis\u001b[0m \u001b[1;32mNone\u001b[0m \u001b[1;32melse\u001b[0m \u001b[0mvariable_type\u001b[0m\u001b[1;33m(\u001b[0m\u001b[0my\u001b[0m\u001b[1;33m)\u001b[0m\u001b[1;33m\u001b[0m\u001b[1;33m\u001b[0m\u001b[0m\n\u001b[0;32m   1306\u001b[0m \u001b[1;33m\u001b[0m\u001b[0m\n",
      "\u001b[1;32m~\\anaconda3\\envs\\dsi\\lib\\site-packages\\seaborn\\_core.py\u001b[0m in \u001b[0;36mvariable_type\u001b[1;34m(vector, boolean_type)\u001b[0m\n\u001b[0;32m   1220\u001b[0m \u001b[1;33m\u001b[0m\u001b[0m\n\u001b[0;32m   1221\u001b[0m     \u001b[1;31m# Special-case all-na data, which is always \"numeric\"\u001b[0m\u001b[1;33m\u001b[0m\u001b[1;33m\u001b[0m\u001b[1;33m\u001b[0m\u001b[0m\n\u001b[1;32m-> 1222\u001b[1;33m     \u001b[1;32mif\u001b[0m \u001b[0mpd\u001b[0m\u001b[1;33m.\u001b[0m\u001b[0misna\u001b[0m\u001b[1;33m(\u001b[0m\u001b[0mvector\u001b[0m\u001b[1;33m)\u001b[0m\u001b[1;33m.\u001b[0m\u001b[0mall\u001b[0m\u001b[1;33m(\u001b[0m\u001b[1;33m)\u001b[0m\u001b[1;33m:\u001b[0m\u001b[1;33m\u001b[0m\u001b[1;33m\u001b[0m\u001b[0m\n\u001b[0m\u001b[0;32m   1223\u001b[0m         \u001b[1;32mreturn\u001b[0m \u001b[1;34m\"numeric\"\u001b[0m\u001b[1;33m\u001b[0m\u001b[1;33m\u001b[0m\u001b[0m\n\u001b[0;32m   1224\u001b[0m \u001b[1;33m\u001b[0m\u001b[0m\n",
      "\u001b[1;32m~\\anaconda3\\envs\\dsi\\lib\\site-packages\\pandas\\core\\generic.py\u001b[0m in \u001b[0;36m__nonzero__\u001b[1;34m(self)\u001b[0m\n\u001b[0;32m   1440\u001b[0m     \u001b[1;33m@\u001b[0m\u001b[0mfinal\u001b[0m\u001b[1;33m\u001b[0m\u001b[1;33m\u001b[0m\u001b[0m\n\u001b[0;32m   1441\u001b[0m     \u001b[1;32mdef\u001b[0m \u001b[0m__nonzero__\u001b[0m\u001b[1;33m(\u001b[0m\u001b[0mself\u001b[0m\u001b[1;33m)\u001b[0m\u001b[1;33m:\u001b[0m\u001b[1;33m\u001b[0m\u001b[1;33m\u001b[0m\u001b[0m\n\u001b[1;32m-> 1442\u001b[1;33m         raise ValueError(\n\u001b[0m\u001b[0;32m   1443\u001b[0m             \u001b[1;34mf\"The truth value of a {type(self).__name__} is ambiguous. \"\u001b[0m\u001b[1;33m\u001b[0m\u001b[1;33m\u001b[0m\u001b[0m\n\u001b[0;32m   1444\u001b[0m             \u001b[1;34m\"Use a.empty, a.bool(), a.item(), a.any() or a.all().\"\u001b[0m\u001b[1;33m\u001b[0m\u001b[1;33m\u001b[0m\u001b[0m\n",
      "\u001b[1;31mValueError\u001b[0m: The truth value of a Series is ambiguous. Use a.empty, a.bool(), a.item(), a.any() or a.all()."
     ]
    },
    {
     "data": {
      "image/png": "[encoded data removed]",
      "text/plain": [
       "<Figure size 432x288 with 1 Axes>"
      ]
     },
     "metadata": {
      "needs_background": "light"
     },
     "output_type": "display_data"
    }
   ],
   "source": [
    "for date in spray_clean['date'].unique():\n",
    "    spray_plot(date)"
   ]
  },
  {
   "cell_type": "code",
   "execution_count": null,
   "id": "a1065e57",
   "metadata": {},
   "outputs": [],
   "source": []
  },
  {
   "cell_type": "code",
   "execution_count": null,
   "id": "3249e9e0",
   "metadata": {},
   "outputs": [],
   "source": []
  },
  {
   "cell_type": "code",
   "execution_count": null,
   "id": "965837af",
   "metadata": {},
   "outputs": [],
   "source": []
  },
  {
   "cell_type": "code",
   "execution_count": null,
   "id": "7281413c",
   "metadata": {},
   "outputs": [],
   "source": []
  },
  {
   "cell_type": "code",
   "execution_count": null,
   "id": "9aa49c60",
   "metadata": {},
   "outputs": [],
   "source": []
  },
  {
   "cell_type": "code",
   "execution_count": 81,
   "id": "90a03a7c",
   "metadata": {},
   "outputs": [],
   "source": [
    "train_comb = train_clean.merge(\n",
    "    weather_clean, \n",
    "    how='left', \n",
    "    on = ['date', 'day', 'month', 'year'])"
   ]
  },
  {
   "cell_type": "code",
   "execution_count": 82,
   "id": "ede982d4",
   "metadata": {},
   "outputs": [],
   "source": [
    "spray_comb = pd.concat(objs = [train_comb, spray_clean])"
   ]
  },
  {
   "cell_type": "code",
   "execution_count": 83,
   "id": "46912bd0",
   "metadata": {},
   "outputs": [],
   "source": [
    "spray_comb['spray'].fillna(0, inplace = True)"
   ]
  },
  {
   "cell_type": "code",
   "execution_count": 84,
   "id": "a7967d8e",
   "metadata": {},
   "outputs": [],
   "source": [
    "train_comb = train_comb.set_index('date').sort_index()\n",
    "spray_comb = spray_comb.set_index('date').sort_index()"
   ]
  },
  {
   "cell_type": "code",
   "execution_count": 85,
   "id": "81d52b6a",
   "metadata": {},
   "outputs": [
    {
     "name": "stdout",
     "output_type": "stream",
     "text": [
      "<class 'pandas.core.frame.DataFrame'>\n",
      "DatetimeIndex: 19386 entries, 2007-05-29 to 2013-09-26\n",
      "Data columns (total 43 columns):\n",
      " #   Column           Non-Null Count  Dtype  \n",
      "---  ------           --------------  -----  \n",
      " 0   species          19386 non-null  object \n",
      " 1   trap             19386 non-null  object \n",
      " 2   latitude         19386 non-null  float64\n",
      " 3   longitude        19386 non-null  float64\n",
      " 4   addressaccuracy  19386 non-null  int64  \n",
      " 5   nummosquitos     19386 non-null  int64  \n",
      " 6   wnvpresent       19386 non-null  int64  \n",
      " 7   day              19386 non-null  int64  \n",
      " 8   month            19386 non-null  int64  \n",
      " 9   year             19386 non-null  int64  \n",
      " 10  station          19386 non-null  int64  \n",
      " 11  tmax             19386 non-null  int64  \n",
      " 12  tmin             19386 non-null  int64  \n",
      " 13  tavg             19386 non-null  int64  \n",
      " 14  depart           19386 non-null  float64\n",
      " 15  dewpoint         19386 non-null  int64  \n",
      " 16  wetbulb          19386 non-null  float64\n",
      " 17  heat             19386 non-null  int64  \n",
      " 18  cool             19386 non-null  int64  \n",
      " 19  sunrise          19386 non-null  int64  \n",
      " 20  sunset           19386 non-null  int64  \n",
      " 21  preciptotal      19386 non-null  float64\n",
      " 22  stnpressure      19386 non-null  float64\n",
      " 23  sealevel         19386 non-null  float64\n",
      " 24  resultspeed      19386 non-null  float64\n",
      " 25  resultdir        19386 non-null  int64  \n",
      " 26  avgspeed         19386 non-null  float64\n",
      " 27  sunrise_dur      19386 non-null  int64  \n",
      " 28  sunset_dur       19386 non-null  int64  \n",
      " 29  bcfg             19386 non-null  int64  \n",
      " 30  br               19386 non-null  int64  \n",
      " 31  dz               19386 non-null  int64  \n",
      " 32  fg               19386 non-null  int64  \n",
      " 33  fu               19386 non-null  int64  \n",
      " 34  gr               19386 non-null  int64  \n",
      " 35  hz               19386 non-null  int64  \n",
      " 36  mifg             19386 non-null  int64  \n",
      " 37  ra               19386 non-null  int64  \n",
      " 38  sn               19386 non-null  int64  \n",
      " 39  sq               19386 non-null  int64  \n",
      " 40  ts               19386 non-null  int64  \n",
      " 41  vcfg             19386 non-null  int64  \n",
      " 42  vcts             19386 non-null  int64  \n",
      "dtypes: float64(9), int64(32), object(2)\n",
      "memory usage: 6.5+ MB\n"
     ]
    }
   ],
   "source": [
    "train_comb.info()"
   ]
  },
  {
   "cell_type": "markdown",
   "id": "32021468",
   "metadata": {},
   "source": [
    "# Exploratory Data Analysis"
   ]
  },
  {
   "cell_type": "markdown",
   "id": "8ce3d49c",
   "metadata": {},
   "source": [
    "## Research"
   ]
  },
  {
   "cell_type": "markdown",
   "id": "05ef4af0",
   "metadata": {},
   "source": [
    "Based on this [CDC link](https://www.cdc.gov/dengue/resources/factsheets/mosquitolifecyclefinal.pdf), the entire lifecycle of a mosquito (from egg to adult) takes approximately 8-10 days.\n",
    "\n",
    "This [link](https://www.preventivepestcontrol.com/weather-affect-mosquito-activity/) discusses about the type of weather favored by mosquitoes. Mosquitoes enjoy wet and warm climates and are most active in temperatures above 80 degrees. Conversely, when temperatures go below 50 degrees, mosquitoes go dormant.   \n",
    "\n",
    "This [link](https://www.ncbi.nlm.nih.gov/pmc/articles/PMC3939474/) discusses the several symptoms (while extremely) of WNV. In general, 80% of persons infected with WNV remain asymptomatic. Of those who develop symptoms, the vast majority develop an acute, systemic febrile illness (“West Nile fever”, WNF). Data suggest that less than 1% of infected persons develop neurologic illness, which is primarily attributed to neuroinvasive disease. However, it is noted that the WNV continues to spread across US and will likely be a constant year-around presence. The need for effective vaccines and treatments is increasing in importance as this disease continues to expand its range and increase in severity."
   ]
  },
  {
   "cell_type": "markdown",
   "id": "c92e2252",
   "metadata": {},
   "source": [
    "## Number of Species"
   ]
  },
  {
   "cell_type": "code",
   "execution_count": null,
   "id": "8a431710",
   "metadata": {},
   "outputs": [],
   "source": [
    "plt.figure(figsize=(15,8))\n",
    "plt.bar(x=train_comb['species'].unique(), height=train_comb['species'].value_counts())\n",
    "\n",
    "plt.title('Species of Mosquitoes', fontsize=20);"
   ]
  },
  {
   "cell_type": "code",
   "execution_count": null,
   "id": "8c2ada61",
   "metadata": {},
   "outputs": [],
   "source": [
    "plt.figure(figsize=(15,8))\n",
    "train_comb.groupby('trap')['nummosquitos'].sum().sort_values(ascending=False).head().plot(kind='bar')\n",
    "\n",
    "plt.title('Top 5 traps showing the most number of mosquitoes', fontsize=20);\n"
   ]
  },
  {
   "cell_type": "markdown",
   "id": "de2858dc",
   "metadata": {},
   "source": [
    "Let's have a look at where these traps are located at."
   ]
  },
  {
   "cell_type": "code",
   "execution_count": null,
   "id": "a5642156",
   "metadata": {},
   "outputs": [],
   "source": [
    "# looking at locations\n",
    "train_comb.groupby(['latitude', 'longitude'])['nummosquitos'].sum().sort_values(ascending=False)"
   ]
  },
  {
   "cell_type": "markdown",
   "id": "1a4e9981",
   "metadata": {},
   "source": [
    "We can narrow down and look at the areas where there are high records of mosquitoes based on the latitude and longitude data."
   ]
  },
  {
   "cell_type": "markdown",
   "id": "bef31a47",
   "metadata": {},
   "source": [
    "## Frequency of mosquitoes over the years"
   ]
  },
  {
   "cell_type": "code",
   "execution_count": null,
   "id": "c8171896",
   "metadata": {},
   "outputs": [],
   "source": [
    "train_clean.head()"
   ]
  },
  {
   "cell_type": "markdown",
   "id": "5ce40be6",
   "metadata": {},
   "source": [
    "## Frequency of mosquitoes over the years (by species)"
   ]
  },
  {
   "cell_type": "code",
   "execution_count": null,
   "id": "92cb7f06",
   "metadata": {},
   "outputs": [],
   "source": [
    "train_comb.groupby(['year', 'species'])[['nummosquitos']].sum()"
   ]
  },
  {
   "cell_type": "code",
   "execution_count": null,
   "id": "5704cce7",
   "metadata": {},
   "outputs": [],
   "source": [
    "plt.figure(figsize=(15,15))\n",
    "sns.barplot(data=train_comb.groupby(['year', 'species'])['nummosquitos'].sum().reset_index(),\n",
    "            x='year',\n",
    "            y='nummosquitos',\n",
    "            hue='species');"
   ]
  },
  {
   "cell_type": "markdown",
   "id": "76eed12b",
   "metadata": {},
   "source": [
    "## Frequency of mosquitoes for each day for each year"
   ]
  },
  {
   "cell_type": "code",
   "execution_count": null,
   "id": "83ddf923",
   "metadata": {},
   "outputs": [],
   "source": [
    "# finding out the number of mosquitoes by each day\n",
    "train_clean.groupby(['date', 'species', 'trap', 'latitude', 'longitude', \n",
    "                     'addressaccuracy', 'wnvpresent', 'day', 'month', 'year']).sum().reset_index()"
   ]
  },
  {
   "cell_type": "code",
   "execution_count": null,
   "id": "c69307dd",
   "metadata": {},
   "outputs": [],
   "source": [
    "train_clean.groupby('date')['nummosquitos'].sum()"
   ]
  },
  {
   "cell_type": "code",
   "execution_count": null,
   "id": "27f8bb5c",
   "metadata": {},
   "outputs": [],
   "source": [
    "# set date as index and sort it\n",
    "train_clean_timeindex = train_clean.set_index('date').sort_index()"
   ]
  },
  {
   "cell_type": "code",
   "execution_count": null,
   "id": "9abb7c21",
   "metadata": {},
   "outputs": [],
   "source": [
    "from matplotlib.dates import DateFormatter\n",
    "import matplotlib.dates as mdates"
   ]
  },
  {
   "cell_type": "code",
   "execution_count": null,
   "id": "d96407c2",
   "metadata": {},
   "outputs": [],
   "source": [
    "# did a loop to plot daily mosquito frequency for all years in train_clean\n",
    "# unable to resolve xtick labels\n",
    "\n",
    "dates = ['2007', '2009', '2011', '2013']\n",
    "\n",
    "for i in range(len(dates)):\n",
    "    plt.figure(figsize=(30,30))\n",
    "    plt.subplot(4, 1, i+1)\n",
    "    sns.barplot(data=train_clean_timeindex.loc[dates[i]].groupby('date')['nummosquitos'].sum().reset_index(),\n",
    "                x='date',\n",
    "                y='nummosquitos')\n",
    "\n",
    "    #ax.xaxis.set_major_formatter(mdates.DateFormatter('%Y-%m'))\n",
    "    #ax.bar(train_clean_timeindex[dates[i]], train_clean_timeindex[dates[i]]['nummosquitos'])\n",
    "\n",
    "\n",
    "    plt.title(f'Frequency of Mosquitoes for {dates[i]}', fontsize=20)\n",
    "    plt.xticks(rotation=45, fontsize=15);"
   ]
  },
  {
   "cell_type": "markdown",
   "id": "ec370258",
   "metadata": {},
   "source": [
    "## Correlation Matrix"
   ]
  },
  {
   "cell_type": "code",
   "execution_count": null,
   "id": "849d3467",
   "metadata": {},
   "outputs": [],
   "source": [
    "combine['total_sunlight_mins'] = combine['sunset_dur'] - combine['sunrise_dur']"
   ]
  },
  {
   "cell_type": "code",
   "execution_count": null,
   "id": "c14a5c5d",
   "metadata": {},
   "outputs": [],
   "source": [
    "combine.drop(columns=['sunrise_dur', 'sunset_dur'], inplace=True)"
   ]
  },
  {
   "cell_type": "code",
   "execution_count": null,
   "id": "bb44b9b1",
   "metadata": {},
   "outputs": [],
   "source": [
    "sun_data = combine[['sunrise', 'sunset', 'total_sunlight_mins']]\n",
    "plt.figure()\n",
    "matrix = np.triu(sun_data.corr())\n",
    "\n",
    "sns.heatmap(sun_data.corr(), annot=True, cmap='coolwarm', mask=matrix, vmin=-1, vmax=1);\n",
    "\n",
    "plt.title('Correlation Matrix \\nOf Sun-Related Data', size = 15);"
   ]
  },
  {
   "cell_type": "code",
   "execution_count": null,
   "id": "6857b79d",
   "metadata": {},
   "outputs": [],
   "source": [
    "temp_data = combine[['tmax', 'tmin', 'tavg', 'heat', 'cool']]\n",
    "plt.figure()\n",
    "matrix = np.triu(temp_data.corr())\n",
    "\n",
    "sns.heatmap(temp_data.corr(), annot=True, cmap='coolwarm', mask=matrix, vmin=-1, vmax=1);\n",
    "\n",
    "plt.title('Correlation Matrix \\nOf Temp-Related Data', size = 15);"
   ]
  },
  {
   "cell_type": "code",
   "execution_count": null,
   "id": "0e3fa50e",
   "metadata": {},
   "outputs": [],
   "source": [
    "# location of sprays\n",
    "mapdata = np.loadtxt(\"./assets/mapdata_copyright_openstreetmap_contributors.txt\")\n",
    "\n",
    "origin = [41.6, -88.0]              # lat/long of origin (lower left corner)\n",
    "upperRight = [42.5, -87.5]          # lat/long of upper right corner\n",
    "\n",
    "fig, ax = plt.subplots(1, 2, figsize = (20,15))\n",
    "ax[0].imshow(mapdata, cmap=plt.get_cmap('gray'), extent=[origin[1], upperRight[1], origin[0], upperRight[0]])\n",
    "ax[1].imshow(mapdata, cmap=plt.get_cmap('gray'), extent=[origin[1], upperRight[1], origin[0], upperRight[0]])\n",
    "\n",
    "sns.scatterplot(data=spray[spray['year'] == 2011], x='longitude', y='latitude', hue='date', ax=ax[0])\n",
    "sns.scatterplot(data=spray[spray['year'] == 2013], x='longitude', y='latitude', hue='date', ax=ax[1])\n",
    "\n",
    "ax[0].set_title('Location of sprays for 2011')\n",
    "ax[1].set_title('Location of sprays for 2013');"
   ]
  },
  {
   "cell_type": "code",
   "execution_count": null,
   "id": "951b6621",
   "metadata": {},
   "outputs": [],
   "source": []
  },
  {
   "cell_type": "code",
   "execution_count": null,
   "id": "6f2643db",
   "metadata": {},
   "outputs": [],
   "source": []
  },
  {
   "cell_type": "code",
   "execution_count": 92,
   "id": "750ad2ef",
   "metadata": {},
   "outputs": [
    {
     "name": "stdout",
     "output_type": "stream",
     "text": [
      "<class 'pandas.core.frame.DataFrame'>\n",
      "DatetimeIndex: 33680 entries, 2007-05-29 to 2013-09-26\n",
      "Data columns (total 44 columns):\n",
      " #   Column           Non-Null Count  Dtype  \n",
      "---  ------           --------------  -----  \n",
      " 0   species          19386 non-null  object \n",
      " 1   trap             19386 non-null  object \n",
      " 2   latitude         33680 non-null  float64\n",
      " 3   longitude        33680 non-null  float64\n",
      " 4   addressaccuracy  19386 non-null  float64\n",
      " 5   nummosquitos     19386 non-null  float64\n",
      " 6   wnvpresent       19386 non-null  float64\n",
      " 7   day              33680 non-null  int64  \n",
      " 8   month            33680 non-null  int64  \n",
      " 9   year             33680 non-null  int64  \n",
      " 10  station          19386 non-null  float64\n",
      " 11  tmax             19386 non-null  float64\n",
      " 12  tmin             19386 non-null  float64\n",
      " 13  tavg             19386 non-null  float64\n",
      " 14  depart           19386 non-null  float64\n",
      " 15  dewpoint         19386 non-null  float64\n",
      " 16  wetbulb          19386 non-null  float64\n",
      " 17  heat             19386 non-null  float64\n",
      " 18  cool             19386 non-null  float64\n",
      " 19  sunrise          19386 non-null  float64\n",
      " 20  sunset           19386 non-null  float64\n",
      " 21  preciptotal      19386 non-null  float64\n",
      " 22  stnpressure      19386 non-null  float64\n",
      " 23  sealevel         19386 non-null  float64\n",
      " 24  resultspeed      19386 non-null  float64\n",
      " 25  resultdir        19386 non-null  float64\n",
      " 26  avgspeed         19386 non-null  float64\n",
      " 27  sunrise_dur      19386 non-null  float64\n",
      " 28  sunset_dur       19386 non-null  float64\n",
      " 29  bcfg             19386 non-null  float64\n",
      " 30  br               19386 non-null  float64\n",
      " 31  dz               19386 non-null  float64\n",
      " 32  fg               19386 non-null  float64\n",
      " 33  fu               19386 non-null  float64\n",
      " 34  gr               19386 non-null  float64\n",
      " 35  hz               19386 non-null  float64\n",
      " 36  mifg             19386 non-null  float64\n",
      " 37  ra               19386 non-null  float64\n",
      " 38  sn               19386 non-null  float64\n",
      " 39  sq               19386 non-null  float64\n",
      " 40  ts               19386 non-null  float64\n",
      " 41  vcfg             19386 non-null  float64\n",
      " 42  vcts             19386 non-null  float64\n",
      " 43  spray            33680 non-null  float64\n",
      "dtypes: float64(39), int64(3), object(2)\n",
      "memory usage: 11.6+ MB\n"
     ]
    }
   ],
   "source": [
    "spray_comb.info()"
   ]
  },
  {
   "cell_type": "code",
   "execution_count": 93,
   "id": "6dd1b820",
   "metadata": {},
   "outputs": [
    {
     "data": {
      "text/plain": [
       "array(['2011-08-29T00:00:00.000000000', '2011-09-07T00:00:00.000000000',\n",
       "       '2013-07-17T00:00:00.000000000', '2013-07-25T00:00:00.000000000',\n",
       "       '2013-08-08T00:00:00.000000000', '2013-08-15T00:00:00.000000000',\n",
       "       '2013-08-16T00:00:00.000000000', '2013-08-22T00:00:00.000000000',\n",
       "       '2013-08-29T00:00:00.000000000', '2013-09-05T00:00:00.000000000'],\n",
       "      dtype='datetime64[ns]')"
      ]
     },
     "execution_count": 93,
     "metadata": {},
     "output_type": "execute_result"
    }
   ],
   "source": [
    "spray_clean['date'].unique()"
   ]
  },
  {
   "cell_type": "code",
   "execution_count": 94,
   "id": "7a495348",
   "metadata": {},
   "outputs": [
    {
     "data": {
      "text/plain": [
       "array(['2011-06-10T00:00:00.000000000', '2011-06-17T00:00:00.000000000',\n",
       "       '2011-06-24T00:00:00.000000000', '2011-06-30T00:00:00.000000000',\n",
       "       '2011-07-11T00:00:00.000000000', '2011-07-15T00:00:00.000000000',\n",
       "       '2011-07-25T00:00:00.000000000', '2011-07-29T00:00:00.000000000',\n",
       "       '2011-08-05T00:00:00.000000000', '2011-08-12T00:00:00.000000000',\n",
       "       '2011-08-19T00:00:00.000000000', '2011-08-26T00:00:00.000000000',\n",
       "       '2011-09-01T00:00:00.000000000', '2011-09-02T00:00:00.000000000',\n",
       "       '2011-09-12T00:00:00.000000000', '2011-09-16T00:00:00.000000000',\n",
       "       '2011-09-23T00:00:00.000000000', '2011-09-30T00:00:00.000000000'],\n",
       "      dtype='datetime64[ns]')"
      ]
     },
     "execution_count": 94,
     "metadata": {},
     "output_type": "execute_result"
    }
   ],
   "source": [
    "train_clean.loc[train_clean['year'] == 2011, 'date'].unique()"
   ]
  },
  {
   "cell_type": "code",
   "execution_count": 95,
   "id": "ae2b561c",
   "metadata": {},
   "outputs": [
    {
     "data": {
      "text/plain": [
       "array(['2013-06-07T00:00:00.000000000', '2013-06-14T00:00:00.000000000',\n",
       "       '2013-06-21T00:00:00.000000000', '2013-06-27T00:00:00.000000000',\n",
       "       '2013-06-28T00:00:00.000000000', '2013-07-08T00:00:00.000000000',\n",
       "       '2013-07-12T00:00:00.000000000', '2013-07-19T00:00:00.000000000',\n",
       "       '2013-07-25T00:00:00.000000000', '2013-08-01T00:00:00.000000000',\n",
       "       '2013-08-08T00:00:00.000000000', '2013-08-15T00:00:00.000000000',\n",
       "       '2013-08-22T00:00:00.000000000', '2013-08-29T00:00:00.000000000',\n",
       "       '2013-09-06T00:00:00.000000000', '2013-09-12T00:00:00.000000000',\n",
       "       '2013-09-19T00:00:00.000000000', '2013-09-26T00:00:00.000000000'],\n",
       "      dtype='datetime64[ns]')"
      ]
     },
     "execution_count": 95,
     "metadata": {},
     "output_type": "execute_result"
    }
   ],
   "source": [
    "train_clean.loc[(train_clean['year'] == 2013),'date'].unique()"
   ]
  },
  {
   "cell_type": "code",
   "execution_count": 96,
   "id": "52705ccc",
   "metadata": {},
   "outputs": [
    {
     "data": {
      "image/png": "[encoded data removed]",
      "text/plain": [
       "<Figure size 864x576 with 1 Axes>"
      ]
     },
     "metadata": {
      "needs_background": "light"
     },
     "output_type": "display_data"
    }
   ],
   "source": [
    "plt.figure(figsize = (12,8))\n",
    "plt.title('Occurances of Significant Weather Phenomena')\n",
    "plt.xlabel('Phenomena')\n",
    "plt.ylabel('Frequency')\n",
    "we_types.sum().sort_values(ascending = False).plot.bar();"
   ]
  },
  {
   "cell_type": "code",
   "execution_count": 97,
   "id": "50f484c5",
   "metadata": {},
   "outputs": [
    {
     "data": {
      "image/png": "[encoded data removed]",
      "text/plain": [
       "<Figure size 864x576 with 1 Axes>"
      ]
     },
     "metadata": {
      "needs_background": "light"
     },
     "output_type": "display_data"
    }
   ],
   "source": [
    "weather_phenom = [x for x in we_types.columns]\n",
    "train_comb.loc[train_comb['wnvpresent'] == 1, weather_phenom]\n",
    "\n",
    "plt.figure(figsize = (12,8))\n",
    "plt.title('Occurances of Significant Weather Phenomena in conjunction with West Nile Virus Appearing')\n",
    "plt.xlabel('Phenomena')\n",
    "plt.ylabel('Frequency')\n",
    "train_comb.loc[train_comb['wnvpresent'] == 1, weather_phenom].sum().sort_values(ascending = False).plot.bar();"
   ]
  },
  {
   "cell_type": "code",
   "execution_count": 98,
   "id": "f7e247dc",
   "metadata": {},
   "outputs": [
    {
     "data": {
      "text/plain": [
       "br      347\n",
       "ra      339\n",
       "ts      234\n",
       "hz      160\n",
       "fg       46\n",
       "vcts     14\n",
       "dz        8\n",
       "bcfg      0\n",
       "fu        0\n",
       "gr        0\n",
       "mifg      0\n",
       "sn        0\n",
       "sq        0\n",
       "vcfg      0\n",
       "dtype: int64"
      ]
     },
     "execution_count": 98,
     "metadata": {},
     "output_type": "execute_result"
    }
   ],
   "source": [
    "train_comb.loc[train_comb['wnvpresent'] == 1, weather_phenom].sum().sort_values(ascending = False)"
   ]
  },
  {
   "cell_type": "code",
   "execution_count": 99,
   "id": "65755b14",
   "metadata": {},
   "outputs": [
    {
     "data": {
      "image/png": "[encoded data removed]",
      "text/plain": [
       "<Figure size 1008x2160 with 16 Axes>"
      ]
     },
     "metadata": {
      "needs_background": "light"
     },
     "output_type": "display_data"
    }
   ],
   "source": [
    "plot_title = 'Occurrences of West Nile Virus For Each Phenomena Type At Different Lag Times'\n",
    "fig_size = (14, 30)\n",
    "plot_graphs(weather_phenom, plot_title, fig_size)"
   ]
  },
  {
   "cell_type": "code",
   "execution_count": 100,
   "id": "a2dc0e87",
   "metadata": {},
   "outputs": [
    {
     "data": {
      "image/png": "[encoded data removed]",
      "text/plain": [
       "<Figure size 432x288 with 1 Axes>"
      ]
     },
     "metadata": {
      "needs_background": "light"
     },
     "output_type": "display_data"
    }
   ],
   "source": [
    "plt.title('Average Number of Mosquitoes Caught vs Presence of West Nile Virus')\n",
    "plt.xlabel('Average Number of Mosquitos Caught')\n",
    "train_comb.groupby('wnvpresent')['nummosquitos'].mean().plot.barh();"
   ]
  },
  {
   "cell_type": "code",
   "execution_count": null,
   "id": "3dc403bc",
   "metadata": {},
   "outputs": [],
   "source": [
    "spray_clean.info()"
   ]
  },
  {
   "cell_type": "code",
   "execution_count": null,
   "id": "3cbf20f5",
   "metadata": {},
   "outputs": [],
   "source": [
    "train_comb.info()"
   ]
  },
  {
   "cell_type": "code",
   "execution_count": null,
   "id": "a35b8757",
   "metadata": {},
   "outputs": [],
   "source": [
    "mos_prob = {}\n",
    "mos_species = [name for name in train_comb['species'].unique()]\n",
    "for mos in mos_species:\n",
    "    prob = train_comb.loc[train_comb['species'] == mos, 'wnvpresent'].value_counts(normalize = True)[0]\n",
    "    if prob == 1:\n",
    "        mos_prob[mos] = 0\n",
    "    else:\n",
    "        mos_prob[mos] = (1 - prob)\n",
    "        \n",
    "mos_prob = pd.DataFrame(\n",
    "    mos_prob.items(),\n",
    "    columns = ['species', 'prob']\n",
    ")\n",
    "\n",
    "plt.figure(figsize=(20,10))\n",
    "plt.title('Likelihood Of West Nile Virus Being Present For Mosquitos Of Each Species', fontsize = 20)\n",
    "sns.barplot(\n",
    "    data = mos_prob,\n",
    "    x = 'species',\n",
    "    y = 'prob'\n",
    ")\n",
    "plt.ylabel('Likelihood of WNV if a Mosquito of this Species is Caught', fontsize = 14)\n",
    "plt.xlabel('Mosquito Species', fontsize = 14);"
   ]
  },
  {
   "cell_type": "code",
   "execution_count": null,
   "id": "e1d40192",
   "metadata": {},
   "outputs": [],
   "source": [
    "train_comb.info()"
   ]
  },
  {
   "cell_type": "code",
   "execution_count": null,
   "id": "93e1dc7a",
   "metadata": {},
   "outputs": [],
   "source": [
    "train_comb['species'].unique()"
   ]
  },
  {
   "cell_type": "code",
   "execution_count": null,
   "id": "930a3755",
   "metadata": {},
   "outputs": [],
   "source": [
    "train_comb = train_comb.loc[(train_comb['species'] == 'CULEX PIPIENS')|\n",
    "                            (train_comb['species'] == 'CULEX PIPIENS/RESTUANS')|\n",
    "                            (train_comb['species'] == 'CULEX RESTUANS')\n",
    "                            , :]"
   ]
  },
  {
   "cell_type": "markdown",
   "id": "9e2d6734",
   "metadata": {},
   "source": [
    "### Mosquito Transmission of West Nile Virus\n",
    "\n",
    "Only Culex Pipiens and Culex Restuans are associated with positive west nile virus cases. For the purposes of this model, we will drop the other breeds of mosquitos as there are no positive cases to train the model upon."
   ]
  },
  {
   "cell_type": "code",
   "execution_count": null,
   "id": "39ce4e24",
   "metadata": {},
   "outputs": [],
   "source": [
    "train_2011_long_wnv = train_clean.loc[((train_clean['year'] == 2011) & (train_clean['wnvpresent'] == 1)), 'longitude']\n",
    "train_2011_lat_wnv = train_clean.loc[((train_clean['year'] == 2011) & (train_clean['wnvpresent'] == 1)), 'latitude']\n",
    "train_2011_long = train_clean.loc[((train_clean['year'] == 2011) & (train_clean['wnvpresent'] == 0)), 'longitude']\n",
    "train_2011_lat = train_clean.loc[((train_clean['year'] == 2011) & (train_clean['wnvpresent'] == 0)), 'latitude']\n",
    "\n",
    "train_2013_long_wnv = train_clean.loc[((train_clean['year'] == 2013) & (train_clean['wnvpresent'] == 1)), 'longitude']\n",
    "train_2013_lat_wnv = train_clean.loc[((train_clean['year'] == 2013) & (train_clean['wnvpresent'] == 1)), 'latitude']\n",
    "train_2013_long = train_clean.loc[((train_clean['year'] == 2013) & (train_clean['wnvpresent'] == 0)), 'longitude']\n",
    "train_2013_lat = train_clean.loc[((train_clean['year'] == 2013) & (train_clean['wnvpresent'] == 0)), 'latitude']\n",
    "\n",
    "spray_2011_long = spray_clean.loc[spray_clean['year'] == 2011, 'longitude']\n",
    "spray_2011_lat = spray_clean.loc[spray_clean['year'] == 2011, 'latitude']\n",
    "\n",
    "spray_2013_long = spray_clean.loc[spray_clean['year'] == 2013, 'longitude']\n",
    "spray_2013_lat = spray_clean.loc[spray_clean['year'] == 2013, 'latitude']"
   ]
  },
  {
   "cell_type": "code",
   "execution_count": null,
   "id": "c3de47eb",
   "metadata": {},
   "outputs": [],
   "source": [
    "plt.figure(figsize=(12,16))\n",
    "origin = [41.6, -88.0]              # lat/long of origin (lower left corner)\n",
    "upperRight = [42.1, -87.5]          # lat/long of upper right corner\n",
    "\n",
    "mapdata = np.loadtxt(\"./assets/mapdata_copyright_openstreetmap_contributors.txt\")\n",
    "\n",
    "intersection = [41.909614, -87.746134]  # co-ordinates of intersection of IL64 / IL50 according to Google Earth\n",
    "\n",
    "plt.imshow(mapdata, cmap=plt.get_cmap('gray'), extent=[origin[1], upperRight[1], origin[0], upperRight[0]])\n",
    "plt.title('2011 Spray Locations vs Mosquito Traps')\n",
    "plt.scatter(x=spray_2011_long, y=spray_2011_lat, c='r', s=10, alpha = 0.2)\n",
    "plt.scatter(x=train_2011_long, y=train_2011_lat, c='b', s=15, marker='s')\n",
    "plt.scatter(x=train_2011_long_wnv, y=train_2011_lat_wnv, c='yellow', s=15, marker='+');\n",
    "\n",
    "# plt.savefig('map.png')"
   ]
  },
  {
   "cell_type": "code",
   "execution_count": null,
   "id": "997a026e",
   "metadata": {},
   "outputs": [],
   "source": [
    "plt.figure(figsize=(12,16))\n",
    "origin = [41.6, -88.0]              # lat/long of origin (lower left corner)\n",
    "upperRight = [42.1, -87.5]          # lat/long of upper right corner\n",
    "\n",
    "mapdata = np.loadtxt(\"./assets/mapdata_copyright_openstreetmap_contributors.txt\")\n",
    "\n",
    "intersection = [41.909614, -87.746134]  # co-ordinates of intersection of IL64 / IL50 according to Google Earth\n",
    "\n",
    "plt.imshow(mapdata, cmap=plt.get_cmap('gray'), extent=[origin[1], upperRight[1], origin[0], upperRight[0]])\n",
    "plt.title('2013 Spray Locations vs Mosquito Traps')\n",
    "plt.scatter(x=spray_2013_long, y=spray_2013_lat, c='r', s=10, alpha = 0.2)\n",
    "plt.scatter(x=train_2013_long, y=train_2013_lat, c='b', s=15, marker='s')\n",
    "plt.scatter(x=train_2013_long_wnv, y=train_2013_lat_wnv, c='yellow', s=15, marker='+');"
   ]
  },
  {
   "cell_type": "code",
   "execution_count": null,
   "id": "66ec598a",
   "metadata": {},
   "outputs": [],
   "source": [
    "train_comb.groupby('trap')['longitude', 'latitude']"
   ]
  },
  {
   "cell_type": "code",
   "execution_count": null,
   "id": "e83cac5b",
   "metadata": {},
   "outputs": [],
   "source": [
    "train_comb.groupby(['trap', 'longitude', 'latitude'])['nummosquitos'].sum()"
   ]
  },
  {
   "cell_type": "markdown",
   "id": "8d2f2468",
   "metadata": {},
   "source": [
    "Since T010 is missing and T009 has been given 2 locations. We will change T010 to be location (41.981964, -87.812827), and use them as arbitrary labels for the latitude and longitude. This will have to be adjusted in the test set as well."
   ]
  },
  {
   "cell_type": "code",
   "execution_count": null,
   "id": "d6b36751",
   "metadata": {},
   "outputs": [],
   "source": [
    "train_comb.loc[(train_comb['longitude'] == -87.812827) &\n",
    "               (train_comb['latitude'] == 41.981964)\n",
    "              , 'trap'] = 'T009'"
   ]
  },
  {
   "cell_type": "code",
   "execution_count": null,
   "id": "3176c74c",
   "metadata": {},
   "outputs": [],
   "source": [
    "train_comb.groupby(['trap', 'longitude', 'latitude'])['nummosquitos'].sum().sort_values(ascending = False).plot(kind = 'hist')"
   ]
  },
  {
   "cell_type": "code",
   "execution_count": null,
   "id": "c94d4537",
   "metadata": {},
   "outputs": [],
   "source": [
    "train_comb.groupby('trap')['nummosquitos'].sum().sort_values(ascending = False)"
   ]
  },
  {
   "cell_type": "code",
   "execution_count": null,
   "id": "e45406e6",
   "metadata": {},
   "outputs": [],
   "source": [
    "train_comb.drop(columns = ['longitude', 'latitude'], inplace = True)"
   ]
  },
  {
   "cell_type": "code",
   "execution_count": null,
   "id": "4dbde2c1",
   "metadata": {},
   "outputs": [],
   "source": []
  },
  {
   "cell_type": "code",
   "execution_count": null,
   "id": "8856c6c0",
   "metadata": {},
   "outputs": [],
   "source": []
  },
  {
   "cell_type": "code",
   "execution_count": null,
   "id": "eee8be6d",
   "metadata": {},
   "outputs": [],
   "source": []
  },
  {
   "cell_type": "code",
   "execution_count": null,
   "id": "000d7e02",
   "metadata": {},
   "outputs": [],
   "source": []
  },
  {
   "cell_type": "code",
   "execution_count": null,
   "id": "a378d35b",
   "metadata": {},
   "outputs": [],
   "source": []
  },
  {
   "cell_type": "code",
   "execution_count": null,
   "id": "852722ad",
   "metadata": {},
   "outputs": [],
   "source": []
  },
  {
   "cell_type": "code",
   "execution_count": null,
   "id": "e13c1d6f",
   "metadata": {},
   "outputs": [],
   "source": []
  },
  {
   "cell_type": "code",
   "execution_count": null,
   "id": "c23115e5",
   "metadata": {},
   "outputs": [],
   "source": []
  },
  {
   "cell_type": "markdown",
   "id": "3af4c517",
   "metadata": {},
   "source": [
    "## Feature Engineering"
   ]
  },
  {
   "cell_type": "markdown",
   "id": "8bce41e7",
   "metadata": {},
   "source": [
    "### Mosquito Species Ordinal"
   ]
  },
  {
   "cell_type": "code",
   "execution_count": null,
   "id": "9db430a6",
   "metadata": {},
   "outputs": [],
   "source": [
    "train_comb['species_rank'] = train_comb['species'].map({\n",
    "    'CULEX PIPIENS' : 1,\n",
    "    'CULEX PIPIENS/RESTUANS' : 2,\n",
    "    'CULEX RESTUANS': 3\n",
    "})\n",
    "train_comb.drop(columns = 'species', inplace = True)"
   ]
  },
  {
   "cell_type": "markdown",
   "id": "3081243e",
   "metadata": {},
   "source": [
    "Species were ordinalised based on the probability of West Nile Virus being present when they were found"
   ]
  },
  {
   "cell_type": "markdown",
   "id": "e2bca237",
   "metadata": {},
   "source": [
    "### Degree Days"
   ]
  },
  {
   "cell_type": "code",
   "execution_count": null,
   "id": "753e4dda",
   "metadata": {},
   "outputs": [],
   "source": [
    "train_comb['deg_days'] = (train_comb['tavg'] - 65)\n",
    "train_comb.drop(columns = ['heat', 'cool'], inplace = True)"
   ]
  },
  {
   "cell_type": "markdown",
   "id": "f20d19e3",
   "metadata": {},
   "source": [
    "Degree days were used in place of heat and cool to combine the two columns into one."
   ]
  },
  {
   "cell_type": "markdown",
   "id": "e1d5f49e",
   "metadata": {},
   "source": [
    "### Mosquito Trap Rank"
   ]
  },
  {
   "cell_type": "code",
   "execution_count": null,
   "id": "ce5d403d",
   "metadata": {},
   "outputs": [],
   "source": [
    "train_comb.groupby(['trap'])['nummosquitos'].sum().sort_values(ascending = False).plot(kind = 'hist');"
   ]
  },
  {
   "cell_type": "code",
   "execution_count": null,
   "id": "6079022f",
   "metadata": {},
   "outputs": [],
   "source": [
    "def mos_rank(df):\n",
    "    '''This function calculates the number of mosquitos that the trap catches across the dataset and assigns it an\n",
    "    ordinal value in a new column [trap_rank]'''\n",
    "    mos_pd = pd.DataFrame(df.groupby(['trap'])['nummosquitos'].sum())     # sum of  mosquitos for each trap\n",
    "    mos_pd['trap_rank'] = mos_pd['nummosquitos']                          # trap_rank column to change\n",
    "    for row in mos_pd.index:\n",
    "        if mos_pd['trap_rank'][row] <= 1000:\n",
    "            mos_pd['trap_rank'][row] = 1\n",
    "        elif mos_pd['trap_rank'][row] <= 2000:\n",
    "            mos_pd['trap_rank'][row] = 2\n",
    "        elif mos_pd['trap_rank'][row] <= 3000:\n",
    "            mos_pd['trap_rank'][row] = 3      \n",
    "        elif mos_pd['trap_rank'][row] <= 4000:\n",
    "            mos_pd['trap_rank'][row] = 4        \n",
    "        else:\n",
    "            mos_pd['trap_rank'][row] = 5\n",
    "    mos_pd.drop(columns = 'nummosquitos', inplace = True)\n",
    "    mos_dict = mos_pd.to_dict()['trap_rank']                              # dictionary of ordinal values for traps\n",
    "    df['trap_rank'] = df['trap'].map(mos_dict)\n",
    "    \n",
    "mos_rank(train_comb)"
   ]
  },
  {
   "cell_type": "code",
   "execution_count": null,
   "id": "fcb7b457",
   "metadata": {},
   "outputs": [],
   "source": []
  },
  {
   "cell_type": "code",
   "execution_count": null,
   "id": "db17a5d0",
   "metadata": {},
   "outputs": [],
   "source": []
  },
  {
   "cell_type": "code",
   "execution_count": null,
   "id": "3b60d1bb",
   "metadata": {},
   "outputs": [],
   "source": []
  },
  {
   "cell_type": "code",
   "execution_count": null,
   "id": "7eec43f0",
   "metadata": {},
   "outputs": [],
   "source": []
  },
  {
   "cell_type": "code",
   "execution_count": null,
   "id": "341e6069",
   "metadata": {},
   "outputs": [],
   "source": []
  },
  {
   "cell_type": "markdown",
   "id": "4ca8dcaa",
   "metadata": {},
   "source": [
    "# Modelling"
   ]
  },
  {
   "cell_type": "code",
   "execution_count": null,
   "id": "d55e63d6",
   "metadata": {},
   "outputs": [],
   "source": []
  },
  {
   "cell_type": "code",
   "execution_count": null,
   "id": "b13807a7",
   "metadata": {},
   "outputs": [],
   "source": []
  },
  {
   "cell_type": "code",
   "execution_count": null,
   "id": "5d6a73f2",
   "metadata": {},
   "outputs": [],
   "source": []
  },
  {
   "cell_type": "code",
   "execution_count": null,
   "id": "4db56beb",
   "metadata": {},
   "outputs": [],
   "source": []
  },
  {
   "cell_type": "code",
   "execution_count": null,
   "id": "49322817",
   "metadata": {},
   "outputs": [],
   "source": []
  },
  {
   "cell_type": "code",
   "execution_count": null,
   "id": "6ca551fc",
   "metadata": {},
   "outputs": [],
   "source": []
  },
  {
   "cell_type": "markdown",
   "id": "7d1f41d8",
   "metadata": {},
   "source": [
    "# Conclusion"
   ]
  },
  {
   "cell_type": "code",
   "execution_count": null,
   "id": "417a64f8",
   "metadata": {},
   "outputs": [],
   "source": []
  }
 ],
 "metadata": {
  "kernelspec": {
   "display_name": "Python 3",
   "language": "python",
   "name": "python3"
  },
  "language_info": {
   "codemirror_mode": {
    "name": "ipython",
    "version": 3
   },
   "file_extension": ".py",
   "mimetype": "text/x-python",
   "name": "python",
   "nbconvert_exporter": "python",
   "pygments_lexer": "ipython3",
   "version": "3.8.8"
  },
  "toc": {
   "base_numbering": 1,
   "nav_menu": {},
   "number_sections": true,
   "sideBar": true,
   "skip_h1_title": false,
   "title_cell": "Table of Contents",
   "title_sidebar": "Contents",
   "toc_cell": false,
   "toc_position": {
    "height": "calc(100% - 180px)",
    "left": "10px",
    "top": "150px",
    "width": "384px"
   },
   "toc_section_display": true,
   "toc_window_display": true
  }
 },
 "nbformat": 4,
 "nbformat_minor": 5
}
