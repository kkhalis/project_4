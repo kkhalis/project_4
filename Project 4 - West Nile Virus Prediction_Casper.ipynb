{
 "cells": [
  {
   "cell_type": "markdown",
   "id": "92399e6b",
   "metadata": {},
   "source": [
    "# Modelling"
   ]
  },
  {
   "cell_type": "code",
   "execution_count": null,
   "id": "95a626b9",
   "metadata": {},
   "outputs": [],
   "source": []
  },
  {
   "cell_type": "code",
   "execution_count": null,
   "id": "0fa3cd19",
   "metadata": {},
   "outputs": [],
   "source": [
    "import pandas as pd\n",
    "import matplotlib.pyplot as plt"
   ]
  },
  {
   "cell_type": "code",
   "execution_count": null,
   "id": "fde5fc83",
   "metadata": {},
   "outputs": [],
   "source": [
    "from sklearn.model_selection import train_test_split, GridSearchCV\n",
    "from sklearn.preprocessing import StandardScaler\n",
    "from sklearn.linear_model import LogisticRegression\n",
    "from imblearn.pipeline import Pipeline\n",
    "from sklearn.svm import SVC\n",
    "from sklearn.decomposition import PCA\n",
    "from sklearn.metrics import confusion_matrix, plot_confusion_matrix, accuracy_score, plot_roc_curve, roc_auc_score, recall_score, precision_score, f1_score\n",
    "\n",
    "from imblearn.over_sampling import SMOTE"
   ]
  },
  {
   "cell_type": "code",
   "execution_count": null,
   "id": "b484b3f2",
   "metadata": {},
   "outputs": [],
   "source": [
    "train_comb = pd.read_csv('../assets/train_comb.csv')"
   ]
  },
  {
   "cell_type": "code",
   "execution_count": null,
   "id": "2e5f7440",
   "metadata": {},
   "outputs": [],
   "source": [
    "train_comb['date'] = pd.to_datetime(train_comb['date'])"
   ]
  },
  {
   "cell_type": "code",
   "execution_count": null,
   "id": "f0290dea",
   "metadata": {},
   "outputs": [],
   "source": [
    "train_comb.set_index('date', inplace=True)"
   ]
  },
  {
   "cell_type": "code",
   "execution_count": null,
   "id": "4c7989e5",
   "metadata": {},
   "outputs": [],
   "source": [
    "# dropping trap column for now as it is not numeralize yet\n",
    "X = train_comb.drop(columns=['wnvpresent', 'trap'])\n",
    "y = train_comb['wnvpresent']"
   ]
  },
  {
   "cell_type": "code",
   "execution_count": null,
   "id": "75058078",
   "metadata": {},
   "outputs": [],
   "source": [
    "# train/test split on data\n",
    "X_train, X_val, y_train, y_val = train_test_split(X, y, test_size=0.25, random_state=42, stratify=y)"
   ]
  },
  {
   "cell_type": "code",
   "execution_count": null,
   "id": "08198a9f",
   "metadata": {},
   "outputs": [],
   "source": [
    "# Scale X data\n",
    "ss = StandardScaler()"
   ]
  },
  {
   "cell_type": "code",
   "execution_count": null,
   "id": "8bd7f97e",
   "metadata": {
    "scrolled": true
   },
   "outputs": [],
   "source": [
    "Xs_train, Xs_val = ss.fit_transform(X_train), ss.transform(X_val)"
   ]
  },
  {
   "cell_type": "markdown",
   "id": "ee09190d",
   "metadata": {},
   "source": [
    "## Baseline Score"
   ]
  },
  {
   "cell_type": "code",
   "execution_count": null,
   "id": "ff46997d",
   "metadata": {},
   "outputs": [],
   "source": [
    "train_comb['wnvpresent'].value_counts(normalize=True)"
   ]
  },
  {
   "cell_type": "markdown",
   "id": "4a9911b3",
   "metadata": {},
   "source": [
    "The baseline accuracy score would be 0.948."
   ]
  },
  {
   "cell_type": "markdown",
   "id": "f64035a9",
   "metadata": {},
   "source": [
    "## Account for Imbalanced Class"
   ]
  },
  {
   "cell_type": "markdown",
   "id": "3f538806",
   "metadata": {},
   "source": [
    "We note from our target column: 'wnvpresent' that there is massive class imbalance. We can resolve this by using SMOTE and embed it within a pipeline."
   ]
  },
  {
   "cell_type": "code",
   "execution_count": null,
   "id": "34c9c39b",
   "metadata": {},
   "outputs": [],
   "source": [
    "# sm = SMOTE()"
   ]
  },
  {
   "cell_type": "code",
   "execution_count": null,
   "id": "d242f9ba",
   "metadata": {},
   "outputs": [],
   "source": [
    "# Xsm_train, ysm_train = sm.fit_resample(Xs_train, y_train)"
   ]
  },
  {
   "cell_type": "markdown",
   "id": "7f767804",
   "metadata": {},
   "source": [
    "## Logistic Regression"
   ]
  },
  {
   "cell_type": "code",
   "execution_count": null,
   "id": "05b31a71",
   "metadata": {},
   "outputs": [],
   "source": [
    "def model_perform(classifier, X, y):\n",
    "    \n",
    "    print(f'Best Score: {classifier.best_score_}')\n",
    "    print('Best Parameters: ')\n",
    "    print(classifier.best_params_)\n",
    "    \n",
    "    d_scores = {'classifier': classifier}\n",
    "    \n",
    "    y_pred = classifier.predict(X)\n",
    "    y_pred_proba = classifier.predict_proba(X)[:, 1]\n",
    "    \n",
    "    \n",
    "    d_scores['accuracy'] = accuracy_score(y, y_pred)\n",
    "    d_scores['recall'] = recall_score(y, y_pred)\n",
    "    d_scores['precision'] = precision_score(y, y_pred)\n",
    "    d_scores['f1_score'] = f1_score(y, y_pred)\n",
    "    d_scores['val_roc_auc_score'] = roc_auc_score(y, y_pred_proba)\n",
    "    \n",
    "    return d_scores"
   ]
  },
  {
   "cell_type": "code",
   "execution_count": null,
   "id": "d287f63d",
   "metadata": {
    "scrolled": true
   },
   "outputs": [],
   "source": [
    "# instantiate pipeline\n",
    "pipe = Pipeline([('sampling', SMOTE()),\n",
    "                ('logreg', LogisticRegression(solver='liblinear', random_state=100))\n",
    "                ])"
   ]
  },
  {
   "cell_type": "code",
   "execution_count": null,
   "id": "183f4f40",
   "metadata": {
    "scrolled": true
   },
   "outputs": [],
   "source": [
    "pipe.get_params()"
   ]
  },
  {
   "cell_type": "code",
   "execution_count": null,
   "id": "b16ab881",
   "metadata": {},
   "outputs": [],
   "source": [
    "# set params to gridsearch\n",
    "# sampling params set to comment because it was taking too long to fit\n",
    "logreg_params = {\n",
    "    'logreg__penalty': ['l1','l2'],\n",
    "    'logreg__C': [0.5, 1, 1.5, 2],\n",
    "#    'sampling__sampling_strategy': ['minority', 'auto'],\n",
    "#    'sampling__k_neighbors': [3, 5],\n",
    "}"
   ]
  },
  {
   "cell_type": "code",
   "execution_count": null,
   "id": "b53b2c5a",
   "metadata": {},
   "outputs": [],
   "source": [
    "logreg_grid = GridSearchCV(pipe, logreg_params, verbose=2, n_jobs=-1)"
   ]
  },
  {
   "cell_type": "code",
   "execution_count": null,
   "id": "3301f59e",
   "metadata": {},
   "outputs": [],
   "source": [
    "%%time\n",
    "logreg_grid.fit(Xs_train, y_train)"
   ]
  },
  {
   "cell_type": "code",
   "execution_count": null,
   "id": "b0382e6b",
   "metadata": {
    "scrolled": false
   },
   "outputs": [],
   "source": [
    "scores = model_perform(logreg_grid, Xs_val, y_val)"
   ]
  },
  {
   "cell_type": "code",
   "execution_count": null,
   "id": "5f69bf88",
   "metadata": {},
   "outputs": [],
   "source": [
    "# create a list to hold the dict\n",
    "logreg_results = []\n",
    "logreg_results.append(scores)"
   ]
  },
  {
   "cell_type": "code",
   "execution_count": null,
   "id": "1d145a38",
   "metadata": {},
   "outputs": [],
   "source": [
    "# create a df to hold all our classifier performance\n",
    "df_results = pd.DataFrame(logreg_results)\n",
    "df_results"
   ]
  },
  {
   "cell_type": "code",
   "execution_count": null,
   "id": "fe244c42",
   "metadata": {
    "scrolled": true
   },
   "outputs": [],
   "source": [
    "# ROC curve\n",
    "plot_roc_curve(logreg_grid, Xs_val, y_val)\n",
    "\n",
    "# add worst case scenario line\n",
    "plt.plot([0,1], [0,1], label='baseline', linestyle='--')\n",
    "\n",
    "# add a legend\n",
    "plt.legend()"
   ]
  },
  {
   "cell_type": "code",
   "execution_count": null,
   "id": "8694678c",
   "metadata": {
    "scrolled": false
   },
   "outputs": [],
   "source": [
    "# confusion_matrix(y_val, y_val_pred)"
   ]
  },
  {
   "cell_type": "code",
   "execution_count": null,
   "id": "cb0d4da6",
   "metadata": {},
   "outputs": [],
   "source": [
    "# tn, fp, fn, tp = confusion_matrix(y_val, y_val_pred).ravel()\n",
    "\n",
    "# print(\"True Negatives: %s\" % tn)\n",
    "# print(\"False Positives: %s\" % fp)\n",
    "# print(\"False Negatives: %s\" % fn)\n",
    "# print(\"True Positives: %s\" % tp)"
   ]
  },
  {
   "cell_type": "markdown",
   "id": "80581121",
   "metadata": {},
   "source": [
    "## SVM"
   ]
  },
  {
   "cell_type": "code",
   "execution_count": null,
   "id": "a46e9814",
   "metadata": {},
   "outputs": [],
   "source": [
    "# instantiate pipeline\n",
    "pipe = Pipeline([('sampling', SMOTE()),\n",
    "                 ('svc', SVC(probability=True, random_state=100)) # probability=True is needed to calculate predict_proba but fitting grid model would take very long\n",
    "                ])"
   ]
  },
  {
   "cell_type": "code",
   "execution_count": null,
   "id": "8ea25147",
   "metadata": {
    "scrolled": true
   },
   "outputs": [],
   "source": [
    "pipe.get_params()"
   ]
  },
  {
   "cell_type": "code",
   "execution_count": null,
   "id": "13077afa",
   "metadata": {},
   "outputs": [],
   "source": [
    "svc_params = {\n",
    "    'svc__C': [5, 7, 9],\n",
    "    'svc__kernel': ['rbf'],  #'poly'\n",
    "    #'sampling__sampling_strategy': ['minority', 'not minority', 'auto'],\n",
    "    #'sampling__k_neighbors': [3, 5],      \n",
    "}"
   ]
  },
  {
   "cell_type": "code",
   "execution_count": null,
   "id": "b1c12311",
   "metadata": {},
   "outputs": [],
   "source": [
    "svc_grid = GridSearchCV(pipe, svc_params, verbose=2, n_jobs=-1)"
   ]
  },
  {
   "cell_type": "code",
   "execution_count": null,
   "id": "a222d9d7",
   "metadata": {},
   "outputs": [],
   "source": [
    "%%time\n",
    "svc_grid.fit(Xs_train, y_train)\n",
    "\n",
    "# wall time is cut by half we dont put SVC(probability=True) in the pipeline"
   ]
  },
  {
   "cell_type": "code",
   "execution_count": null,
   "id": "4135b6c1",
   "metadata": {},
   "outputs": [],
   "source": [
    "scores = model_perform(svc_grid, Xs_val, y_val)"
   ]
  },
  {
   "cell_type": "code",
   "execution_count": null,
   "id": "1fad5175",
   "metadata": {},
   "outputs": [],
   "source": [
    "# create list to hold the dict\n",
    "svm_results = []\n",
    "svm_results.append(scores)"
   ]
  },
  {
   "cell_type": "code",
   "execution_count": null,
   "id": "e0329caa",
   "metadata": {},
   "outputs": [],
   "source": [
    "# append dict to df to compare classifier performance\n",
    "\n",
    "df_results = df_results.append(svm_results)\n",
    "df_results"
   ]
  },
  {
   "cell_type": "code",
   "execution_count": null,
   "id": "fdf2845e",
   "metadata": {},
   "outputs": [],
   "source": [
    "# ROC curve\n",
    "plot_roc_curve(svc_grid, Xs_val, y_val)\n",
    "\n",
    "# add worst case scenario line\n",
    "plt.plot([0,1], [0,1], label='baseline', linestyle='--')\n",
    "\n",
    "# add a legend\n",
    "plt.legend()"
   ]
  },
  {
   "cell_type": "code",
   "execution_count": null,
   "id": "51d22018",
   "metadata": {
    "scrolled": true
   },
   "outputs": [],
   "source": [
    "#confusion_matrix(y_val, y_val_pred)"
   ]
  },
  {
   "cell_type": "code",
   "execution_count": null,
   "id": "576839eb",
   "metadata": {},
   "outputs": [],
   "source": [
    "#tn, fp, fn, tp = confusion_matrix(y_val, y_val_pred).ravel()\n",
    "\n",
    "#print(\"True Negatives: %s\" % tn)\n",
    "#print(\"False Positives: %s\" % fp)\n",
    "#print(\"False Negatives: %s\" % fn)\n",
    "#print(\"True Positives: %s\" % tp)"
   ]
  },
  {
   "cell_type": "markdown",
   "id": "23f8a8a4",
   "metadata": {},
   "source": [
    "## PCA"
   ]
  },
  {
   "cell_type": "code",
   "execution_count": null,
   "id": "9d67e6e1",
   "metadata": {},
   "outputs": [],
   "source": [
    "# instantiate pca\n",
    "pca = PCA(random_state=100)"
   ]
  },
  {
   "cell_type": "code",
   "execution_count": null,
   "id": "16a7ff83",
   "metadata": {},
   "outputs": [],
   "source": [
    "pca.fit(Xs_train)"
   ]
  },
  {
   "cell_type": "code",
   "execution_count": null,
   "id": "94135f4a",
   "metadata": {},
   "outputs": [],
   "source": [
    "Z_train, Z_val = pca.transform(Xs_train), pca.transform(Xs_val)"
   ]
  },
  {
   "cell_type": "code",
   "execution_count": null,
   "id": "b130348c",
   "metadata": {},
   "outputs": [],
   "source": [
    "pca.explained_variance_ratio_.round(3)"
   ]
  },
  {
   "cell_type": "code",
   "execution_count": null,
   "id": "fa6b17d9",
   "metadata": {},
   "outputs": [],
   "source": [
    "pca.explained_variance_ratio_.round(3)[:10].sum()"
   ]
  },
  {
   "cell_type": "markdown",
   "id": "a49a7ee8",
   "metadata": {},
   "source": [
    "We see that the first 10 components explain 77% of the variance."
   ]
  },
  {
   "cell_type": "code",
   "execution_count": null,
   "id": "648959c1",
   "metadata": {},
   "outputs": [],
   "source": [
    "pca.explained_variance_ratio_.round(3)[:25].sum()"
   ]
  },
  {
   "cell_type": "markdown",
   "id": "bff69c67",
   "metadata": {},
   "source": [
    "The first 25 component explain 100% of the variance."
   ]
  },
  {
   "cell_type": "markdown",
   "id": "584d43cc",
   "metadata": {},
   "source": [
    "### Logistic Regression with PCA"
   ]
  },
  {
   "cell_type": "code",
   "execution_count": null,
   "id": "18333750",
   "metadata": {},
   "outputs": [],
   "source": [
    "# embed pca in a pipeline\n",
    "pipe = Pipeline([('sampling', SMOTE()),\n",
    "                 ('pca', PCA(n_components=[20, 25, 30])),\n",
    "                 ('logreg', LogisticRegression(solver='liblinear', random_state=100))\n",
    "                ])"
   ]
  },
  {
   "cell_type": "code",
   "execution_count": null,
   "id": "7a5de3a7",
   "metadata": {
    "scrolled": true
   },
   "outputs": [],
   "source": [
    "pipe.get_params()"
   ]
  },
  {
   "cell_type": "code",
   "execution_count": null,
   "id": "4eabca1f",
   "metadata": {},
   "outputs": [],
   "source": [
    "logreg_pca_params = {\n",
    "    'logreg__penalty': ['l1','l2'],\n",
    "    'logreg__C': [1, 1.5, 2],\n",
    "    'pca__n_components': [20, 30, 40]\n",
    "    #'sampling__sampling_strategy': ['minority', 'not minority', 'auto'],\n",
    "    #'sampling__k_neighbors': [3, 5],\n",
    "}"
   ]
  },
  {
   "cell_type": "code",
   "execution_count": null,
   "id": "aaef888f",
   "metadata": {},
   "outputs": [],
   "source": [
    "logreg_pca_grid = GridSearchCV(pipe, logreg_pca_params, verbose=2, n_jobs=-1)"
   ]
  },
  {
   "cell_type": "code",
   "execution_count": null,
   "id": "1773ebfd",
   "metadata": {
    "scrolled": true
   },
   "outputs": [],
   "source": [
    "%%time\n",
    "logreg_pca_grid.fit(Xs_train, y_train)"
   ]
  },
  {
   "cell_type": "code",
   "execution_count": null,
   "id": "80fe7d18",
   "metadata": {},
   "outputs": [],
   "source": [
    "scores = model_perform(logreg_pca_grid, Xs_val, y_val)"
   ]
  },
  {
   "cell_type": "code",
   "execution_count": null,
   "id": "1f08afff",
   "metadata": {},
   "outputs": [],
   "source": [
    "# create list to hold the dict\n",
    "logreg_pca_results = []\n",
    "logreg_pca_results.append(scores)"
   ]
  },
  {
   "cell_type": "code",
   "execution_count": null,
   "id": "d1ea0767",
   "metadata": {},
   "outputs": [],
   "source": [
    "# append dict to df to compare classifier performance\n",
    "df_results = df_results.append(logreg_pca_results)\n",
    "df_results"
   ]
  },
  {
   "cell_type": "code",
   "execution_count": null,
   "id": "8cb3e250",
   "metadata": {},
   "outputs": [],
   "source": [
    "# ROC curve\n",
    "plot_roc_curve(logreg_pca_grid, Xs_val, y_val)\n",
    "\n",
    "# add worst case scenario line\n",
    "plt.plot([0,1], [0,1], label='baseline', linestyle='--')\n",
    "\n",
    "# add a legend\n",
    "plt.legend()"
   ]
  },
  {
   "cell_type": "code",
   "execution_count": null,
   "id": "724c4274",
   "metadata": {
    "scrolled": true
   },
   "outputs": [],
   "source": [
    "#confusion_matrix(y_val, y_val_pred)"
   ]
  },
  {
   "cell_type": "code",
   "execution_count": null,
   "id": "ae598876",
   "metadata": {},
   "outputs": [],
   "source": [
    "#tn, fp, fn, tp = confusion_matrix(y_val, y_val_pred).ravel()\n",
    "\n",
    "#print(\"True Negatives: %s\" % tn)\n",
    "#print(\"False Positives: %s\" % fp)\n",
    "#print(\"False Negatives: %s\" % fn)\n",
    "#print(\"True Positives: %s\" % tp)"
   ]
  },
  {
   "cell_type": "markdown",
   "id": "725ac5c9",
   "metadata": {},
   "source": [
    "### SVM with PCA"
   ]
  },
  {
   "cell_type": "code",
   "execution_count": null,
   "id": "bfba59b8",
   "metadata": {},
   "outputs": [],
   "source": [
    "pipe = Pipeline([('sampling', SMOTE()),\n",
    "                 ('pca', PCA(n_components=[20, 30, 40])),\n",
    "                 ('svc', SVC(probability=True, random_state=100))\n",
    "])"
   ]
  },
  {
   "cell_type": "code",
   "execution_count": null,
   "id": "a9f8300b",
   "metadata": {
    "scrolled": false
   },
   "outputs": [],
   "source": [
    "pipe.get_params()"
   ]
  },
  {
   "cell_type": "code",
   "execution_count": null,
   "id": "834adb80",
   "metadata": {},
   "outputs": [],
   "source": [
    "svc_pca_params = {\n",
    "    'svc__C': [5, 7, 9],\n",
    "    'svc__kernel': ['rbf'],  # 'poly'\n",
    "    'pca__n_components': [20, 30, 40]\n",
    "    #'sampling__sampling_strategy': ['minority', 'not minority', 'auto'],\n",
    "    #'sampling__k_neighbors': [3, 5],      \n",
    "}"
   ]
  },
  {
   "cell_type": "code",
   "execution_count": null,
   "id": "5753a1a7",
   "metadata": {},
   "outputs": [],
   "source": [
    "svc_pca_grid = GridSearchCV(pipe, svc_pca_params, verbose=2, n_jobs=-1)"
   ]
  },
  {
   "cell_type": "code",
   "execution_count": null,
   "id": "f8501cbf",
   "metadata": {},
   "outputs": [],
   "source": [
    "%%time\n",
    "svc_pca_grid.fit(Xs_train, y_train)\n",
    "\n",
    "## lol example of time taken (14 mins) if we put SVC(probability=True) in the pipeline"
   ]
  },
  {
   "cell_type": "code",
   "execution_count": null,
   "id": "4e80b2c1",
   "metadata": {},
   "outputs": [],
   "source": [
    "scores = model_perform(svc_pca_grid, Xs_val, y_val)"
   ]
  },
  {
   "cell_type": "code",
   "execution_count": null,
   "id": "f3cb7196",
   "metadata": {},
   "outputs": [],
   "source": [
    "# create list to hold the dict\n",
    "svc_pca_results = []\n",
    "svc_pca_results.append(scores)"
   ]
  },
  {
   "cell_type": "code",
   "execution_count": null,
   "id": "24e47001",
   "metadata": {},
   "outputs": [],
   "source": [
    "# append dict to df to compare classifier performance\n",
    "df_results = df_results.append(svc_pca_results)"
   ]
  },
  {
   "cell_type": "code",
   "execution_count": null,
   "id": "aa49af3f",
   "metadata": {},
   "outputs": [],
   "source": [
    "df_results.reset_index(drop=True)"
   ]
  },
  {
   "cell_type": "code",
   "execution_count": null,
   "id": "ab6022a1",
   "metadata": {
    "scrolled": true
   },
   "outputs": [],
   "source": [
    "# ROC curve\n",
    "plot_roc_curve(svc_pca_grid, Xs_val, y_val)\n",
    "\n",
    "# add worst case scenario line\n",
    "plt.plot([0,1], [0,1], label='baseline', linestyle='--')\n",
    "\n",
    "# add a legend\n",
    "plt.legend()"
   ]
  },
  {
   "cell_type": "code",
   "execution_count": null,
   "id": "b6180c19",
   "metadata": {
    "scrolled": true
   },
   "outputs": [],
   "source": [
    "#confusion_matrix(y_val, y_val_pred)"
   ]
  },
  {
   "cell_type": "code",
   "execution_count": null,
   "id": "fc65b496",
   "metadata": {},
   "outputs": [],
   "source": [
    "#tn, fp, fn, tp = confusion_matrix(y_val, y_val_pred).ravel()\n",
    "\n",
    "#print(\"True Negatives: %s\" % tn)\n",
    "#print(\"False Positives: %s\" % fp)\n",
    "#print(\"False Negatives: %s\" % fn)\n",
    "#print(\"True Positives: %s\" % tp)"
   ]
  },
  {
   "cell_type": "code",
   "execution_count": null,
   "id": "c9c2b664",
   "metadata": {},
   "outputs": [],
   "source": []
  },
  {
   "cell_type": "markdown",
   "id": "5d413a9c",
   "metadata": {},
   "source": [
    "# Feature Importance"
   ]
  },
  {
   "cell_type": "code",
   "execution_count": null,
   "id": "c4583d34",
   "metadata": {},
   "outputs": [],
   "source": [
    "# note: svm on rbf has no feature importance, only svm on linear has it\n",
    "# https://stackoverflow.com/questions/41592661/determining-the-most-contributing-features-for-svm-classifier-in-sklearn"
   ]
  },
  {
   "cell_type": "markdown",
   "id": "06efda2b",
   "metadata": {},
   "source": [
    "Feature Importance based on Logistic Regression"
   ]
  },
  {
   "cell_type": "code",
   "execution_count": null,
   "id": "260ab80e",
   "metadata": {},
   "outputs": [],
   "source": [
    "logreg_grid.best_estimator_[1].coef_"
   ]
  },
  {
   "cell_type": "code",
   "execution_count": null,
   "id": "0b289e07",
   "metadata": {
    "scrolled": true
   },
   "outputs": [],
   "source": [
    "logreg_features = pd.DataFrame({'feature_names': X_train.columns,\n",
    "                                'feature_importance': logreg_grid.best_estimator_[1].coef_[0]})\n",
    "\n",
    "# top 20 features\n",
    "logreg_features.sort_values(by='feature_importance', ascending=False).head(20)"
   ]
  },
  {
   "cell_type": "code",
   "execution_count": null,
   "id": "bcd63dfa",
   "metadata": {},
   "outputs": [],
   "source": []
  },
  {
   "cell_type": "code",
   "execution_count": null,
   "id": "612d5504",
   "metadata": {},
   "outputs": [],
   "source": []
  },
  {
   "cell_type": "markdown",
   "id": "a09ab6bd",
   "metadata": {},
   "source": [
    "# Cost Benefit Analysis"
   ]
  },
  {
   "cell_type": "code",
   "execution_count": null,
   "id": "7bf4f468",
   "metadata": {},
   "outputs": [],
   "source": []
  },
  {
   "cell_type": "code",
   "execution_count": null,
   "id": "87618bd4",
   "metadata": {},
   "outputs": [],
   "source": []
  },
  {
   "cell_type": "code",
   "execution_count": null,
   "id": "72cb1cf6",
   "metadata": {},
   "outputs": [],
   "source": []
  },
  {
   "cell_type": "code",
   "execution_count": null,
   "id": "faf332a4",
   "metadata": {},
   "outputs": [],
   "source": []
  },
  {
   "cell_type": "code",
   "execution_count": null,
   "id": "3f8c381d",
   "metadata": {},
   "outputs": [],
   "source": []
  },
  {
   "cell_type": "markdown",
   "id": "2f0a53b3",
   "metadata": {},
   "source": [
    "# Conclusion"
   ]
  },
  {
   "cell_type": "code",
   "execution_count": null,
   "id": "f50a0c17",
   "metadata": {},
   "outputs": [],
   "source": []
  },
  {
   "cell_type": "code",
   "execution_count": null,
   "id": "70dc7b93",
   "metadata": {},
   "outputs": [],
   "source": []
  },
  {
   "cell_type": "code",
   "execution_count": null,
   "id": "e96690ad",
   "metadata": {},
   "outputs": [],
   "source": []
  },
  {
   "cell_type": "code",
   "execution_count": null,
   "id": "266e2542",
   "metadata": {},
   "outputs": [],
   "source": []
  },
  {
   "cell_type": "code",
   "execution_count": null,
   "id": "32b063f6",
   "metadata": {},
   "outputs": [],
   "source": []
  },
  {
   "cell_type": "code",
   "execution_count": null,
   "id": "ab239f00",
   "metadata": {},
   "outputs": [],
   "source": []
  }
 ],
 "metadata": {
  "kernelspec": {
   "display_name": "Python 3",
   "language": "python",
   "name": "python3"
  },
  "language_info": {
   "codemirror_mode": {
    "name": "ipython",
    "version": 3
   },
   "file_extension": ".py",
   "mimetype": "text/x-python",
   "name": "python",
   "nbconvert_exporter": "python",
   "pygments_lexer": "ipython3",
   "version": "3.8.8"
  },
  "toc": {
   "base_numbering": 1,
   "nav_menu": {},
   "number_sections": true,
   "sideBar": true,
   "skip_h1_title": false,
   "title_cell": "Table of Contents",
   "title_sidebar": "Contents",
   "toc_cell": false,
   "toc_position": {
    "height": "calc(100% - 180px)",
    "left": "10px",
    "top": "150px",
    "width": "384px"
   },
   "toc_section_display": true,
   "toc_window_display": true
  }
 },
 "nbformat": 4,
 "nbformat_minor": 5
}
