{
 "cells": [
  {
   "cell_type": "markdown",
   "id": "279c0910",
   "metadata": {},
   "source": [
    "# Modelling"
   ]
  },
  {
   "cell_type": "code",
   "execution_count": 1,
   "id": "eaad65d6",
   "metadata": {},
   "outputs": [],
   "source": [
    "import pandas as pd\n",
    "import matplotlib.pyplot as plt\n",
    "import seaborn as sns"
   ]
  },
  {
   "cell_type": "code",
   "execution_count": 2,
   "id": "5c11d00c",
   "metadata": {},
   "outputs": [],
   "source": [
    "from sklearn.model_selection import train_test_split, GridSearchCV\n",
    "from sklearn.preprocessing import StandardScaler\n",
    "from sklearn.linear_model import LogisticRegression\n",
    "from imblearn.pipeline import Pipeline\n",
    "from sklearn.svm import SVC\n",
    "from sklearn.decomposition import PCA\n",
    "from sklearn.metrics import confusion_matrix, plot_confusion_matrix, accuracy_score, plot_roc_curve, roc_auc_score, recall_score, precision_score, f1_score\n",
    "\n",
    "from imblearn.over_sampling import SMOTE"
   ]
  },
  {
   "cell_type": "code",
   "execution_count": 3,
   "id": "6c8dbe3f",
   "metadata": {},
   "outputs": [],
   "source": [
    "#train_comb = pd.read_csv('../assets/train_comb.csv')"
   ]
  },
  {
   "cell_type": "code",
   "execution_count": 4,
   "id": "6928784a",
   "metadata": {},
   "outputs": [],
   "source": [
    "#train_comb['date'] = pd.to_datetime(train_comb['date'])\n",
    "#train_comb.set_index('date', inplace=True)"
   ]
  },
  {
   "cell_type": "code",
   "execution_count": 5,
   "id": "782c3058",
   "metadata": {},
   "outputs": [],
   "source": [
    "# dropping trap column for now as it is not numeralize yet\n",
    "#X = train_comb.drop(columns=['wnvpresent', 'trap'])\n",
    "#y = train_comb['wnvpresent']"
   ]
  },
  {
   "cell_type": "code",
   "execution_count": 6,
   "id": "a65d8a9a",
   "metadata": {},
   "outputs": [],
   "source": [
    "# Scale X data\n",
    "#ss = StandardScaler()\n",
    "#Xs_train, Xs_val = ss.fit_transform(X_train), ss.transform(X_val)"
   ]
  },
  {
   "cell_type": "code",
   "execution_count": 7,
   "id": "bb5b948f",
   "metadata": {},
   "outputs": [],
   "source": [
    "def append_results(result, train_score, metric, classifier):\n",
    "    tmp = pd.DataFrame({\n",
    "        'model':classifier,\n",
    "        'train_accuracy': train_score,\n",
    "        'test_accuracy': metric[metric['metric'] == 'accuracy']['score'].values[0],\n",
    "        'misclassification': metric[metric['metric'] == 'misclassification_rate']['score'].values[0],\n",
    "        'sensitivity': metric[metric['metric'] == 'sensitivity']['score'].values[0],\n",
    "        'specificity': metric[metric['metric'] == 'specificity']['score'].values[0],\n",
    "        'precision': metric[metric['metric'] == 'precision']['score'].values[0],\n",
    "        'f1_score': metric[metric['metric'] == 'f1_score']['score'].values[0],\n",
    "        'roc_auc':metric[metric['metric'] == 'roc_auc']['score'].values[0],\n",
    "        #'misclassed_data':misclass_data\n",
    "    }, index=[0])\n",
    "    result = pd.concat([result,tmp], axis=0, ignore_index=True)\n",
    "    return result"
   ]
  },
  {
   "cell_type": "code",
   "execution_count": 8,
   "id": "d0c60ccd",
   "metadata": {},
   "outputs": [],
   "source": [
    "def metrics_and_plot_cm(classifier, X, y):\n",
    "    preds = classifier.predict(X)\n",
    "    tn, fp, fn, tp = confusion_matrix(y, preds).ravel()\n",
    "    acc = (tp + tn) / (tn + fp + fn + tp)\n",
    "    misclass = 1 - acc\n",
    "    sens = tp / (tp + fn)\n",
    "    spec = tn / (tn + fp)\n",
    "    prec = tp / (tp + fp)\n",
    "    f_one_score = f1_score(y, preds)\n",
    "    roc_auc = roc_auc_score(y, classifier.predict_proba(X)[:,1])\n",
    "    results = {\n",
    "        'accuracy': acc,\n",
    "        'misclassification_rate': misclass,\n",
    "        'sensitivity': sens,\n",
    "        'specificity': spec,\n",
    "        'precision': prec,\n",
    "        'f1_score':f_one_score,\n",
    "        'roc_auc':roc_auc\n",
    "    }\n",
    "    fig, axes = plt.subplots(ncols=2, figsize=(13,5))\n",
    "    cm_chart = plot_confusion_matrix(classifier, X, y, cmap='Blues', values_format='d',display_labels=['WNV Present (1)','WNV Not Present (0)'], ax=axes[0]);\n",
    "    roc_curve = plot_roc_curve(classifier, X, y, ax=axes[1])\n",
    "    axes[1].plot([0, 1], [0, 1], label='baseline', linestyle='--' )\n",
    "    metrics = pd.DataFrame({\n",
    "        'metric': results.keys(),\n",
    "        'score': results.values()\n",
    "        })\n",
    "    return metrics"
   ]
  },
  {
   "cell_type": "code",
   "execution_count": 9,
   "id": "a8bff22e",
   "metadata": {},
   "outputs": [],
   "source": [
    "X_train = pd.read_csv('../assets/X_train.csv')\n",
    "y_train = pd.read_csv('../assets/y_train.csv')"
   ]
  },
  {
   "cell_type": "code",
   "execution_count": 10,
   "id": "07cd5b1a",
   "metadata": {},
   "outputs": [
    {
     "data": {
      "text/html": [
       "<div>\n",
       "<style scoped>\n",
       "    .dataframe tbody tr th:only-of-type {\n",
       "        vertical-align: middle;\n",
       "    }\n",
       "\n",
       "    .dataframe tbody tr th {\n",
       "        vertical-align: top;\n",
       "    }\n",
       "\n",
       "    .dataframe thead th {\n",
       "        text-align: right;\n",
       "    }\n",
       "</style>\n",
       "<table border=\"1\" class=\"dataframe\">\n",
       "  <thead>\n",
       "    <tr style=\"text-align: right;\">\n",
       "      <th></th>\n",
       "      <th>Unnamed: 0</th>\n",
       "      <th>depart</th>\n",
       "      <th>dewpoint</th>\n",
       "      <th>wetbulb</th>\n",
       "      <th>preciptotal</th>\n",
       "      <th>stnpressure</th>\n",
       "      <th>sealevel</th>\n",
       "      <th>resultspeed</th>\n",
       "      <th>resultdir</th>\n",
       "      <th>avgspeed</th>\n",
       "      <th>...</th>\n",
       "      <th>month_8</th>\n",
       "      <th>month_9</th>\n",
       "      <th>month_10</th>\n",
       "      <th>br</th>\n",
       "      <th>dz</th>\n",
       "      <th>fg</th>\n",
       "      <th>hz</th>\n",
       "      <th>ra</th>\n",
       "      <th>ts</th>\n",
       "      <th>vcts</th>\n",
       "    </tr>\n",
       "  </thead>\n",
       "  <tbody>\n",
       "    <tr>\n",
       "      <th>0</th>\n",
       "      <td>0</td>\n",
       "      <td>1.148877</td>\n",
       "      <td>-0.172283</td>\n",
       "      <td>0.113218</td>\n",
       "      <td>-0.394225</td>\n",
       "      <td>1.181543</td>\n",
       "      <td>1.189627</td>\n",
       "      <td>-0.072273</td>\n",
       "      <td>0.022267</td>\n",
       "      <td>-0.380512</td>\n",
       "      <td>...</td>\n",
       "      <td>0.0</td>\n",
       "      <td>0.0</td>\n",
       "      <td>0.0</td>\n",
       "      <td>1</td>\n",
       "      <td>0</td>\n",
       "      <td>0</td>\n",
       "      <td>1</td>\n",
       "      <td>0</td>\n",
       "      <td>0</td>\n",
       "      <td>0</td>\n",
       "    </tr>\n",
       "    <tr>\n",
       "      <th>1</th>\n",
       "      <td>1</td>\n",
       "      <td>1.148877</td>\n",
       "      <td>-0.172283</td>\n",
       "      <td>0.113218</td>\n",
       "      <td>-0.394225</td>\n",
       "      <td>1.181543</td>\n",
       "      <td>1.189627</td>\n",
       "      <td>-0.072273</td>\n",
       "      <td>0.022267</td>\n",
       "      <td>-0.380512</td>\n",
       "      <td>...</td>\n",
       "      <td>0.0</td>\n",
       "      <td>0.0</td>\n",
       "      <td>0.0</td>\n",
       "      <td>1</td>\n",
       "      <td>0</td>\n",
       "      <td>0</td>\n",
       "      <td>1</td>\n",
       "      <td>0</td>\n",
       "      <td>0</td>\n",
       "      <td>0</td>\n",
       "    </tr>\n",
       "    <tr>\n",
       "      <th>2</th>\n",
       "      <td>2</td>\n",
       "      <td>1.148877</td>\n",
       "      <td>-0.172283</td>\n",
       "      <td>0.113218</td>\n",
       "      <td>-0.394225</td>\n",
       "      <td>1.181543</td>\n",
       "      <td>1.189627</td>\n",
       "      <td>-0.072273</td>\n",
       "      <td>0.022267</td>\n",
       "      <td>-0.380512</td>\n",
       "      <td>...</td>\n",
       "      <td>0.0</td>\n",
       "      <td>0.0</td>\n",
       "      <td>0.0</td>\n",
       "      <td>1</td>\n",
       "      <td>0</td>\n",
       "      <td>0</td>\n",
       "      <td>1</td>\n",
       "      <td>0</td>\n",
       "      <td>0</td>\n",
       "      <td>0</td>\n",
       "    </tr>\n",
       "    <tr>\n",
       "      <th>3</th>\n",
       "      <td>3</td>\n",
       "      <td>1.148877</td>\n",
       "      <td>-0.172283</td>\n",
       "      <td>0.113218</td>\n",
       "      <td>-0.394225</td>\n",
       "      <td>1.181543</td>\n",
       "      <td>1.189627</td>\n",
       "      <td>-0.072273</td>\n",
       "      <td>0.022267</td>\n",
       "      <td>-0.380512</td>\n",
       "      <td>...</td>\n",
       "      <td>0.0</td>\n",
       "      <td>0.0</td>\n",
       "      <td>0.0</td>\n",
       "      <td>1</td>\n",
       "      <td>0</td>\n",
       "      <td>0</td>\n",
       "      <td>1</td>\n",
       "      <td>0</td>\n",
       "      <td>0</td>\n",
       "      <td>0</td>\n",
       "    </tr>\n",
       "    <tr>\n",
       "      <th>4</th>\n",
       "      <td>4</td>\n",
       "      <td>1.148877</td>\n",
       "      <td>-0.172283</td>\n",
       "      <td>0.113218</td>\n",
       "      <td>-0.394225</td>\n",
       "      <td>1.181543</td>\n",
       "      <td>1.189627</td>\n",
       "      <td>-0.072273</td>\n",
       "      <td>0.022267</td>\n",
       "      <td>-0.380512</td>\n",
       "      <td>...</td>\n",
       "      <td>0.0</td>\n",
       "      <td>0.0</td>\n",
       "      <td>0.0</td>\n",
       "      <td>1</td>\n",
       "      <td>0</td>\n",
       "      <td>0</td>\n",
       "      <td>1</td>\n",
       "      <td>0</td>\n",
       "      <td>0</td>\n",
       "      <td>0</td>\n",
       "    </tr>\n",
       "  </tbody>\n",
       "</table>\n",
       "<p>5 rows × 90 columns</p>\n",
       "</div>"
      ],
      "text/plain": [
       "   Unnamed: 0    depart  dewpoint   wetbulb  preciptotal  stnpressure  \\\n",
       "0           0  1.148877 -0.172283  0.113218    -0.394225     1.181543   \n",
       "1           1  1.148877 -0.172283  0.113218    -0.394225     1.181543   \n",
       "2           2  1.148877 -0.172283  0.113218    -0.394225     1.181543   \n",
       "3           3  1.148877 -0.172283  0.113218    -0.394225     1.181543   \n",
       "4           4  1.148877 -0.172283  0.113218    -0.394225     1.181543   \n",
       "\n",
       "   sealevel  resultspeed  resultdir  avgspeed  ...  month_8  month_9  \\\n",
       "0  1.189627    -0.072273   0.022267 -0.380512  ...      0.0      0.0   \n",
       "1  1.189627    -0.072273   0.022267 -0.380512  ...      0.0      0.0   \n",
       "2  1.189627    -0.072273   0.022267 -0.380512  ...      0.0      0.0   \n",
       "3  1.189627    -0.072273   0.022267 -0.380512  ...      0.0      0.0   \n",
       "4  1.189627    -0.072273   0.022267 -0.380512  ...      0.0      0.0   \n",
       "\n",
       "   month_10  br  dz  fg  hz  ra  ts  vcts  \n",
       "0       0.0   1   0   0   1   0   0     0  \n",
       "1       0.0   1   0   0   1   0   0     0  \n",
       "2       0.0   1   0   0   1   0   0     0  \n",
       "3       0.0   1   0   0   1   0   0     0  \n",
       "4       0.0   1   0   0   1   0   0     0  \n",
       "\n",
       "[5 rows x 90 columns]"
      ]
     },
     "execution_count": 10,
     "metadata": {},
     "output_type": "execute_result"
    }
   ],
   "source": [
    "X_train.head()"
   ]
  },
  {
   "cell_type": "code",
   "execution_count": 11,
   "id": "43ce1d8f",
   "metadata": {},
   "outputs": [],
   "source": [
    "X_train.drop(columns='Unnamed: 0', inplace=True)"
   ]
  },
  {
   "cell_type": "code",
   "execution_count": 12,
   "id": "a6ad60fa",
   "metadata": {
    "scrolled": true
   },
   "outputs": [
    {
     "data": {
      "text/plain": [
       "(8304, 89)"
      ]
     },
     "execution_count": 12,
     "metadata": {},
     "output_type": "execute_result"
    }
   ],
   "source": [
    "X_train.shape"
   ]
  },
  {
   "cell_type": "code",
   "execution_count": 13,
   "id": "e964146a",
   "metadata": {
    "scrolled": true
   },
   "outputs": [
    {
     "data": {
      "text/html": [
       "<div>\n",
       "<style scoped>\n",
       "    .dataframe tbody tr th:only-of-type {\n",
       "        vertical-align: middle;\n",
       "    }\n",
       "\n",
       "    .dataframe tbody tr th {\n",
       "        vertical-align: top;\n",
       "    }\n",
       "\n",
       "    .dataframe thead th {\n",
       "        text-align: right;\n",
       "    }\n",
       "</style>\n",
       "<table border=\"1\" class=\"dataframe\">\n",
       "  <thead>\n",
       "    <tr style=\"text-align: right;\">\n",
       "      <th></th>\n",
       "      <th>date</th>\n",
       "      <th>wnvpresent</th>\n",
       "    </tr>\n",
       "  </thead>\n",
       "  <tbody>\n",
       "    <tr>\n",
       "      <th>0</th>\n",
       "      <td>2007-05-29</td>\n",
       "      <td>0</td>\n",
       "    </tr>\n",
       "    <tr>\n",
       "      <th>1</th>\n",
       "      <td>2007-05-29</td>\n",
       "      <td>0</td>\n",
       "    </tr>\n",
       "    <tr>\n",
       "      <th>2</th>\n",
       "      <td>2007-05-29</td>\n",
       "      <td>0</td>\n",
       "    </tr>\n",
       "    <tr>\n",
       "      <th>3</th>\n",
       "      <td>2007-05-29</td>\n",
       "      <td>0</td>\n",
       "    </tr>\n",
       "    <tr>\n",
       "      <th>4</th>\n",
       "      <td>2007-05-29</td>\n",
       "      <td>0</td>\n",
       "    </tr>\n",
       "  </tbody>\n",
       "</table>\n",
       "</div>"
      ],
      "text/plain": [
       "         date  wnvpresent\n",
       "0  2007-05-29           0\n",
       "1  2007-05-29           0\n",
       "2  2007-05-29           0\n",
       "3  2007-05-29           0\n",
       "4  2007-05-29           0"
      ]
     },
     "execution_count": 13,
     "metadata": {},
     "output_type": "execute_result"
    }
   ],
   "source": [
    "y_train.head()"
   ]
  },
  {
   "cell_type": "code",
   "execution_count": 14,
   "id": "100210b4",
   "metadata": {},
   "outputs": [],
   "source": [
    "y_train = y_train['wnvpresent']"
   ]
  },
  {
   "cell_type": "code",
   "execution_count": 15,
   "id": "a48321da",
   "metadata": {},
   "outputs": [
    {
     "data": {
      "text/plain": [
       "(8304,)"
      ]
     },
     "execution_count": 15,
     "metadata": {},
     "output_type": "execute_result"
    }
   ],
   "source": [
    "y_train.shape"
   ]
  },
  {
   "cell_type": "code",
   "execution_count": 16,
   "id": "d661e3a9",
   "metadata": {},
   "outputs": [],
   "source": [
    "# train/test split on data\n",
    "X_train, X_val, y_train, y_val = train_test_split(X_train, y_train, test_size=0.25, random_state=42, stratify=y_train)"
   ]
  },
  {
   "cell_type": "markdown",
   "id": "f0afc2ec",
   "metadata": {},
   "source": [
    "## Baseline Score"
   ]
  },
  {
   "cell_type": "code",
   "execution_count": 17,
   "id": "b278ef9f",
   "metadata": {},
   "outputs": [
    {
     "data": {
      "text/plain": [
       "0    0.944926\n",
       "1    0.055074\n",
       "Name: wnvpresent, dtype: float64"
      ]
     },
     "execution_count": 17,
     "metadata": {},
     "output_type": "execute_result"
    }
   ],
   "source": [
    "y_train.value_counts(normalize=True)"
   ]
  },
  {
   "cell_type": "markdown",
   "id": "6dc37e7a",
   "metadata": {},
   "source": [
    "The baseline accuracy score would be 0.948."
   ]
  },
  {
   "cell_type": "code",
   "execution_count": 18,
   "id": "07fc224c",
   "metadata": {},
   "outputs": [],
   "source": [
    "results_df = pd.DataFrame(columns=[\n",
    "    'model',\n",
    "    'train_accuracy',\n",
    "    'test_accuracy',\n",
    "    'misclassification',\n",
    "    'sensitivity',\n",
    "    'specificity',\n",
    "    'precision',\n",
    "    'f1_score',\n",
    "    'roc_auc'\n",
    "])"
   ]
  },
  {
   "cell_type": "markdown",
   "id": "ebd1d75f",
   "metadata": {},
   "source": [
    "## Account for Imbalanced Class"
   ]
  },
  {
   "cell_type": "markdown",
   "id": "101c3569",
   "metadata": {},
   "source": [
    "We note from our target column: 'wnvpresent' that there is massive class imbalance. We can resolve this by using SMOTE and embed it within a pipeline."
   ]
  },
  {
   "cell_type": "markdown",
   "id": "23420922",
   "metadata": {},
   "source": [
    "## Logistic Regression"
   ]
  },
  {
   "cell_type": "code",
   "execution_count": 19,
   "id": "effcd764",
   "metadata": {
    "scrolled": true
   },
   "outputs": [],
   "source": [
    "# instantiate pipeline\n",
    "pipe_logreg = Pipeline([('sampling', SMOTE()),\n",
    "                ('logreg', LogisticRegression(solver='liblinear', random_state=42))\n",
    "                ])"
   ]
  },
  {
   "cell_type": "code",
   "execution_count": 20,
   "id": "8cb9e2f7",
   "metadata": {},
   "outputs": [],
   "source": [
    "# set params to gridsearch\n",
    "# sampling params set to comment because it was taking too long to fit\n",
    "pipe_logreg_params = {\n",
    "    'logreg__penalty': ['l1', 'l2'],\n",
    "    'logreg__C': [1], #0.5, 1, 1.5\n",
    "    'sampling__sampling_strategy': ['not minority'], # auto, minority\n",
    "    'sampling__k_neighbors': [9, 11, 13],  #3, 5, 7, 9, 13, 15\n",
    "}"
   ]
  },
  {
   "cell_type": "code",
   "execution_count": 21,
   "id": "bbe50cc1",
   "metadata": {},
   "outputs": [],
   "source": [
    "gs_logreg = GridSearchCV(pipe_logreg, pipe_logreg_params, verbose=2, n_jobs=-1)"
   ]
  },
  {
   "cell_type": "code",
   "execution_count": 22,
   "id": "b4c920e8",
   "metadata": {},
   "outputs": [
    {
     "name": "stdout",
     "output_type": "stream",
     "text": [
      "Fitting 5 folds for each of 6 candidates, totalling 30 fits\n",
      "Wall time: 5.28 s\n"
     ]
    },
    {
     "data": {
      "text/plain": [
       "GridSearchCV(estimator=Pipeline(steps=[('sampling', SMOTE()),\n",
       "                                       ('logreg',\n",
       "                                        LogisticRegression(random_state=42,\n",
       "                                                           solver='liblinear'))]),\n",
       "             n_jobs=-1,\n",
       "             param_grid={'logreg__C': [1], 'logreg__penalty': ['l1', 'l2'],\n",
       "                         'sampling__k_neighbors': [9, 11, 13],\n",
       "                         'sampling__sampling_strategy': ['not minority']},\n",
       "             verbose=2)"
      ]
     },
     "execution_count": 22,
     "metadata": {},
     "output_type": "execute_result"
    }
   ],
   "source": [
    "%%time\n",
    "gs_logreg.fit(X_train, y_train)"
   ]
  },
  {
   "cell_type": "code",
   "execution_count": 23,
   "id": "e5c785b7",
   "metadata": {},
   "outputs": [
    {
     "data": {
      "text/plain": [
       "{'logreg__C': 1,\n",
       " 'logreg__penalty': 'l1',\n",
       " 'sampling__k_neighbors': 9,\n",
       " 'sampling__sampling_strategy': 'not minority'}"
      ]
     },
     "execution_count": 23,
     "metadata": {},
     "output_type": "execute_result"
    }
   ],
   "source": [
    "gs_logreg.best_params_"
   ]
  },
  {
   "cell_type": "code",
   "execution_count": 24,
   "id": "5f8c2077",
   "metadata": {},
   "outputs": [
    {
     "data": {
      "image/png": "[encoded data removed]",
      "text/plain": [
       "<Figure size 936x360 with 3 Axes>"
      ]
     },
     "metadata": {
      "needs_background": "light"
     },
     "output_type": "display_data"
    }
   ],
   "source": [
    "mod_metrics = metrics_and_plot_cm(gs_logreg, X_val, y_val)"
   ]
  },
  {
   "cell_type": "code",
   "execution_count": 25,
   "id": "76fde312",
   "metadata": {},
   "outputs": [],
   "source": [
    "results_df = append_results(results_df,\n",
    "                           gs_logreg.score(X_train, y_train),\n",
    "                           mod_metrics,\n",
    "                           'Logistic Regression',\n",
    "                           )"
   ]
  },
  {
   "cell_type": "code",
   "execution_count": 26,
   "id": "f558a75a",
   "metadata": {
    "scrolled": true
   },
   "outputs": [
    {
     "data": {
      "text/html": [
       "<div>\n",
       "<style scoped>\n",
       "    .dataframe tbody tr th:only-of-type {\n",
       "        vertical-align: middle;\n",
       "    }\n",
       "\n",
       "    .dataframe tbody tr th {\n",
       "        vertical-align: top;\n",
       "    }\n",
       "\n",
       "    .dataframe thead th {\n",
       "        text-align: right;\n",
       "    }\n",
       "</style>\n",
       "<table border=\"1\" class=\"dataframe\">\n",
       "  <thead>\n",
       "    <tr style=\"text-align: right;\">\n",
       "      <th></th>\n",
       "      <th>model</th>\n",
       "      <th>train_accuracy</th>\n",
       "      <th>test_accuracy</th>\n",
       "      <th>misclassification</th>\n",
       "      <th>sensitivity</th>\n",
       "      <th>specificity</th>\n",
       "      <th>precision</th>\n",
       "      <th>f1_score</th>\n",
       "      <th>roc_auc</th>\n",
       "    </tr>\n",
       "  </thead>\n",
       "  <tbody>\n",
       "    <tr>\n",
       "      <th>0</th>\n",
       "      <td>Logistic Regression</td>\n",
       "      <td>0.944926</td>\n",
       "      <td>0.944605</td>\n",
       "      <td>0.055395</td>\n",
       "      <td>0.0</td>\n",
       "      <td>0.99949</td>\n",
       "      <td>0.0</td>\n",
       "      <td>0.0</td>\n",
       "      <td>0.816471</td>\n",
       "    </tr>\n",
       "  </tbody>\n",
       "</table>\n",
       "</div>"
      ],
      "text/plain": [
       "                 model  train_accuracy  test_accuracy  misclassification  \\\n",
       "0  Logistic Regression        0.944926       0.944605           0.055395   \n",
       "\n",
       "   sensitivity  specificity  precision  f1_score   roc_auc  \n",
       "0          0.0      0.99949        0.0       0.0  0.816471  "
      ]
     },
     "execution_count": 26,
     "metadata": {},
     "output_type": "execute_result"
    }
   ],
   "source": [
    "results_df"
   ]
  },
  {
   "cell_type": "markdown",
   "id": "4941cb0a",
   "metadata": {},
   "source": [
    "## SVM"
   ]
  },
  {
   "cell_type": "code",
   "execution_count": 27,
   "id": "01703ef8",
   "metadata": {},
   "outputs": [],
   "source": [
    "# instantiate pipeline\n",
    "pipe_svc = Pipeline([('sampling', SMOTE()),\n",
    "                 ('svc', SVC(probability=True, random_state=100)) # probability=True is needed to calculate predict_proba \n",
    "                ])"
   ]
  },
  {
   "cell_type": "code",
   "execution_count": 28,
   "id": "1b808a11",
   "metadata": {},
   "outputs": [],
   "source": [
    "pipe_svc_params = {\n",
    "    'svc__C': [7], #5, 9\n",
    "    'svc__kernel': ['rbf', 'poly'],  \n",
    "    'sampling__sampling_strategy': ['not minority'], #auto\n",
    "    'sampling__k_neighbors': [3], #5     \n",
    "}"
   ]
  },
  {
   "cell_type": "code",
   "execution_count": 29,
   "id": "8114200a",
   "metadata": {},
   "outputs": [],
   "source": [
    "gs_svc = GridSearchCV(pipe_svc, pipe_svc_params, verbose=2, n_jobs=-1)"
   ]
  },
  {
   "cell_type": "code",
   "execution_count": 30,
   "id": "9451011f",
   "metadata": {},
   "outputs": [
    {
     "name": "stdout",
     "output_type": "stream",
     "text": [
      "Fitting 5 folds for each of 2 candidates, totalling 10 fits\n",
      "Wall time: 27.3 s\n"
     ]
    },
    {
     "data": {
      "text/plain": [
       "GridSearchCV(estimator=Pipeline(steps=[('sampling', SMOTE()),\n",
       "                                       ('svc',\n",
       "                                        SVC(probability=True,\n",
       "                                            random_state=100))]),\n",
       "             n_jobs=-1,\n",
       "             param_grid={'sampling__k_neighbors': [3],\n",
       "                         'sampling__sampling_strategy': ['not minority'],\n",
       "                         'svc__C': [7], 'svc__kernel': ['rbf', 'poly']},\n",
       "             verbose=2)"
      ]
     },
     "execution_count": 30,
     "metadata": {},
     "output_type": "execute_result"
    }
   ],
   "source": [
    "%%time\n",
    "gs_svc.fit(X_train, y_train)"
   ]
  },
  {
   "cell_type": "code",
   "execution_count": 31,
   "id": "8a4e2ff3",
   "metadata": {},
   "outputs": [
    {
     "data": {
      "text/plain": [
       "{'sampling__k_neighbors': 3,\n",
       " 'sampling__sampling_strategy': 'not minority',\n",
       " 'svc__C': 7,\n",
       " 'svc__kernel': 'rbf'}"
      ]
     },
     "execution_count": 31,
     "metadata": {},
     "output_type": "execute_result"
    }
   ],
   "source": [
    "gs_svc.best_params_"
   ]
  },
  {
   "cell_type": "code",
   "execution_count": 32,
   "id": "57fb8f36",
   "metadata": {},
   "outputs": [
    {
     "data": {
      "image/png": "[encoded data removed]",
      "text/plain": [
       "<Figure size 936x360 with 3 Axes>"
      ]
     },
     "metadata": {
      "needs_background": "light"
     },
     "output_type": "display_data"
    }
   ],
   "source": [
    "mod_metrics = metrics_and_plot_cm(gs_svc, X_val, y_val)"
   ]
  },
  {
   "cell_type": "code",
   "execution_count": 33,
   "id": "1bb873e5",
   "metadata": {},
   "outputs": [],
   "source": [
    "results_df = append_results(results_df,\n",
    "                           gs_svc.score(X_train, y_train),\n",
    "                           mod_metrics,\n",
    "                           'SVM',\n",
    "                           )"
   ]
  },
  {
   "cell_type": "code",
   "execution_count": 34,
   "id": "ba08f76c",
   "metadata": {},
   "outputs": [
    {
     "data": {
      "text/html": [
       "<div>\n",
       "<style scoped>\n",
       "    .dataframe tbody tr th:only-of-type {\n",
       "        vertical-align: middle;\n",
       "    }\n",
       "\n",
       "    .dataframe tbody tr th {\n",
       "        vertical-align: top;\n",
       "    }\n",
       "\n",
       "    .dataframe thead th {\n",
       "        text-align: right;\n",
       "    }\n",
       "</style>\n",
       "<table border=\"1\" class=\"dataframe\">\n",
       "  <thead>\n",
       "    <tr style=\"text-align: right;\">\n",
       "      <th></th>\n",
       "      <th>model</th>\n",
       "      <th>train_accuracy</th>\n",
       "      <th>test_accuracy</th>\n",
       "      <th>misclassification</th>\n",
       "      <th>sensitivity</th>\n",
       "      <th>specificity</th>\n",
       "      <th>precision</th>\n",
       "      <th>f1_score</th>\n",
       "      <th>roc_auc</th>\n",
       "    </tr>\n",
       "  </thead>\n",
       "  <tbody>\n",
       "    <tr>\n",
       "      <th>0</th>\n",
       "      <td>Logistic Regression</td>\n",
       "      <td>0.944926</td>\n",
       "      <td>0.944605</td>\n",
       "      <td>0.055395</td>\n",
       "      <td>0.0</td>\n",
       "      <td>0.999490</td>\n",
       "      <td>0.0</td>\n",
       "      <td>0.0</td>\n",
       "      <td>0.816471</td>\n",
       "    </tr>\n",
       "    <tr>\n",
       "      <th>1</th>\n",
       "      <td>SVM</td>\n",
       "      <td>0.946050</td>\n",
       "      <td>0.944123</td>\n",
       "      <td>0.055877</td>\n",
       "      <td>0.0</td>\n",
       "      <td>0.998981</td>\n",
       "      <td>0.0</td>\n",
       "      <td>0.0</td>\n",
       "      <td>0.803025</td>\n",
       "    </tr>\n",
       "  </tbody>\n",
       "</table>\n",
       "</div>"
      ],
      "text/plain": [
       "                 model  train_accuracy  test_accuracy  misclassification  \\\n",
       "0  Logistic Regression        0.944926       0.944605           0.055395   \n",
       "1                  SVM        0.946050       0.944123           0.055877   \n",
       "\n",
       "   sensitivity  specificity  precision  f1_score   roc_auc  \n",
       "0          0.0     0.999490        0.0       0.0  0.816471  \n",
       "1          0.0     0.998981        0.0       0.0  0.803025  "
      ]
     },
     "execution_count": 34,
     "metadata": {},
     "output_type": "execute_result"
    }
   ],
   "source": [
    "results_df"
   ]
  },
  {
   "cell_type": "markdown",
   "id": "b2834405",
   "metadata": {},
   "source": [
    "## PCA"
   ]
  },
  {
   "cell_type": "code",
   "execution_count": 35,
   "id": "d2873e0d",
   "metadata": {},
   "outputs": [],
   "source": [
    "# instantiate pca\n",
    "pca = PCA(random_state=42)"
   ]
  },
  {
   "cell_type": "code",
   "execution_count": 36,
   "id": "46b0d681",
   "metadata": {},
   "outputs": [
    {
     "data": {
      "text/plain": [
       "PCA(random_state=42)"
      ]
     },
     "execution_count": 36,
     "metadata": {},
     "output_type": "execute_result"
    }
   ],
   "source": [
    "pca.fit(X_train)"
   ]
  },
  {
   "cell_type": "code",
   "execution_count": 37,
   "id": "74fae1df",
   "metadata": {},
   "outputs": [],
   "source": [
    "Z_train, Z_val = pca.transform(X_train), pca.transform(X_val)"
   ]
  },
  {
   "cell_type": "code",
   "execution_count": 38,
   "id": "e3fd4b70",
   "metadata": {},
   "outputs": [
    {
     "data": {
      "text/plain": [
       "array([0.323, 0.169, 0.085, 0.069, 0.067, 0.064, 0.048, 0.028, 0.019,\n",
       "       0.015, 0.01 , 0.008, 0.006, 0.006, 0.006, 0.005, 0.004, 0.004,\n",
       "       0.003, 0.003, 0.002, 0.002, 0.002, 0.002, 0.002, 0.002, 0.002,\n",
       "       0.002, 0.002, 0.002, 0.002, 0.001, 0.001, 0.001, 0.001, 0.001,\n",
       "       0.001, 0.001, 0.001, 0.001, 0.001, 0.001, 0.001, 0.001, 0.001,\n",
       "       0.001, 0.001, 0.001, 0.001, 0.001, 0.001, 0.001, 0.001, 0.001,\n",
       "       0.001, 0.001, 0.001, 0.001, 0.001, 0.001, 0.001, 0.001, 0.   ,\n",
       "       0.   , 0.   , 0.   , 0.   , 0.   , 0.   , 0.   , 0.   , 0.   ,\n",
       "       0.   , 0.   , 0.   , 0.   , 0.   , 0.   , 0.   , 0.   , 0.   ,\n",
       "       0.   , 0.   , 0.   , 0.   , 0.   , 0.   , 0.   , 0.   ])"
      ]
     },
     "execution_count": 38,
     "metadata": {},
     "output_type": "execute_result"
    }
   ],
   "source": [
    "pca.explained_variance_ratio_.round(3)"
   ]
  },
  {
   "cell_type": "code",
   "execution_count": 39,
   "id": "fcb4b816",
   "metadata": {},
   "outputs": [
    {
     "name": "stdout",
     "output_type": "stream",
     "text": [
      "We see that the first 10 components explain 88.7 % of the variance\n"
     ]
    }
   ],
   "source": [
    "comp_10 = pca.explained_variance_ratio_.round(3)[:10].sum()\n",
    "print(f'We see that the first 10 components explain {comp_10*100} % of the variance')"
   ]
  },
  {
   "cell_type": "code",
   "execution_count": 40,
   "id": "2b96d37c",
   "metadata": {},
   "outputs": [
    {
     "name": "stdout",
     "output_type": "stream",
     "text": [
      "We see that the first 30 components explain 96.2 % of the variance\n"
     ]
    }
   ],
   "source": [
    "comp_30 = pca.explained_variance_ratio_.round(3)[:30].sum()\n",
    "print(f'We see that the first 30 components explain {comp_30*100} % of the variance')"
   ]
  },
  {
   "cell_type": "markdown",
   "id": "50708262",
   "metadata": {},
   "source": [
    "### Logistic Regression with PCA"
   ]
  },
  {
   "cell_type": "code",
   "execution_count": 41,
   "id": "6b45b096",
   "metadata": {},
   "outputs": [],
   "source": [
    "# embed pca in a pipeline\n",
    "pipe_pca_logreg = Pipeline([('sampling', SMOTE()),\n",
    "                 ('pca', PCA()),\n",
    "                 ('logreg', LogisticRegression(solver='liblinear', random_state=42))\n",
    "                ])"
   ]
  },
  {
   "cell_type": "code",
   "execution_count": 42,
   "id": "1f9cd147",
   "metadata": {},
   "outputs": [],
   "source": [
    "pipe_pca_logreg_params = {\n",
    "    'logreg__penalty': ['l1', 'l2'], \n",
    "    'logreg__C': [0.1, 0.5, 1],  #1.5, 2\n",
    "    'pca__n_components': [10, 15],  #20, 30, 40\n",
    "    'sampling__sampling_strategy': ['not minority'],  #auto, minority\n",
    "    'sampling__k_neighbors': [1, 3, 5],  #5\n",
    "}"
   ]
  },
  {
   "cell_type": "code",
   "execution_count": 43,
   "id": "7894d157",
   "metadata": {},
   "outputs": [],
   "source": [
    "gs_pca_logreg = GridSearchCV(pipe_pca_logreg, pipe_pca_logreg_params, verbose=2, n_jobs=-1)"
   ]
  },
  {
   "cell_type": "code",
   "execution_count": 44,
   "id": "30839e31",
   "metadata": {
    "scrolled": true
   },
   "outputs": [
    {
     "name": "stdout",
     "output_type": "stream",
     "text": [
      "Fitting 5 folds for each of 36 candidates, totalling 180 fits\n",
      "Wall time: 4.68 s\n"
     ]
    },
    {
     "data": {
      "text/plain": [
       "GridSearchCV(estimator=Pipeline(steps=[('sampling', SMOTE()), ('pca', PCA()),\n",
       "                                       ('logreg',\n",
       "                                        LogisticRegression(random_state=42,\n",
       "                                                           solver='liblinear'))]),\n",
       "             n_jobs=-1,\n",
       "             param_grid={'logreg__C': [0.1, 0.5, 1],\n",
       "                         'logreg__penalty': ['l1', 'l2'],\n",
       "                         'pca__n_components': [10, 15],\n",
       "                         'sampling__k_neighbors': [1, 3, 5],\n",
       "                         'sampling__sampling_strategy': ['not minority']},\n",
       "             verbose=2)"
      ]
     },
     "execution_count": 44,
     "metadata": {},
     "output_type": "execute_result"
    }
   ],
   "source": [
    "%%time\n",
    "gs_pca_logreg.fit(X_train, y_train)"
   ]
  },
  {
   "cell_type": "code",
   "execution_count": 45,
   "id": "141770d7",
   "metadata": {},
   "outputs": [
    {
     "data": {
      "text/plain": [
       "{'logreg__C': 0.1,\n",
       " 'logreg__penalty': 'l1',\n",
       " 'pca__n_components': 10,\n",
       " 'sampling__k_neighbors': 1,\n",
       " 'sampling__sampling_strategy': 'not minority'}"
      ]
     },
     "execution_count": 45,
     "metadata": {},
     "output_type": "execute_result"
    }
   ],
   "source": [
    "gs_pca_logreg.best_params_"
   ]
  },
  {
   "cell_type": "code",
   "execution_count": 46,
   "id": "12fc3019",
   "metadata": {},
   "outputs": [
    {
     "name": "stderr",
     "output_type": "stream",
     "text": [
      "<ipython-input-8-04f0a039b628>:8: RuntimeWarning: invalid value encountered in longlong_scalars\n",
      "  prec = tp / (tp + fp)\n"
     ]
    },
    {
     "data": {
      "image/png": "[encoded data removed]",
      "text/plain": [
       "<Figure size 936x360 with 3 Axes>"
      ]
     },
     "metadata": {
      "needs_background": "light"
     },
     "output_type": "display_data"
    }
   ],
   "source": [
    "mod_metrics = metrics_and_plot_cm(gs_pca_logreg, X_val, y_val)"
   ]
  },
  {
   "cell_type": "code",
   "execution_count": 47,
   "id": "a95a81ea",
   "metadata": {},
   "outputs": [],
   "source": [
    "results_df = append_results(results_df,\n",
    "                           gs_pca_logreg.score(X_train, y_train),\n",
    "                           mod_metrics,\n",
    "                           'PCA Logistic Regression',\n",
    "                           )"
   ]
  },
  {
   "cell_type": "code",
   "execution_count": 48,
   "id": "9a86d4e4",
   "metadata": {},
   "outputs": [
    {
     "data": {
      "text/html": [
       "<div>\n",
       "<style scoped>\n",
       "    .dataframe tbody tr th:only-of-type {\n",
       "        vertical-align: middle;\n",
       "    }\n",
       "\n",
       "    .dataframe tbody tr th {\n",
       "        vertical-align: top;\n",
       "    }\n",
       "\n",
       "    .dataframe thead th {\n",
       "        text-align: right;\n",
       "    }\n",
       "</style>\n",
       "<table border=\"1\" class=\"dataframe\">\n",
       "  <thead>\n",
       "    <tr style=\"text-align: right;\">\n",
       "      <th></th>\n",
       "      <th>model</th>\n",
       "      <th>train_accuracy</th>\n",
       "      <th>test_accuracy</th>\n",
       "      <th>misclassification</th>\n",
       "      <th>sensitivity</th>\n",
       "      <th>specificity</th>\n",
       "      <th>precision</th>\n",
       "      <th>f1_score</th>\n",
       "      <th>roc_auc</th>\n",
       "    </tr>\n",
       "  </thead>\n",
       "  <tbody>\n",
       "    <tr>\n",
       "      <th>0</th>\n",
       "      <td>Logistic Regression</td>\n",
       "      <td>0.944926</td>\n",
       "      <td>0.944605</td>\n",
       "      <td>0.055395</td>\n",
       "      <td>0.0</td>\n",
       "      <td>0.999490</td>\n",
       "      <td>0.0</td>\n",
       "      <td>0.0</td>\n",
       "      <td>0.816471</td>\n",
       "    </tr>\n",
       "    <tr>\n",
       "      <th>1</th>\n",
       "      <td>SVM</td>\n",
       "      <td>0.946050</td>\n",
       "      <td>0.944123</td>\n",
       "      <td>0.055877</td>\n",
       "      <td>0.0</td>\n",
       "      <td>0.998981</td>\n",
       "      <td>0.0</td>\n",
       "      <td>0.0</td>\n",
       "      <td>0.803025</td>\n",
       "    </tr>\n",
       "    <tr>\n",
       "      <th>2</th>\n",
       "      <td>PCA Logistic Regression</td>\n",
       "      <td>0.944926</td>\n",
       "      <td>0.945087</td>\n",
       "      <td>0.054913</td>\n",
       "      <td>0.0</td>\n",
       "      <td>1.000000</td>\n",
       "      <td>NaN</td>\n",
       "      <td>0.0</td>\n",
       "      <td>0.783228</td>\n",
       "    </tr>\n",
       "  </tbody>\n",
       "</table>\n",
       "</div>"
      ],
      "text/plain": [
       "                     model  train_accuracy  test_accuracy  misclassification  \\\n",
       "0      Logistic Regression        0.944926       0.944605           0.055395   \n",
       "1                      SVM        0.946050       0.944123           0.055877   \n",
       "2  PCA Logistic Regression        0.944926       0.945087           0.054913   \n",
       "\n",
       "   sensitivity  specificity  precision  f1_score   roc_auc  \n",
       "0          0.0     0.999490        0.0       0.0  0.816471  \n",
       "1          0.0     0.998981        0.0       0.0  0.803025  \n",
       "2          0.0     1.000000        NaN       0.0  0.783228  "
      ]
     },
     "execution_count": 48,
     "metadata": {},
     "output_type": "execute_result"
    }
   ],
   "source": [
    "results_df"
   ]
  },
  {
   "cell_type": "markdown",
   "id": "08b7e97f",
   "metadata": {},
   "source": [
    "### SVM with PCA"
   ]
  },
  {
   "cell_type": "code",
   "execution_count": 49,
   "id": "656455b6",
   "metadata": {},
   "outputs": [],
   "source": [
    "pipe_pca_svc = Pipeline([('sampling', SMOTE()),\n",
    "                 ('pca', PCA()),\n",
    "                 ('svc', SVC(probability=True, random_state=42))\n",
    "])"
   ]
  },
  {
   "cell_type": "code",
   "execution_count": 50,
   "id": "5475daa7",
   "metadata": {},
   "outputs": [],
   "source": [
    "pipe_pca_svc_params = {\n",
    "    'svc__C': [5, 7], # 5, 9\n",
    "    'svc__kernel': ['rbf'], #'poly' \n",
    "    'pca__n_components': [10, 20],   #20, 30\n",
    "    'sampling__sampling_strategy': ['not minority'], #auto\n",
    "    'sampling__k_neighbors': [1, 3],  #5    \n",
    "}"
   ]
  },
  {
   "cell_type": "code",
   "execution_count": 51,
   "id": "0e0d60ce",
   "metadata": {},
   "outputs": [],
   "source": [
    "gs_pca_svc = GridSearchCV(pipe_pca_svc, pipe_pca_svc_params, verbose=2, n_jobs=-1)"
   ]
  },
  {
   "cell_type": "code",
   "execution_count": 52,
   "id": "c500d4de",
   "metadata": {},
   "outputs": [
    {
     "name": "stdout",
     "output_type": "stream",
     "text": [
      "Fitting 5 folds for each of 8 candidates, totalling 40 fits\n",
      "Wall time: 38.8 s\n"
     ]
    },
    {
     "data": {
      "text/plain": [
       "GridSearchCV(estimator=Pipeline(steps=[('sampling', SMOTE()), ('pca', PCA()),\n",
       "                                       ('svc',\n",
       "                                        SVC(probability=True,\n",
       "                                            random_state=42))]),\n",
       "             n_jobs=-1,\n",
       "             param_grid={'pca__n_components': [10, 20],\n",
       "                         'sampling__k_neighbors': [1, 3],\n",
       "                         'sampling__sampling_strategy': ['not minority'],\n",
       "                         'svc__C': [5, 7], 'svc__kernel': ['rbf']},\n",
       "             verbose=2)"
      ]
     },
     "execution_count": 52,
     "metadata": {},
     "output_type": "execute_result"
    }
   ],
   "source": [
    "%%time\n",
    "gs_pca_svc.fit(X_train, y_train)"
   ]
  },
  {
   "cell_type": "code",
   "execution_count": 53,
   "id": "483cb019",
   "metadata": {},
   "outputs": [
    {
     "data": {
      "text/plain": [
       "{'pca__n_components': 10,\n",
       " 'sampling__k_neighbors': 1,\n",
       " 'sampling__sampling_strategy': 'not minority',\n",
       " 'svc__C': 5,\n",
       " 'svc__kernel': 'rbf'}"
      ]
     },
     "execution_count": 53,
     "metadata": {},
     "output_type": "execute_result"
    }
   ],
   "source": [
    "gs_pca_svc.best_params_"
   ]
  },
  {
   "cell_type": "code",
   "execution_count": 54,
   "id": "6f05a69e",
   "metadata": {},
   "outputs": [
    {
     "name": "stderr",
     "output_type": "stream",
     "text": [
      "<ipython-input-8-04f0a039b628>:8: RuntimeWarning: invalid value encountered in longlong_scalars\n",
      "  prec = tp / (tp + fp)\n"
     ]
    },
    {
     "data": {
      "image/png": "[encoded data removed]",
      "text/plain": [
       "<Figure size 936x360 with 3 Axes>"
      ]
     },
     "metadata": {
      "needs_background": "light"
     },
     "output_type": "display_data"
    }
   ],
   "source": [
    "mod_metrics = metrics_and_plot_cm(gs_pca_logreg, X_val, y_val)"
   ]
  },
  {
   "cell_type": "code",
   "execution_count": 55,
   "id": "0f0e9b89",
   "metadata": {},
   "outputs": [],
   "source": [
    "results_df = append_results(results_df,\n",
    "                           gs_pca_svc.score(X_train, y_train),\n",
    "                           mod_metrics,\n",
    "                           'PCA SVM',\n",
    "                           )"
   ]
  },
  {
   "cell_type": "code",
   "execution_count": 56,
   "id": "a187be3c",
   "metadata": {},
   "outputs": [
    {
     "data": {
      "text/html": [
       "<div>\n",
       "<style scoped>\n",
       "    .dataframe tbody tr th:only-of-type {\n",
       "        vertical-align: middle;\n",
       "    }\n",
       "\n",
       "    .dataframe tbody tr th {\n",
       "        vertical-align: top;\n",
       "    }\n",
       "\n",
       "    .dataframe thead th {\n",
       "        text-align: right;\n",
       "    }\n",
       "</style>\n",
       "<table border=\"1\" class=\"dataframe\">\n",
       "  <thead>\n",
       "    <tr style=\"text-align: right;\">\n",
       "      <th></th>\n",
       "      <th>model</th>\n",
       "      <th>train_accuracy</th>\n",
       "      <th>test_accuracy</th>\n",
       "      <th>misclassification</th>\n",
       "      <th>sensitivity</th>\n",
       "      <th>specificity</th>\n",
       "      <th>precision</th>\n",
       "      <th>f1_score</th>\n",
       "      <th>roc_auc</th>\n",
       "    </tr>\n",
       "  </thead>\n",
       "  <tbody>\n",
       "    <tr>\n",
       "      <th>0</th>\n",
       "      <td>Logistic Regression</td>\n",
       "      <td>0.944926</td>\n",
       "      <td>0.944605</td>\n",
       "      <td>0.055395</td>\n",
       "      <td>0.0</td>\n",
       "      <td>0.999490</td>\n",
       "      <td>0.0</td>\n",
       "      <td>0.0</td>\n",
       "      <td>0.816471</td>\n",
       "    </tr>\n",
       "    <tr>\n",
       "      <th>1</th>\n",
       "      <td>SVM</td>\n",
       "      <td>0.946050</td>\n",
       "      <td>0.944123</td>\n",
       "      <td>0.055877</td>\n",
       "      <td>0.0</td>\n",
       "      <td>0.998981</td>\n",
       "      <td>0.0</td>\n",
       "      <td>0.0</td>\n",
       "      <td>0.803025</td>\n",
       "    </tr>\n",
       "    <tr>\n",
       "      <th>2</th>\n",
       "      <td>PCA Logistic Regression</td>\n",
       "      <td>0.944926</td>\n",
       "      <td>0.945087</td>\n",
       "      <td>0.054913</td>\n",
       "      <td>0.0</td>\n",
       "      <td>1.000000</td>\n",
       "      <td>NaN</td>\n",
       "      <td>0.0</td>\n",
       "      <td>0.783228</td>\n",
       "    </tr>\n",
       "    <tr>\n",
       "      <th>3</th>\n",
       "      <td>PCA SVM</td>\n",
       "      <td>0.944926</td>\n",
       "      <td>0.945087</td>\n",
       "      <td>0.054913</td>\n",
       "      <td>0.0</td>\n",
       "      <td>1.000000</td>\n",
       "      <td>NaN</td>\n",
       "      <td>0.0</td>\n",
       "      <td>0.783228</td>\n",
       "    </tr>\n",
       "  </tbody>\n",
       "</table>\n",
       "</div>"
      ],
      "text/plain": [
       "                     model  train_accuracy  test_accuracy  misclassification  \\\n",
       "0      Logistic Regression        0.944926       0.944605           0.055395   \n",
       "1                      SVM        0.946050       0.944123           0.055877   \n",
       "2  PCA Logistic Regression        0.944926       0.945087           0.054913   \n",
       "3                  PCA SVM        0.944926       0.945087           0.054913   \n",
       "\n",
       "   sensitivity  specificity  precision  f1_score   roc_auc  \n",
       "0          0.0     0.999490        0.0       0.0  0.816471  \n",
       "1          0.0     0.998981        0.0       0.0  0.803025  \n",
       "2          0.0     1.000000        NaN       0.0  0.783228  \n",
       "3          0.0     1.000000        NaN       0.0  0.783228  "
      ]
     },
     "execution_count": 56,
     "metadata": {},
     "output_type": "execute_result"
    }
   ],
   "source": [
    "results_df"
   ]
  },
  {
   "cell_type": "markdown",
   "id": "23a8c7cc",
   "metadata": {},
   "source": [
    "# Feature Importance"
   ]
  },
  {
   "cell_type": "code",
   "execution_count": 57,
   "id": "cd815135",
   "metadata": {},
   "outputs": [],
   "source": [
    "# note: svm on rbf has no feature importance, only svm on linear has it\n",
    "# https://stackoverflow.com/questions/41592661/determining-the-most-contributing-features-for-svm-classifier-in-sklearn"
   ]
  },
  {
   "cell_type": "markdown",
   "id": "3f35b54e",
   "metadata": {},
   "source": [
    "Feature Importance based on Logistic Regression"
   ]
  },
  {
   "cell_type": "code",
   "execution_count": 58,
   "id": "4e12e117",
   "metadata": {},
   "outputs": [
    {
     "data": {
      "text/plain": [
       "array([[-6.76020538e-01,  2.54791252e-01,  0.00000000e+00,\n",
       "        -4.00739720e-01,  1.77219301e-01,  0.00000000e+00,\n",
       "        -1.94309255e-01,  2.06572753e-01,  2.52058183e-01,\n",
       "         7.99209669e-01, -2.98966931e-01,  4.42458588e-01,\n",
       "        -1.75714956e-02,  0.00000000e+00, -8.68816720e-01,\n",
       "        -8.44758007e-02,  0.00000000e+00,  0.00000000e+00,\n",
       "        -1.16486889e-02, -5.82366257e-01,  0.00000000e+00,\n",
       "         0.00000000e+00,  2.90213853e-01, -3.03735490e-01,\n",
       "        -1.06594411e+00,  0.00000000e+00,  2.51637331e-01,\n",
       "         0.00000000e+00, -1.24670422e+00,  1.03486875e-01,\n",
       "         0.00000000e+00, -4.20726025e-01,  4.94790698e-01,\n",
       "        -3.23030259e-01,  0.00000000e+00,  7.65130708e-01,\n",
       "         0.00000000e+00,  5.83308171e-01,  0.00000000e+00,\n",
       "        -5.81139066e-01,  0.00000000e+00,  9.23351300e-01,\n",
       "         0.00000000e+00,  0.00000000e+00, -1.62315852e-01,\n",
       "         2.53091237e-01,  8.21016373e-01,  1.52506590e-03,\n",
       "        -1.23112346e-01,  0.00000000e+00,  8.05196792e-01,\n",
       "         0.00000000e+00,  4.48751633e-01,  0.00000000e+00,\n",
       "         8.42951431e-01,  3.26626949e-01,  7.16847648e-01,\n",
       "         0.00000000e+00,  9.78569308e-02,  0.00000000e+00,\n",
       "         0.00000000e+00,  2.79720640e-01,  1.07730255e+00,\n",
       "         0.00000000e+00, -2.97921450e-01,  0.00000000e+00,\n",
       "         5.05876933e-02,  0.00000000e+00,  0.00000000e+00,\n",
       "         7.32384202e-01, -3.21903003e-01,  0.00000000e+00,\n",
       "         0.00000000e+00,  0.00000000e+00, -6.75197380e-02,\n",
       "        -2.53219221e-01,  0.00000000e+00, -2.38213364e+00,\n",
       "        -8.75961537e-01,  9.44463076e-01,  1.10070160e+00,\n",
       "         0.00000000e+00,  4.55017860e-01, -7.57208542e-01,\n",
       "         0.00000000e+00, -1.77460049e-02, -3.09802437e-01,\n",
       "         8.39213682e-01, -2.74429513e-02]])"
      ]
     },
     "execution_count": 58,
     "metadata": {},
     "output_type": "execute_result"
    }
   ],
   "source": [
    "gs_logreg.best_estimator_[1].coef_"
   ]
  },
  {
   "cell_type": "code",
   "execution_count": 59,
   "id": "41e27c66",
   "metadata": {
    "scrolled": true
   },
   "outputs": [],
   "source": [
    "logreg_features = pd.DataFrame({'feature_names': X_train.columns,\n",
    "                                'feature_importance': gs_logreg.best_estimator_[1].coef_[0]})"
   ]
  },
  {
   "cell_type": "code",
   "execution_count": 60,
   "id": "3d721436",
   "metadata": {},
   "outputs": [],
   "source": [
    "# top 20 features\n",
    "logreg_features = logreg_features.sort_values(by='feature_importance', ascending=False).head(20)"
   ]
  },
  {
   "cell_type": "code",
   "execution_count": 61,
   "id": "a0636cca",
   "metadata": {},
   "outputs": [
    {
     "data": {
      "image/png": "[encoded data removed]",
      "text/plain": [
       "<Figure size 720x720 with 1 Axes>"
      ]
     },
     "metadata": {
      "needs_background": "light"
     },
     "output_type": "display_data"
    }
   ],
   "source": [
    "fig, ax = plt.subplots(figsize=(10,10))\n",
    "sns.barplot(data=logreg_features, y='feature_names', x='feature_importance', palette='viridis')\n",
    "\n",
    "plt.title('Features Importance')\n",
    "plt.tight_layout()\n",
    "plt.show()"
   ]
  },
  {
   "cell_type": "code",
   "execution_count": null,
   "id": "307245be",
   "metadata": {},
   "outputs": [],
   "source": []
  },
  {
   "cell_type": "markdown",
   "id": "845d30c8",
   "metadata": {},
   "source": [
    "# Cost Benefit Analysis"
   ]
  },
  {
   "cell_type": "markdown",
   "id": "7198561c",
   "metadata": {},
   "source": [
    "## Research"
   ]
  },
  {
   "cell_type": "markdown",
   "id": "f3c4a368",
   "metadata": {},
   "source": [
    "Spraying Costs\n",
    "\n",
    "\n",
    "- [Time of spray](https://www.chicago.gov/city/en/depts/cdph/provdrs/healthy_communities/news/2020/august/city-to-spray-insecticide-thursday-to-kill-mosquitoes.html): Weather permitting, the spraying will begin at dusk on August 13th and continue through the night until approximately 1:00 am, with licensed mosquito abatement technicians in trucks dispensing an ultra-low-volume spray. The material being used to control the adult mosquitoes, Zenivex.\n",
    "\n",
    "\n",
    "- [Spray rate of Zerivex](https://chicago.cbslocal.com/2017/08/30/spray-mosquitoes-far-south-side-west-nile-prevention/): The chemical used is Zenivex, applied at a rate of 1.5 fluid ounces per acre. That measure is approved by the U.S. EPA to control mosquitoes in outdoor residential and recreational areas.\n",
    "\n",
    "\n",
    "- [Zerivex cost per acre](file:///C:/Users/caspe/Downloads/Zenivex%20Cost%20Comparison%20Fact%20Sheet.pdf): USD0.67 per acre\n",
    "\n",
    "\n",
    "\n",
    "- Area of Chicago City: esimated to be 145,300 acres based on Google Search\n",
    "\n",
    "\n"
   ]
  },
  {
   "cell_type": "markdown",
   "id": "c2417669",
   "metadata": {},
   "source": [
    "Based on the above, we assume the cost of spray to be USD 0.67 per acre multiplied by the area of Chicago city. This accounts for 1 spraying exercise."
   ]
  },
  {
   "cell_type": "code",
   "execution_count": 66,
   "id": "5c952244",
   "metadata": {
    "scrolled": true
   },
   "outputs": [
    {
     "data": {
      "text/plain": [
       "97351.0"
      ]
     },
     "execution_count": 66,
     "metadata": {},
     "output_type": "execute_result"
    }
   ],
   "source": [
    "spray_cost = 145300*0.67\n",
    "spray_cost"
   ]
  },
  {
   "cell_type": "markdown",
   "id": "4c31b291",
   "metadata": {},
   "source": [
    "We assume we want to be aggresive and spray every week during the summer months of July, August and September based on our spray effectiveness analysis in the previous notebook."
   ]
  },
  {
   "cell_type": "code",
   "execution_count": 67,
   "id": "a2485111",
   "metadata": {},
   "outputs": [
    {
     "data": {
      "text/plain": [
       "1168212.0"
      ]
     },
     "execution_count": 67,
     "metadata": {},
     "output_type": "execute_result"
    }
   ],
   "source": [
    "# each spray * 4 weeks * 3 months\n",
    "spray_cost * 4 * 3"
   ]
  },
  {
   "cell_type": "markdown",
   "id": "bd535303",
   "metadata": {},
   "source": [
    "For this scenario, we would need to set aside a budget of about USD 580,000 to conduct the spraying exercises on an annual basis."
   ]
  },
  {
   "cell_type": "markdown",
   "id": "a57a4c92",
   "metadata": {},
   "source": [
    "Medical Health Costs\n",
    "\n",
    "  - Patients who were hospitalized with acute flaccid paralysis, a partial- to whole-body paralysis caused by WNV infection, had the largest initial and long-term medical costs ([median USD 25,000 and USD 22,000 respectively](https://www.sciencedaily.com/releases/2014/02/140210184713.htm)).\n",
    "  \n",
    "  \n",
    "  - Number of [human WNV cases](https://www.ncbi.nlm.nih.gov/pmc/articles/PMC7241786/) in Chicago region (refer to Table 2): 24 in 2011 and 66 in 2013\n",
    "  \n",
    "  \n",
    "  - The [CDC site](https://www.cdc.gov/westnile/index.html) shares that while there are no vaccines to prevent or medications to treat WNV in people, about 1 in 5 people who are infected develop a fever and other symptoms and about 1 out of 150 infected people develop a serious, sometimes fatal, illness.  \n",
    "  \n",
    "  - Since only 1 in 150 people develop a serious illness which may require hospitalization, we assume that for the years 2011 and 2013, no one was hospitalized and there were no additional medical heath costs."
   ]
  },
  {
   "cell_type": "markdown",
   "id": "644fed0c",
   "metadata": {},
   "source": [
    "Based on the analysis above, there were very little benefit of the spraying in 2011 and 2013 due to the pathological nature of the WNV which we have studied so far. Furthermore, referencing back to our previous notebook on the spray data effectiveness analysis, the spray effectiveness is very sensitive to weather patterns."
   ]
  },
  {
   "cell_type": "code",
   "execution_count": null,
   "id": "98a343e6",
   "metadata": {},
   "outputs": [],
   "source": []
  },
  {
   "cell_type": "code",
   "execution_count": null,
   "id": "6048bd9f",
   "metadata": {},
   "outputs": [],
   "source": []
  },
  {
   "cell_type": "code",
   "execution_count": null,
   "id": "0f62b3e9",
   "metadata": {},
   "outputs": [],
   "source": []
  },
  {
   "cell_type": "code",
   "execution_count": null,
   "id": "b14658cd",
   "metadata": {},
   "outputs": [],
   "source": []
  },
  {
   "cell_type": "markdown",
   "id": "151754d2",
   "metadata": {},
   "source": [
    "# Conclusion"
   ]
  },
  {
   "cell_type": "code",
   "execution_count": null,
   "id": "365b84c9",
   "metadata": {},
   "outputs": [],
   "source": []
  },
  {
   "cell_type": "code",
   "execution_count": null,
   "id": "e097b0d4",
   "metadata": {},
   "outputs": [],
   "source": []
  },
  {
   "cell_type": "code",
   "execution_count": null,
   "id": "94183c07",
   "metadata": {},
   "outputs": [],
   "source": []
  },
  {
   "cell_type": "code",
   "execution_count": null,
   "id": "87a47886",
   "metadata": {},
   "outputs": [],
   "source": []
  },
  {
   "cell_type": "code",
   "execution_count": null,
   "id": "042c2bd5",
   "metadata": {},
   "outputs": [],
   "source": []
  },
  {
   "cell_type": "code",
   "execution_count": null,
   "id": "68926807",
   "metadata": {},
   "outputs": [],
   "source": []
  }
 ],
 "metadata": {
  "kernelspec": {
   "display_name": "Python 3",
   "language": "python",
   "name": "python3"
  },
  "language_info": {
   "codemirror_mode": {
    "name": "ipython",
    "version": 3
   },
   "file_extension": ".py",
   "mimetype": "text/x-python",
   "name": "python",
   "nbconvert_exporter": "python",
   "pygments_lexer": "ipython3",
   "version": "3.8.8"
  },
  "toc": {
   "base_numbering": 1,
   "nav_menu": {},
   "number_sections": true,
   "sideBar": true,
   "skip_h1_title": false,
   "title_cell": "Table of Contents",
   "title_sidebar": "Contents",
   "toc_cell": false,
   "toc_position": {
    "height": "calc(100% - 180px)",
    "left": "10px",
    "top": "150px",
    "width": "384px"
   },
   "toc_section_display": true,
   "toc_window_display": true
  }
 },
 "nbformat": 4,
 "nbformat_minor": 5
}
