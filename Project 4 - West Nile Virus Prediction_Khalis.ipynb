{
 "cells": [
  {
   "cell_type": "markdown",
   "id": "92399e6b",
   "metadata": {},
   "source": [
    "# Modelling"
   ]
  },
  {
   "cell_type": "code",
   "execution_count": 1,
   "id": "0fa3cd19",
   "metadata": {},
   "outputs": [],
   "source": [
    "import numpy as np\n",
    "import pandas as pd\n",
    "import matplotlib.pyplot as plt\n",
    "import seaborn as sns"
   ]
  },
  {
   "cell_type": "code",
   "execution_count": 62,
   "id": "fde5fc83",
   "metadata": {},
   "outputs": [],
   "source": [
    "from sklearn.model_selection import train_test_split, GridSearchCV\n",
    "from sklearn.preprocessing import StandardScaler\n",
    "from sklearn.linear_model import LogisticRegression\n",
    "from imblearn.pipeline import Pipeline\n",
    "from sklearn.svm import SVC\n",
    "from sklearn.decomposition import PCA\n",
    "from sklearn.metrics import confusion_matrix, plot_confusion_matrix, accuracy_score, plot_roc_curve, roc_auc_score, recall_score, precision_score, f1_score, plot_precision_recall_curve, precision_recall_curve,average_precision_score, auc\n",
    "\n",
    "from imblearn.over_sampling import SMOTE"
   ]
  },
  {
   "cell_type": "code",
   "execution_count": 3,
   "id": "a39cee61",
   "metadata": {},
   "outputs": [],
   "source": [
    "def append_results(result, train_score, metric, classifier):\n",
    "    tmp = pd.DataFrame({\n",
    "        'model':classifier,\n",
    "        'train_accuracy': train_score,\n",
    "        'test_accuracy': metric[metric['metric'] == 'accuracy']['score'].values[0],\n",
    "        'misclassification': metric[metric['metric'] == 'misclassification_rate']['score'].values[0],\n",
    "        'sensitivity': metric[metric['metric'] == 'sensitivity']['score'].values[0],\n",
    "        'specificity': metric[metric['metric'] == 'specificity']['score'].values[0],\n",
    "        'precision': metric[metric['metric'] == 'precision']['score'].values[0],\n",
    "        'f1_score': metric[metric['metric'] == 'f1_score']['score'].values[0],\n",
    "        'roc_auc':metric[metric['metric'] == 'roc_auc']['score'].values[0],\n",
    "        'ap_score':metric[metric['metric'] == 'ap_score']['score'].values[0],\n",
    "        #'misclassed_data':misclass_data\n",
    "    }, index=[0])\n",
    "    result = pd.concat([result,tmp], axis=0, ignore_index=True)\n",
    "    return result"
   ]
  },
  {
   "cell_type": "code",
   "execution_count": 88,
   "id": "4b4b5d06",
   "metadata": {},
   "outputs": [],
   "source": [
    "def metrics_and_plot_cm(classifier, X, y):\n",
    "    preds = classifier.predict(X)\n",
    "    tn, fp, fn, tp = confusion_matrix(y, preds).ravel()\n",
    "    acc = (tp + tn) / (tn + fp + fn + tp)\n",
    "    misclass = 1 - acc\n",
    "    sens = tp / (tp + fn)\n",
    "    spec = tn / (tn + fp)\n",
    "    prec = tp / (tp + fp)\n",
    "    f_one_score = f1_score(y, preds)\n",
    "    roc_auc = roc_auc_score(y, classifier.predict_proba(X)[:,1])\n",
    "    ap_score = average_precision_score(y, classifier.predict_proba(X)[:,1], average='weighted')\n",
    "    results = {\n",
    "        'accuracy': acc,\n",
    "        'misclassification_rate': misclass,\n",
    "        'sensitivity': sens,\n",
    "        'specificity': spec,\n",
    "        'precision': prec,\n",
    "        'f1_score':f_one_score,\n",
    "        'roc_auc':roc_auc,\n",
    "        'ap_score':ap_score\n",
    "    }\n",
    "    fig, axes = plt.subplots(ncols=3, figsize=(13,4))\n",
    "    fig.tight_layout()\n",
    "    cm_chart = plot_confusion_matrix(classifier, X, y, cmap='Blues', values_format='d', ax=axes[0]);\n",
    "    # cm_chart = plot_confusion_matrix(classifier, X, y, cmap='Blues', values_format='d',display_labels=['WNV Not Present (0)','WNV Present (1)'], ax=axes[0]);\n",
    "    roc_curve = plot_roc_curve(classifier, X, y, ax=axes[1])\n",
    "    axes[1].plot([0, 1], [0, 1], label='baseline', linestyle='--' )\n",
    "    pr_curve = plot_precision_recall_curve(classifier, X, y, ax=axes[2])\n",
    "    metrics = pd.DataFrame({\n",
    "        'metric': results.keys(),\n",
    "        'score': results.values()\n",
    "        })\n",
    "    return metrics"
   ]
  },
  {
   "cell_type": "code",
   "execution_count": 89,
   "id": "e1368eaa",
   "metadata": {},
   "outputs": [],
   "source": [
    "def get_misclassed_data(test_data,predicted, actual):\n",
    "    df = pd.DataFrame({\n",
    "        'predicted':predicted,\n",
    "        'actual':actual\n",
    "    })\n",
    "    idx = df[df['predicted'] != df['actual']].index\n",
    "    tmp_lst = [i for i in test_data[idx]]\n",
    "    return [tmp_lst]\n"
   ]
  },
  {
   "cell_type": "code",
   "execution_count": 90,
   "id": "4c29c1c3",
   "metadata": {},
   "outputs": [],
   "source": [
    "def output_results(preds, filename):\n",
    "    preds_to_df = pd.DataFrame(preds, columns=['0','1'])\n",
    "    preds_to_df.drop('0',axis=1, inplace=True)\n",
    "    preds_to_df.rename(columns={'1':'Wnvpresent'}, inplace=True)\n",
    "    preds_to_df.index.rename('id', inplace=True)\n",
    "    preds_to_df.index += 1\n",
    "    preds_to_df.to_csv(f'./assets/{filename}.csv', index=True)"
   ]
  },
  {
   "cell_type": "code",
   "execution_count": 91,
   "id": "b484b3f2",
   "metadata": {},
   "outputs": [],
   "source": [
    "train_comb = pd.read_csv('./assets/train_comb.csv')"
   ]
  },
  {
   "cell_type": "code",
   "execution_count": 92,
   "id": "2e5f7440",
   "metadata": {},
   "outputs": [],
   "source": [
    "train_comb['date'] = pd.to_datetime(train_comb['date'])\n",
    "train_comb.set_index('date', inplace=True)"
   ]
  },
  {
   "cell_type": "code",
   "execution_count": 93,
   "id": "3e57ddfb",
   "metadata": {},
   "outputs": [
    {
     "data": {
      "text/html": [
       "<div>\n",
       "<style scoped>\n",
       "    .dataframe tbody tr th:only-of-type {\n",
       "        vertical-align: middle;\n",
       "    }\n",
       "\n",
       "    .dataframe tbody tr th {\n",
       "        vertical-align: top;\n",
       "    }\n",
       "\n",
       "    .dataframe thead th {\n",
       "        text-align: right;\n",
       "    }\n",
       "</style>\n",
       "<table border=\"1\" class=\"dataframe\">\n",
       "  <thead>\n",
       "    <tr style=\"text-align: right;\">\n",
       "      <th></th>\n",
       "      <th>block</th>\n",
       "      <th>wnvpresent</th>\n",
       "      <th>month</th>\n",
       "      <th>depart</th>\n",
       "      <th>dewpoint</th>\n",
       "      <th>wetbulb</th>\n",
       "      <th>preciptotal</th>\n",
       "      <th>stnpressure</th>\n",
       "      <th>sealevel</th>\n",
       "      <th>resultspeed</th>\n",
       "      <th>...</th>\n",
       "      <th>fg</th>\n",
       "      <th>hz</th>\n",
       "      <th>ra</th>\n",
       "      <th>ts</th>\n",
       "      <th>vcts</th>\n",
       "      <th>deg_days</th>\n",
       "      <th>br10</th>\n",
       "      <th>dz10</th>\n",
       "      <th>species_rank</th>\n",
       "      <th>trap_rank</th>\n",
       "    </tr>\n",
       "    <tr>\n",
       "      <th>date</th>\n",
       "      <th></th>\n",
       "      <th></th>\n",
       "      <th></th>\n",
       "      <th></th>\n",
       "      <th></th>\n",
       "      <th></th>\n",
       "      <th></th>\n",
       "      <th></th>\n",
       "      <th></th>\n",
       "      <th></th>\n",
       "      <th></th>\n",
       "      <th></th>\n",
       "      <th></th>\n",
       "      <th></th>\n",
       "      <th></th>\n",
       "      <th></th>\n",
       "      <th></th>\n",
       "      <th></th>\n",
       "      <th></th>\n",
       "      <th></th>\n",
       "      <th></th>\n",
       "    </tr>\n",
       "  </thead>\n",
       "  <tbody>\n",
       "    <tr>\n",
       "      <th>2007-05-29</th>\n",
       "      <td>11</td>\n",
       "      <td>0</td>\n",
       "      <td>5</td>\n",
       "      <td>10.0</td>\n",
       "      <td>58</td>\n",
       "      <td>65.0</td>\n",
       "      <td>0.0</td>\n",
       "      <td>29.39</td>\n",
       "      <td>30.11</td>\n",
       "      <td>5.8</td>\n",
       "      <td>...</td>\n",
       "      <td>0</td>\n",
       "      <td>1</td>\n",
       "      <td>0</td>\n",
       "      <td>0</td>\n",
       "      <td>0</td>\n",
       "      <td>9</td>\n",
       "      <td>0.0</td>\n",
       "      <td>0.0</td>\n",
       "      <td>2.0</td>\n",
       "      <td>2.0</td>\n",
       "    </tr>\n",
       "    <tr>\n",
       "      <th>2007-05-29</th>\n",
       "      <td>11</td>\n",
       "      <td>0</td>\n",
       "      <td>5</td>\n",
       "      <td>10.0</td>\n",
       "      <td>58</td>\n",
       "      <td>65.0</td>\n",
       "      <td>0.0</td>\n",
       "      <td>29.39</td>\n",
       "      <td>30.11</td>\n",
       "      <td>5.8</td>\n",
       "      <td>...</td>\n",
       "      <td>0</td>\n",
       "      <td>1</td>\n",
       "      <td>0</td>\n",
       "      <td>0</td>\n",
       "      <td>0</td>\n",
       "      <td>9</td>\n",
       "      <td>0.0</td>\n",
       "      <td>0.0</td>\n",
       "      <td>3.0</td>\n",
       "      <td>2.0</td>\n",
       "    </tr>\n",
       "    <tr>\n",
       "      <th>2007-05-29</th>\n",
       "      <td>11</td>\n",
       "      <td>0</td>\n",
       "      <td>5</td>\n",
       "      <td>10.0</td>\n",
       "      <td>58</td>\n",
       "      <td>65.0</td>\n",
       "      <td>0.0</td>\n",
       "      <td>29.39</td>\n",
       "      <td>30.11</td>\n",
       "      <td>5.8</td>\n",
       "      <td>...</td>\n",
       "      <td>0</td>\n",
       "      <td>1</td>\n",
       "      <td>0</td>\n",
       "      <td>0</td>\n",
       "      <td>0</td>\n",
       "      <td>9</td>\n",
       "      <td>0.0</td>\n",
       "      <td>0.0</td>\n",
       "      <td>3.0</td>\n",
       "      <td>1.0</td>\n",
       "    </tr>\n",
       "    <tr>\n",
       "      <th>2007-05-29</th>\n",
       "      <td>11</td>\n",
       "      <td>0</td>\n",
       "      <td>5</td>\n",
       "      <td>10.0</td>\n",
       "      <td>58</td>\n",
       "      <td>65.0</td>\n",
       "      <td>0.0</td>\n",
       "      <td>29.39</td>\n",
       "      <td>30.11</td>\n",
       "      <td>5.8</td>\n",
       "      <td>...</td>\n",
       "      <td>0</td>\n",
       "      <td>1</td>\n",
       "      <td>0</td>\n",
       "      <td>0</td>\n",
       "      <td>0</td>\n",
       "      <td>9</td>\n",
       "      <td>0.0</td>\n",
       "      <td>0.0</td>\n",
       "      <td>3.0</td>\n",
       "      <td>1.0</td>\n",
       "    </tr>\n",
       "    <tr>\n",
       "      <th>2007-05-29</th>\n",
       "      <td>15</td>\n",
       "      <td>0</td>\n",
       "      <td>5</td>\n",
       "      <td>10.0</td>\n",
       "      <td>58</td>\n",
       "      <td>65.0</td>\n",
       "      <td>0.0</td>\n",
       "      <td>29.39</td>\n",
       "      <td>30.11</td>\n",
       "      <td>5.8</td>\n",
       "      <td>...</td>\n",
       "      <td>0</td>\n",
       "      <td>1</td>\n",
       "      <td>0</td>\n",
       "      <td>0</td>\n",
       "      <td>0</td>\n",
       "      <td>9</td>\n",
       "      <td>0.0</td>\n",
       "      <td>0.0</td>\n",
       "      <td>3.0</td>\n",
       "      <td>1.0</td>\n",
       "    </tr>\n",
       "    <tr>\n",
       "      <th>...</th>\n",
       "      <td>...</td>\n",
       "      <td>...</td>\n",
       "      <td>...</td>\n",
       "      <td>...</td>\n",
       "      <td>...</td>\n",
       "      <td>...</td>\n",
       "      <td>...</td>\n",
       "      <td>...</td>\n",
       "      <td>...</td>\n",
       "      <td>...</td>\n",
       "      <td>...</td>\n",
       "      <td>...</td>\n",
       "      <td>...</td>\n",
       "      <td>...</td>\n",
       "      <td>...</td>\n",
       "      <td>...</td>\n",
       "      <td>...</td>\n",
       "      <td>...</td>\n",
       "      <td>...</td>\n",
       "      <td>...</td>\n",
       "      <td>...</td>\n",
       "    </tr>\n",
       "    <tr>\n",
       "      <th>2013-09-26</th>\n",
       "      <td>10</td>\n",
       "      <td>0</td>\n",
       "      <td>9</td>\n",
       "      <td>3.0</td>\n",
       "      <td>52</td>\n",
       "      <td>58.0</td>\n",
       "      <td>0.0</td>\n",
       "      <td>29.34</td>\n",
       "      <td>30.04</td>\n",
       "      <td>3.8</td>\n",
       "      <td>...</td>\n",
       "      <td>0</td>\n",
       "      <td>0</td>\n",
       "      <td>0</td>\n",
       "      <td>0</td>\n",
       "      <td>0</td>\n",
       "      <td>-2</td>\n",
       "      <td>1.0</td>\n",
       "      <td>0.0</td>\n",
       "      <td>1.0</td>\n",
       "      <td>4.0</td>\n",
       "    </tr>\n",
       "    <tr>\n",
       "      <th>2013-09-26</th>\n",
       "      <td>10</td>\n",
       "      <td>0</td>\n",
       "      <td>9</td>\n",
       "      <td>3.0</td>\n",
       "      <td>52</td>\n",
       "      <td>58.0</td>\n",
       "      <td>0.0</td>\n",
       "      <td>29.34</td>\n",
       "      <td>30.04</td>\n",
       "      <td>3.8</td>\n",
       "      <td>...</td>\n",
       "      <td>0</td>\n",
       "      <td>0</td>\n",
       "      <td>0</td>\n",
       "      <td>0</td>\n",
       "      <td>0</td>\n",
       "      <td>-2</td>\n",
       "      <td>1.0</td>\n",
       "      <td>0.0</td>\n",
       "      <td>2.0</td>\n",
       "      <td>4.0</td>\n",
       "    </tr>\n",
       "    <tr>\n",
       "      <th>2013-09-26</th>\n",
       "      <td>10</td>\n",
       "      <td>0</td>\n",
       "      <td>9</td>\n",
       "      <td>3.0</td>\n",
       "      <td>52</td>\n",
       "      <td>58.0</td>\n",
       "      <td>0.0</td>\n",
       "      <td>29.34</td>\n",
       "      <td>30.04</td>\n",
       "      <td>3.8</td>\n",
       "      <td>...</td>\n",
       "      <td>0</td>\n",
       "      <td>0</td>\n",
       "      <td>0</td>\n",
       "      <td>0</td>\n",
       "      <td>0</td>\n",
       "      <td>-2</td>\n",
       "      <td>1.0</td>\n",
       "      <td>0.0</td>\n",
       "      <td>2.0</td>\n",
       "      <td>1.0</td>\n",
       "    </tr>\n",
       "    <tr>\n",
       "      <th>2013-09-26</th>\n",
       "      <td>11</td>\n",
       "      <td>0</td>\n",
       "      <td>9</td>\n",
       "      <td>3.0</td>\n",
       "      <td>52</td>\n",
       "      <td>58.0</td>\n",
       "      <td>0.0</td>\n",
       "      <td>29.34</td>\n",
       "      <td>30.04</td>\n",
       "      <td>3.8</td>\n",
       "      <td>...</td>\n",
       "      <td>0</td>\n",
       "      <td>0</td>\n",
       "      <td>0</td>\n",
       "      <td>0</td>\n",
       "      <td>0</td>\n",
       "      <td>-2</td>\n",
       "      <td>1.0</td>\n",
       "      <td>0.0</td>\n",
       "      <td>2.0</td>\n",
       "      <td>2.0</td>\n",
       "    </tr>\n",
       "    <tr>\n",
       "      <th>2013-09-26</th>\n",
       "      <td>90</td>\n",
       "      <td>0</td>\n",
       "      <td>9</td>\n",
       "      <td>3.0</td>\n",
       "      <td>52</td>\n",
       "      <td>58.0</td>\n",
       "      <td>0.0</td>\n",
       "      <td>29.34</td>\n",
       "      <td>30.04</td>\n",
       "      <td>3.8</td>\n",
       "      <td>...</td>\n",
       "      <td>0</td>\n",
       "      <td>0</td>\n",
       "      <td>0</td>\n",
       "      <td>0</td>\n",
       "      <td>0</td>\n",
       "      <td>-2</td>\n",
       "      <td>1.0</td>\n",
       "      <td>0.0</td>\n",
       "      <td>2.0</td>\n",
       "      <td>1.0</td>\n",
       "    </tr>\n",
       "  </tbody>\n",
       "</table>\n",
       "<p>8304 rows × 24 columns</p>\n",
       "</div>"
      ],
      "text/plain": [
       "            block  wnvpresent  month  depart  dewpoint  wetbulb  preciptotal  \\\n",
       "date                                                                           \n",
       "2007-05-29     11           0      5    10.0        58     65.0          0.0   \n",
       "2007-05-29     11           0      5    10.0        58     65.0          0.0   \n",
       "2007-05-29     11           0      5    10.0        58     65.0          0.0   \n",
       "2007-05-29     11           0      5    10.0        58     65.0          0.0   \n",
       "2007-05-29     15           0      5    10.0        58     65.0          0.0   \n",
       "...           ...         ...    ...     ...       ...      ...          ...   \n",
       "2013-09-26     10           0      9     3.0        52     58.0          0.0   \n",
       "2013-09-26     10           0      9     3.0        52     58.0          0.0   \n",
       "2013-09-26     10           0      9     3.0        52     58.0          0.0   \n",
       "2013-09-26     11           0      9     3.0        52     58.0          0.0   \n",
       "2013-09-26     90           0      9     3.0        52     58.0          0.0   \n",
       "\n",
       "            stnpressure  sealevel  resultspeed  ...  fg  hz  ra  ts  vcts  \\\n",
       "date                                            ...                         \n",
       "2007-05-29        29.39     30.11          5.8  ...   0   1   0   0     0   \n",
       "2007-05-29        29.39     30.11          5.8  ...   0   1   0   0     0   \n",
       "2007-05-29        29.39     30.11          5.8  ...   0   1   0   0     0   \n",
       "2007-05-29        29.39     30.11          5.8  ...   0   1   0   0     0   \n",
       "2007-05-29        29.39     30.11          5.8  ...   0   1   0   0     0   \n",
       "...                 ...       ...          ...  ...  ..  ..  ..  ..   ...   \n",
       "2013-09-26        29.34     30.04          3.8  ...   0   0   0   0     0   \n",
       "2013-09-26        29.34     30.04          3.8  ...   0   0   0   0     0   \n",
       "2013-09-26        29.34     30.04          3.8  ...   0   0   0   0     0   \n",
       "2013-09-26        29.34     30.04          3.8  ...   0   0   0   0     0   \n",
       "2013-09-26        29.34     30.04          3.8  ...   0   0   0   0     0   \n",
       "\n",
       "            deg_days  br10  dz10  species_rank  trap_rank  \n",
       "date                                                       \n",
       "2007-05-29         9   0.0   0.0           2.0        2.0  \n",
       "2007-05-29         9   0.0   0.0           3.0        2.0  \n",
       "2007-05-29         9   0.0   0.0           3.0        1.0  \n",
       "2007-05-29         9   0.0   0.0           3.0        1.0  \n",
       "2007-05-29         9   0.0   0.0           3.0        1.0  \n",
       "...              ...   ...   ...           ...        ...  \n",
       "2013-09-26        -2   1.0   0.0           1.0        4.0  \n",
       "2013-09-26        -2   1.0   0.0           2.0        4.0  \n",
       "2013-09-26        -2   1.0   0.0           2.0        1.0  \n",
       "2013-09-26        -2   1.0   0.0           2.0        2.0  \n",
       "2013-09-26        -2   1.0   0.0           2.0        1.0  \n",
       "\n",
       "[8304 rows x 24 columns]"
      ]
     },
     "execution_count": 93,
     "metadata": {},
     "output_type": "execute_result"
    }
   ],
   "source": [
    "train_comb"
   ]
  },
  {
   "cell_type": "code",
   "execution_count": 94,
   "id": "4c7989e5",
   "metadata": {},
   "outputs": [],
   "source": [
    "# dropping trap column for now as it is not numeralize yet\n",
    "X = train_comb.drop(columns=['wnvpresent'])\n",
    "y = train_comb['wnvpresent']"
   ]
  },
  {
   "cell_type": "code",
   "execution_count": 95,
   "id": "75058078",
   "metadata": {},
   "outputs": [],
   "source": [
    "# train/test split on data\n",
    "X_train, X_val, y_train, y_val = train_test_split(X, y, test_size=0.25, random_state=42, stratify=y)"
   ]
  },
  {
   "cell_type": "code",
   "execution_count": 96,
   "id": "08198a9f",
   "metadata": {},
   "outputs": [],
   "source": [
    "# Scale X data\n",
    "ss = StandardScaler()\n",
    "Xs_train, Xs_val = ss.fit_transform(X_train), ss.transform(X_val)"
   ]
  },
  {
   "cell_type": "markdown",
   "id": "ee09190d",
   "metadata": {},
   "source": [
    "## Baseline Score"
   ]
  },
  {
   "cell_type": "code",
   "execution_count": 97,
   "id": "ff46997d",
   "metadata": {},
   "outputs": [
    {
     "data": {
      "text/plain": [
       "0    0.944966\n",
       "1    0.055034\n",
       "Name: wnvpresent, dtype: float64"
      ]
     },
     "execution_count": 97,
     "metadata": {},
     "output_type": "execute_result"
    }
   ],
   "source": [
    "train_comb['wnvpresent'].value_counts(normalize=True)"
   ]
  },
  {
   "cell_type": "markdown",
   "id": "4a9911b3",
   "metadata": {},
   "source": [
    "The baseline accuracy score would be 0.945. We note from our target column: `wnvpresent` that there is massive class imbalance. We can resolve this by using SMOTE and include it in the pipeline for each of our models."
   ]
  },
  {
   "cell_type": "code",
   "execution_count": 98,
   "id": "720c00ef",
   "metadata": {},
   "outputs": [],
   "source": [
    "results_df = pd.DataFrame(columns=[\n",
    "    'model',\n",
    "    'train_accuracy',\n",
    "    'test_accuracy',\n",
    "    'misclassification',\n",
    "    'sensitivity',\n",
    "    'specificity',\n",
    "    'precision',\n",
    "    'f1_score',\n",
    "    'roc_auc',\n",
    "    'ap_score'\n",
    "#     'misclassed_data'\n",
    "])"
   ]
  },
  {
   "cell_type": "markdown",
   "id": "7f767804",
   "metadata": {},
   "source": [
    "## Logistic Regression"
   ]
  },
  {
   "cell_type": "code",
   "execution_count": 99,
   "id": "d287f63d",
   "metadata": {
    "scrolled": true
   },
   "outputs": [],
   "source": [
    "# instantiate pipeline\n",
    "pipe_logreg = Pipeline([('sampling', SMOTE(random_state=100)),\n",
    "                ('logreg', LogisticRegression(solver='liblinear', random_state=100))\n",
    "                ])"
   ]
  },
  {
   "cell_type": "code",
   "execution_count": 100,
   "id": "b16ab881",
   "metadata": {},
   "outputs": [],
   "source": [
    "# set params to gridsearch\n",
    "# pipe_logreg_params = {\n",
    "#     'logreg__penalty': ['l1','l2'],\n",
    "#     'logreg__C': [0.5, 1, 1.5, 2],\n",
    "#     'sampling__sampling_strategy': ['not majority','auto'],\n",
    "#     'sampling__k_neighbors': [3, 5],\n",
    "# }\n",
    "\n",
    "\n",
    "pipe_logreg_params = {\n",
    "    'logreg__penalty': ['l1'],\n",
    "    'logreg__C': [1.5],\n",
    "    'sampling__sampling_strategy': ['not majority','auto'],\n",
    "    'sampling__k_neighbors': [5],\n",
    "}"
   ]
  },
  {
   "cell_type": "code",
   "execution_count": 101,
   "id": "b53b2c5a",
   "metadata": {},
   "outputs": [],
   "source": [
    "gs_logreg = GridSearchCV(pipe_logreg, pipe_logreg_params, verbose=2, n_jobs=-1)"
   ]
  },
  {
   "cell_type": "code",
   "execution_count": 102,
   "id": "3301f59e",
   "metadata": {},
   "outputs": [
    {
     "name": "stdout",
     "output_type": "stream",
     "text": [
      "Fitting 5 folds for each of 2 candidates, totalling 10 fits\n",
      "Wall time: 2.94 s\n"
     ]
    },
    {
     "data": {
      "text/plain": [
       "GridSearchCV(estimator=Pipeline(steps=[('sampling', SMOTE(random_state=100)),\n",
       "                                       ('logreg',\n",
       "                                        LogisticRegression(random_state=100,\n",
       "                                                           solver='liblinear'))]),\n",
       "             n_jobs=-1,\n",
       "             param_grid={'logreg__C': [1.5], 'logreg__penalty': ['l1'],\n",
       "                         'sampling__k_neighbors': [5],\n",
       "                         'sampling__sampling_strategy': ['not majority',\n",
       "                                                         'auto']},\n",
       "             verbose=2)"
      ]
     },
     "execution_count": 102,
     "metadata": {},
     "output_type": "execute_result"
    }
   ],
   "source": [
    "%%time\n",
    "gs_logreg.fit(Xs_train, y_train)"
   ]
  },
  {
   "cell_type": "code",
   "execution_count": 103,
   "id": "54f00ef4",
   "metadata": {},
   "outputs": [
    {
     "data": {
      "text/plain": [
       "{'logreg__C': 1.5,\n",
       " 'logreg__penalty': 'l1',\n",
       " 'sampling__k_neighbors': 5,\n",
       " 'sampling__sampling_strategy': 'not majority'}"
      ]
     },
     "execution_count": 103,
     "metadata": {},
     "output_type": "execute_result"
    }
   ],
   "source": [
    "gs_logreg.best_params_"
   ]
  },
  {
   "cell_type": "code",
   "execution_count": 104,
   "id": "1fb15d6f",
   "metadata": {},
   "outputs": [
    {
     "data": {
      "image/png": "[encoded data removed]",
      "text/plain": [
       "<Figure size 936x288 with 4 Axes>"
      ]
     },
     "metadata": {
      "needs_background": "light"
     },
     "output_type": "display_data"
    }
   ],
   "source": [
    "mod_metrics = metrics_and_plot_cm(gs_logreg, Xs_val, y_val)"
   ]
  },
  {
   "cell_type": "code",
   "execution_count": 105,
   "id": "ca843279",
   "metadata": {},
   "outputs": [],
   "source": [
    "results_df = append_results(results_df,\n",
    "                           gs_logreg.score(Xs_train, y_train),\n",
    "                           mod_metrics,\n",
    "                           'Logistic Regression'\n",
    "                           )"
   ]
  },
  {
   "cell_type": "code",
   "execution_count": 106,
   "id": "b698af11",
   "metadata": {
    "scrolled": true
   },
   "outputs": [
    {
     "data": {
      "text/html": [
       "<div>\n",
       "<style scoped>\n",
       "    .dataframe tbody tr th:only-of-type {\n",
       "        vertical-align: middle;\n",
       "    }\n",
       "\n",
       "    .dataframe tbody tr th {\n",
       "        vertical-align: top;\n",
       "    }\n",
       "\n",
       "    .dataframe thead th {\n",
       "        text-align: right;\n",
       "    }\n",
       "</style>\n",
       "<table border=\"1\" class=\"dataframe\">\n",
       "  <thead>\n",
       "    <tr style=\"text-align: right;\">\n",
       "      <th></th>\n",
       "      <th>model</th>\n",
       "      <th>train_accuracy</th>\n",
       "      <th>test_accuracy</th>\n",
       "      <th>misclassification</th>\n",
       "      <th>sensitivity</th>\n",
       "      <th>specificity</th>\n",
       "      <th>precision</th>\n",
       "      <th>f1_score</th>\n",
       "      <th>roc_auc</th>\n",
       "      <th>ap_score</th>\n",
       "    </tr>\n",
       "  </thead>\n",
       "  <tbody>\n",
       "    <tr>\n",
       "      <th>0</th>\n",
       "      <td>Logistic Regression</td>\n",
       "      <td>0.672768</td>\n",
       "      <td>0.663295</td>\n",
       "      <td>0.336705</td>\n",
       "      <td>0.798246</td>\n",
       "      <td>0.655454</td>\n",
       "      <td>0.118644</td>\n",
       "      <td>0.206583</td>\n",
       "      <td>0.811061</td>\n",
       "      <td>0.177441</td>\n",
       "    </tr>\n",
       "  </tbody>\n",
       "</table>\n",
       "</div>"
      ],
      "text/plain": [
       "                 model  train_accuracy  test_accuracy  misclassification  \\\n",
       "0  Logistic Regression        0.672768       0.663295           0.336705   \n",
       "\n",
       "   sensitivity  specificity  precision  f1_score   roc_auc  ap_score  \n",
       "0     0.798246     0.655454   0.118644  0.206583  0.811061  0.177441  "
      ]
     },
     "execution_count": 106,
     "metadata": {},
     "output_type": "execute_result"
    }
   ],
   "source": [
    "results_df"
   ]
  },
  {
   "cell_type": "markdown",
   "id": "80581121",
   "metadata": {},
   "source": [
    "## SVM"
   ]
  },
  {
   "cell_type": "code",
   "execution_count": 107,
   "id": "a46e9814",
   "metadata": {},
   "outputs": [],
   "source": [
    "# instantiate pipeline\n",
    "pipe_svc = Pipeline([('sampling', SMOTE()),\n",
    "                 ('svc', SVC(probability=True, random_state=100)) # probability=True is needed to calculate predict_proba but fitting grid model would take very long\n",
    "                ])"
   ]
  },
  {
   "cell_type": "code",
   "execution_count": 108,
   "id": "13077afa",
   "metadata": {},
   "outputs": [],
   "source": [
    "# pipe_svc_params = {\n",
    "#     'svc__C': [5, 7, 9],\n",
    "#     'svc__kernel': ['rbf'],  #'poly'\n",
    "#     'sampling__sampling_strategy': ['minority', 'not minority', 'auto'],\n",
    "#     'sampling__k_neighbors': [3, 5],      \n",
    "# }\n",
    "\n",
    "pipe_svc_params = {\n",
    "    'svc__C': [5],\n",
    "    'svc__kernel': ['rbf'],  #'poly'\n",
    "    'sampling__sampling_strategy': ['not minority', 'auto'],\n",
    "    'sampling__k_neighbors': [3],      \n",
    "}"
   ]
  },
  {
   "cell_type": "code",
   "execution_count": 109,
   "id": "b1c12311",
   "metadata": {},
   "outputs": [],
   "source": [
    "gs_svc = GridSearchCV(pipe_svc, pipe_svc_params, verbose=2, n_jobs=-1)"
   ]
  },
  {
   "cell_type": "code",
   "execution_count": 110,
   "id": "a222d9d7",
   "metadata": {},
   "outputs": [
    {
     "name": "stdout",
     "output_type": "stream",
     "text": [
      "Fitting 5 folds for each of 2 candidates, totalling 10 fits\n",
      "Wall time: 18.8 s\n"
     ]
    },
    {
     "data": {
      "text/plain": [
       "GridSearchCV(estimator=Pipeline(steps=[('sampling', SMOTE()),\n",
       "                                       ('svc',\n",
       "                                        SVC(probability=True,\n",
       "                                            random_state=100))]),\n",
       "             n_jobs=-1,\n",
       "             param_grid={'sampling__k_neighbors': [3],\n",
       "                         'sampling__sampling_strategy': ['not minority',\n",
       "                                                         'auto'],\n",
       "                         'svc__C': [5], 'svc__kernel': ['rbf']},\n",
       "             verbose=2)"
      ]
     },
     "execution_count": 110,
     "metadata": {},
     "output_type": "execute_result"
    }
   ],
   "source": [
    "%%time\n",
    "gs_svc.fit(Xs_train, y_train)\n",
    "\n",
    "# wall time is cut by half we dont put SVC(probability=True) in the pipeline"
   ]
  },
  {
   "cell_type": "code",
   "execution_count": 111,
   "id": "16105190",
   "metadata": {},
   "outputs": [
    {
     "data": {
      "text/plain": [
       "{'sampling__k_neighbors': 3,\n",
       " 'sampling__sampling_strategy': 'not minority',\n",
       " 'svc__C': 5,\n",
       " 'svc__kernel': 'rbf'}"
      ]
     },
     "execution_count": 111,
     "metadata": {},
     "output_type": "execute_result"
    }
   ],
   "source": [
    "gs_svc.best_params_"
   ]
  },
  {
   "cell_type": "code",
   "execution_count": 112,
   "id": "3c650df1",
   "metadata": {},
   "outputs": [
    {
     "name": "stderr",
     "output_type": "stream",
     "text": [
      "<ipython-input-88-871f088d5600>:8: RuntimeWarning: invalid value encountered in longlong_scalars\n",
      "  prec = tp / (tp + fp)\n"
     ]
    },
    {
     "data": {
      "image/png": "[encoded data removed]",
      "text/plain": [
       "<Figure size 936x288 with 4 Axes>"
      ]
     },
     "metadata": {
      "needs_background": "light"
     },
     "output_type": "display_data"
    }
   ],
   "source": [
    "mod_metrics = metrics_and_plot_cm(gs_svc, Xs_val, y_val)"
   ]
  },
  {
   "cell_type": "code",
   "execution_count": 113,
   "id": "4c3544ce",
   "metadata": {},
   "outputs": [],
   "source": [
    "results_df = append_results(results_df,\n",
    "                           gs_svc.score(Xs_train, y_train),\n",
    "                           mod_metrics,\n",
    "                           'SVM',\n",
    "                           )"
   ]
  },
  {
   "cell_type": "code",
   "execution_count": 114,
   "id": "5e8c1376",
   "metadata": {},
   "outputs": [
    {
     "data": {
      "text/html": [
       "<div>\n",
       "<style scoped>\n",
       "    .dataframe tbody tr th:only-of-type {\n",
       "        vertical-align: middle;\n",
       "    }\n",
       "\n",
       "    .dataframe tbody tr th {\n",
       "        vertical-align: top;\n",
       "    }\n",
       "\n",
       "    .dataframe thead th {\n",
       "        text-align: right;\n",
       "    }\n",
       "</style>\n",
       "<table border=\"1\" class=\"dataframe\">\n",
       "  <thead>\n",
       "    <tr style=\"text-align: right;\">\n",
       "      <th></th>\n",
       "      <th>model</th>\n",
       "      <th>train_accuracy</th>\n",
       "      <th>test_accuracy</th>\n",
       "      <th>misclassification</th>\n",
       "      <th>sensitivity</th>\n",
       "      <th>specificity</th>\n",
       "      <th>precision</th>\n",
       "      <th>f1_score</th>\n",
       "      <th>roc_auc</th>\n",
       "      <th>ap_score</th>\n",
       "    </tr>\n",
       "  </thead>\n",
       "  <tbody>\n",
       "    <tr>\n",
       "      <th>0</th>\n",
       "      <td>Logistic Regression</td>\n",
       "      <td>0.672768</td>\n",
       "      <td>0.663295</td>\n",
       "      <td>0.336705</td>\n",
       "      <td>0.798246</td>\n",
       "      <td>0.655454</td>\n",
       "      <td>0.118644</td>\n",
       "      <td>0.206583</td>\n",
       "      <td>0.811061</td>\n",
       "      <td>0.177441</td>\n",
       "    </tr>\n",
       "    <tr>\n",
       "      <th>1</th>\n",
       "      <td>SVM</td>\n",
       "      <td>0.944926</td>\n",
       "      <td>0.945087</td>\n",
       "      <td>0.054913</td>\n",
       "      <td>0.000000</td>\n",
       "      <td>1.000000</td>\n",
       "      <td>NaN</td>\n",
       "      <td>0.000000</td>\n",
       "      <td>0.740993</td>\n",
       "      <td>0.111528</td>\n",
       "    </tr>\n",
       "  </tbody>\n",
       "</table>\n",
       "</div>"
      ],
      "text/plain": [
       "                 model  train_accuracy  test_accuracy  misclassification  \\\n",
       "0  Logistic Regression        0.672768       0.663295           0.336705   \n",
       "1                  SVM        0.944926       0.945087           0.054913   \n",
       "\n",
       "   sensitivity  specificity  precision  f1_score   roc_auc  ap_score  \n",
       "0     0.798246     0.655454   0.118644  0.206583  0.811061  0.177441  \n",
       "1     0.000000     1.000000        NaN  0.000000  0.740993  0.111528  "
      ]
     },
     "execution_count": 114,
     "metadata": {},
     "output_type": "execute_result"
    }
   ],
   "source": [
    "results_df"
   ]
  },
  {
   "cell_type": "markdown",
   "id": "23f8a8a4",
   "metadata": {},
   "source": [
    "## PCA"
   ]
  },
  {
   "cell_type": "code",
   "execution_count": 115,
   "id": "9d67e6e1",
   "metadata": {},
   "outputs": [],
   "source": [
    "# instantiate pca\n",
    "pca = PCA(random_state=100)"
   ]
  },
  {
   "cell_type": "code",
   "execution_count": 116,
   "id": "16a7ff83",
   "metadata": {},
   "outputs": [
    {
     "data": {
      "text/plain": [
       "PCA(random_state=100)"
      ]
     },
     "execution_count": 116,
     "metadata": {},
     "output_type": "execute_result"
    }
   ],
   "source": [
    "pca.fit(Xs_train)"
   ]
  },
  {
   "cell_type": "code",
   "execution_count": 117,
   "id": "94135f4a",
   "metadata": {},
   "outputs": [],
   "source": [
    "Z_train, Z_val = pca.transform(Xs_train), pca.transform(Xs_val)"
   ]
  },
  {
   "cell_type": "code",
   "execution_count": 118,
   "id": "b130348c",
   "metadata": {},
   "outputs": [
    {
     "data": {
      "text/plain": [
       "array([0.241, 0.121, 0.113, 0.077, 0.061, 0.051, 0.049, 0.046, 0.037,\n",
       "       0.036, 0.034, 0.031, 0.023, 0.022, 0.019, 0.015, 0.008, 0.006,\n",
       "       0.004, 0.003, 0.002, 0.   , 0.   ])"
      ]
     },
     "execution_count": 118,
     "metadata": {},
     "output_type": "execute_result"
    }
   ],
   "source": [
    "pca.explained_variance_ratio_.round(3)"
   ]
  },
  {
   "cell_type": "code",
   "execution_count": 119,
   "id": "fa6b17d9",
   "metadata": {},
   "outputs": [
    {
     "data": {
      "text/plain": [
       "0.8320000000000001"
      ]
     },
     "execution_count": 119,
     "metadata": {},
     "output_type": "execute_result"
    }
   ],
   "source": [
    "pca.explained_variance_ratio_.round(3)[:10].sum()"
   ]
  },
  {
   "cell_type": "markdown",
   "id": "a49a7ee8",
   "metadata": {},
   "source": [
    "We see that the first 10 components explain 77% of the variance."
   ]
  },
  {
   "cell_type": "code",
   "execution_count": 120,
   "id": "648959c1",
   "metadata": {},
   "outputs": [
    {
     "data": {
      "text/plain": [
       "0.999"
      ]
     },
     "execution_count": 120,
     "metadata": {},
     "output_type": "execute_result"
    }
   ],
   "source": [
    "pca.explained_variance_ratio_.round(3)[:25].sum()"
   ]
  },
  {
   "cell_type": "markdown",
   "id": "bff69c67",
   "metadata": {},
   "source": [
    "The first 25 component explain 100% of the variance."
   ]
  },
  {
   "cell_type": "markdown",
   "id": "584d43cc",
   "metadata": {},
   "source": [
    "### Logistic Regression with PCA"
   ]
  },
  {
   "cell_type": "code",
   "execution_count": 121,
   "id": "18333750",
   "metadata": {},
   "outputs": [],
   "source": [
    "# embed pca in a pipeline\n",
    "pipe_pca_logreg = Pipeline([('sampling', SMOTE()),\n",
    "                 ('pca', PCA()),\n",
    "                 ('logreg', LogisticRegression(solver='liblinear', random_state=100))\n",
    "                ])"
   ]
  },
  {
   "cell_type": "code",
   "execution_count": 122,
   "id": "4eabca1f",
   "metadata": {},
   "outputs": [],
   "source": [
    "# pipe_pca_logreg_params = {\n",
    "#     'logreg__penalty': ['l1','l2'],\n",
    "#     'logreg__C': [1, 1.5, 2],\n",
    "#     'pca__n_components': [20, 30, 40],\n",
    "#     'sampling__sampling_strategy': ['minority', 'not minority', 'auto'],\n",
    "#     'sampling__k_neighbors': [3, 5],\n",
    "# }\n",
    "\n",
    "pipe_pca_logreg_params = {\n",
    "    'logreg__penalty': ['l1'],\n",
    "    'logreg__C': [1],\n",
    "    'pca__n_components': [20],\n",
    "    'sampling__sampling_strategy': ['not minority', 'auto'],\n",
    "    'sampling__k_neighbors': [3],\n",
    "}"
   ]
  },
  {
   "cell_type": "code",
   "execution_count": 123,
   "id": "aaef888f",
   "metadata": {},
   "outputs": [],
   "source": [
    "gs_pca_logreg = GridSearchCV(pipe_pca_logreg, pipe_pca_logreg_params, verbose=2, n_jobs=-1)"
   ]
  },
  {
   "cell_type": "code",
   "execution_count": 124,
   "id": "1773ebfd",
   "metadata": {
    "scrolled": true
   },
   "outputs": [
    {
     "name": "stdout",
     "output_type": "stream",
     "text": [
      "Fitting 5 folds for each of 2 candidates, totalling 10 fits\n",
      "Wall time: 2.17 s\n"
     ]
    },
    {
     "data": {
      "text/plain": [
       "GridSearchCV(estimator=Pipeline(steps=[('sampling', SMOTE()), ('pca', PCA()),\n",
       "                                       ('logreg',\n",
       "                                        LogisticRegression(random_state=100,\n",
       "                                                           solver='liblinear'))]),\n",
       "             n_jobs=-1,\n",
       "             param_grid={'logreg__C': [1], 'logreg__penalty': ['l1'],\n",
       "                         'pca__n_components': [20],\n",
       "                         'sampling__k_neighbors': [3],\n",
       "                         'sampling__sampling_strategy': ['not minority',\n",
       "                                                         'auto']},\n",
       "             verbose=2)"
      ]
     },
     "execution_count": 124,
     "metadata": {},
     "output_type": "execute_result"
    }
   ],
   "source": [
    "%%time\n",
    "gs_pca_logreg.fit(Xs_train, y_train)"
   ]
  },
  {
   "cell_type": "code",
   "execution_count": 125,
   "id": "caedc044",
   "metadata": {},
   "outputs": [
    {
     "data": {
      "text/plain": [
       "{'logreg__C': 1,\n",
       " 'logreg__penalty': 'l1',\n",
       " 'pca__n_components': 20,\n",
       " 'sampling__k_neighbors': 3,\n",
       " 'sampling__sampling_strategy': 'not minority'}"
      ]
     },
     "execution_count": 125,
     "metadata": {},
     "output_type": "execute_result"
    }
   ],
   "source": [
    "gs_pca_logreg.best_params_"
   ]
  },
  {
   "cell_type": "code",
   "execution_count": 126,
   "id": "02891141",
   "metadata": {},
   "outputs": [
    {
     "data": {
      "image/png": "[encoded data removed]",
      "text/plain": [
       "<Figure size 936x288 with 4 Axes>"
      ]
     },
     "metadata": {
      "needs_background": "light"
     },
     "output_type": "display_data"
    }
   ],
   "source": [
    "mod_metrics = metrics_and_plot_cm(gs_pca_logreg, Xs_val, y_val)"
   ]
  },
  {
   "cell_type": "code",
   "execution_count": 127,
   "id": "4bed1347",
   "metadata": {},
   "outputs": [],
   "source": [
    "results_df = append_results(results_df,\n",
    "                           gs_pca_logreg.score(Xs_train, y_train),\n",
    "                           mod_metrics,\n",
    "                           'PCA Logistic Regression',\n",
    "                           )"
   ]
  },
  {
   "cell_type": "code",
   "execution_count": 128,
   "id": "d26a5742",
   "metadata": {},
   "outputs": [
    {
     "data": {
      "text/html": [
       "<div>\n",
       "<style scoped>\n",
       "    .dataframe tbody tr th:only-of-type {\n",
       "        vertical-align: middle;\n",
       "    }\n",
       "\n",
       "    .dataframe tbody tr th {\n",
       "        vertical-align: top;\n",
       "    }\n",
       "\n",
       "    .dataframe thead th {\n",
       "        text-align: right;\n",
       "    }\n",
       "</style>\n",
       "<table border=\"1\" class=\"dataframe\">\n",
       "  <thead>\n",
       "    <tr style=\"text-align: right;\">\n",
       "      <th></th>\n",
       "      <th>model</th>\n",
       "      <th>train_accuracy</th>\n",
       "      <th>test_accuracy</th>\n",
       "      <th>misclassification</th>\n",
       "      <th>sensitivity</th>\n",
       "      <th>specificity</th>\n",
       "      <th>precision</th>\n",
       "      <th>f1_score</th>\n",
       "      <th>roc_auc</th>\n",
       "      <th>ap_score</th>\n",
       "    </tr>\n",
       "  </thead>\n",
       "  <tbody>\n",
       "    <tr>\n",
       "      <th>0</th>\n",
       "      <td>Logistic Regression</td>\n",
       "      <td>0.672768</td>\n",
       "      <td>0.663295</td>\n",
       "      <td>0.336705</td>\n",
       "      <td>0.798246</td>\n",
       "      <td>0.655454</td>\n",
       "      <td>0.118644</td>\n",
       "      <td>0.206583</td>\n",
       "      <td>0.811061</td>\n",
       "      <td>0.177441</td>\n",
       "    </tr>\n",
       "    <tr>\n",
       "      <th>1</th>\n",
       "      <td>SVM</td>\n",
       "      <td>0.944926</td>\n",
       "      <td>0.945087</td>\n",
       "      <td>0.054913</td>\n",
       "      <td>0.000000</td>\n",
       "      <td>1.000000</td>\n",
       "      <td>NaN</td>\n",
       "      <td>0.000000</td>\n",
       "      <td>0.740993</td>\n",
       "      <td>0.111528</td>\n",
       "    </tr>\n",
       "    <tr>\n",
       "      <th>2</th>\n",
       "      <td>PCA Logistic Regression</td>\n",
       "      <td>0.944926</td>\n",
       "      <td>0.944605</td>\n",
       "      <td>0.055395</td>\n",
       "      <td>0.000000</td>\n",
       "      <td>0.999490</td>\n",
       "      <td>0.000000</td>\n",
       "      <td>0.000000</td>\n",
       "      <td>0.799746</td>\n",
       "      <td>0.180639</td>\n",
       "    </tr>\n",
       "  </tbody>\n",
       "</table>\n",
       "</div>"
      ],
      "text/plain": [
       "                     model  train_accuracy  test_accuracy  misclassification  \\\n",
       "0      Logistic Regression        0.672768       0.663295           0.336705   \n",
       "1                      SVM        0.944926       0.945087           0.054913   \n",
       "2  PCA Logistic Regression        0.944926       0.944605           0.055395   \n",
       "\n",
       "   sensitivity  specificity  precision  f1_score   roc_auc  ap_score  \n",
       "0     0.798246     0.655454   0.118644  0.206583  0.811061  0.177441  \n",
       "1     0.000000     1.000000        NaN  0.000000  0.740993  0.111528  \n",
       "2     0.000000     0.999490   0.000000  0.000000  0.799746  0.180639  "
      ]
     },
     "execution_count": 128,
     "metadata": {},
     "output_type": "execute_result"
    }
   ],
   "source": [
    "results_df"
   ]
  },
  {
   "cell_type": "markdown",
   "id": "725ac5c9",
   "metadata": {},
   "source": [
    "### SVM with PCA"
   ]
  },
  {
   "cell_type": "code",
   "execution_count": 129,
   "id": "bfba59b8",
   "metadata": {},
   "outputs": [],
   "source": [
    "pipe_pca_svc = Pipeline([('sampling', SMOTE()),\n",
    "                 ('pca', PCA()),\n",
    "                 ('svc', SVC(probability=True, random_state=100))\n",
    "])"
   ]
  },
  {
   "cell_type": "code",
   "execution_count": 130,
   "id": "834adb80",
   "metadata": {},
   "outputs": [],
   "source": [
    "# pipe_pca_svc_params = {\n",
    "#     'svc__C': [5, 7, 9],\n",
    "#     'svc__kernel': ['rbf'],  # 'poly'\n",
    "#     'pca__n_components': [20, 30, 40],\n",
    "#     'sampling__sampling_strategy': ['minority', 'not minority', 'auto'],\n",
    "#     'sampling__k_neighbors': [3, 5],      \n",
    "# }\n",
    "\n",
    "pipe_pca_svc_params = {\n",
    "    'svc__C': [5],\n",
    "    'svc__kernel': ['rbf'],  # 'poly'\n",
    "    'pca__n_components': [20],\n",
    "    'sampling__sampling_strategy': ['not minority', 'auto'],\n",
    "    'sampling__k_neighbors': [3],      \n",
    "}"
   ]
  },
  {
   "cell_type": "code",
   "execution_count": 131,
   "id": "5753a1a7",
   "metadata": {},
   "outputs": [],
   "source": [
    "gs_pca_svc = GridSearchCV(pipe_pca_svc, pipe_pca_svc_params, verbose=2, n_jobs=-1)"
   ]
  },
  {
   "cell_type": "code",
   "execution_count": 132,
   "id": "f8501cbf",
   "metadata": {},
   "outputs": [
    {
     "name": "stdout",
     "output_type": "stream",
     "text": [
      "Fitting 5 folds for each of 2 candidates, totalling 10 fits\n",
      "Wall time: 17.7 s\n"
     ]
    },
    {
     "data": {
      "text/plain": [
       "GridSearchCV(estimator=Pipeline(steps=[('sampling', SMOTE()), ('pca', PCA()),\n",
       "                                       ('svc',\n",
       "                                        SVC(probability=True,\n",
       "                                            random_state=100))]),\n",
       "             n_jobs=-1,\n",
       "             param_grid={'pca__n_components': [20],\n",
       "                         'sampling__k_neighbors': [3],\n",
       "                         'sampling__sampling_strategy': ['not minority',\n",
       "                                                         'auto'],\n",
       "                         'svc__C': [5], 'svc__kernel': ['rbf']},\n",
       "             verbose=2)"
      ]
     },
     "execution_count": 132,
     "metadata": {},
     "output_type": "execute_result"
    }
   ],
   "source": [
    "%%time\n",
    "gs_pca_svc.fit(Xs_train, y_train)\n",
    "\n",
    "## lol example of time taken (14 mins) if we put SVC(probability=True) in the pipeline"
   ]
  },
  {
   "cell_type": "code",
   "execution_count": 133,
   "id": "5fb29c4c",
   "metadata": {},
   "outputs": [
    {
     "data": {
      "text/plain": [
       "{'pca__n_components': 20,\n",
       " 'sampling__k_neighbors': 3,\n",
       " 'sampling__sampling_strategy': 'not minority',\n",
       " 'svc__C': 5,\n",
       " 'svc__kernel': 'rbf'}"
      ]
     },
     "execution_count": 133,
     "metadata": {},
     "output_type": "execute_result"
    }
   ],
   "source": [
    "gs_pca_svc.best_params_"
   ]
  },
  {
   "cell_type": "code",
   "execution_count": 134,
   "id": "31a2badf",
   "metadata": {},
   "outputs": [
    {
     "data": {
      "image/png": "[encoded data removed]",
      "text/plain": [
       "<Figure size 936x288 with 4 Axes>"
      ]
     },
     "metadata": {
      "needs_background": "light"
     },
     "output_type": "display_data"
    }
   ],
   "source": [
    "mod_metrics = metrics_and_plot_cm(gs_pca_logreg, Xs_val, y_val)"
   ]
  },
  {
   "cell_type": "code",
   "execution_count": 135,
   "id": "812bdf04",
   "metadata": {},
   "outputs": [],
   "source": [
    "results_df = append_results(results_df,\n",
    "                           gs_pca_svc.score(Xs_train, y_train),\n",
    "                           mod_metrics,\n",
    "                           'PCA SVM',\n",
    "                           )"
   ]
  },
  {
   "cell_type": "code",
   "execution_count": 136,
   "id": "ab49aa99",
   "metadata": {
    "scrolled": true
   },
   "outputs": [
    {
     "data": {
      "text/html": [
       "<div>\n",
       "<style scoped>\n",
       "    .dataframe tbody tr th:only-of-type {\n",
       "        vertical-align: middle;\n",
       "    }\n",
       "\n",
       "    .dataframe tbody tr th {\n",
       "        vertical-align: top;\n",
       "    }\n",
       "\n",
       "    .dataframe thead th {\n",
       "        text-align: right;\n",
       "    }\n",
       "</style>\n",
       "<table border=\"1\" class=\"dataframe\">\n",
       "  <thead>\n",
       "    <tr style=\"text-align: right;\">\n",
       "      <th></th>\n",
       "      <th>model</th>\n",
       "      <th>train_accuracy</th>\n",
       "      <th>test_accuracy</th>\n",
       "      <th>misclassification</th>\n",
       "      <th>sensitivity</th>\n",
       "      <th>specificity</th>\n",
       "      <th>precision</th>\n",
       "      <th>f1_score</th>\n",
       "      <th>roc_auc</th>\n",
       "      <th>ap_score</th>\n",
       "    </tr>\n",
       "  </thead>\n",
       "  <tbody>\n",
       "    <tr>\n",
       "      <th>0</th>\n",
       "      <td>Logistic Regression</td>\n",
       "      <td>0.672768</td>\n",
       "      <td>0.663295</td>\n",
       "      <td>0.336705</td>\n",
       "      <td>0.798246</td>\n",
       "      <td>0.655454</td>\n",
       "      <td>0.118644</td>\n",
       "      <td>0.206583</td>\n",
       "      <td>0.811061</td>\n",
       "      <td>0.177441</td>\n",
       "    </tr>\n",
       "    <tr>\n",
       "      <th>1</th>\n",
       "      <td>SVM</td>\n",
       "      <td>0.944926</td>\n",
       "      <td>0.945087</td>\n",
       "      <td>0.054913</td>\n",
       "      <td>0.000000</td>\n",
       "      <td>1.000000</td>\n",
       "      <td>NaN</td>\n",
       "      <td>0.000000</td>\n",
       "      <td>0.740993</td>\n",
       "      <td>0.111528</td>\n",
       "    </tr>\n",
       "    <tr>\n",
       "      <th>2</th>\n",
       "      <td>PCA Logistic Regression</td>\n",
       "      <td>0.944926</td>\n",
       "      <td>0.944605</td>\n",
       "      <td>0.055395</td>\n",
       "      <td>0.000000</td>\n",
       "      <td>0.999490</td>\n",
       "      <td>0.000000</td>\n",
       "      <td>0.000000</td>\n",
       "      <td>0.799746</td>\n",
       "      <td>0.180639</td>\n",
       "    </tr>\n",
       "    <tr>\n",
       "      <th>3</th>\n",
       "      <td>PCA SVM</td>\n",
       "      <td>0.944926</td>\n",
       "      <td>0.944605</td>\n",
       "      <td>0.055395</td>\n",
       "      <td>0.000000</td>\n",
       "      <td>0.999490</td>\n",
       "      <td>0.000000</td>\n",
       "      <td>0.000000</td>\n",
       "      <td>0.799746</td>\n",
       "      <td>0.180639</td>\n",
       "    </tr>\n",
       "  </tbody>\n",
       "</table>\n",
       "</div>"
      ],
      "text/plain": [
       "                     model  train_accuracy  test_accuracy  misclassification  \\\n",
       "0      Logistic Regression        0.672768       0.663295           0.336705   \n",
       "1                      SVM        0.944926       0.945087           0.054913   \n",
       "2  PCA Logistic Regression        0.944926       0.944605           0.055395   \n",
       "3                  PCA SVM        0.944926       0.944605           0.055395   \n",
       "\n",
       "   sensitivity  specificity  precision  f1_score   roc_auc  ap_score  \n",
       "0     0.798246     0.655454   0.118644  0.206583  0.811061  0.177441  \n",
       "1     0.000000     1.000000        NaN  0.000000  0.740993  0.111528  \n",
       "2     0.000000     0.999490   0.000000  0.000000  0.799746  0.180639  \n",
       "3     0.000000     0.999490   0.000000  0.000000  0.799746  0.180639  "
      ]
     },
     "execution_count": 136,
     "metadata": {},
     "output_type": "execute_result"
    }
   ],
   "source": [
    "results_df"
   ]
  },
  {
   "cell_type": "markdown",
   "id": "25e3df38",
   "metadata": {},
   "source": [
    "## AdaBoost\n",
    "\n",
    "To remove as it's not the best performing classifier."
   ]
  },
  {
   "cell_type": "code",
   "execution_count": 137,
   "id": "79299b62",
   "metadata": {},
   "outputs": [],
   "source": [
    "from sklearn.ensemble import AdaBoostClassifier\n",
    "from sklearn.tree import DecisionTreeClassifier"
   ]
  },
  {
   "cell_type": "code",
   "execution_count": 138,
   "id": "44116d65",
   "metadata": {},
   "outputs": [],
   "source": [
    "pipe_ada = Pipeline([\n",
    "    ('sampling', SMOTE()),\n",
    "    ('ada', AdaBoostClassifier(base_estimator=DecisionTreeClassifier(random_state=100)))\n",
    "])"
   ]
  },
  {
   "cell_type": "code",
   "execution_count": 139,
   "id": "51dd54ab",
   "metadata": {},
   "outputs": [],
   "source": [
    "pipe_ada_params = {\n",
    "    'sampling__sampling_strategy': ['minority', 'not minority', 'auto'],\n",
    "    'sampling__k_neighbors': [3, 5],  \n",
    "    'ada__n_estimators': [50,100,150],\n",
    "    'ada__learning_rate': [0.1,1,10]\n",
    "}"
   ]
  },
  {
   "cell_type": "code",
   "execution_count": 140,
   "id": "6ee7c382",
   "metadata": {},
   "outputs": [],
   "source": [
    "gs_ada = GridSearchCV(pipe_ada, pipe_ada_params, verbose=1, n_jobs=-1)"
   ]
  },
  {
   "cell_type": "code",
   "execution_count": 141,
   "id": "f344956d",
   "metadata": {},
   "outputs": [
    {
     "name": "stdout",
     "output_type": "stream",
     "text": [
      "Fitting 5 folds for each of 54 candidates, totalling 270 fits\n"
     ]
    },
    {
     "data": {
      "text/plain": [
       "GridSearchCV(estimator=Pipeline(steps=[('sampling', SMOTE()),\n",
       "                                       ('ada',\n",
       "                                        AdaBoostClassifier(base_estimator=DecisionTreeClassifier(random_state=100)))]),\n",
       "             n_jobs=-1,\n",
       "             param_grid={'ada__learning_rate': [0.1, 1, 10],\n",
       "                         'ada__n_estimators': [50, 100, 150],\n",
       "                         'sampling__k_neighbors': [3, 5],\n",
       "                         'sampling__sampling_strategy': ['minority',\n",
       "                                                         'not minority',\n",
       "                                                         'auto']},\n",
       "             verbose=1)"
      ]
     },
     "execution_count": 141,
     "metadata": {},
     "output_type": "execute_result"
    }
   ],
   "source": [
    "gs_ada.fit(Xs_train, y_train)"
   ]
  },
  {
   "cell_type": "code",
   "execution_count": 142,
   "id": "ebb6ced8",
   "metadata": {},
   "outputs": [
    {
     "data": {
      "text/plain": [
       "{'ada__learning_rate': 10,\n",
       " 'ada__n_estimators': 100,\n",
       " 'sampling__k_neighbors': 3,\n",
       " 'sampling__sampling_strategy': 'not minority'}"
      ]
     },
     "execution_count": 142,
     "metadata": {},
     "output_type": "execute_result"
    }
   ],
   "source": [
    "gs_ada.best_params_"
   ]
  },
  {
   "cell_type": "code",
   "execution_count": 143,
   "id": "caeedb8d",
   "metadata": {},
   "outputs": [
    {
     "data": {
      "image/png": "[encoded data removed]",
      "text/plain": [
       "<Figure size 936x288 with 4 Axes>"
      ]
     },
     "metadata": {
      "needs_background": "light"
     },
     "output_type": "display_data"
    }
   ],
   "source": [
    "mod_metrics = metrics_and_plot_cm(gs_ada, Xs_val, y_val)"
   ]
  },
  {
   "cell_type": "code",
   "execution_count": 144,
   "id": "7decbac3",
   "metadata": {},
   "outputs": [],
   "source": [
    "results_df = append_results(results_df,\n",
    "                           gs_ada.score(Xs_train, y_train),\n",
    "                           mod_metrics,\n",
    "                           'AdaBoost',\n",
    "                           )"
   ]
  },
  {
   "cell_type": "code",
   "execution_count": 145,
   "id": "6acc86b3",
   "metadata": {},
   "outputs": [
    {
     "data": {
      "text/html": [
       "<div>\n",
       "<style scoped>\n",
       "    .dataframe tbody tr th:only-of-type {\n",
       "        vertical-align: middle;\n",
       "    }\n",
       "\n",
       "    .dataframe tbody tr th {\n",
       "        vertical-align: top;\n",
       "    }\n",
       "\n",
       "    .dataframe thead th {\n",
       "        text-align: right;\n",
       "    }\n",
       "</style>\n",
       "<table border=\"1\" class=\"dataframe\">\n",
       "  <thead>\n",
       "    <tr style=\"text-align: right;\">\n",
       "      <th></th>\n",
       "      <th>model</th>\n",
       "      <th>train_accuracy</th>\n",
       "      <th>test_accuracy</th>\n",
       "      <th>misclassification</th>\n",
       "      <th>sensitivity</th>\n",
       "      <th>specificity</th>\n",
       "      <th>precision</th>\n",
       "      <th>f1_score</th>\n",
       "      <th>roc_auc</th>\n",
       "      <th>ap_score</th>\n",
       "    </tr>\n",
       "  </thead>\n",
       "  <tbody>\n",
       "    <tr>\n",
       "      <th>0</th>\n",
       "      <td>Logistic Regression</td>\n",
       "      <td>0.672768</td>\n",
       "      <td>0.663295</td>\n",
       "      <td>0.336705</td>\n",
       "      <td>0.798246</td>\n",
       "      <td>0.655454</td>\n",
       "      <td>0.118644</td>\n",
       "      <td>0.206583</td>\n",
       "      <td>0.811061</td>\n",
       "      <td>0.177441</td>\n",
       "    </tr>\n",
       "    <tr>\n",
       "      <th>1</th>\n",
       "      <td>SVM</td>\n",
       "      <td>0.944926</td>\n",
       "      <td>0.945087</td>\n",
       "      <td>0.054913</td>\n",
       "      <td>0.000000</td>\n",
       "      <td>1.000000</td>\n",
       "      <td>NaN</td>\n",
       "      <td>0.000000</td>\n",
       "      <td>0.740993</td>\n",
       "      <td>0.111528</td>\n",
       "    </tr>\n",
       "    <tr>\n",
       "      <th>2</th>\n",
       "      <td>PCA Logistic Regression</td>\n",
       "      <td>0.944926</td>\n",
       "      <td>0.944605</td>\n",
       "      <td>0.055395</td>\n",
       "      <td>0.000000</td>\n",
       "      <td>0.999490</td>\n",
       "      <td>0.000000</td>\n",
       "      <td>0.000000</td>\n",
       "      <td>0.799746</td>\n",
       "      <td>0.180639</td>\n",
       "    </tr>\n",
       "    <tr>\n",
       "      <th>3</th>\n",
       "      <td>PCA SVM</td>\n",
       "      <td>0.944926</td>\n",
       "      <td>0.944605</td>\n",
       "      <td>0.055395</td>\n",
       "      <td>0.000000</td>\n",
       "      <td>0.999490</td>\n",
       "      <td>0.000000</td>\n",
       "      <td>0.000000</td>\n",
       "      <td>0.799746</td>\n",
       "      <td>0.180639</td>\n",
       "    </tr>\n",
       "    <tr>\n",
       "      <th>4</th>\n",
       "      <td>AdaBoost</td>\n",
       "      <td>0.976557</td>\n",
       "      <td>0.909441</td>\n",
       "      <td>0.090559</td>\n",
       "      <td>0.105263</td>\n",
       "      <td>0.956167</td>\n",
       "      <td>0.122449</td>\n",
       "      <td>0.113208</td>\n",
       "      <td>0.627376</td>\n",
       "      <td>0.083182</td>\n",
       "    </tr>\n",
       "  </tbody>\n",
       "</table>\n",
       "</div>"
      ],
      "text/plain": [
       "                     model  train_accuracy  test_accuracy  misclassification  \\\n",
       "0      Logistic Regression        0.672768       0.663295           0.336705   \n",
       "1                      SVM        0.944926       0.945087           0.054913   \n",
       "2  PCA Logistic Regression        0.944926       0.944605           0.055395   \n",
       "3                  PCA SVM        0.944926       0.944605           0.055395   \n",
       "4                 AdaBoost        0.976557       0.909441           0.090559   \n",
       "\n",
       "   sensitivity  specificity  precision  f1_score   roc_auc  ap_score  \n",
       "0     0.798246     0.655454   0.118644  0.206583  0.811061  0.177441  \n",
       "1     0.000000     1.000000        NaN  0.000000  0.740993  0.111528  \n",
       "2     0.000000     0.999490   0.000000  0.000000  0.799746  0.180639  \n",
       "3     0.000000     0.999490   0.000000  0.000000  0.799746  0.180639  \n",
       "4     0.105263     0.956167   0.122449  0.113208  0.627376  0.083182  "
      ]
     },
     "execution_count": 145,
     "metadata": {},
     "output_type": "execute_result"
    }
   ],
   "source": [
    "results_df"
   ]
  },
  {
   "cell_type": "markdown",
   "id": "392568dc",
   "metadata": {},
   "source": [
    "# Predicting with Test Data"
   ]
  },
  {
   "cell_type": "markdown",
   "id": "1b94a914",
   "metadata": {},
   "source": [
    "We utilise the whole train set as our train data here, and the test data to predict the probabilities, which will then be submitted to Kaggle for scoring."
   ]
  },
  {
   "cell_type": "code",
   "execution_count": null,
   "id": "9d26478a",
   "metadata": {},
   "outputs": [],
   "source": [
    "X_train = pd.read_csv('./assets/X_train.csv')\n",
    "y_train = pd.read_csv('./assets/y_train.csv')\n",
    "X_test = pd.read_csv('./assets/test_final.csv')"
   ]
  },
  {
   "cell_type": "code",
   "execution_count": null,
   "id": "935deb20",
   "metadata": {
    "scrolled": true
   },
   "outputs": [],
   "source": [
    "# pd.set_option('display.max_rows', 100)\n",
    "# pd.set_option('display.max_columns', 50)"
   ]
  },
  {
   "cell_type": "code",
   "execution_count": null,
   "id": "65436a0d",
   "metadata": {},
   "outputs": [],
   "source": [
    "X_train.drop(columns=['Unnamed: 0'], inplace=True)\n",
    "y_train.drop(columns=['Unnamed: 0'], inplace=True)\n",
    "X_test.drop(columns=['Unnamed: 0','index'], inplace=True)\n",
    "X_test.set_index('id', inplace=True)"
   ]
  },
  {
   "cell_type": "code",
   "execution_count": null,
   "id": "c546102c",
   "metadata": {},
   "outputs": [],
   "source": [
    "gs_logreg.fit(X_train, y_train)\n",
    "gs_svc.fit(X_train, y_train)\n",
    "gs_pca_logreg.fit(X_train, y_train)\n",
    "gs_pca_svc.fit(X_train, y_train)\n",
    "gs_ada.fit(X_train, y_train)"
   ]
  },
  {
   "cell_type": "code",
   "execution_count": null,
   "id": "0cdbdf70",
   "metadata": {},
   "outputs": [],
   "source": [
    "output_results(gs_logreg.predict_proba(X_test), 'logreg_results')\n",
    "output_results(gs_svc.predict_proba(X_test), 'svc_results')\n",
    "output_results(gs_pca_logreg.predict_proba(X_test), 'pca_logreg_results')\n",
    "output_results(gs_pca_svc.predict_proba(X_test), 'pca_svc_results')\n",
    "output_results(gs_ada.predict_proba(X_test), 'ada_results')"
   ]
  },
  {
   "cell_type": "markdown",
   "id": "5d413a9c",
   "metadata": {},
   "source": [
    "# Feature Importance"
   ]
  },
  {
   "cell_type": "code",
   "execution_count": null,
   "id": "c4583d34",
   "metadata": {},
   "outputs": [],
   "source": [
    "# note: svm on rbf has no feature importance, only svm on linear has it\n",
    "# https://stackoverflow.com/questions/41592661/determining-the-most-contributing-features-for-svm-classifier-in-sklearn"
   ]
  },
  {
   "cell_type": "markdown",
   "id": "06efda2b",
   "metadata": {},
   "source": [
    "Feature Importance based on Logistic Regression"
   ]
  },
  {
   "cell_type": "code",
   "execution_count": null,
   "id": "0b289e07",
   "metadata": {
    "scrolled": true
   },
   "outputs": [],
   "source": [
    "logreg_features = pd.DataFrame({'feature_names': X_train.columns,\n",
    "                                'feature_importance': gs_logreg.best_estimator_[1].coef_[0]})\n",
    "\n",
    "# top 20 features\n",
    "logreg_features = logreg_features.sort_values(by='feature_importance', ascending=False).head(20)"
   ]
  },
  {
   "cell_type": "code",
   "execution_count": null,
   "id": "bcd63dfa",
   "metadata": {},
   "outputs": [],
   "source": [
    "fig, ax = plt.subplots(figsize=(10,10))\n",
    "sns.barplot(data=logreg_features, y='feature_names', x='feature_importance', palette='viridis')\n",
    "\n",
    "plt.title('Features Importance')\n",
    "plt.tight_layout()\n",
    "plt.show()"
   ]
  },
  {
   "cell_type": "markdown",
   "id": "a09ab6bd",
   "metadata": {},
   "source": [
    "# Cost Benefit Analysis"
   ]
  },
  {
   "cell_type": "markdown",
   "id": "7ff0a172",
   "metadata": {},
   "source": [
    "## Spraying Costs\n",
    "\n",
    "- [Time of spray](https://www.chicago.gov/city/en/depts/cdph/provdrs/healthy_communities/news/2020/august/city-to-spray-insecticide-thursday-to-kill-mosquitoes.html): Weather permitting, the spraying will begin at dusk on August 13th and continue through the night until approximately 1:00 am, with licensed mosquito abatement technicians in trucks dispensing an ultra-low-volume spray. The material being used to control the adult mosquitoes, Zerivex.\n",
    "\n",
    "\n",
    "- [Spray rate of Zerivex](https://chicago.cbslocal.com/2017/08/30/spray-mosquitoes-far-south-side-west-nile-prevention/): The chemical used is Zenivex, applied at a rate of 1.5 fluid ounces per acre. That measure is approved by the U.S. EPA to control mosquitoes in outdoor residential and recreational areas.\n",
    "\n",
    "\n",
    "- [Zerivex cost per acre](file:///C:/Users/caspe/Downloads/Zenivex%20Cost%20Comparison%20Fact%20Sheet.pdf): USD0.67 per acre\n",
    "\n",
    "\n",
    "\n",
    "- Area of Chicago City: esimated to be 145,300 acres based on Google Search\n",
    "\n",
    "\n"
   ]
  },
  {
   "cell_type": "markdown",
   "id": "00752caa",
   "metadata": {},
   "source": [
    "Based on the above, we assume the cost of spray to be USD 0.67 per acre multiplied by the area of Chicago city. This accounts for 1 spraying exercise."
   ]
  },
  {
   "cell_type": "code",
   "execution_count": null,
   "id": "0753c625",
   "metadata": {},
   "outputs": [],
   "source": [
    "spray_cost = 145300*0.67\n",
    "spray_cost"
   ]
  },
  {
   "cell_type": "markdown",
   "id": "594545d6",
   "metadata": {},
   "source": [
    "We assume we want to be aggressive and spray every week during the summer months of July, August and September based on our spray effectiveness analysis in the previous notebook."
   ]
  },
  {
   "cell_type": "code",
   "execution_count": null,
   "id": "a750a474",
   "metadata": {},
   "outputs": [],
   "source": [
    "# each spray * 4 weeks * 3 months\n",
    "spray_cost * 4 * 3"
   ]
  },
  {
   "cell_type": "markdown",
   "id": "31ffa67c",
   "metadata": {},
   "source": [
    "For this scenario, we would need to set aside a budget of about USD 5,800,000 to conduct the spraying exercises on an annual basis."
   ]
  },
  {
   "cell_type": "markdown",
   "id": "52e32180",
   "metadata": {},
   "source": [
    "Medical Health Costs\n",
    "\n",
    "  - Patients who were hospitalized with acute flaccid paralysis, a partial- to whole-body paralysis caused by WNV infection, had the largest initial and long-term medical costs ([median USD 25,000 and USD 22,000 respectively](https://www.sciencedaily.com/releases/2014/02/140210184713.htm)).\n",
    "  \n",
    "  \n",
    "  - Number of [human WNV cases](https://www.ncbi.nlm.nih.gov/pmc/articles/PMC7241786/) in Chicago region (refer to Table 2): 24 in 2011 and 66 in 2013\n",
    "  \n",
    "  \n",
    "  - The [CDC site](https://www.cdc.gov/westnile/index.html) shares that while there are no vaccines to prevent or medications to treat WNV in people, about 1 in 5 people who are infected develop a fever and other symptoms and about 1 out of 150 infected people develop a serious, sometimes fatal, illness.  \n",
    "  \n",
    "  - Since only 1 in 150 people develop a serious illness which may require hospitalization, we assume that for the years 2011 and 2013, no one was hospitalized and there were no additional medical heath costs."
   ]
  },
  {
   "cell_type": "markdown",
   "id": "444462dc",
   "metadata": {},
   "source": [
    "Based on the analysis above, there were <b>very little benefits</b> of the spraying in 2011 and 2013 due to the pathological nature of the WNV which we have studied so far. Furthermore, referencing back to our previous notebook on the spray data effectiveness analysis, the spray effectiveness is very sensitive to weather patterns."
   ]
  },
  {
   "cell_type": "markdown",
   "id": "2f0a53b3",
   "metadata": {},
   "source": [
    "# Conclusion"
   ]
  },
  {
   "cell_type": "markdown",
   "id": "a768eb99",
   "metadata": {},
   "source": [
    "In effective pest management, one should consider the use of different spray types and effectiveness, as well as factors influencing the lifecycle of the pest.\n",
    "\n",
    "When considering only fogging, the typical spray used in residential areas for combating mosquitos, timing of the spray should be strongly considered in reducing a mosquito population due to its time-constrained effectiveness:\n",
    "1. Timing of rainfall\n",
    "* Rainfall can have a large impact on the population of mosquitos, with stagnant, trapped water providing fertile breeding ground. In built-up cities such as Chicago, it can be difficult to get rid of all water traps and to completely eliminate sources of stagnant water. Use of fogging 8-10 days after a heavy downpour can be a timely way to eliminate mosquito populations for the day, as they are hatching, and accurately target the spray to its window of maximum effectiveness.\n",
    "\n",
    "* Spray use should also be avoided when the timing coincides with predictions of rainfall on the day itself. For maximum effectiveness, sprays would have to remain in the air and interact with the mosquito population. Any precipitation during the course of the day would reduce the effectiveness of the spray by taking it out of the air and preventing maximum exposure.\n",
    "\n",
    "2. Degree Days\n",
    "* Mosquitos have shown to be most active around a specific temperature band, above 65F, often measured in degree days. When judging appropriate spray effectiveness, degree days can be used to help judge the use and timing of sprays. More days consistently above the 65F band would lead to a faster lifecycle, and a more active population, requiring a more consistent use of spraying. In contrast, we may avoid spraying on cooler days due to the limited effectivness of spraying, particularly when the mosquito population is small. Targeted use specifically in areas that have historically had the West Nile Virus presence can be considered instead.\n",
    "* In examining our spray data set, sprays have largely been applied in September. This might be one big area of improvement for future spray applications, to shift them towards the summer months, when mosquitos are most active.\n",
    "\n",
    "3. Wind Speed and Drift\n",
    "* Wind speed should also be considered on the day of application. Wind speed can cause pesticide drift, removing the pesticide fog from its most effective location. Wind speed of the day should be considered during pesticide application. This is especially important in Chicago, which follows a grid layout, allowing buildings to form wind corridors and exacerbating wind effects. \n",
    "* Conversely, days with no wind speed can be difficult for spray operators, at speeds below 3km/h, spray can evaporate before arriving at the desired destination of application. A light breeze will provide the operator with the knowledge of the pesticide drift.\n",
    "\n",
    "4. Sprayer Type\n",
    "* Sprayer machinery can play an important role in the application of pesticides. A fine nozzle sprayer will help to provide a fine dispersion of the pesticide mist, however, hot days and lower humidity can lead to a faster evaporation of smaller droplets. Conversely, larger particle sizes (>200 microns) may survive the heat and be less affected by wind size, but may not be as effective at delivering the pesticide to pests.\n",
    "\n",
    "5. Pesticide\n",
    "* The assumption made is that the spray used is the most commonly use spray for fogging the air and targeting adult mosquitoes. However, standing pesticides can also be used in conjunction with air pesticides, targeting difficult to reach or difficult to clear areas with standing water to eliminate mosquito larvae. This would be a far more long-reaching solution, although constant re-application would be required through each rainfall. Therefore, consideration would have to be given according to the frequency of rainfall and the difficulty of application."
   ]
  },
  {
   "cell_type": "code",
   "execution_count": null,
   "id": "70dc7b93",
   "metadata": {},
   "outputs": [],
   "source": []
  }
 ],
 "metadata": {
  "kernelspec": {
   "display_name": "Python 3",
   "language": "python",
   "name": "python3"
  },
  "language_info": {
   "codemirror_mode": {
    "name": "ipython",
    "version": 3
   },
   "file_extension": ".py",
   "mimetype": "text/x-python",
   "name": "python",
   "nbconvert_exporter": "python",
   "pygments_lexer": "ipython3",
   "version": "3.8.8"
  },
  "toc": {
   "base_numbering": 1,
   "nav_menu": {},
   "number_sections": true,
   "sideBar": true,
   "skip_h1_title": false,
   "title_cell": "Table of Contents",
   "title_sidebar": "Contents",
   "toc_cell": false,
   "toc_position": {
    "height": "calc(100% - 180px)",
    "left": "10px",
    "top": "150px",
    "width": "384px"
   },
   "toc_section_display": true,
   "toc_window_display": true
  }
 },
 "nbformat": 4,
 "nbformat_minor": 5
}
