{
 "cells": [
  {
   "cell_type": "markdown",
   "id": "84d141d6",
   "metadata": {},
   "source": [
    "# Cost Benefit Analysis"
   ]
  },
  {
   "cell_type": "markdown",
   "id": "44583fc6",
   "metadata": {},
   "source": [
    "We did a cost benefit analysis on the assumption of the time period of 2013 where we had sprayed the entire Chicago city (costs) with pesticides in order to prevent any economic productivity loss and hospitalization costs (benefit).\n",
    "\n",
    "Bassed on our research:\n",
    "\n",
    "  - The number of [human WNV cases](https://www.ncbi.nlm.nih.gov/pmc/articles/PMC7241786/) in Chicago region (refer to Table 2 in the link) <b>in 2013 was 66 cases</b>\n",
    "  \n",
    "  \n",
    "  - The [CDC site](https://www.cdc.gov/westnile/index.html) shares that while there are no vaccines to prevent or medications to treat WNV in people, about <b>1 in 5 people</b> who are infected develop a fever and other symptoms and about <b>1 out of 150</b> infected people develop a serious, sometimes fatal, illness. We will subsequently use this data in our Benefits section to estimate the productivity loss and healthcare costs."
   ]
  },
  {
   "cell_type": "markdown",
   "id": "cefab472",
   "metadata": {},
   "source": [
    "## Costs"
   ]
  },
  {
   "cell_type": "markdown",
   "id": "7764d9e1",
   "metadata": {},
   "source": [
    "Spraying Costs\n",
    "\n",
    "\n",
    "- [Time of spray](https://www.chicago.gov/city/en/depts/cdph/provdrs/healthy_communities/news/2020/august/city-to-spray-insecticide-thursday-to-kill-mosquitoes.html): Weather permitting, the spraying will begin at dusk on August 13th and continue through the night until approximately 1:00 am, with licensed mosquito abatement technicians in trucks dispensing an ultra-low-volume spray. The material being used to control the adult mosquitoes, Zenivex.\n",
    "\n",
    "\n",
    "- [Spray rate of Zerivex](https://chicago.cbslocal.com/2017/08/30/spray-mosquitoes-far-south-side-west-nile-prevention/): The chemical used is Zenivex, applied at a rate of 1.5 fluid ounces per acre. That measure is approved by the U.S. EPA to control mosquitoes in outdoor residential and recreational areas.\n",
    "\n",
    "\n",
    "- [Zenivex cost per acre](https://www.centralmosquitocontrol.com/-/media/files/centralmosquitocontrol-na/us/resources-lit%20files/zenivex%20cost%20comparison%20fact%20sheet.pdf): USD0.67 per acre\n",
    "\n",
    "\n",
    "\n",
    "- Area of Chicago City: estimated to be 145,300 acres based on Google Search\n",
    "\n",
    "\n"
   ]
  },
  {
   "cell_type": "markdown",
   "id": "929f5557",
   "metadata": {},
   "source": [
    "Based on the above, we assume the cost of spray to be USD 0.67 per acre multiplied by the area of Chicago city. This accounts for 1 spraying exercise."
   ]
  },
  {
   "cell_type": "code",
   "execution_count": 62,
   "id": "dee4c099",
   "metadata": {
    "scrolled": true
   },
   "outputs": [
    {
     "data": {
      "text/plain": [
       "97351.0"
      ]
     },
     "execution_count": 62,
     "metadata": {},
     "output_type": "execute_result"
    }
   ],
   "source": [
    "# cost of 1 spraying exercise\n",
    "spray_cost = 145300*0.67\n",
    "spray_cost"
   ]
  },
  {
   "cell_type": "markdown",
   "id": "083fe558",
   "metadata": {},
   "source": [
    "The cost of 1 spraying exercise is about USD 97,351."
   ]
  },
  {
   "cell_type": "markdown",
   "id": "6014ffbc",
   "metadata": {},
   "source": [
    "We assume we want to be aggresive and spray every week during the summer months of July, August and September based on our spray effectiveness analysis in the previous notebook."
   ]
  },
  {
   "cell_type": "code",
   "execution_count": 63,
   "id": "09052f75",
   "metadata": {},
   "outputs": [
    {
     "data": {
      "text/plain": [
       "1168212.0"
      ]
     },
     "execution_count": 63,
     "metadata": {},
     "output_type": "execute_result"
    }
   ],
   "source": [
    "# total cost of spraying annually\n",
    "# assuming each spray * 4 weeks * 3 months\n",
    "spray_cost * 4 * 3"
   ]
  },
  {
   "cell_type": "markdown",
   "id": "0ad4b36b",
   "metadata": {},
   "source": [
    "For this scenario, we would need to set aside a budget of about USD 1.17 million to conduct the spraying exercises on an annual basis."
   ]
  },
  {
   "cell_type": "markdown",
   "id": "0b2caff0",
   "metadata": {},
   "source": [
    "## Benefits"
   ]
  },
  {
   "cell_type": "markdown",
   "id": "7dcedc5e",
   "metadata": {},
   "source": [
    "On the assumption of our aggressive spraying policy, no one contracted the virus. As such, we would have prevented the 66 human WNV cases in Chicago for 2013. \n",
    "\n",
    "Had we not sprayed so aggresively, these 66 cases would have resulted in:\n",
    "\n",
    "- 1 person being hospitalized (due to developing a serious illness)\n",
    "- The other 65 people infected with mild symptoms\n",
    "\n",
    "Based on CDC's estimates (1 in 150 people require hospitalization), since [older people are more likely](https://www.ncbi.nlm.nih.gov/pmc/articles/PMC4941816/) to contract a more serious illness than younger people, we made the assumption that the 1 person being hospitalized is 60 years old or above."
   ]
  },
  {
   "cell_type": "markdown",
   "id": "efc24133",
   "metadata": {},
   "source": [
    "Medical Health Costs\n",
    "\n",
    "Patients who were hospitalized with acute flaccid paralysis, a partial- to whole-body paralysis caused by WNV infection, had the largest initial and long-term medical costs ([median USD 25,000 and USD 22,000 respectively](https://www.sciencedaily.com/releases/2014/02/140210184713.htm))."
   ]
  },
  {
   "cell_type": "code",
   "execution_count": 23,
   "id": "2cfb2eb9",
   "metadata": {},
   "outputs": [
    {
     "data": {
      "text/plain": [
       "47000"
      ]
     },
     "execution_count": 23,
     "metadata": {},
     "output_type": "execute_result"
    }
   ],
   "source": [
    "# estimated initial hospitalization cost and long term medical costs for the 1 person\n",
    "\n",
    "healthcare_cost = 25000+22000\n",
    "healthcare_cost"
   ]
  },
  {
   "cell_type": "markdown",
   "id": "9233c134",
   "metadata": {},
   "source": [
    "The approximate [economic productivity loss](https://www.ncbi.nlm.nih.gov/pmc/articles/PMC3322011/) (referenced from Table 3 and Table 4 in the link) is calculated to be:\n"
   ]
  },
  {
   "cell_type": "code",
   "execution_count": 24,
   "id": "e0336dde",
   "metadata": {
    "scrolled": true
   },
   "outputs": [
    {
     "data": {
      "text/plain": [
       "69575"
      ]
     },
     "execution_count": 24,
     "metadata": {},
     "output_type": "execute_result"
    }
   ],
   "source": [
    "# Estimated economic costs of WNV cases due to productivity loss \n",
    "# for the hospitalized patient and 65 mild symptomatic patients\n",
    "# proxy from a California study\n",
    "\n",
    "# 125 * 60 --> productivity loss for the person being hospitalized (aged 60 years old or above)\n",
    "#              value of each day * number of days\n",
    "\n",
    "# (955*65)  --> productivity loss for the 65 other people developing mild symptoms\n",
    "#                           \n",
    "\n",
    "productivity_loss = (125*60) + (955*65)\n",
    "productivity_loss"
   ]
  },
  {
   "cell_type": "markdown",
   "id": "e96daff6",
   "metadata": {},
   "source": [
    "[Inflated adjusted productivity loss](https://www.minneapolisfed.org/about-us/monetary-policy/inflation-calculator/consumer-price-index-1913-) inflated to 2013 value since the California study was based in 2005."
   ]
  },
  {
   "cell_type": "code",
   "execution_count": 25,
   "id": "1afd675b",
   "metadata": {},
   "outputs": [
    {
     "data": {
      "text/plain": [
       "82998.48565928808"
      ]
     },
     "execution_count": 25,
     "metadata": {},
     "output_type": "execute_result"
    }
   ],
   "source": [
    "productivity_loss_adjusted = productivity_loss * (1+0.032) * (1+0.029) * (1+0.038) * (1-0.004) * (1+0.016) * (1+0.032) * (1+0.021) * (1+0.015) \n",
    "productivity_loss_adjusted"
   ]
  },
  {
   "cell_type": "code",
   "execution_count": 26,
   "id": "9ce98173",
   "metadata": {
    "scrolled": true
   },
   "outputs": [
    {
     "data": {
      "text/plain": [
       "129998.48565928808"
      ]
     },
     "execution_count": 26,
     "metadata": {},
     "output_type": "execute_result"
    }
   ],
   "source": [
    "total_benefit = healthcare_cost + productivity_loss_adjusted\n",
    "total_benefit"
   ]
  },
  {
   "cell_type": "markdown",
   "id": "ae344180",
   "metadata": {},
   "source": [
    "The economic productivity loss is estimated USD 83,000 (inflated adjusted to 2013). Adding onto the healthcare cost, the total monetary benefit would have been about USD 130,000."
   ]
  },
  {
   "cell_type": "markdown",
   "id": "6b4ebfe5",
   "metadata": {},
   "source": [
    "We conclude that the prevention of economic productivity loss and healthcare cost of USD 130,000 does not sufficiently justify the spending of USD 1.17 million to spray pesticides."
   ]
  },
  {
   "cell_type": "markdown",
   "id": "90e03185",
   "metadata": {},
   "source": [
    "Based on the analysis above, <b> the costs outweighed the benefits</b> of the spraying in 2013 due to the pathological nature of the WNV which we have studied so far. Furthermore, referencing back to our previous notebook on the spray data effectiveness analysis, the spray effectiveness is very sensitive to weather patterns."
   ]
  },
  {
   "cell_type": "code",
   "execution_count": null,
   "id": "74b01b4c",
   "metadata": {},
   "outputs": [],
   "source": []
  }
 ],
 "metadata": {
  "kernelspec": {
   "display_name": "Python 3 (ipykernel)",
   "language": "python",
   "name": "python3"
  },
  "language_info": {
   "codemirror_mode": {
    "name": "ipython",
    "version": 3
   },
   "file_extension": ".py",
   "mimetype": "text/x-python",
   "name": "python",
   "nbconvert_exporter": "python",
   "pygments_lexer": "ipython3",
   "version": "3.7.11"
  },
  "toc": {
   "base_numbering": 1,
   "nav_menu": {},
   "number_sections": true,
   "sideBar": true,
   "skip_h1_title": false,
   "title_cell": "Table of Contents",
   "title_sidebar": "Contents",
   "toc_cell": false,
   "toc_position": {
    "height": "calc(100% - 180px)",
    "left": "10px",
    "top": "150px",
    "width": "384px"
   },
   "toc_section_display": true,
   "toc_window_display": true
  }
 },
 "nbformat": 4,
 "nbformat_minor": 5
}
